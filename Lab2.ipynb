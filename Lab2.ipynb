{
 "cells": [
  {
   "cell_type": "markdown",
   "id": "rocky-harvard",
   "metadata": {
    "id": "bridal-percentage"
   },
   "source": [
    "## Libraries"
   ]
  },
  {
   "cell_type": "code",
   "execution_count": 35,
   "id": "amended-object",
   "metadata": {
    "id": "advance-field"
   },
   "outputs": [],
   "source": [
    "import pandas as pd\n",
    "import numpy as np\n",
    "import matplotlib.pyplot as mpl #graphics\n",
    "#graphics wide functionality\n",
    "import seaborn as sb \n",
    "#Stohastic gradient descent (Classifier)\n",
    "from sklearn.linear_model import SGDClassifier\n",
    "from sklearn.model_selection import train_test_split\n",
    "# to estimate accuracy, \n",
    "from sklearn.metrics import roc_auc_score, plot_roc_curve\n",
    "# number of certain elements in array\n",
    "from collections import Counter\n",
    "\n",
    "from IPython.display import display, HTML\n",
    "mpl.rcParams['figure.figsize'] = (8, 8)"
   ]
  },
  {
   "cell_type": "markdown",
   "id": "animal-julian",
   "metadata": {
    "id": "under-ability"
   },
   "source": [
    "## Loading .csv"
   ]
  },
  {
   "cell_type": "code",
   "execution_count": 36,
   "id": "acquired-disclosure",
   "metadata": {
    "id": "relative-gibraltar"
   },
   "outputs": [],
   "source": [
    "file = 'application_{}.csv'\n",
    "train = pd.read_csv(file.format('train'))\n",
    "test = pd.read_csv(file.format('test'))"
   ]
  },
  {
   "cell_type": "code",
   "execution_count": 37,
   "id": "induced-meter",
   "metadata": {
    "colab": {
     "base_uri": "https://localhost:8080/",
     "height": 321
    },
    "executionInfo": {
     "elapsed": 4601,
     "status": "ok",
     "timestamp": 1616856691989,
     "user": {
      "displayName": "Daniil Timachov",
      "photoUrl": "https://lh3.googleusercontent.com/a-/AOh14Ghk9scaQ0ydio6b7V2_t9-wRiT1cNGLcyCL07wR=s64",
      "userId": "00279435974685972614"
     },
     "user_tz": -120
    },
    "id": "detailed-candy",
    "outputId": "83e79cd7-9bb7-4218-8517-c1c93924a698"
   },
   "outputs": [
    {
     "data": {
      "text/html": [
       "<div>\n",
       "<style scoped>\n",
       "    .dataframe tbody tr th:only-of-type {\n",
       "        vertical-align: middle;\n",
       "    }\n",
       "\n",
       "    .dataframe tbody tr th {\n",
       "        vertical-align: top;\n",
       "    }\n",
       "\n",
       "    .dataframe thead th {\n",
       "        text-align: right;\n",
       "    }\n",
       "</style>\n",
       "<table border=\"1\" class=\"dataframe\">\n",
       "  <thead>\n",
       "    <tr style=\"text-align: right;\">\n",
       "      <th></th>\n",
       "      <th>SK_ID_CURR</th>\n",
       "      <th>TARGET</th>\n",
       "      <th>NAME_CONTRACT_TYPE</th>\n",
       "      <th>CODE_GENDER</th>\n",
       "      <th>FLAG_OWN_CAR</th>\n",
       "      <th>FLAG_OWN_REALTY</th>\n",
       "      <th>CNT_CHILDREN</th>\n",
       "      <th>AMT_INCOME_TOTAL</th>\n",
       "      <th>AMT_CREDIT</th>\n",
       "      <th>AMT_ANNUITY</th>\n",
       "      <th>...</th>\n",
       "      <th>FLAG_DOCUMENT_18</th>\n",
       "      <th>FLAG_DOCUMENT_19</th>\n",
       "      <th>FLAG_DOCUMENT_20</th>\n",
       "      <th>FLAG_DOCUMENT_21</th>\n",
       "      <th>AMT_REQ_CREDIT_BUREAU_HOUR</th>\n",
       "      <th>AMT_REQ_CREDIT_BUREAU_DAY</th>\n",
       "      <th>AMT_REQ_CREDIT_BUREAU_WEEK</th>\n",
       "      <th>AMT_REQ_CREDIT_BUREAU_MON</th>\n",
       "      <th>AMT_REQ_CREDIT_BUREAU_QRT</th>\n",
       "      <th>AMT_REQ_CREDIT_BUREAU_YEAR</th>\n",
       "    </tr>\n",
       "  </thead>\n",
       "  <tbody>\n",
       "    <tr>\n",
       "      <th>0</th>\n",
       "      <td>100002</td>\n",
       "      <td>1</td>\n",
       "      <td>Cash loans</td>\n",
       "      <td>M</td>\n",
       "      <td>N</td>\n",
       "      <td>Y</td>\n",
       "      <td>0</td>\n",
       "      <td>202500.0</td>\n",
       "      <td>406597.5</td>\n",
       "      <td>24700.5</td>\n",
       "      <td>...</td>\n",
       "      <td>0</td>\n",
       "      <td>0</td>\n",
       "      <td>0</td>\n",
       "      <td>0</td>\n",
       "      <td>0.0</td>\n",
       "      <td>0.0</td>\n",
       "      <td>0.0</td>\n",
       "      <td>0.0</td>\n",
       "      <td>0.0</td>\n",
       "      <td>1.0</td>\n",
       "    </tr>\n",
       "    <tr>\n",
       "      <th>1</th>\n",
       "      <td>100003</td>\n",
       "      <td>0</td>\n",
       "      <td>Cash loans</td>\n",
       "      <td>F</td>\n",
       "      <td>N</td>\n",
       "      <td>N</td>\n",
       "      <td>0</td>\n",
       "      <td>270000.0</td>\n",
       "      <td>1293502.5</td>\n",
       "      <td>35698.5</td>\n",
       "      <td>...</td>\n",
       "      <td>0</td>\n",
       "      <td>0</td>\n",
       "      <td>0</td>\n",
       "      <td>0</td>\n",
       "      <td>0.0</td>\n",
       "      <td>0.0</td>\n",
       "      <td>0.0</td>\n",
       "      <td>0.0</td>\n",
       "      <td>0.0</td>\n",
       "      <td>0.0</td>\n",
       "    </tr>\n",
       "    <tr>\n",
       "      <th>2</th>\n",
       "      <td>100004</td>\n",
       "      <td>0</td>\n",
       "      <td>Revolving loans</td>\n",
       "      <td>M</td>\n",
       "      <td>Y</td>\n",
       "      <td>Y</td>\n",
       "      <td>0</td>\n",
       "      <td>67500.0</td>\n",
       "      <td>135000.0</td>\n",
       "      <td>6750.0</td>\n",
       "      <td>...</td>\n",
       "      <td>0</td>\n",
       "      <td>0</td>\n",
       "      <td>0</td>\n",
       "      <td>0</td>\n",
       "      <td>0.0</td>\n",
       "      <td>0.0</td>\n",
       "      <td>0.0</td>\n",
       "      <td>0.0</td>\n",
       "      <td>0.0</td>\n",
       "      <td>0.0</td>\n",
       "    </tr>\n",
       "    <tr>\n",
       "      <th>3</th>\n",
       "      <td>100006</td>\n",
       "      <td>0</td>\n",
       "      <td>Cash loans</td>\n",
       "      <td>F</td>\n",
       "      <td>N</td>\n",
       "      <td>Y</td>\n",
       "      <td>0</td>\n",
       "      <td>135000.0</td>\n",
       "      <td>312682.5</td>\n",
       "      <td>29686.5</td>\n",
       "      <td>...</td>\n",
       "      <td>0</td>\n",
       "      <td>0</td>\n",
       "      <td>0</td>\n",
       "      <td>0</td>\n",
       "      <td>NaN</td>\n",
       "      <td>NaN</td>\n",
       "      <td>NaN</td>\n",
       "      <td>NaN</td>\n",
       "      <td>NaN</td>\n",
       "      <td>NaN</td>\n",
       "    </tr>\n",
       "    <tr>\n",
       "      <th>4</th>\n",
       "      <td>100007</td>\n",
       "      <td>0</td>\n",
       "      <td>Cash loans</td>\n",
       "      <td>M</td>\n",
       "      <td>N</td>\n",
       "      <td>Y</td>\n",
       "      <td>0</td>\n",
       "      <td>121500.0</td>\n",
       "      <td>513000.0</td>\n",
       "      <td>21865.5</td>\n",
       "      <td>...</td>\n",
       "      <td>0</td>\n",
       "      <td>0</td>\n",
       "      <td>0</td>\n",
       "      <td>0</td>\n",
       "      <td>0.0</td>\n",
       "      <td>0.0</td>\n",
       "      <td>0.0</td>\n",
       "      <td>0.0</td>\n",
       "      <td>0.0</td>\n",
       "      <td>0.0</td>\n",
       "    </tr>\n",
       "  </tbody>\n",
       "</table>\n",
       "<p>5 rows × 122 columns</p>\n",
       "</div>"
      ],
      "text/plain": [
       "   SK_ID_CURR  TARGET NAME_CONTRACT_TYPE CODE_GENDER FLAG_OWN_CAR  \\\n",
       "0      100002       1         Cash loans           M            N   \n",
       "1      100003       0         Cash loans           F            N   \n",
       "2      100004       0    Revolving loans           M            Y   \n",
       "3      100006       0         Cash loans           F            N   \n",
       "4      100007       0         Cash loans           M            N   \n",
       "\n",
       "  FLAG_OWN_REALTY  CNT_CHILDREN  AMT_INCOME_TOTAL  AMT_CREDIT  AMT_ANNUITY  \\\n",
       "0               Y             0          202500.0    406597.5      24700.5   \n",
       "1               N             0          270000.0   1293502.5      35698.5   \n",
       "2               Y             0           67500.0    135000.0       6750.0   \n",
       "3               Y             0          135000.0    312682.5      29686.5   \n",
       "4               Y             0          121500.0    513000.0      21865.5   \n",
       "\n",
       "   ...  FLAG_DOCUMENT_18 FLAG_DOCUMENT_19 FLAG_DOCUMENT_20 FLAG_DOCUMENT_21  \\\n",
       "0  ...                 0                0                0                0   \n",
       "1  ...                 0                0                0                0   \n",
       "2  ...                 0                0                0                0   \n",
       "3  ...                 0                0                0                0   \n",
       "4  ...                 0                0                0                0   \n",
       "\n",
       "  AMT_REQ_CREDIT_BUREAU_HOUR AMT_REQ_CREDIT_BUREAU_DAY  \\\n",
       "0                        0.0                       0.0   \n",
       "1                        0.0                       0.0   \n",
       "2                        0.0                       0.0   \n",
       "3                        NaN                       NaN   \n",
       "4                        0.0                       0.0   \n",
       "\n",
       "   AMT_REQ_CREDIT_BUREAU_WEEK  AMT_REQ_CREDIT_BUREAU_MON  \\\n",
       "0                         0.0                        0.0   \n",
       "1                         0.0                        0.0   \n",
       "2                         0.0                        0.0   \n",
       "3                         NaN                        NaN   \n",
       "4                         0.0                        0.0   \n",
       "\n",
       "   AMT_REQ_CREDIT_BUREAU_QRT  AMT_REQ_CREDIT_BUREAU_YEAR  \n",
       "0                        0.0                         1.0  \n",
       "1                        0.0                         0.0  \n",
       "2                        0.0                         0.0  \n",
       "3                        NaN                         NaN  \n",
       "4                        0.0                         0.0  \n",
       "\n",
       "[5 rows x 122 columns]"
      ]
     },
     "execution_count": 37,
     "metadata": {},
     "output_type": "execute_result"
    }
   ],
   "source": [
    "train.head() #first data in dataset, target - те що має бути при класифікації (відсутнє в test)"
   ]
  },
  {
   "cell_type": "code",
   "execution_count": 38,
   "id": "outstanding-strategy",
   "metadata": {
    "colab": {
     "base_uri": "https://localhost:8080/",
     "height": 304
    },
    "executionInfo": {
     "elapsed": 4588,
     "status": "ok",
     "timestamp": 1616856691991,
     "user": {
      "displayName": "Daniil Timachov",
      "photoUrl": "https://lh3.googleusercontent.com/a-/AOh14Ghk9scaQ0ydio6b7V2_t9-wRiT1cNGLcyCL07wR=s64",
      "userId": "00279435974685972614"
     },
     "user_tz": -120
    },
    "id": "immediate-gateway",
    "outputId": "ae7753ec-f409-4038-8e0b-7e90227e1fb7"
   },
   "outputs": [
    {
     "data": {
      "text/html": [
       "<div>\n",
       "<style scoped>\n",
       "    .dataframe tbody tr th:only-of-type {\n",
       "        vertical-align: middle;\n",
       "    }\n",
       "\n",
       "    .dataframe tbody tr th {\n",
       "        vertical-align: top;\n",
       "    }\n",
       "\n",
       "    .dataframe thead th {\n",
       "        text-align: right;\n",
       "    }\n",
       "</style>\n",
       "<table border=\"1\" class=\"dataframe\">\n",
       "  <thead>\n",
       "    <tr style=\"text-align: right;\">\n",
       "      <th></th>\n",
       "      <th>SK_ID_CURR</th>\n",
       "      <th>NAME_CONTRACT_TYPE</th>\n",
       "      <th>CODE_GENDER</th>\n",
       "      <th>FLAG_OWN_CAR</th>\n",
       "      <th>FLAG_OWN_REALTY</th>\n",
       "      <th>CNT_CHILDREN</th>\n",
       "      <th>AMT_INCOME_TOTAL</th>\n",
       "      <th>AMT_CREDIT</th>\n",
       "      <th>AMT_ANNUITY</th>\n",
       "      <th>AMT_GOODS_PRICE</th>\n",
       "      <th>...</th>\n",
       "      <th>FLAG_DOCUMENT_18</th>\n",
       "      <th>FLAG_DOCUMENT_19</th>\n",
       "      <th>FLAG_DOCUMENT_20</th>\n",
       "      <th>FLAG_DOCUMENT_21</th>\n",
       "      <th>AMT_REQ_CREDIT_BUREAU_HOUR</th>\n",
       "      <th>AMT_REQ_CREDIT_BUREAU_DAY</th>\n",
       "      <th>AMT_REQ_CREDIT_BUREAU_WEEK</th>\n",
       "      <th>AMT_REQ_CREDIT_BUREAU_MON</th>\n",
       "      <th>AMT_REQ_CREDIT_BUREAU_QRT</th>\n",
       "      <th>AMT_REQ_CREDIT_BUREAU_YEAR</th>\n",
       "    </tr>\n",
       "  </thead>\n",
       "  <tbody>\n",
       "    <tr>\n",
       "      <th>0</th>\n",
       "      <td>100001</td>\n",
       "      <td>Cash loans</td>\n",
       "      <td>F</td>\n",
       "      <td>N</td>\n",
       "      <td>Y</td>\n",
       "      <td>0</td>\n",
       "      <td>135000.0</td>\n",
       "      <td>568800.0</td>\n",
       "      <td>20560.5</td>\n",
       "      <td>450000.0</td>\n",
       "      <td>...</td>\n",
       "      <td>0</td>\n",
       "      <td>0</td>\n",
       "      <td>0</td>\n",
       "      <td>0</td>\n",
       "      <td>0.0</td>\n",
       "      <td>0.0</td>\n",
       "      <td>0.0</td>\n",
       "      <td>0.0</td>\n",
       "      <td>0.0</td>\n",
       "      <td>0.0</td>\n",
       "    </tr>\n",
       "    <tr>\n",
       "      <th>1</th>\n",
       "      <td>100005</td>\n",
       "      <td>Cash loans</td>\n",
       "      <td>M</td>\n",
       "      <td>N</td>\n",
       "      <td>Y</td>\n",
       "      <td>0</td>\n",
       "      <td>99000.0</td>\n",
       "      <td>222768.0</td>\n",
       "      <td>17370.0</td>\n",
       "      <td>180000.0</td>\n",
       "      <td>...</td>\n",
       "      <td>0</td>\n",
       "      <td>0</td>\n",
       "      <td>0</td>\n",
       "      <td>0</td>\n",
       "      <td>0.0</td>\n",
       "      <td>0.0</td>\n",
       "      <td>0.0</td>\n",
       "      <td>0.0</td>\n",
       "      <td>0.0</td>\n",
       "      <td>3.0</td>\n",
       "    </tr>\n",
       "    <tr>\n",
       "      <th>2</th>\n",
       "      <td>100013</td>\n",
       "      <td>Cash loans</td>\n",
       "      <td>M</td>\n",
       "      <td>Y</td>\n",
       "      <td>Y</td>\n",
       "      <td>0</td>\n",
       "      <td>202500.0</td>\n",
       "      <td>663264.0</td>\n",
       "      <td>69777.0</td>\n",
       "      <td>630000.0</td>\n",
       "      <td>...</td>\n",
       "      <td>0</td>\n",
       "      <td>0</td>\n",
       "      <td>0</td>\n",
       "      <td>0</td>\n",
       "      <td>0.0</td>\n",
       "      <td>0.0</td>\n",
       "      <td>0.0</td>\n",
       "      <td>0.0</td>\n",
       "      <td>1.0</td>\n",
       "      <td>4.0</td>\n",
       "    </tr>\n",
       "    <tr>\n",
       "      <th>3</th>\n",
       "      <td>100028</td>\n",
       "      <td>Cash loans</td>\n",
       "      <td>F</td>\n",
       "      <td>N</td>\n",
       "      <td>Y</td>\n",
       "      <td>2</td>\n",
       "      <td>315000.0</td>\n",
       "      <td>1575000.0</td>\n",
       "      <td>49018.5</td>\n",
       "      <td>1575000.0</td>\n",
       "      <td>...</td>\n",
       "      <td>0</td>\n",
       "      <td>0</td>\n",
       "      <td>0</td>\n",
       "      <td>0</td>\n",
       "      <td>0.0</td>\n",
       "      <td>0.0</td>\n",
       "      <td>0.0</td>\n",
       "      <td>0.0</td>\n",
       "      <td>0.0</td>\n",
       "      <td>3.0</td>\n",
       "    </tr>\n",
       "    <tr>\n",
       "      <th>4</th>\n",
       "      <td>100038</td>\n",
       "      <td>Cash loans</td>\n",
       "      <td>M</td>\n",
       "      <td>Y</td>\n",
       "      <td>N</td>\n",
       "      <td>1</td>\n",
       "      <td>180000.0</td>\n",
       "      <td>625500.0</td>\n",
       "      <td>32067.0</td>\n",
       "      <td>625500.0</td>\n",
       "      <td>...</td>\n",
       "      <td>0</td>\n",
       "      <td>0</td>\n",
       "      <td>0</td>\n",
       "      <td>0</td>\n",
       "      <td>NaN</td>\n",
       "      <td>NaN</td>\n",
       "      <td>NaN</td>\n",
       "      <td>NaN</td>\n",
       "      <td>NaN</td>\n",
       "      <td>NaN</td>\n",
       "    </tr>\n",
       "  </tbody>\n",
       "</table>\n",
       "<p>5 rows × 121 columns</p>\n",
       "</div>"
      ],
      "text/plain": [
       "   SK_ID_CURR NAME_CONTRACT_TYPE CODE_GENDER FLAG_OWN_CAR FLAG_OWN_REALTY  \\\n",
       "0      100001         Cash loans           F            N               Y   \n",
       "1      100005         Cash loans           M            N               Y   \n",
       "2      100013         Cash loans           M            Y               Y   \n",
       "3      100028         Cash loans           F            N               Y   \n",
       "4      100038         Cash loans           M            Y               N   \n",
       "\n",
       "   CNT_CHILDREN  AMT_INCOME_TOTAL  AMT_CREDIT  AMT_ANNUITY  AMT_GOODS_PRICE  \\\n",
       "0             0          135000.0    568800.0      20560.5         450000.0   \n",
       "1             0           99000.0    222768.0      17370.0         180000.0   \n",
       "2             0          202500.0    663264.0      69777.0         630000.0   \n",
       "3             2          315000.0   1575000.0      49018.5        1575000.0   \n",
       "4             1          180000.0    625500.0      32067.0         625500.0   \n",
       "\n",
       "   ... FLAG_DOCUMENT_18 FLAG_DOCUMENT_19 FLAG_DOCUMENT_20 FLAG_DOCUMENT_21  \\\n",
       "0  ...                0                0                0                0   \n",
       "1  ...                0                0                0                0   \n",
       "2  ...                0                0                0                0   \n",
       "3  ...                0                0                0                0   \n",
       "4  ...                0                0                0                0   \n",
       "\n",
       "  AMT_REQ_CREDIT_BUREAU_HOUR  AMT_REQ_CREDIT_BUREAU_DAY  \\\n",
       "0                        0.0                        0.0   \n",
       "1                        0.0                        0.0   \n",
       "2                        0.0                        0.0   \n",
       "3                        0.0                        0.0   \n",
       "4                        NaN                        NaN   \n",
       "\n",
       "   AMT_REQ_CREDIT_BUREAU_WEEK  AMT_REQ_CREDIT_BUREAU_MON  \\\n",
       "0                         0.0                        0.0   \n",
       "1                         0.0                        0.0   \n",
       "2                         0.0                        0.0   \n",
       "3                         0.0                        0.0   \n",
       "4                         NaN                        NaN   \n",
       "\n",
       "   AMT_REQ_CREDIT_BUREAU_QRT  AMT_REQ_CREDIT_BUREAU_YEAR  \n",
       "0                        0.0                         0.0  \n",
       "1                        0.0                         3.0  \n",
       "2                        1.0                         4.0  \n",
       "3                        0.0                         3.0  \n",
       "4                        NaN                         NaN  \n",
       "\n",
       "[5 rows x 121 columns]"
      ]
     },
     "execution_count": 38,
     "metadata": {},
     "output_type": "execute_result"
    }
   ],
   "source": [
    "test.head()"
   ]
  },
  {
   "cell_type": "code",
   "execution_count": 39,
   "id": "neutral-potato",
   "metadata": {
    "colab": {
     "base_uri": "https://localhost:8080/"
    },
    "executionInfo": {
     "elapsed": 4580,
     "status": "ok",
     "timestamp": 1616856691995,
     "user": {
      "displayName": "Daniil Timachov",
      "photoUrl": "https://lh3.googleusercontent.com/a-/AOh14Ghk9scaQ0ydio6b7V2_t9-wRiT1cNGLcyCL07wR=s64",
      "userId": "00279435974685972614"
     },
     "user_tz": -120
    },
    "id": "worldwide-teacher",
    "outputId": "1e802865-c0c3-47c2-eea5-daf09352dcdb"
   },
   "outputs": [
    {
     "data": {
      "text/plain": [
       "(307511, 122)"
      ]
     },
     "execution_count": 39,
     "metadata": {},
     "output_type": "execute_result"
    }
   ],
   "source": [
    "train.shape"
   ]
  },
  {
   "cell_type": "code",
   "execution_count": 40,
   "id": "indirect-yugoslavia",
   "metadata": {
    "colab": {
     "base_uri": "https://localhost:8080/"
    },
    "executionInfo": {
     "elapsed": 4571,
     "status": "ok",
     "timestamp": 1616856691998,
     "user": {
      "displayName": "Daniil Timachov",
      "photoUrl": "https://lh3.googleusercontent.com/a-/AOh14Ghk9scaQ0ydio6b7V2_t9-wRiT1cNGLcyCL07wR=s64",
      "userId": "00279435974685972614"
     },
     "user_tz": -120
    },
    "id": "processed-ethnic",
    "outputId": "755de005-6288-4dd1-b6d3-dca90a7bf746"
   },
   "outputs": [
    {
     "data": {
      "text/plain": [
       "(48744, 121)"
      ]
     },
     "execution_count": 40,
     "metadata": {},
     "output_type": "execute_result"
    }
   ],
   "source": [
    "test.shape"
   ]
  },
  {
   "cell_type": "markdown",
   "id": "smooth-titanium",
   "metadata": {
    "id": "capable-string"
   },
   "source": [
    "## Data description"
   ]
  },
  {
   "cell_type": "code",
   "execution_count": 41,
   "id": "light-marina",
   "metadata": {
    "colab": {
     "base_uri": "https://localhost:8080/",
     "height": 204
    },
    "executionInfo": {
     "elapsed": 4560,
     "status": "ok",
     "timestamp": 1616856691999,
     "user": {
      "displayName": "Daniil Timachov",
      "photoUrl": "https://lh3.googleusercontent.com/a-/AOh14Ghk9scaQ0ydio6b7V2_t9-wRiT1cNGLcyCL07wR=s64",
      "userId": "00279435974685972614"
     },
     "user_tz": -120
    },
    "id": "harmful-consequence",
    "outputId": "9eeaa332-ec25-4134-e0a3-500b2d4e2278"
   },
   "outputs": [
    {
     "data": {
      "text/html": [
       "<div>\n",
       "<style scoped>\n",
       "    .dataframe tbody tr th:only-of-type {\n",
       "        vertical-align: middle;\n",
       "    }\n",
       "\n",
       "    .dataframe tbody tr th {\n",
       "        vertical-align: top;\n",
       "    }\n",
       "\n",
       "    .dataframe thead th {\n",
       "        text-align: right;\n",
       "    }\n",
       "</style>\n",
       "<table border=\"1\" class=\"dataframe\">\n",
       "  <thead>\n",
       "    <tr style=\"text-align: right;\">\n",
       "      <th></th>\n",
       "      <th>Table</th>\n",
       "      <th>Row</th>\n",
       "      <th>Description</th>\n",
       "      <th>Special</th>\n",
       "    </tr>\n",
       "  </thead>\n",
       "  <tbody>\n",
       "    <tr>\n",
       "      <th>1</th>\n",
       "      <td>application_{train|test}.csv</td>\n",
       "      <td>SK_ID_CURR</td>\n",
       "      <td>ID of loan in our sample</td>\n",
       "      <td>NaN</td>\n",
       "    </tr>\n",
       "    <tr>\n",
       "      <th>2</th>\n",
       "      <td>application_{train|test}.csv</td>\n",
       "      <td>TARGET</td>\n",
       "      <td>Target variable (1 - client with payment diffi...</td>\n",
       "      <td>NaN</td>\n",
       "    </tr>\n",
       "    <tr>\n",
       "      <th>5</th>\n",
       "      <td>application_{train|test}.csv</td>\n",
       "      <td>NAME_CONTRACT_TYPE</td>\n",
       "      <td>Identification if loan is cash or revolving</td>\n",
       "      <td>NaN</td>\n",
       "    </tr>\n",
       "    <tr>\n",
       "      <th>6</th>\n",
       "      <td>application_{train|test}.csv</td>\n",
       "      <td>CODE_GENDER</td>\n",
       "      <td>Gender of the client</td>\n",
       "      <td>NaN</td>\n",
       "    </tr>\n",
       "    <tr>\n",
       "      <th>7</th>\n",
       "      <td>application_{train|test}.csv</td>\n",
       "      <td>FLAG_OWN_CAR</td>\n",
       "      <td>Flag if the client owns a car</td>\n",
       "      <td>NaN</td>\n",
       "    </tr>\n",
       "  </tbody>\n",
       "</table>\n",
       "</div>"
      ],
      "text/plain": [
       "                          Table                 Row  \\\n",
       "1  application_{train|test}.csv          SK_ID_CURR   \n",
       "2  application_{train|test}.csv              TARGET   \n",
       "5  application_{train|test}.csv  NAME_CONTRACT_TYPE   \n",
       "6  application_{train|test}.csv         CODE_GENDER   \n",
       "7  application_{train|test}.csv        FLAG_OWN_CAR   \n",
       "\n",
       "                                         Description Special  \n",
       "1                           ID of loan in our sample     NaN  \n",
       "2  Target variable (1 - client with payment diffi...     NaN  \n",
       "5        Identification if loan is cash or revolving     NaN  \n",
       "6                               Gender of the client     NaN  \n",
       "7                      Flag if the client owns a car     NaN  "
      ]
     },
     "execution_count": 41,
     "metadata": {},
     "output_type": "execute_result"
    }
   ],
   "source": [
    "Descrip = pd.read_csv(\"HomeCredit_columns_description.csv\", index_col=0, encoding='unicode_escape')\n",
    "Descrip = Descrip[Descrip['Table'] == \"application_{train|test}.csv\"]\n",
    "Descrip.head() #дізнаємося, що робить кожна колонка"
   ]
  },
  {
   "cell_type": "code",
   "execution_count": 42,
   "id": "immediate-calibration",
   "metadata": {
    "colab": {
     "base_uri": "https://localhost:8080/",
     "height": 1000
    },
    "executionInfo": {
     "elapsed": 4545,
     "status": "ok",
     "timestamp": 1616856692002,
     "user": {
      "displayName": "Daniil Timachov",
      "photoUrl": "https://lh3.googleusercontent.com/a-/AOh14Ghk9scaQ0ydio6b7V2_t9-wRiT1cNGLcyCL07wR=s64",
      "userId": "00279435974685972614"
     },
     "user_tz": -120
    },
    "id": "sensitive-shopping",
    "outputId": "1151b55e-fbc8-48e0-93f9-6d69a298a176"
   },
   "outputs": [
    {
     "data": {
      "text/html": [
       "<b>SK_ID_CURR</b>: <span>ID of loan in our sample</span>"
      ],
      "text/plain": [
       "<IPython.core.display.HTML object>"
      ]
     },
     "metadata": {},
     "output_type": "display_data"
    },
    {
     "data": {
      "text/html": [
       "<b>TARGET</b>: <span>Target variable (1 - client with payment difficulties: he/she had late payment more than X days on at least one of the first Y installments of the loan in our sample, 0 - all other cases)</span>"
      ],
      "text/plain": [
       "<IPython.core.display.HTML object>"
      ]
     },
     "metadata": {},
     "output_type": "display_data"
    },
    {
     "data": {
      "text/html": [
       "<b>NAME_CONTRACT_TYPE</b>: <span>Identification if loan is cash or revolving</span>"
      ],
      "text/plain": [
       "<IPython.core.display.HTML object>"
      ]
     },
     "metadata": {},
     "output_type": "display_data"
    },
    {
     "data": {
      "text/html": [
       "<b>CODE_GENDER</b>: <span>Gender of the client</span>"
      ],
      "text/plain": [
       "<IPython.core.display.HTML object>"
      ]
     },
     "metadata": {},
     "output_type": "display_data"
    },
    {
     "data": {
      "text/html": [
       "<b>FLAG_OWN_CAR</b>: <span>Flag if the client owns a car</span>"
      ],
      "text/plain": [
       "<IPython.core.display.HTML object>"
      ]
     },
     "metadata": {},
     "output_type": "display_data"
    },
    {
     "data": {
      "text/html": [
       "<b>FLAG_OWN_REALTY</b>: <span>Flag if client owns a house or flat</span>"
      ],
      "text/plain": [
       "<IPython.core.display.HTML object>"
      ]
     },
     "metadata": {},
     "output_type": "display_data"
    },
    {
     "data": {
      "text/html": [
       "<b>CNT_CHILDREN</b>: <span>Number of children the client has</span>"
      ],
      "text/plain": [
       "<IPython.core.display.HTML object>"
      ]
     },
     "metadata": {},
     "output_type": "display_data"
    },
    {
     "data": {
      "text/html": [
       "<b>AMT_INCOME_TOTAL</b>: <span>Income of the client</span>"
      ],
      "text/plain": [
       "<IPython.core.display.HTML object>"
      ]
     },
     "metadata": {},
     "output_type": "display_data"
    },
    {
     "data": {
      "text/html": [
       "<b>AMT_CREDIT</b>: <span>Credit amount of the loan</span>"
      ],
      "text/plain": [
       "<IPython.core.display.HTML object>"
      ]
     },
     "metadata": {},
     "output_type": "display_data"
    },
    {
     "data": {
      "text/html": [
       "<b>AMT_ANNUITY</b>: <span>Loan annuity</span>"
      ],
      "text/plain": [
       "<IPython.core.display.HTML object>"
      ]
     },
     "metadata": {},
     "output_type": "display_data"
    },
    {
     "data": {
      "text/html": [
       "<b>AMT_GOODS_PRICE</b>: <span>For consumer loans it is the price of the goods for which the loan is given</span>"
      ],
      "text/plain": [
       "<IPython.core.display.HTML object>"
      ]
     },
     "metadata": {},
     "output_type": "display_data"
    },
    {
     "data": {
      "text/html": [
       "<b>NAME_TYPE_SUITE</b>: <span>Who was accompanying client when he was applying for the loan</span>"
      ],
      "text/plain": [
       "<IPython.core.display.HTML object>"
      ]
     },
     "metadata": {},
     "output_type": "display_data"
    },
    {
     "data": {
      "text/html": [
       "<b>NAME_INCOME_TYPE</b>: <span>Clients income type (businessman, working, maternity leave,",
       ")</span>"
      ],
      "text/plain": [
       "<IPython.core.display.HTML object>"
      ]
     },
     "metadata": {},
     "output_type": "display_data"
    },
    {
     "data": {
      "text/html": [
       "<b>NAME_EDUCATION_TYPE</b>: <span>Level of highest education the client achieved</span>"
      ],
      "text/plain": [
       "<IPython.core.display.HTML object>"
      ]
     },
     "metadata": {},
     "output_type": "display_data"
    },
    {
     "data": {
      "text/html": [
       "<b>NAME_FAMILY_STATUS</b>: <span>Family status of the client</span>"
      ],
      "text/plain": [
       "<IPython.core.display.HTML object>"
      ]
     },
     "metadata": {},
     "output_type": "display_data"
    },
    {
     "data": {
      "text/html": [
       "<b>NAME_HOUSING_TYPE</b>: <span>What is the housing situation of the client (renting, living with parents, ...)</span>"
      ],
      "text/plain": [
       "<IPython.core.display.HTML object>"
      ]
     },
     "metadata": {},
     "output_type": "display_data"
    },
    {
     "data": {
      "text/html": [
       "<b>REGION_POPULATION_RELATIVE</b>: <span>Normalized population of region where client lives (higher number means the client lives in more populated region)</span>"
      ],
      "text/plain": [
       "<IPython.core.display.HTML object>"
      ]
     },
     "metadata": {},
     "output_type": "display_data"
    },
    {
     "data": {
      "text/html": [
       "<b>DAYS_BIRTH</b>: <span>Client's age in days at the time of application</span>"
      ],
      "text/plain": [
       "<IPython.core.display.HTML object>"
      ]
     },
     "metadata": {},
     "output_type": "display_data"
    },
    {
     "data": {
      "text/html": [
       "<b>DAYS_EMPLOYED</b>: <span>How many days before the application the person started current employment</span>"
      ],
      "text/plain": [
       "<IPython.core.display.HTML object>"
      ]
     },
     "metadata": {},
     "output_type": "display_data"
    },
    {
     "data": {
      "text/html": [
       "<b>DAYS_REGISTRATION</b>: <span>How many days before the application did client change his registration</span>"
      ],
      "text/plain": [
       "<IPython.core.display.HTML object>"
      ]
     },
     "metadata": {},
     "output_type": "display_data"
    },
    {
     "data": {
      "text/html": [
       "<b>DAYS_ID_PUBLISH</b>: <span>How many days before the application did client change the identity document with which he applied for the loan</span>"
      ],
      "text/plain": [
       "<IPython.core.display.HTML object>"
      ]
     },
     "metadata": {},
     "output_type": "display_data"
    },
    {
     "data": {
      "text/html": [
       "<b>OWN_CAR_AGE</b>: <span>Age of client's car</span>"
      ],
      "text/plain": [
       "<IPython.core.display.HTML object>"
      ]
     },
     "metadata": {},
     "output_type": "display_data"
    },
    {
     "data": {
      "text/html": [
       "<b>FLAG_MOBIL</b>: <span>Did client provide mobile phone (1=YES, 0=NO)</span>"
      ],
      "text/plain": [
       "<IPython.core.display.HTML object>"
      ]
     },
     "metadata": {},
     "output_type": "display_data"
    },
    {
     "data": {
      "text/html": [
       "<b>FLAG_EMP_PHONE</b>: <span>Did client provide work phone (1=YES, 0=NO)</span>"
      ],
      "text/plain": [
       "<IPython.core.display.HTML object>"
      ]
     },
     "metadata": {},
     "output_type": "display_data"
    },
    {
     "data": {
      "text/html": [
       "<b>FLAG_WORK_PHONE</b>: <span>Did client provide home phone (1=YES, 0=NO)</span>"
      ],
      "text/plain": [
       "<IPython.core.display.HTML object>"
      ]
     },
     "metadata": {},
     "output_type": "display_data"
    },
    {
     "data": {
      "text/html": [
       "<b>FLAG_CONT_MOBILE</b>: <span>Was mobile phone reachable (1=YES, 0=NO)</span>"
      ],
      "text/plain": [
       "<IPython.core.display.HTML object>"
      ]
     },
     "metadata": {},
     "output_type": "display_data"
    },
    {
     "data": {
      "text/html": [
       "<b>FLAG_PHONE</b>: <span>Did client provide home phone (1=YES, 0=NO)</span>"
      ],
      "text/plain": [
       "<IPython.core.display.HTML object>"
      ]
     },
     "metadata": {},
     "output_type": "display_data"
    },
    {
     "data": {
      "text/html": [
       "<b>FLAG_EMAIL</b>: <span>Did client provide email (1=YES, 0=NO)</span>"
      ],
      "text/plain": [
       "<IPython.core.display.HTML object>"
      ]
     },
     "metadata": {},
     "output_type": "display_data"
    },
    {
     "data": {
      "text/html": [
       "<b>OCCUPATION_TYPE</b>: <span>What kind of occupation does the client have</span>"
      ],
      "text/plain": [
       "<IPython.core.display.HTML object>"
      ]
     },
     "metadata": {},
     "output_type": "display_data"
    },
    {
     "data": {
      "text/html": [
       "<b>CNT_FAM_MEMBERS</b>: <span>How many family members does client have</span>"
      ],
      "text/plain": [
       "<IPython.core.display.HTML object>"
      ]
     },
     "metadata": {},
     "output_type": "display_data"
    },
    {
     "data": {
      "text/html": [
       "<b>REGION_RATING_CLIENT</b>: <span>Our rating of the region where client lives (1,2,3)</span>"
      ],
      "text/plain": [
       "<IPython.core.display.HTML object>"
      ]
     },
     "metadata": {},
     "output_type": "display_data"
    },
    {
     "data": {
      "text/html": [
       "<b>REGION_RATING_CLIENT_W_CITY</b>: <span>Our rating of the region where client lives with taking city into account (1,2,3)</span>"
      ],
      "text/plain": [
       "<IPython.core.display.HTML object>"
      ]
     },
     "metadata": {},
     "output_type": "display_data"
    },
    {
     "data": {
      "text/html": [
       "<b>WEEKDAY_APPR_PROCESS_START</b>: <span>On which day of the week did the client apply for the loan</span>"
      ],
      "text/plain": [
       "<IPython.core.display.HTML object>"
      ]
     },
     "metadata": {},
     "output_type": "display_data"
    },
    {
     "data": {
      "text/html": [
       "<b>HOUR_APPR_PROCESS_START</b>: <span>Approximately at what hour did the client apply for the loan</span>"
      ],
      "text/plain": [
       "<IPython.core.display.HTML object>"
      ]
     },
     "metadata": {},
     "output_type": "display_data"
    },
    {
     "data": {
      "text/html": [
       "<b>REG_REGION_NOT_LIVE_REGION</b>: <span>Flag if client's permanent address does not match contact address (1=different, 0=same, at region level)</span>"
      ],
      "text/plain": [
       "<IPython.core.display.HTML object>"
      ]
     },
     "metadata": {},
     "output_type": "display_data"
    },
    {
     "data": {
      "text/html": [
       "<b>REG_REGION_NOT_WORK_REGION</b>: <span>Flag if client's permanent address does not match work address (1=different, 0=same, at region level)</span>"
      ],
      "text/plain": [
       "<IPython.core.display.HTML object>"
      ]
     },
     "metadata": {},
     "output_type": "display_data"
    },
    {
     "data": {
      "text/html": [
       "<b>LIVE_REGION_NOT_WORK_REGION</b>: <span>Flag if client's contact address does not match work address (1=different, 0=same, at region level)</span>"
      ],
      "text/plain": [
       "<IPython.core.display.HTML object>"
      ]
     },
     "metadata": {},
     "output_type": "display_data"
    },
    {
     "data": {
      "text/html": [
       "<b>REG_CITY_NOT_LIVE_CITY</b>: <span>Flag if client's permanent address does not match contact address (1=different, 0=same, at city level)</span>"
      ],
      "text/plain": [
       "<IPython.core.display.HTML object>"
      ]
     },
     "metadata": {},
     "output_type": "display_data"
    },
    {
     "data": {
      "text/html": [
       "<b>REG_CITY_NOT_WORK_CITY</b>: <span>Flag if client's permanent address does not match work address (1=different, 0=same, at city level)</span>"
      ],
      "text/plain": [
       "<IPython.core.display.HTML object>"
      ]
     },
     "metadata": {},
     "output_type": "display_data"
    },
    {
     "data": {
      "text/html": [
       "<b>LIVE_CITY_NOT_WORK_CITY</b>: <span>Flag if client's contact address does not match work address (1=different, 0=same, at city level)</span>"
      ],
      "text/plain": [
       "<IPython.core.display.HTML object>"
      ]
     },
     "metadata": {},
     "output_type": "display_data"
    },
    {
     "data": {
      "text/html": [
       "<b>ORGANIZATION_TYPE</b>: <span>Type of organization where client works</span>"
      ],
      "text/plain": [
       "<IPython.core.display.HTML object>"
      ]
     },
     "metadata": {},
     "output_type": "display_data"
    },
    {
     "data": {
      "text/html": [
       "<b>EXT_SOURCE_1</b>: <span>Normalized score from external data source</span>"
      ],
      "text/plain": [
       "<IPython.core.display.HTML object>"
      ]
     },
     "metadata": {},
     "output_type": "display_data"
    },
    {
     "data": {
      "text/html": [
       "<b>EXT_SOURCE_2</b>: <span>Normalized score from external data source</span>"
      ],
      "text/plain": [
       "<IPython.core.display.HTML object>"
      ]
     },
     "metadata": {},
     "output_type": "display_data"
    },
    {
     "data": {
      "text/html": [
       "<b>EXT_SOURCE_3</b>: <span>Normalized score from external data source</span>"
      ],
      "text/plain": [
       "<IPython.core.display.HTML object>"
      ]
     },
     "metadata": {},
     "output_type": "display_data"
    },
    {
     "data": {
      "text/html": [
       "<b>APARTMENTS_AVG</b>: <span>Normalized information about building where the client lives, What is average (_AVG suffix), modus (_MODE suffix), median (_MEDI suffix) apartment size, common area, living area, age of building, number of elevators, number of entrances, state of the building, number of floor</span>"
      ],
      "text/plain": [
       "<IPython.core.display.HTML object>"
      ]
     },
     "metadata": {},
     "output_type": "display_data"
    },
    {
     "data": {
      "text/html": [
       "<b>BASEMENTAREA_AVG</b>: <span>Normalized information about building where the client lives, What is average (_AVG suffix), modus (_MODE suffix), median (_MEDI suffix) apartment size, common area, living area, age of building, number of elevators, number of entrances, state of the building, number of floor</span>"
      ],
      "text/plain": [
       "<IPython.core.display.HTML object>"
      ]
     },
     "metadata": {},
     "output_type": "display_data"
    },
    {
     "data": {
      "text/html": [
       "<b>YEARS_BEGINEXPLUATATION_AVG</b>: <span>Normalized information about building where the client lives, What is average (_AVG suffix), modus (_MODE suffix), median (_MEDI suffix) apartment size, common area, living area, age of building, number of elevators, number of entrances, state of the building, number of floor</span>"
      ],
      "text/plain": [
       "<IPython.core.display.HTML object>"
      ]
     },
     "metadata": {},
     "output_type": "display_data"
    },
    {
     "data": {
      "text/html": [
       "<b>YEARS_BUILD_AVG</b>: <span>Normalized information about building where the client lives, What is average (_AVG suffix), modus (_MODE suffix), median (_MEDI suffix) apartment size, common area, living area, age of building, number of elevators, number of entrances, state of the building, number of floor</span>"
      ],
      "text/plain": [
       "<IPython.core.display.HTML object>"
      ]
     },
     "metadata": {},
     "output_type": "display_data"
    },
    {
     "data": {
      "text/html": [
       "<b>COMMONAREA_AVG</b>: <span>Normalized information about building where the client lives, What is average (_AVG suffix), modus (_MODE suffix), median (_MEDI suffix) apartment size, common area, living area, age of building, number of elevators, number of entrances, state of the building, number of floor</span>"
      ],
      "text/plain": [
       "<IPython.core.display.HTML object>"
      ]
     },
     "metadata": {},
     "output_type": "display_data"
    },
    {
     "data": {
      "text/html": [
       "<b>ELEVATORS_AVG</b>: <span>Normalized information about building where the client lives, What is average (_AVG suffix), modus (_MODE suffix), median (_MEDI suffix) apartment size, common area, living area, age of building, number of elevators, number of entrances, state of the building, number of floor</span>"
      ],
      "text/plain": [
       "<IPython.core.display.HTML object>"
      ]
     },
     "metadata": {},
     "output_type": "display_data"
    },
    {
     "data": {
      "text/html": [
       "<b>ENTRANCES_AVG</b>: <span>Normalized information about building where the client lives, What is average (_AVG suffix), modus (_MODE suffix), median (_MEDI suffix) apartment size, common area, living area, age of building, number of elevators, number of entrances, state of the building, number of floor</span>"
      ],
      "text/plain": [
       "<IPython.core.display.HTML object>"
      ]
     },
     "metadata": {},
     "output_type": "display_data"
    },
    {
     "data": {
      "text/html": [
       "<b>FLOORSMAX_AVG</b>: <span>Normalized information about building where the client lives, What is average (_AVG suffix), modus (_MODE suffix), median (_MEDI suffix) apartment size, common area, living area, age of building, number of elevators, number of entrances, state of the building, number of floor</span>"
      ],
      "text/plain": [
       "<IPython.core.display.HTML object>"
      ]
     },
     "metadata": {},
     "output_type": "display_data"
    },
    {
     "data": {
      "text/html": [
       "<b>FLOORSMIN_AVG</b>: <span>Normalized information about building where the client lives, What is average (_AVG suffix), modus (_MODE suffix), median (_MEDI suffix) apartment size, common area, living area, age of building, number of elevators, number of entrances, state of the building, number of floor</span>"
      ],
      "text/plain": [
       "<IPython.core.display.HTML object>"
      ]
     },
     "metadata": {},
     "output_type": "display_data"
    },
    {
     "data": {
      "text/html": [
       "<b>LANDAREA_AVG</b>: <span>Normalized information about building where the client lives, What is average (_AVG suffix), modus (_MODE suffix), median (_MEDI suffix) apartment size, common area, living area, age of building, number of elevators, number of entrances, state of the building, number of floor</span>"
      ],
      "text/plain": [
       "<IPython.core.display.HTML object>"
      ]
     },
     "metadata": {},
     "output_type": "display_data"
    },
    {
     "data": {
      "text/html": [
       "<b>LIVINGAPARTMENTS_AVG</b>: <span>Normalized information about building where the client lives, What is average (_AVG suffix), modus (_MODE suffix), median (_MEDI suffix) apartment size, common area, living area, age of building, number of elevators, number of entrances, state of the building, number of floor</span>"
      ],
      "text/plain": [
       "<IPython.core.display.HTML object>"
      ]
     },
     "metadata": {},
     "output_type": "display_data"
    },
    {
     "data": {
      "text/html": [
       "<b>LIVINGAREA_AVG</b>: <span>Normalized information about building where the client lives, What is average (_AVG suffix), modus (_MODE suffix), median (_MEDI suffix) apartment size, common area, living area, age of building, number of elevators, number of entrances, state of the building, number of floor</span>"
      ],
      "text/plain": [
       "<IPython.core.display.HTML object>"
      ]
     },
     "metadata": {},
     "output_type": "display_data"
    },
    {
     "data": {
      "text/html": [
       "<b>NONLIVINGAPARTMENTS_AVG</b>: <span>Normalized information about building where the client lives, What is average (_AVG suffix), modus (_MODE suffix), median (_MEDI suffix) apartment size, common area, living area, age of building, number of elevators, number of entrances, state of the building, number of floor</span>"
      ],
      "text/plain": [
       "<IPython.core.display.HTML object>"
      ]
     },
     "metadata": {},
     "output_type": "display_data"
    },
    {
     "data": {
      "text/html": [
       "<b>NONLIVINGAREA_AVG</b>: <span>Normalized information about building where the client lives, What is average (_AVG suffix), modus (_MODE suffix), median (_MEDI suffix) apartment size, common area, living area, age of building, number of elevators, number of entrances, state of the building, number of floor</span>"
      ],
      "text/plain": [
       "<IPython.core.display.HTML object>"
      ]
     },
     "metadata": {},
     "output_type": "display_data"
    },
    {
     "data": {
      "text/html": [
       "<b>APARTMENTS_MODE</b>: <span>Normalized information about building where the client lives, What is average (_AVG suffix), modus (_MODE suffix), median (_MEDI suffix) apartment size, common area, living area, age of building, number of elevators, number of entrances, state of the building, number of floor</span>"
      ],
      "text/plain": [
       "<IPython.core.display.HTML object>"
      ]
     },
     "metadata": {},
     "output_type": "display_data"
    },
    {
     "data": {
      "text/html": [
       "<b>BASEMENTAREA_MODE</b>: <span>Normalized information about building where the client lives, What is average (_AVG suffix), modus (_MODE suffix), median (_MEDI suffix) apartment size, common area, living area, age of building, number of elevators, number of entrances, state of the building, number of floor</span>"
      ],
      "text/plain": [
       "<IPython.core.display.HTML object>"
      ]
     },
     "metadata": {},
     "output_type": "display_data"
    },
    {
     "data": {
      "text/html": [
       "<b>YEARS_BEGINEXPLUATATION_MODE</b>: <span>Normalized information about building where the client lives, What is average (_AVG suffix), modus (_MODE suffix), median (_MEDI suffix) apartment size, common area, living area, age of building, number of elevators, number of entrances, state of the building, number of floor</span>"
      ],
      "text/plain": [
       "<IPython.core.display.HTML object>"
      ]
     },
     "metadata": {},
     "output_type": "display_data"
    },
    {
     "data": {
      "text/html": [
       "<b>YEARS_BUILD_MODE</b>: <span>Normalized information about building where the client lives, What is average (_AVG suffix), modus (_MODE suffix), median (_MEDI suffix) apartment size, common area, living area, age of building, number of elevators, number of entrances, state of the building, number of floor</span>"
      ],
      "text/plain": [
       "<IPython.core.display.HTML object>"
      ]
     },
     "metadata": {},
     "output_type": "display_data"
    },
    {
     "data": {
      "text/html": [
       "<b>COMMONAREA_MODE</b>: <span>Normalized information about building where the client lives, What is average (_AVG suffix), modus (_MODE suffix), median (_MEDI suffix) apartment size, common area, living area, age of building, number of elevators, number of entrances, state of the building, number of floor</span>"
      ],
      "text/plain": [
       "<IPython.core.display.HTML object>"
      ]
     },
     "metadata": {},
     "output_type": "display_data"
    },
    {
     "data": {
      "text/html": [
       "<b>ELEVATORS_MODE</b>: <span>Normalized information about building where the client lives, What is average (_AVG suffix), modus (_MODE suffix), median (_MEDI suffix) apartment size, common area, living area, age of building, number of elevators, number of entrances, state of the building, number of floor</span>"
      ],
      "text/plain": [
       "<IPython.core.display.HTML object>"
      ]
     },
     "metadata": {},
     "output_type": "display_data"
    },
    {
     "data": {
      "text/html": [
       "<b>ENTRANCES_MODE</b>: <span>Normalized information about building where the client lives, What is average (_AVG suffix), modus (_MODE suffix), median (_MEDI suffix) apartment size, common area, living area, age of building, number of elevators, number of entrances, state of the building, number of floor</span>"
      ],
      "text/plain": [
       "<IPython.core.display.HTML object>"
      ]
     },
     "metadata": {},
     "output_type": "display_data"
    },
    {
     "data": {
      "text/html": [
       "<b>FLOORSMAX_MODE</b>: <span>Normalized information about building where the client lives, What is average (_AVG suffix), modus (_MODE suffix), median (_MEDI suffix) apartment size, common area, living area, age of building, number of elevators, number of entrances, state of the building, number of floor</span>"
      ],
      "text/plain": [
       "<IPython.core.display.HTML object>"
      ]
     },
     "metadata": {},
     "output_type": "display_data"
    },
    {
     "data": {
      "text/html": [
       "<b>FLOORSMIN_MODE</b>: <span>Normalized information about building where the client lives, What is average (_AVG suffix), modus (_MODE suffix), median (_MEDI suffix) apartment size, common area, living area, age of building, number of elevators, number of entrances, state of the building, number of floor</span>"
      ],
      "text/plain": [
       "<IPython.core.display.HTML object>"
      ]
     },
     "metadata": {},
     "output_type": "display_data"
    },
    {
     "data": {
      "text/html": [
       "<b>LANDAREA_MODE</b>: <span>Normalized information about building where the client lives, What is average (_AVG suffix), modus (_MODE suffix), median (_MEDI suffix) apartment size, common area, living area, age of building, number of elevators, number of entrances, state of the building, number of floor</span>"
      ],
      "text/plain": [
       "<IPython.core.display.HTML object>"
      ]
     },
     "metadata": {},
     "output_type": "display_data"
    },
    {
     "data": {
      "text/html": [
       "<b>LIVINGAPARTMENTS_MODE</b>: <span>Normalized information about building where the client lives, What is average (_AVG suffix), modus (_MODE suffix), median (_MEDI suffix) apartment size, common area, living area, age of building, number of elevators, number of entrances, state of the building, number of floor</span>"
      ],
      "text/plain": [
       "<IPython.core.display.HTML object>"
      ]
     },
     "metadata": {},
     "output_type": "display_data"
    },
    {
     "data": {
      "text/html": [
       "<b>LIVINGAREA_MODE</b>: <span>Normalized information about building where the client lives, What is average (_AVG suffix), modus (_MODE suffix), median (_MEDI suffix) apartment size, common area, living area, age of building, number of elevators, number of entrances, state of the building, number of floor</span>"
      ],
      "text/plain": [
       "<IPython.core.display.HTML object>"
      ]
     },
     "metadata": {},
     "output_type": "display_data"
    },
    {
     "data": {
      "text/html": [
       "<b>NONLIVINGAPARTMENTS_MODE</b>: <span>Normalized information about building where the client lives, What is average (_AVG suffix), modus (_MODE suffix), median (_MEDI suffix) apartment size, common area, living area, age of building, number of elevators, number of entrances, state of the building, number of floor</span>"
      ],
      "text/plain": [
       "<IPython.core.display.HTML object>"
      ]
     },
     "metadata": {},
     "output_type": "display_data"
    },
    {
     "data": {
      "text/html": [
       "<b>NONLIVINGAREA_MODE</b>: <span>Normalized information about building where the client lives, What is average (_AVG suffix), modus (_MODE suffix), median (_MEDI suffix) apartment size, common area, living area, age of building, number of elevators, number of entrances, state of the building, number of floor</span>"
      ],
      "text/plain": [
       "<IPython.core.display.HTML object>"
      ]
     },
     "metadata": {},
     "output_type": "display_data"
    },
    {
     "data": {
      "text/html": [
       "<b>APARTMENTS_MEDI</b>: <span>Normalized information about building where the client lives, What is average (_AVG suffix), modus (_MODE suffix), median (_MEDI suffix) apartment size, common area, living area, age of building, number of elevators, number of entrances, state of the building, number of floor</span>"
      ],
      "text/plain": [
       "<IPython.core.display.HTML object>"
      ]
     },
     "metadata": {},
     "output_type": "display_data"
    },
    {
     "data": {
      "text/html": [
       "<b>BASEMENTAREA_MEDI</b>: <span>Normalized information about building where the client lives, What is average (_AVG suffix), modus (_MODE suffix), median (_MEDI suffix) apartment size, common area, living area, age of building, number of elevators, number of entrances, state of the building, number of floor</span>"
      ],
      "text/plain": [
       "<IPython.core.display.HTML object>"
      ]
     },
     "metadata": {},
     "output_type": "display_data"
    },
    {
     "data": {
      "text/html": [
       "<b>YEARS_BEGINEXPLUATATION_MEDI</b>: <span>Normalized information about building where the client lives, What is average (_AVG suffix), modus (_MODE suffix), median (_MEDI suffix) apartment size, common area, living area, age of building, number of elevators, number of entrances, state of the building, number of floor</span>"
      ],
      "text/plain": [
       "<IPython.core.display.HTML object>"
      ]
     },
     "metadata": {},
     "output_type": "display_data"
    },
    {
     "data": {
      "text/html": [
       "<b>YEARS_BUILD_MEDI</b>: <span>Normalized information about building where the client lives, What is average (_AVG suffix), modus (_MODE suffix), median (_MEDI suffix) apartment size, common area, living area, age of building, number of elevators, number of entrances, state of the building, number of floor</span>"
      ],
      "text/plain": [
       "<IPython.core.display.HTML object>"
      ]
     },
     "metadata": {},
     "output_type": "display_data"
    },
    {
     "data": {
      "text/html": [
       "<b>COMMONAREA_MEDI</b>: <span>Normalized information about building where the client lives, What is average (_AVG suffix), modus (_MODE suffix), median (_MEDI suffix) apartment size, common area, living area, age of building, number of elevators, number of entrances, state of the building, number of floor</span>"
      ],
      "text/plain": [
       "<IPython.core.display.HTML object>"
      ]
     },
     "metadata": {},
     "output_type": "display_data"
    },
    {
     "data": {
      "text/html": [
       "<b>ELEVATORS_MEDI</b>: <span>Normalized information about building where the client lives, What is average (_AVG suffix), modus (_MODE suffix), median (_MEDI suffix) apartment size, common area, living area, age of building, number of elevators, number of entrances, state of the building, number of floor</span>"
      ],
      "text/plain": [
       "<IPython.core.display.HTML object>"
      ]
     },
     "metadata": {},
     "output_type": "display_data"
    },
    {
     "data": {
      "text/html": [
       "<b>ENTRANCES_MEDI</b>: <span>Normalized information about building where the client lives, What is average (_AVG suffix), modus (_MODE suffix), median (_MEDI suffix) apartment size, common area, living area, age of building, number of elevators, number of entrances, state of the building, number of floor</span>"
      ],
      "text/plain": [
       "<IPython.core.display.HTML object>"
      ]
     },
     "metadata": {},
     "output_type": "display_data"
    },
    {
     "data": {
      "text/html": [
       "<b>FLOORSMAX_MEDI</b>: <span>Normalized information about building where the client lives, What is average (_AVG suffix), modus (_MODE suffix), median (_MEDI suffix) apartment size, common area, living area, age of building, number of elevators, number of entrances, state of the building, number of floor</span>"
      ],
      "text/plain": [
       "<IPython.core.display.HTML object>"
      ]
     },
     "metadata": {},
     "output_type": "display_data"
    },
    {
     "data": {
      "text/html": [
       "<b>FLOORSMIN_MEDI</b>: <span>Normalized information about building where the client lives, What is average (_AVG suffix), modus (_MODE suffix), median (_MEDI suffix) apartment size, common area, living area, age of building, number of elevators, number of entrances, state of the building, number of floor</span>"
      ],
      "text/plain": [
       "<IPython.core.display.HTML object>"
      ]
     },
     "metadata": {},
     "output_type": "display_data"
    },
    {
     "data": {
      "text/html": [
       "<b>LANDAREA_MEDI</b>: <span>Normalized information about building where the client lives, What is average (_AVG suffix), modus (_MODE suffix), median (_MEDI suffix) apartment size, common area, living area, age of building, number of elevators, number of entrances, state of the building, number of floor</span>"
      ],
      "text/plain": [
       "<IPython.core.display.HTML object>"
      ]
     },
     "metadata": {},
     "output_type": "display_data"
    },
    {
     "data": {
      "text/html": [
       "<b>LIVINGAPARTMENTS_MEDI</b>: <span>Normalized information about building where the client lives, What is average (_AVG suffix), modus (_MODE suffix), median (_MEDI suffix) apartment size, common area, living area, age of building, number of elevators, number of entrances, state of the building, number of floor</span>"
      ],
      "text/plain": [
       "<IPython.core.display.HTML object>"
      ]
     },
     "metadata": {},
     "output_type": "display_data"
    },
    {
     "data": {
      "text/html": [
       "<b>LIVINGAREA_MEDI</b>: <span>Normalized information about building where the client lives, What is average (_AVG suffix), modus (_MODE suffix), median (_MEDI suffix) apartment size, common area, living area, age of building, number of elevators, number of entrances, state of the building, number of floor</span>"
      ],
      "text/plain": [
       "<IPython.core.display.HTML object>"
      ]
     },
     "metadata": {},
     "output_type": "display_data"
    },
    {
     "data": {
      "text/html": [
       "<b>NONLIVINGAPARTMENTS_MEDI</b>: <span>Normalized information about building where the client lives, What is average (_AVG suffix), modus (_MODE suffix), median (_MEDI suffix) apartment size, common area, living area, age of building, number of elevators, number of entrances, state of the building, number of floor</span>"
      ],
      "text/plain": [
       "<IPython.core.display.HTML object>"
      ]
     },
     "metadata": {},
     "output_type": "display_data"
    },
    {
     "data": {
      "text/html": [
       "<b>NONLIVINGAREA_MEDI</b>: <span>Normalized information about building where the client lives, What is average (_AVG suffix), modus (_MODE suffix), median (_MEDI suffix) apartment size, common area, living area, age of building, number of elevators, number of entrances, state of the building, number of floor</span>"
      ],
      "text/plain": [
       "<IPython.core.display.HTML object>"
      ]
     },
     "metadata": {},
     "output_type": "display_data"
    },
    {
     "data": {
      "text/html": [
       "<b>FONDKAPREMONT_MODE</b>: <span>Normalized information about building where the client lives, What is average (_AVG suffix), modus (_MODE suffix), median (_MEDI suffix) apartment size, common area, living area, age of building, number of elevators, number of entrances, state of the building, number of floor</span>"
      ],
      "text/plain": [
       "<IPython.core.display.HTML object>"
      ]
     },
     "metadata": {},
     "output_type": "display_data"
    },
    {
     "data": {
      "text/html": [
       "<b>HOUSETYPE_MODE</b>: <span>Normalized information about building where the client lives, What is average (_AVG suffix), modus (_MODE suffix), median (_MEDI suffix) apartment size, common area, living area, age of building, number of elevators, number of entrances, state of the building, number of floor</span>"
      ],
      "text/plain": [
       "<IPython.core.display.HTML object>"
      ]
     },
     "metadata": {},
     "output_type": "display_data"
    },
    {
     "data": {
      "text/html": [
       "<b>TOTALAREA_MODE</b>: <span>Normalized information about building where the client lives, What is average (_AVG suffix), modus (_MODE suffix), median (_MEDI suffix) apartment size, common area, living area, age of building, number of elevators, number of entrances, state of the building, number of floor</span>"
      ],
      "text/plain": [
       "<IPython.core.display.HTML object>"
      ]
     },
     "metadata": {},
     "output_type": "display_data"
    },
    {
     "data": {
      "text/html": [
       "<b>WALLSMATERIAL_MODE</b>: <span>Normalized information about building where the client lives, What is average (_AVG suffix), modus (_MODE suffix), median (_MEDI suffix) apartment size, common area, living area, age of building, number of elevators, number of entrances, state of the building, number of floor</span>"
      ],
      "text/plain": [
       "<IPython.core.display.HTML object>"
      ]
     },
     "metadata": {},
     "output_type": "display_data"
    },
    {
     "data": {
      "text/html": [
       "<b>EMERGENCYSTATE_MODE</b>: <span>Normalized information about building where the client lives, What is average (_AVG suffix), modus (_MODE suffix), median (_MEDI suffix) apartment size, common area, living area, age of building, number of elevators, number of entrances, state of the building, number of floor</span>"
      ],
      "text/plain": [
       "<IPython.core.display.HTML object>"
      ]
     },
     "metadata": {},
     "output_type": "display_data"
    },
    {
     "data": {
      "text/html": [
       "<b>OBS_30_CNT_SOCIAL_CIRCLE</b>: <span>How many observation of client's social surroundings with observable 30 DPD (days past due) default</span>"
      ],
      "text/plain": [
       "<IPython.core.display.HTML object>"
      ]
     },
     "metadata": {},
     "output_type": "display_data"
    },
    {
     "data": {
      "text/html": [
       "<b>DEF_30_CNT_SOCIAL_CIRCLE</b>: <span>How many observation of client's social surroundings defaulted on 30 DPD (days past due) </span>"
      ],
      "text/plain": [
       "<IPython.core.display.HTML object>"
      ]
     },
     "metadata": {},
     "output_type": "display_data"
    },
    {
     "data": {
      "text/html": [
       "<b>OBS_60_CNT_SOCIAL_CIRCLE</b>: <span>How many observation of client's social surroundings with observable 60 DPD (days past due) default</span>"
      ],
      "text/plain": [
       "<IPython.core.display.HTML object>"
      ]
     },
     "metadata": {},
     "output_type": "display_data"
    },
    {
     "data": {
      "text/html": [
       "<b>DEF_60_CNT_SOCIAL_CIRCLE</b>: <span>How many observation of client's social surroundings defaulted on 60 (days past due) DPD</span>"
      ],
      "text/plain": [
       "<IPython.core.display.HTML object>"
      ]
     },
     "metadata": {},
     "output_type": "display_data"
    },
    {
     "data": {
      "text/html": [
       "<b>DAYS_LAST_PHONE_CHANGE</b>: <span>How many days before application did client change phone</span>"
      ],
      "text/plain": [
       "<IPython.core.display.HTML object>"
      ]
     },
     "metadata": {},
     "output_type": "display_data"
    },
    {
     "data": {
      "text/html": [
       "<b>FLAG_DOCUMENT_2</b>: <span>Did client provide document 2</span>"
      ],
      "text/plain": [
       "<IPython.core.display.HTML object>"
      ]
     },
     "metadata": {},
     "output_type": "display_data"
    },
    {
     "data": {
      "text/html": [
       "<b>FLAG_DOCUMENT_3</b>: <span>Did client provide document 3</span>"
      ],
      "text/plain": [
       "<IPython.core.display.HTML object>"
      ]
     },
     "metadata": {},
     "output_type": "display_data"
    },
    {
     "data": {
      "text/html": [
       "<b>FLAG_DOCUMENT_4</b>: <span>Did client provide document 4</span>"
      ],
      "text/plain": [
       "<IPython.core.display.HTML object>"
      ]
     },
     "metadata": {},
     "output_type": "display_data"
    },
    {
     "data": {
      "text/html": [
       "<b>FLAG_DOCUMENT_5</b>: <span>Did client provide document 5</span>"
      ],
      "text/plain": [
       "<IPython.core.display.HTML object>"
      ]
     },
     "metadata": {},
     "output_type": "display_data"
    },
    {
     "data": {
      "text/html": [
       "<b>FLAG_DOCUMENT_6</b>: <span>Did client provide document 6</span>"
      ],
      "text/plain": [
       "<IPython.core.display.HTML object>"
      ]
     },
     "metadata": {},
     "output_type": "display_data"
    },
    {
     "data": {
      "text/html": [
       "<b>FLAG_DOCUMENT_7</b>: <span>Did client provide document 7</span>"
      ],
      "text/plain": [
       "<IPython.core.display.HTML object>"
      ]
     },
     "metadata": {},
     "output_type": "display_data"
    },
    {
     "data": {
      "text/html": [
       "<b>FLAG_DOCUMENT_8</b>: <span>Did client provide document 8</span>"
      ],
      "text/plain": [
       "<IPython.core.display.HTML object>"
      ]
     },
     "metadata": {},
     "output_type": "display_data"
    },
    {
     "data": {
      "text/html": [
       "<b>FLAG_DOCUMENT_9</b>: <span>Did client provide document 9</span>"
      ],
      "text/plain": [
       "<IPython.core.display.HTML object>"
      ]
     },
     "metadata": {},
     "output_type": "display_data"
    },
    {
     "data": {
      "text/html": [
       "<b>FLAG_DOCUMENT_10</b>: <span>Did client provide document 10</span>"
      ],
      "text/plain": [
       "<IPython.core.display.HTML object>"
      ]
     },
     "metadata": {},
     "output_type": "display_data"
    },
    {
     "data": {
      "text/html": [
       "<b>FLAG_DOCUMENT_11</b>: <span>Did client provide document 11</span>"
      ],
      "text/plain": [
       "<IPython.core.display.HTML object>"
      ]
     },
     "metadata": {},
     "output_type": "display_data"
    },
    {
     "data": {
      "text/html": [
       "<b>FLAG_DOCUMENT_12</b>: <span>Did client provide document 12</span>"
      ],
      "text/plain": [
       "<IPython.core.display.HTML object>"
      ]
     },
     "metadata": {},
     "output_type": "display_data"
    },
    {
     "data": {
      "text/html": [
       "<b>FLAG_DOCUMENT_13</b>: <span>Did client provide document 13</span>"
      ],
      "text/plain": [
       "<IPython.core.display.HTML object>"
      ]
     },
     "metadata": {},
     "output_type": "display_data"
    },
    {
     "data": {
      "text/html": [
       "<b>FLAG_DOCUMENT_14</b>: <span>Did client provide document 14</span>"
      ],
      "text/plain": [
       "<IPython.core.display.HTML object>"
      ]
     },
     "metadata": {},
     "output_type": "display_data"
    },
    {
     "data": {
      "text/html": [
       "<b>FLAG_DOCUMENT_15</b>: <span>Did client provide document 15</span>"
      ],
      "text/plain": [
       "<IPython.core.display.HTML object>"
      ]
     },
     "metadata": {},
     "output_type": "display_data"
    },
    {
     "data": {
      "text/html": [
       "<b>FLAG_DOCUMENT_16</b>: <span>Did client provide document 16</span>"
      ],
      "text/plain": [
       "<IPython.core.display.HTML object>"
      ]
     },
     "metadata": {},
     "output_type": "display_data"
    },
    {
     "data": {
      "text/html": [
       "<b>FLAG_DOCUMENT_17</b>: <span>Did client provide document 17</span>"
      ],
      "text/plain": [
       "<IPython.core.display.HTML object>"
      ]
     },
     "metadata": {},
     "output_type": "display_data"
    },
    {
     "data": {
      "text/html": [
       "<b>FLAG_DOCUMENT_18</b>: <span>Did client provide document 18</span>"
      ],
      "text/plain": [
       "<IPython.core.display.HTML object>"
      ]
     },
     "metadata": {},
     "output_type": "display_data"
    },
    {
     "data": {
      "text/html": [
       "<b>FLAG_DOCUMENT_19</b>: <span>Did client provide document 19</span>"
      ],
      "text/plain": [
       "<IPython.core.display.HTML object>"
      ]
     },
     "metadata": {},
     "output_type": "display_data"
    },
    {
     "data": {
      "text/html": [
       "<b>FLAG_DOCUMENT_20</b>: <span>Did client provide document 20</span>"
      ],
      "text/plain": [
       "<IPython.core.display.HTML object>"
      ]
     },
     "metadata": {},
     "output_type": "display_data"
    },
    {
     "data": {
      "text/html": [
       "<b>FLAG_DOCUMENT_21</b>: <span>Did client provide document 21</span>"
      ],
      "text/plain": [
       "<IPython.core.display.HTML object>"
      ]
     },
     "metadata": {},
     "output_type": "display_data"
    },
    {
     "data": {
      "text/html": [
       "<b>AMT_REQ_CREDIT_BUREAU_HOUR</b>: <span>Number of enquiries to Credit Bureau about the client one hour before application</span>"
      ],
      "text/plain": [
       "<IPython.core.display.HTML object>"
      ]
     },
     "metadata": {},
     "output_type": "display_data"
    },
    {
     "data": {
      "text/html": [
       "<b>AMT_REQ_CREDIT_BUREAU_DAY</b>: <span>Number of enquiries to Credit Bureau about the client one day before application (excluding one hour before application)</span>"
      ],
      "text/plain": [
       "<IPython.core.display.HTML object>"
      ]
     },
     "metadata": {},
     "output_type": "display_data"
    },
    {
     "data": {
      "text/html": [
       "<b>AMT_REQ_CREDIT_BUREAU_WEEK</b>: <span>Number of enquiries to Credit Bureau about the client one week before application (excluding one day before application)</span>"
      ],
      "text/plain": [
       "<IPython.core.display.HTML object>"
      ]
     },
     "metadata": {},
     "output_type": "display_data"
    },
    {
     "data": {
      "text/html": [
       "<b>AMT_REQ_CREDIT_BUREAU_MON</b>: <span>Number of enquiries to Credit Bureau about the client one month before application (excluding one week before application)</span>"
      ],
      "text/plain": [
       "<IPython.core.display.HTML object>"
      ]
     },
     "metadata": {},
     "output_type": "display_data"
    },
    {
     "data": {
      "text/html": [
       "<b>AMT_REQ_CREDIT_BUREAU_QRT</b>: <span>Number of enquiries to Credit Bureau about the client 3 month before application (excluding one month before application)</span>"
      ],
      "text/plain": [
       "<IPython.core.display.HTML object>"
      ]
     },
     "metadata": {},
     "output_type": "display_data"
    },
    {
     "data": {
      "text/html": [
       "<b>AMT_REQ_CREDIT_BUREAU_YEAR</b>: <span>Number of enquiries to Credit Bureau about the client one day year (excluding last 3 months before application)</span>"
      ],
      "text/plain": [
       "<IPython.core.display.HTML object>"
      ]
     },
     "metadata": {},
     "output_type": "display_data"
    }
   ],
   "source": [
    "for column in train.columns:\n",
    "    display(HTML(f\"<b>{column}</b>: <span>{Descrip[Descrip['Row'] == column]['Description'].iloc[0]}</span>\"))"
   ]
  },
  {
   "cell_type": "code",
   "execution_count": 43,
   "id": "eastern-philippines",
   "metadata": {
    "colab": {
     "base_uri": "https://localhost:8080/",
     "height": 346
    },
    "executionInfo": {
     "elapsed": 4531,
     "status": "ok",
     "timestamp": 1616856692003,
     "user": {
      "displayName": "Daniil Timachov",
      "photoUrl": "https://lh3.googleusercontent.com/a-/AOh14Ghk9scaQ0ydio6b7V2_t9-wRiT1cNGLcyCL07wR=s64",
      "userId": "00279435974685972614"
     },
     "user_tz": -120
    },
    "id": "naughty-sitting",
    "outputId": "08be1c5a-97a4-4596-8ee9-6282d00c7b66"
   },
   "outputs": [
    {
     "data": {
      "text/html": [
       "<div>\n",
       "<style scoped>\n",
       "    .dataframe tbody tr th:only-of-type {\n",
       "        vertical-align: middle;\n",
       "    }\n",
       "\n",
       "    .dataframe tbody tr th {\n",
       "        vertical-align: top;\n",
       "    }\n",
       "\n",
       "    .dataframe thead th {\n",
       "        text-align: right;\n",
       "    }\n",
       "</style>\n",
       "<table border=\"1\" class=\"dataframe\">\n",
       "  <thead>\n",
       "    <tr style=\"text-align: right;\">\n",
       "      <th></th>\n",
       "      <th>SK_ID_CURR</th>\n",
       "      <th>TARGET</th>\n",
       "      <th>CNT_CHILDREN</th>\n",
       "      <th>AMT_INCOME_TOTAL</th>\n",
       "      <th>AMT_CREDIT</th>\n",
       "      <th>AMT_ANNUITY</th>\n",
       "      <th>AMT_GOODS_PRICE</th>\n",
       "      <th>REGION_POPULATION_RELATIVE</th>\n",
       "      <th>DAYS_BIRTH</th>\n",
       "      <th>DAYS_EMPLOYED</th>\n",
       "      <th>...</th>\n",
       "      <th>FLAG_DOCUMENT_18</th>\n",
       "      <th>FLAG_DOCUMENT_19</th>\n",
       "      <th>FLAG_DOCUMENT_20</th>\n",
       "      <th>FLAG_DOCUMENT_21</th>\n",
       "      <th>AMT_REQ_CREDIT_BUREAU_HOUR</th>\n",
       "      <th>AMT_REQ_CREDIT_BUREAU_DAY</th>\n",
       "      <th>AMT_REQ_CREDIT_BUREAU_WEEK</th>\n",
       "      <th>AMT_REQ_CREDIT_BUREAU_MON</th>\n",
       "      <th>AMT_REQ_CREDIT_BUREAU_QRT</th>\n",
       "      <th>AMT_REQ_CREDIT_BUREAU_YEAR</th>\n",
       "    </tr>\n",
       "  </thead>\n",
       "  <tbody>\n",
       "    <tr>\n",
       "      <th>count</th>\n",
       "      <td>307511.000000</td>\n",
       "      <td>307511.000000</td>\n",
       "      <td>307511.000000</td>\n",
       "      <td>3.075110e+05</td>\n",
       "      <td>3.075110e+05</td>\n",
       "      <td>307499.000000</td>\n",
       "      <td>3.072330e+05</td>\n",
       "      <td>307511.000000</td>\n",
       "      <td>307511.000000</td>\n",
       "      <td>307511.000000</td>\n",
       "      <td>...</td>\n",
       "      <td>307511.000000</td>\n",
       "      <td>307511.000000</td>\n",
       "      <td>307511.000000</td>\n",
       "      <td>307511.000000</td>\n",
       "      <td>265992.000000</td>\n",
       "      <td>265992.000000</td>\n",
       "      <td>265992.000000</td>\n",
       "      <td>265992.000000</td>\n",
       "      <td>265992.000000</td>\n",
       "      <td>265992.000000</td>\n",
       "    </tr>\n",
       "    <tr>\n",
       "      <th>mean</th>\n",
       "      <td>278180.518577</td>\n",
       "      <td>0.080729</td>\n",
       "      <td>0.417052</td>\n",
       "      <td>1.687979e+05</td>\n",
       "      <td>5.990260e+05</td>\n",
       "      <td>27108.573909</td>\n",
       "      <td>5.383962e+05</td>\n",
       "      <td>0.020868</td>\n",
       "      <td>-16036.995067</td>\n",
       "      <td>63815.045904</td>\n",
       "      <td>...</td>\n",
       "      <td>0.008130</td>\n",
       "      <td>0.000595</td>\n",
       "      <td>0.000507</td>\n",
       "      <td>0.000335</td>\n",
       "      <td>0.006402</td>\n",
       "      <td>0.007000</td>\n",
       "      <td>0.034362</td>\n",
       "      <td>0.267395</td>\n",
       "      <td>0.265474</td>\n",
       "      <td>1.899974</td>\n",
       "    </tr>\n",
       "    <tr>\n",
       "      <th>std</th>\n",
       "      <td>102790.175348</td>\n",
       "      <td>0.272419</td>\n",
       "      <td>0.722121</td>\n",
       "      <td>2.371231e+05</td>\n",
       "      <td>4.024908e+05</td>\n",
       "      <td>14493.737315</td>\n",
       "      <td>3.694465e+05</td>\n",
       "      <td>0.013831</td>\n",
       "      <td>4363.988632</td>\n",
       "      <td>141275.766519</td>\n",
       "      <td>...</td>\n",
       "      <td>0.089798</td>\n",
       "      <td>0.024387</td>\n",
       "      <td>0.022518</td>\n",
       "      <td>0.018299</td>\n",
       "      <td>0.083849</td>\n",
       "      <td>0.110757</td>\n",
       "      <td>0.204685</td>\n",
       "      <td>0.916002</td>\n",
       "      <td>0.794056</td>\n",
       "      <td>1.869295</td>\n",
       "    </tr>\n",
       "    <tr>\n",
       "      <th>min</th>\n",
       "      <td>100002.000000</td>\n",
       "      <td>0.000000</td>\n",
       "      <td>0.000000</td>\n",
       "      <td>2.565000e+04</td>\n",
       "      <td>4.500000e+04</td>\n",
       "      <td>1615.500000</td>\n",
       "      <td>4.050000e+04</td>\n",
       "      <td>0.000290</td>\n",
       "      <td>-25229.000000</td>\n",
       "      <td>-17912.000000</td>\n",
       "      <td>...</td>\n",
       "      <td>0.000000</td>\n",
       "      <td>0.000000</td>\n",
       "      <td>0.000000</td>\n",
       "      <td>0.000000</td>\n",
       "      <td>0.000000</td>\n",
       "      <td>0.000000</td>\n",
       "      <td>0.000000</td>\n",
       "      <td>0.000000</td>\n",
       "      <td>0.000000</td>\n",
       "      <td>0.000000</td>\n",
       "    </tr>\n",
       "    <tr>\n",
       "      <th>25%</th>\n",
       "      <td>189145.500000</td>\n",
       "      <td>0.000000</td>\n",
       "      <td>0.000000</td>\n",
       "      <td>1.125000e+05</td>\n",
       "      <td>2.700000e+05</td>\n",
       "      <td>16524.000000</td>\n",
       "      <td>2.385000e+05</td>\n",
       "      <td>0.010006</td>\n",
       "      <td>-19682.000000</td>\n",
       "      <td>-2760.000000</td>\n",
       "      <td>...</td>\n",
       "      <td>0.000000</td>\n",
       "      <td>0.000000</td>\n",
       "      <td>0.000000</td>\n",
       "      <td>0.000000</td>\n",
       "      <td>0.000000</td>\n",
       "      <td>0.000000</td>\n",
       "      <td>0.000000</td>\n",
       "      <td>0.000000</td>\n",
       "      <td>0.000000</td>\n",
       "      <td>0.000000</td>\n",
       "    </tr>\n",
       "    <tr>\n",
       "      <th>50%</th>\n",
       "      <td>278202.000000</td>\n",
       "      <td>0.000000</td>\n",
       "      <td>0.000000</td>\n",
       "      <td>1.471500e+05</td>\n",
       "      <td>5.135310e+05</td>\n",
       "      <td>24903.000000</td>\n",
       "      <td>4.500000e+05</td>\n",
       "      <td>0.018850</td>\n",
       "      <td>-15750.000000</td>\n",
       "      <td>-1213.000000</td>\n",
       "      <td>...</td>\n",
       "      <td>0.000000</td>\n",
       "      <td>0.000000</td>\n",
       "      <td>0.000000</td>\n",
       "      <td>0.000000</td>\n",
       "      <td>0.000000</td>\n",
       "      <td>0.000000</td>\n",
       "      <td>0.000000</td>\n",
       "      <td>0.000000</td>\n",
       "      <td>0.000000</td>\n",
       "      <td>1.000000</td>\n",
       "    </tr>\n",
       "    <tr>\n",
       "      <th>75%</th>\n",
       "      <td>367142.500000</td>\n",
       "      <td>0.000000</td>\n",
       "      <td>1.000000</td>\n",
       "      <td>2.025000e+05</td>\n",
       "      <td>8.086500e+05</td>\n",
       "      <td>34596.000000</td>\n",
       "      <td>6.795000e+05</td>\n",
       "      <td>0.028663</td>\n",
       "      <td>-12413.000000</td>\n",
       "      <td>-289.000000</td>\n",
       "      <td>...</td>\n",
       "      <td>0.000000</td>\n",
       "      <td>0.000000</td>\n",
       "      <td>0.000000</td>\n",
       "      <td>0.000000</td>\n",
       "      <td>0.000000</td>\n",
       "      <td>0.000000</td>\n",
       "      <td>0.000000</td>\n",
       "      <td>0.000000</td>\n",
       "      <td>0.000000</td>\n",
       "      <td>3.000000</td>\n",
       "    </tr>\n",
       "    <tr>\n",
       "      <th>max</th>\n",
       "      <td>456255.000000</td>\n",
       "      <td>1.000000</td>\n",
       "      <td>19.000000</td>\n",
       "      <td>1.170000e+08</td>\n",
       "      <td>4.050000e+06</td>\n",
       "      <td>258025.500000</td>\n",
       "      <td>4.050000e+06</td>\n",
       "      <td>0.072508</td>\n",
       "      <td>-7489.000000</td>\n",
       "      <td>365243.000000</td>\n",
       "      <td>...</td>\n",
       "      <td>1.000000</td>\n",
       "      <td>1.000000</td>\n",
       "      <td>1.000000</td>\n",
       "      <td>1.000000</td>\n",
       "      <td>4.000000</td>\n",
       "      <td>9.000000</td>\n",
       "      <td>8.000000</td>\n",
       "      <td>27.000000</td>\n",
       "      <td>261.000000</td>\n",
       "      <td>25.000000</td>\n",
       "    </tr>\n",
       "  </tbody>\n",
       "</table>\n",
       "<p>8 rows × 106 columns</p>\n",
       "</div>"
      ],
      "text/plain": [
       "          SK_ID_CURR         TARGET   CNT_CHILDREN  AMT_INCOME_TOTAL  \\\n",
       "count  307511.000000  307511.000000  307511.000000      3.075110e+05   \n",
       "mean   278180.518577       0.080729       0.417052      1.687979e+05   \n",
       "std    102790.175348       0.272419       0.722121      2.371231e+05   \n",
       "min    100002.000000       0.000000       0.000000      2.565000e+04   \n",
       "25%    189145.500000       0.000000       0.000000      1.125000e+05   \n",
       "50%    278202.000000       0.000000       0.000000      1.471500e+05   \n",
       "75%    367142.500000       0.000000       1.000000      2.025000e+05   \n",
       "max    456255.000000       1.000000      19.000000      1.170000e+08   \n",
       "\n",
       "         AMT_CREDIT    AMT_ANNUITY  AMT_GOODS_PRICE  \\\n",
       "count  3.075110e+05  307499.000000     3.072330e+05   \n",
       "mean   5.990260e+05   27108.573909     5.383962e+05   \n",
       "std    4.024908e+05   14493.737315     3.694465e+05   \n",
       "min    4.500000e+04    1615.500000     4.050000e+04   \n",
       "25%    2.700000e+05   16524.000000     2.385000e+05   \n",
       "50%    5.135310e+05   24903.000000     4.500000e+05   \n",
       "75%    8.086500e+05   34596.000000     6.795000e+05   \n",
       "max    4.050000e+06  258025.500000     4.050000e+06   \n",
       "\n",
       "       REGION_POPULATION_RELATIVE     DAYS_BIRTH  DAYS_EMPLOYED  ...  \\\n",
       "count               307511.000000  307511.000000  307511.000000  ...   \n",
       "mean                     0.020868  -16036.995067   63815.045904  ...   \n",
       "std                      0.013831    4363.988632  141275.766519  ...   \n",
       "min                      0.000290  -25229.000000  -17912.000000  ...   \n",
       "25%                      0.010006  -19682.000000   -2760.000000  ...   \n",
       "50%                      0.018850  -15750.000000   -1213.000000  ...   \n",
       "75%                      0.028663  -12413.000000    -289.000000  ...   \n",
       "max                      0.072508   -7489.000000  365243.000000  ...   \n",
       "\n",
       "       FLAG_DOCUMENT_18  FLAG_DOCUMENT_19  FLAG_DOCUMENT_20  FLAG_DOCUMENT_21  \\\n",
       "count     307511.000000     307511.000000     307511.000000     307511.000000   \n",
       "mean           0.008130          0.000595          0.000507          0.000335   \n",
       "std            0.089798          0.024387          0.022518          0.018299   \n",
       "min            0.000000          0.000000          0.000000          0.000000   \n",
       "25%            0.000000          0.000000          0.000000          0.000000   \n",
       "50%            0.000000          0.000000          0.000000          0.000000   \n",
       "75%            0.000000          0.000000          0.000000          0.000000   \n",
       "max            1.000000          1.000000          1.000000          1.000000   \n",
       "\n",
       "       AMT_REQ_CREDIT_BUREAU_HOUR  AMT_REQ_CREDIT_BUREAU_DAY  \\\n",
       "count               265992.000000              265992.000000   \n",
       "mean                     0.006402                   0.007000   \n",
       "std                      0.083849                   0.110757   \n",
       "min                      0.000000                   0.000000   \n",
       "25%                      0.000000                   0.000000   \n",
       "50%                      0.000000                   0.000000   \n",
       "75%                      0.000000                   0.000000   \n",
       "max                      4.000000                   9.000000   \n",
       "\n",
       "       AMT_REQ_CREDIT_BUREAU_WEEK  AMT_REQ_CREDIT_BUREAU_MON  \\\n",
       "count               265992.000000              265992.000000   \n",
       "mean                     0.034362                   0.267395   \n",
       "std                      0.204685                   0.916002   \n",
       "min                      0.000000                   0.000000   \n",
       "25%                      0.000000                   0.000000   \n",
       "50%                      0.000000                   0.000000   \n",
       "75%                      0.000000                   0.000000   \n",
       "max                      8.000000                  27.000000   \n",
       "\n",
       "       AMT_REQ_CREDIT_BUREAU_QRT  AMT_REQ_CREDIT_BUREAU_YEAR  \n",
       "count              265992.000000               265992.000000  \n",
       "mean                    0.265474                    1.899974  \n",
       "std                     0.794056                    1.869295  \n",
       "min                     0.000000                    0.000000  \n",
       "25%                     0.000000                    0.000000  \n",
       "50%                     0.000000                    1.000000  \n",
       "75%                     0.000000                    3.000000  \n",
       "max                   261.000000                   25.000000  \n",
       "\n",
       "[8 rows x 106 columns]"
      ]
     },
     "execution_count": 43,
     "metadata": {},
     "output_type": "execute_result"
    }
   ],
   "source": [
    "#статистика, count - кількість значень, mean - середнє, std - середнє відхилення\n",
    "train.describe()"
   ]
  },
  {
   "cell_type": "code",
   "execution_count": 44,
   "id": "floating-galaxy",
   "metadata": {
    "colab": {
     "base_uri": "https://localhost:8080/",
     "height": 346
    },
    "executionInfo": {
     "elapsed": 4524,
     "status": "ok",
     "timestamp": 1616856692007,
     "user": {
      "displayName": "Daniil Timachov",
      "photoUrl": "https://lh3.googleusercontent.com/a-/AOh14Ghk9scaQ0ydio6b7V2_t9-wRiT1cNGLcyCL07wR=s64",
      "userId": "00279435974685972614"
     },
     "user_tz": -120
    },
    "id": "brilliant-number",
    "outputId": "df36e594-036a-4ac7-e402-46d3f70253f7"
   },
   "outputs": [
    {
     "data": {
      "text/html": [
       "<div>\n",
       "<style scoped>\n",
       "    .dataframe tbody tr th:only-of-type {\n",
       "        vertical-align: middle;\n",
       "    }\n",
       "\n",
       "    .dataframe tbody tr th {\n",
       "        vertical-align: top;\n",
       "    }\n",
       "\n",
       "    .dataframe thead th {\n",
       "        text-align: right;\n",
       "    }\n",
       "</style>\n",
       "<table border=\"1\" class=\"dataframe\">\n",
       "  <thead>\n",
       "    <tr style=\"text-align: right;\">\n",
       "      <th></th>\n",
       "      <th>SK_ID_CURR</th>\n",
       "      <th>CNT_CHILDREN</th>\n",
       "      <th>AMT_INCOME_TOTAL</th>\n",
       "      <th>AMT_CREDIT</th>\n",
       "      <th>AMT_ANNUITY</th>\n",
       "      <th>AMT_GOODS_PRICE</th>\n",
       "      <th>REGION_POPULATION_RELATIVE</th>\n",
       "      <th>DAYS_BIRTH</th>\n",
       "      <th>DAYS_EMPLOYED</th>\n",
       "      <th>DAYS_REGISTRATION</th>\n",
       "      <th>...</th>\n",
       "      <th>FLAG_DOCUMENT_18</th>\n",
       "      <th>FLAG_DOCUMENT_19</th>\n",
       "      <th>FLAG_DOCUMENT_20</th>\n",
       "      <th>FLAG_DOCUMENT_21</th>\n",
       "      <th>AMT_REQ_CREDIT_BUREAU_HOUR</th>\n",
       "      <th>AMT_REQ_CREDIT_BUREAU_DAY</th>\n",
       "      <th>AMT_REQ_CREDIT_BUREAU_WEEK</th>\n",
       "      <th>AMT_REQ_CREDIT_BUREAU_MON</th>\n",
       "      <th>AMT_REQ_CREDIT_BUREAU_QRT</th>\n",
       "      <th>AMT_REQ_CREDIT_BUREAU_YEAR</th>\n",
       "    </tr>\n",
       "  </thead>\n",
       "  <tbody>\n",
       "    <tr>\n",
       "      <th>count</th>\n",
       "      <td>48744.000000</td>\n",
       "      <td>48744.000000</td>\n",
       "      <td>4.874400e+04</td>\n",
       "      <td>4.874400e+04</td>\n",
       "      <td>48720.000000</td>\n",
       "      <td>4.874400e+04</td>\n",
       "      <td>48744.000000</td>\n",
       "      <td>48744.000000</td>\n",
       "      <td>48744.000000</td>\n",
       "      <td>48744.000000</td>\n",
       "      <td>...</td>\n",
       "      <td>48744.000000</td>\n",
       "      <td>48744.0</td>\n",
       "      <td>48744.0</td>\n",
       "      <td>48744.0</td>\n",
       "      <td>42695.000000</td>\n",
       "      <td>42695.000000</td>\n",
       "      <td>42695.000000</td>\n",
       "      <td>42695.000000</td>\n",
       "      <td>42695.000000</td>\n",
       "      <td>42695.000000</td>\n",
       "    </tr>\n",
       "    <tr>\n",
       "      <th>mean</th>\n",
       "      <td>277796.676350</td>\n",
       "      <td>0.397054</td>\n",
       "      <td>1.784318e+05</td>\n",
       "      <td>5.167404e+05</td>\n",
       "      <td>29426.240209</td>\n",
       "      <td>4.626188e+05</td>\n",
       "      <td>0.021226</td>\n",
       "      <td>-16068.084605</td>\n",
       "      <td>67485.366322</td>\n",
       "      <td>-4967.652716</td>\n",
       "      <td>...</td>\n",
       "      <td>0.001559</td>\n",
       "      <td>0.0</td>\n",
       "      <td>0.0</td>\n",
       "      <td>0.0</td>\n",
       "      <td>0.002108</td>\n",
       "      <td>0.001803</td>\n",
       "      <td>0.002787</td>\n",
       "      <td>0.009299</td>\n",
       "      <td>0.546902</td>\n",
       "      <td>1.983769</td>\n",
       "    </tr>\n",
       "    <tr>\n",
       "      <th>std</th>\n",
       "      <td>103169.547296</td>\n",
       "      <td>0.709047</td>\n",
       "      <td>1.015226e+05</td>\n",
       "      <td>3.653970e+05</td>\n",
       "      <td>16016.368315</td>\n",
       "      <td>3.367102e+05</td>\n",
       "      <td>0.014428</td>\n",
       "      <td>4325.900393</td>\n",
       "      <td>144348.507136</td>\n",
       "      <td>3552.612035</td>\n",
       "      <td>...</td>\n",
       "      <td>0.039456</td>\n",
       "      <td>0.0</td>\n",
       "      <td>0.0</td>\n",
       "      <td>0.0</td>\n",
       "      <td>0.046373</td>\n",
       "      <td>0.046132</td>\n",
       "      <td>0.054037</td>\n",
       "      <td>0.110924</td>\n",
       "      <td>0.693305</td>\n",
       "      <td>1.838873</td>\n",
       "    </tr>\n",
       "    <tr>\n",
       "      <th>min</th>\n",
       "      <td>100001.000000</td>\n",
       "      <td>0.000000</td>\n",
       "      <td>2.694150e+04</td>\n",
       "      <td>4.500000e+04</td>\n",
       "      <td>2295.000000</td>\n",
       "      <td>4.500000e+04</td>\n",
       "      <td>0.000253</td>\n",
       "      <td>-25195.000000</td>\n",
       "      <td>-17463.000000</td>\n",
       "      <td>-23722.000000</td>\n",
       "      <td>...</td>\n",
       "      <td>0.000000</td>\n",
       "      <td>0.0</td>\n",
       "      <td>0.0</td>\n",
       "      <td>0.0</td>\n",
       "      <td>0.000000</td>\n",
       "      <td>0.000000</td>\n",
       "      <td>0.000000</td>\n",
       "      <td>0.000000</td>\n",
       "      <td>0.000000</td>\n",
       "      <td>0.000000</td>\n",
       "    </tr>\n",
       "    <tr>\n",
       "      <th>25%</th>\n",
       "      <td>188557.750000</td>\n",
       "      <td>0.000000</td>\n",
       "      <td>1.125000e+05</td>\n",
       "      <td>2.606400e+05</td>\n",
       "      <td>17973.000000</td>\n",
       "      <td>2.250000e+05</td>\n",
       "      <td>0.010006</td>\n",
       "      <td>-19637.000000</td>\n",
       "      <td>-2910.000000</td>\n",
       "      <td>-7459.250000</td>\n",
       "      <td>...</td>\n",
       "      <td>0.000000</td>\n",
       "      <td>0.0</td>\n",
       "      <td>0.0</td>\n",
       "      <td>0.0</td>\n",
       "      <td>0.000000</td>\n",
       "      <td>0.000000</td>\n",
       "      <td>0.000000</td>\n",
       "      <td>0.000000</td>\n",
       "      <td>0.000000</td>\n",
       "      <td>0.000000</td>\n",
       "    </tr>\n",
       "    <tr>\n",
       "      <th>50%</th>\n",
       "      <td>277549.000000</td>\n",
       "      <td>0.000000</td>\n",
       "      <td>1.575000e+05</td>\n",
       "      <td>4.500000e+05</td>\n",
       "      <td>26199.000000</td>\n",
       "      <td>3.960000e+05</td>\n",
       "      <td>0.018850</td>\n",
       "      <td>-15785.000000</td>\n",
       "      <td>-1293.000000</td>\n",
       "      <td>-4490.000000</td>\n",
       "      <td>...</td>\n",
       "      <td>0.000000</td>\n",
       "      <td>0.0</td>\n",
       "      <td>0.0</td>\n",
       "      <td>0.0</td>\n",
       "      <td>0.000000</td>\n",
       "      <td>0.000000</td>\n",
       "      <td>0.000000</td>\n",
       "      <td>0.000000</td>\n",
       "      <td>0.000000</td>\n",
       "      <td>2.000000</td>\n",
       "    </tr>\n",
       "    <tr>\n",
       "      <th>75%</th>\n",
       "      <td>367555.500000</td>\n",
       "      <td>1.000000</td>\n",
       "      <td>2.250000e+05</td>\n",
       "      <td>6.750000e+05</td>\n",
       "      <td>37390.500000</td>\n",
       "      <td>6.300000e+05</td>\n",
       "      <td>0.028663</td>\n",
       "      <td>-12496.000000</td>\n",
       "      <td>-296.000000</td>\n",
       "      <td>-1901.000000</td>\n",
       "      <td>...</td>\n",
       "      <td>0.000000</td>\n",
       "      <td>0.0</td>\n",
       "      <td>0.0</td>\n",
       "      <td>0.0</td>\n",
       "      <td>0.000000</td>\n",
       "      <td>0.000000</td>\n",
       "      <td>0.000000</td>\n",
       "      <td>0.000000</td>\n",
       "      <td>1.000000</td>\n",
       "      <td>3.000000</td>\n",
       "    </tr>\n",
       "    <tr>\n",
       "      <th>max</th>\n",
       "      <td>456250.000000</td>\n",
       "      <td>20.000000</td>\n",
       "      <td>4.410000e+06</td>\n",
       "      <td>2.245500e+06</td>\n",
       "      <td>180576.000000</td>\n",
       "      <td>2.245500e+06</td>\n",
       "      <td>0.072508</td>\n",
       "      <td>-7338.000000</td>\n",
       "      <td>365243.000000</td>\n",
       "      <td>0.000000</td>\n",
       "      <td>...</td>\n",
       "      <td>1.000000</td>\n",
       "      <td>0.0</td>\n",
       "      <td>0.0</td>\n",
       "      <td>0.0</td>\n",
       "      <td>2.000000</td>\n",
       "      <td>2.000000</td>\n",
       "      <td>2.000000</td>\n",
       "      <td>6.000000</td>\n",
       "      <td>7.000000</td>\n",
       "      <td>17.000000</td>\n",
       "    </tr>\n",
       "  </tbody>\n",
       "</table>\n",
       "<p>8 rows × 105 columns</p>\n",
       "</div>"
      ],
      "text/plain": [
       "          SK_ID_CURR  CNT_CHILDREN  AMT_INCOME_TOTAL    AMT_CREDIT  \\\n",
       "count   48744.000000  48744.000000      4.874400e+04  4.874400e+04   \n",
       "mean   277796.676350      0.397054      1.784318e+05  5.167404e+05   \n",
       "std    103169.547296      0.709047      1.015226e+05  3.653970e+05   \n",
       "min    100001.000000      0.000000      2.694150e+04  4.500000e+04   \n",
       "25%    188557.750000      0.000000      1.125000e+05  2.606400e+05   \n",
       "50%    277549.000000      0.000000      1.575000e+05  4.500000e+05   \n",
       "75%    367555.500000      1.000000      2.250000e+05  6.750000e+05   \n",
       "max    456250.000000     20.000000      4.410000e+06  2.245500e+06   \n",
       "\n",
       "         AMT_ANNUITY  AMT_GOODS_PRICE  REGION_POPULATION_RELATIVE  \\\n",
       "count   48720.000000     4.874400e+04                48744.000000   \n",
       "mean    29426.240209     4.626188e+05                    0.021226   \n",
       "std     16016.368315     3.367102e+05                    0.014428   \n",
       "min      2295.000000     4.500000e+04                    0.000253   \n",
       "25%     17973.000000     2.250000e+05                    0.010006   \n",
       "50%     26199.000000     3.960000e+05                    0.018850   \n",
       "75%     37390.500000     6.300000e+05                    0.028663   \n",
       "max    180576.000000     2.245500e+06                    0.072508   \n",
       "\n",
       "         DAYS_BIRTH  DAYS_EMPLOYED  DAYS_REGISTRATION  ...  FLAG_DOCUMENT_18  \\\n",
       "count  48744.000000   48744.000000       48744.000000  ...      48744.000000   \n",
       "mean  -16068.084605   67485.366322       -4967.652716  ...          0.001559   \n",
       "std     4325.900393  144348.507136        3552.612035  ...          0.039456   \n",
       "min   -25195.000000  -17463.000000      -23722.000000  ...          0.000000   \n",
       "25%   -19637.000000   -2910.000000       -7459.250000  ...          0.000000   \n",
       "50%   -15785.000000   -1293.000000       -4490.000000  ...          0.000000   \n",
       "75%   -12496.000000    -296.000000       -1901.000000  ...          0.000000   \n",
       "max    -7338.000000  365243.000000           0.000000  ...          1.000000   \n",
       "\n",
       "       FLAG_DOCUMENT_19  FLAG_DOCUMENT_20  FLAG_DOCUMENT_21  \\\n",
       "count           48744.0           48744.0           48744.0   \n",
       "mean                0.0               0.0               0.0   \n",
       "std                 0.0               0.0               0.0   \n",
       "min                 0.0               0.0               0.0   \n",
       "25%                 0.0               0.0               0.0   \n",
       "50%                 0.0               0.0               0.0   \n",
       "75%                 0.0               0.0               0.0   \n",
       "max                 0.0               0.0               0.0   \n",
       "\n",
       "       AMT_REQ_CREDIT_BUREAU_HOUR  AMT_REQ_CREDIT_BUREAU_DAY  \\\n",
       "count                42695.000000               42695.000000   \n",
       "mean                     0.002108                   0.001803   \n",
       "std                      0.046373                   0.046132   \n",
       "min                      0.000000                   0.000000   \n",
       "25%                      0.000000                   0.000000   \n",
       "50%                      0.000000                   0.000000   \n",
       "75%                      0.000000                   0.000000   \n",
       "max                      2.000000                   2.000000   \n",
       "\n",
       "       AMT_REQ_CREDIT_BUREAU_WEEK  AMT_REQ_CREDIT_BUREAU_MON  \\\n",
       "count                42695.000000               42695.000000   \n",
       "mean                     0.002787                   0.009299   \n",
       "std                      0.054037                   0.110924   \n",
       "min                      0.000000                   0.000000   \n",
       "25%                      0.000000                   0.000000   \n",
       "50%                      0.000000                   0.000000   \n",
       "75%                      0.000000                   0.000000   \n",
       "max                      2.000000                   6.000000   \n",
       "\n",
       "       AMT_REQ_CREDIT_BUREAU_QRT  AMT_REQ_CREDIT_BUREAU_YEAR  \n",
       "count               42695.000000                42695.000000  \n",
       "mean                    0.546902                    1.983769  \n",
       "std                     0.693305                    1.838873  \n",
       "min                     0.000000                    0.000000  \n",
       "25%                     0.000000                    0.000000  \n",
       "50%                     0.000000                    2.000000  \n",
       "75%                     1.000000                    3.000000  \n",
       "max                     7.000000                   17.000000  \n",
       "\n",
       "[8 rows x 105 columns]"
      ]
     },
     "execution_count": 44,
     "metadata": {},
     "output_type": "execute_result"
    }
   ],
   "source": [
    "#порівнюємо з тестовими даними, найважливіші тут meam та std, відрізняються не суттєво\n",
    "test.describe()"
   ]
  },
  {
   "cell_type": "markdown",
   "id": "legitimate-columbus",
   "metadata": {
    "id": "communist-tomorrow"
   },
   "source": [
    "## Put NaN new value"
   ]
  },
  {
   "cell_type": "code",
   "execution_count": 45,
   "id": "annoying-homework",
   "metadata": {
    "colab": {
     "base_uri": "https://localhost:8080/",
     "height": 524
    },
    "executionInfo": {
     "elapsed": 4514,
     "status": "ok",
     "timestamp": 1616856692009,
     "user": {
      "displayName": "Daniil Timachov",
      "photoUrl": "https://lh3.googleusercontent.com/a-/AOh14Ghk9scaQ0ydio6b7V2_t9-wRiT1cNGLcyCL07wR=s64",
      "userId": "00279435974685972614"
     },
     "user_tz": -120
    },
    "id": "substantial-industry",
    "outputId": "84c35f60-a517-4630-9baf-67baf2d40bf2"
   },
   "outputs": [
    {
     "name": "stderr",
     "output_type": "stream",
     "text": [
      "<ipython-input-45-fe8eb0b5237f>:9: SettingWithCopyWarning: \n",
      "A value is trying to be set on a copy of a slice from a DataFrame\n",
      "\n",
      "See the caveats in the documentation: https://pandas.pydata.org/pandas-docs/stable/user_guide/indexing.html#returning-a-view-versus-a-copy\n",
      "  NanNewValue['NAN_value'][col] = NAN_value\n"
     ]
    },
    {
     "data": {
      "text/html": [
       "<div>\n",
       "<style scoped>\n",
       "    .dataframe tbody tr th:only-of-type {\n",
       "        vertical-align: middle;\n",
       "    }\n",
       "\n",
       "    .dataframe tbody tr th {\n",
       "        vertical-align: top;\n",
       "    }\n",
       "\n",
       "    .dataframe thead th {\n",
       "        text-align: right;\n",
       "    }\n",
       "</style>\n",
       "<table border=\"1\" class=\"dataframe\">\n",
       "  <thead>\n",
       "    <tr style=\"text-align: right;\">\n",
       "      <th></th>\n",
       "      <th>column</th>\n",
       "      <th>NAN_value</th>\n",
       "    </tr>\n",
       "  </thead>\n",
       "  <tbody>\n",
       "    <tr>\n",
       "      <th>0</th>\n",
       "      <td>SK_ID_CURR</td>\n",
       "      <td>0</td>\n",
       "    </tr>\n",
       "    <tr>\n",
       "      <th>1</th>\n",
       "      <td>TARGET</td>\n",
       "      <td>0</td>\n",
       "    </tr>\n",
       "    <tr>\n",
       "      <th>2</th>\n",
       "      <td>NAME_CONTRACT_TYPE</td>\n",
       "      <td>0</td>\n",
       "    </tr>\n",
       "    <tr>\n",
       "      <th>3</th>\n",
       "      <td>CODE_GENDER</td>\n",
       "      <td>0</td>\n",
       "    </tr>\n",
       "    <tr>\n",
       "      <th>4</th>\n",
       "      <td>FLAG_OWN_CAR</td>\n",
       "      <td>0</td>\n",
       "    </tr>\n",
       "    <tr>\n",
       "      <th>...</th>\n",
       "      <td>...</td>\n",
       "      <td>...</td>\n",
       "    </tr>\n",
       "    <tr>\n",
       "      <th>117</th>\n",
       "      <td>AMT_REQ_CREDIT_BUREAU_DAY</td>\n",
       "      <td>0</td>\n",
       "    </tr>\n",
       "    <tr>\n",
       "      <th>118</th>\n",
       "      <td>AMT_REQ_CREDIT_BUREAU_WEEK</td>\n",
       "      <td>0</td>\n",
       "    </tr>\n",
       "    <tr>\n",
       "      <th>119</th>\n",
       "      <td>AMT_REQ_CREDIT_BUREAU_MON</td>\n",
       "      <td>0</td>\n",
       "    </tr>\n",
       "    <tr>\n",
       "      <th>120</th>\n",
       "      <td>AMT_REQ_CREDIT_BUREAU_QRT</td>\n",
       "      <td>0</td>\n",
       "    </tr>\n",
       "    <tr>\n",
       "      <th>121</th>\n",
       "      <td>AMT_REQ_CREDIT_BUREAU_YEAR</td>\n",
       "      <td>0</td>\n",
       "    </tr>\n",
       "  </tbody>\n",
       "</table>\n",
       "<p>122 rows × 2 columns</p>\n",
       "</div>"
      ],
      "text/plain": [
       "                         column  NAN_value\n",
       "0                    SK_ID_CURR          0\n",
       "1                        TARGET          0\n",
       "2            NAME_CONTRACT_TYPE          0\n",
       "3                   CODE_GENDER          0\n",
       "4                  FLAG_OWN_CAR          0\n",
       "..                          ...        ...\n",
       "117   AMT_REQ_CREDIT_BUREAU_DAY          0\n",
       "118  AMT_REQ_CREDIT_BUREAU_WEEK          0\n",
       "119   AMT_REQ_CREDIT_BUREAU_MON          0\n",
       "120   AMT_REQ_CREDIT_BUREAU_QRT          0\n",
       "121  AMT_REQ_CREDIT_BUREAU_YEAR          0\n",
       "\n",
       "[122 rows x 2 columns]"
      ]
     },
     "execution_count": 45,
     "metadata": {},
     "output_type": "execute_result"
    }
   ],
   "source": [
    "NAN = train.isna().to_numpy()\n",
    "NanNewValue = pd.DataFrame()\n",
    "NanNewValue['column'] = train.columns\n",
    "NanNewValue['NAN_value'] = np.zeros_like(len(NanNewValue))\n",
    "\n",
    "for col in range(NAN.shape[1]):\n",
    "    column_values = NAN[:,col]\n",
    "    NAN_value = len(column_values[column_values == True]) / NAN.shape[0]\n",
    "    NanNewValue['NAN_value'][col] = NAN_value\n",
    "    \n",
    "NanNewValue"
   ]
  },
  {
   "cell_type": "code",
   "execution_count": 46,
   "id": "environmental-mercy",
   "metadata": {
    "id": "alternative-combat"
   },
   "outputs": [],
   "source": [
    "# missing values заповнимо останніми знайденими не NAN значеннями\n",
    "train.fillna(method='ffill', inplace=True)\n",
    "test.fillna(method='ffill', inplace=True)"
   ]
  },
  {
   "cell_type": "markdown",
   "id": "opened-boutique",
   "metadata": {
    "id": "worst-short"
   },
   "source": [
    "## Distribution"
   ]
  },
  {
   "cell_type": "code",
   "execution_count": 47,
   "id": "acoustic-biology",
   "metadata": {
    "colab": {
     "base_uri": "https://localhost:8080/",
     "height": 406
    },
    "executionInfo": {
     "elapsed": 4501,
     "status": "ok",
     "timestamp": 1616856692016,
     "user": {
      "displayName": "Daniil Timachov",
      "photoUrl": "https://lh3.googleusercontent.com/a-/AOh14Ghk9scaQ0ydio6b7V2_t9-wRiT1cNGLcyCL07wR=s64",
      "userId": "00279435974685972614"
     },
     "user_tz": -120
    },
    "id": "double-recall",
    "outputId": "2a0cffb5-899c-4c50-89df-9f693bdab018"
   },
   "outputs": [
    {
     "data": {
      "image/png": "[encoded data removed]",
      "text/plain": [
       "<Figure size 360x360 with 1 Axes>"
      ]
     },
     "metadata": {
      "needs_background": "light"
     },
     "output_type": "display_data"
    },
    {
     "data": {
      "image/png": "[encoded data removed]",
      "text/plain": [
       "<Figure size 360x360 with 1 Axes>"
      ]
     },
     "metadata": {
      "needs_background": "light"
     },
     "output_type": "display_data"
    },
    {
     "data": {
      "image/png": "[encoded data removed]",
      "text/plain": [
       "<Figure size 360x360 with 1 Axes>"
      ]
     },
     "metadata": {
      "needs_background": "light"
     },
     "output_type": "display_data"
    },
    {
     "data": {
      "image/png": "[encoded data removed]",
      "text/plain": [
       "<Figure size 360x360 with 1 Axes>"
      ]
     },
     "metadata": {
      "needs_background": "light"
     },
     "output_type": "display_data"
    },
    {
     "data": {
      "image/png": "[encoded data removed]",
      "text/plain": [
       "<Figure size 360x360 with 1 Axes>"
      ]
     },
     "metadata": {
      "needs_background": "light"
     },
     "output_type": "display_data"
    },
    {
     "data": {
      "image/png": "[encoded data removed]",
      "text/plain": [
       "<Figure size 360x360 with 1 Axes>"
      ]
     },
     "metadata": {
      "needs_background": "light"
     },
     "output_type": "display_data"
    },
    {
     "data": {
      "image/png": "[encoded data removed]",
      "text/plain": [
       "<Figure size 360x360 with 1 Axes>"
      ]
     },
     "metadata": {
      "needs_background": "light"
     },
     "output_type": "display_data"
    },
    {
     "data": {
      "image/png": "[encoded data removed]",
      "text/plain": [
       "<Figure size 360x360 with 1 Axes>"
      ]
     },
     "metadata": {
      "needs_background": "light"
     },
     "output_type": "display_data"
    }
   ],
   "source": [
    "#шукаємо залежність між даними, перше - усі АМТ колонки, їх дані мають впливати найбільше\n",
    "AMT_data = list(filter(lambda col: col.startswith('AMT') and \"BUREAU\" not in col, train.columns))\n",
    "for colname in AMT_data:\n",
    "    ax = sb.displot(train[colname][:1000], kde=True)\n",
    "    sb.displot(test[colname][:1000], kde=True)\n",
    "\n"
   ]
  },
  {
   "cell_type": "code",
   "execution_count": 48,
   "id": "expected-bracket",
   "metadata": {
    "colab": {
     "base_uri": "https://localhost:8080/",
     "height": 406
    },
    "executionInfo": {
     "elapsed": 5149,
     "status": "ok",
     "timestamp": 1616856692676,
     "user": {
      "displayName": "Daniil Timachov",
      "photoUrl": "https://lh3.googleusercontent.com/a-/AOh14Ghk9scaQ0ydio6b7V2_t9-wRiT1cNGLcyCL07wR=s64",
      "userId": "00279435974685972614"
     },
     "user_tz": -120
    },
    "id": "dedicated-depth",
    "outputId": "d3d4a82e-e6ae-45da-d129-997f61d33fd0"
   },
   "outputs": [
    {
     "data": {
      "text/plain": [
       "<AxesSubplot:xlabel='CNT_CHILDREN', ylabel='count'>"
      ]
     },
     "execution_count": 48,
     "metadata": {},
     "output_type": "execute_result"
    },
    {
     "data": {
      "image/png": "[encoded data removed]",
      "text/plain": [
       "<Figure size 576x576 with 1 Axes>"
      ]
     },
     "metadata": {
      "needs_background": "light"
     },
     "output_type": "display_data"
    }
   ],
   "source": [
    "# виплата від кількості дітей\n",
    "sb.countplot(x='CNT_CHILDREN', data=train)\n"
   ]
  },
  {
   "cell_type": "code",
   "execution_count": 49,
   "id": "physical-george",
   "metadata": {
    "colab": {
     "base_uri": "https://localhost:8080/"
    },
    "executionInfo": {
     "elapsed": 5141,
     "status": "ok",
     "timestamp": 1616856692678,
     "user": {
      "displayName": "Daniil Timachov",
      "photoUrl": "https://lh3.googleusercontent.com/a-/AOh14Ghk9scaQ0ydio6b7V2_t9-wRiT1cNGLcyCL07wR=s64",
      "userId": "00279435974685972614"
     },
     "user_tz": -120
    },
    "id": "gentle-training",
    "outputId": "a05457ba-24f0-45f7-d340-b177d08ec3e6"
   },
   "outputs": [
    {
     "data": {
      "text/plain": [
       "<AxesSubplot:xlabel='CODE_GENDER', ylabel='count'>"
      ]
     },
     "execution_count": 49,
     "metadata": {},
     "output_type": "execute_result"
    },
    {
     "data": {
      "image/png": "[encoded data removed]",
      "text/plain": [
       "<Figure size 576x576 with 1 Axes>"
      ]
     },
     "metadata": {
      "needs_background": "light"
     },
     "output_type": "display_data"
    }
   ],
   "source": [
    "# від статі\n",
    "sb.countplot(x='CODE_GENDER', data=train)"
   ]
  },
  {
   "cell_type": "markdown",
   "id": "filled-messaging",
   "metadata": {
    "id": "timely-acoustic"
   },
   "source": [
    "## Training"
   ]
  },
  {
   "cell_type": "code",
   "execution_count": 50,
   "id": "prescribed-thursday",
   "metadata": {
    "colab": {
     "base_uri": "https://localhost:8080/",
     "height": 439
    },
    "executionInfo": {
     "elapsed": 913,
     "status": "ok",
     "timestamp": 1616856747907,
     "user": {
      "displayName": "Daniil Timachov",
      "photoUrl": "https://lh3.googleusercontent.com/a-/AOh14Ghk9scaQ0ydio6b7V2_t9-wRiT1cNGLcyCL07wR=s64",
      "userId": "00279435974685972614"
     },
     "user_tz": -120
    },
    "id": "charged-margin",
    "outputId": "dfba2c4c-9c9d-4558-ea55-831ab5075fdc"
   },
   "outputs": [
    {
     "data": {
      "text/html": [
       "<div>\n",
       "<style scoped>\n",
       "    .dataframe tbody tr th:only-of-type {\n",
       "        vertical-align: middle;\n",
       "    }\n",
       "\n",
       "    .dataframe tbody tr th {\n",
       "        vertical-align: top;\n",
       "    }\n",
       "\n",
       "    .dataframe thead th {\n",
       "        text-align: right;\n",
       "    }\n",
       "</style>\n",
       "<table border=\"1\" class=\"dataframe\">\n",
       "  <thead>\n",
       "    <tr style=\"text-align: right;\">\n",
       "      <th></th>\n",
       "      <th>SK_ID_CURR</th>\n",
       "      <th>NAME_CONTRACT_TYPE</th>\n",
       "      <th>CODE_GENDER</th>\n",
       "      <th>FLAG_OWN_CAR</th>\n",
       "      <th>FLAG_OWN_REALTY</th>\n",
       "      <th>CNT_CHILDREN</th>\n",
       "      <th>AMT_INCOME_TOTAL</th>\n",
       "      <th>AMT_CREDIT</th>\n",
       "      <th>AMT_ANNUITY</th>\n",
       "      <th>AMT_GOODS_PRICE</th>\n",
       "      <th>...</th>\n",
       "      <th>FLAG_DOCUMENT_18</th>\n",
       "      <th>FLAG_DOCUMENT_19</th>\n",
       "      <th>FLAG_DOCUMENT_20</th>\n",
       "      <th>FLAG_DOCUMENT_21</th>\n",
       "      <th>AMT_REQ_CREDIT_BUREAU_HOUR</th>\n",
       "      <th>AMT_REQ_CREDIT_BUREAU_DAY</th>\n",
       "      <th>AMT_REQ_CREDIT_BUREAU_WEEK</th>\n",
       "      <th>AMT_REQ_CREDIT_BUREAU_MON</th>\n",
       "      <th>AMT_REQ_CREDIT_BUREAU_QRT</th>\n",
       "      <th>AMT_REQ_CREDIT_BUREAU_YEAR</th>\n",
       "    </tr>\n",
       "  </thead>\n",
       "  <tbody>\n",
       "    <tr>\n",
       "      <th>0</th>\n",
       "      <td>0</td>\n",
       "      <td>0</td>\n",
       "      <td>1</td>\n",
       "      <td>0</td>\n",
       "      <td>1</td>\n",
       "      <td>0</td>\n",
       "      <td>1754</td>\n",
       "      <td>1191</td>\n",
       "      <td>4588</td>\n",
       "      <td>189</td>\n",
       "      <td>...</td>\n",
       "      <td>0</td>\n",
       "      <td>0</td>\n",
       "      <td>0</td>\n",
       "      <td>0</td>\n",
       "      <td>0</td>\n",
       "      <td>0</td>\n",
       "      <td>0</td>\n",
       "      <td>0</td>\n",
       "      <td>0</td>\n",
       "      <td>1</td>\n",
       "    </tr>\n",
       "    <tr>\n",
       "      <th>1</th>\n",
       "      <td>1</td>\n",
       "      <td>0</td>\n",
       "      <td>0</td>\n",
       "      <td>0</td>\n",
       "      <td>0</td>\n",
       "      <td>0</td>\n",
       "      <td>2064</td>\n",
       "      <td>4338</td>\n",
       "      <td>6985</td>\n",
       "      <td>704</td>\n",
       "      <td>...</td>\n",
       "      <td>0</td>\n",
       "      <td>0</td>\n",
       "      <td>0</td>\n",
       "      <td>0</td>\n",
       "      <td>0</td>\n",
       "      <td>0</td>\n",
       "      <td>0</td>\n",
       "      <td>0</td>\n",
       "      <td>0</td>\n",
       "      <td>0</td>\n",
       "    </tr>\n",
       "    <tr>\n",
       "      <th>2</th>\n",
       "      <td>2</td>\n",
       "      <td>1</td>\n",
       "      <td>1</td>\n",
       "      <td>1</td>\n",
       "      <td>1</td>\n",
       "      <td>0</td>\n",
       "      <td>338</td>\n",
       "      <td>228</td>\n",
       "      <td>662</td>\n",
       "      <td>30</td>\n",
       "      <td>...</td>\n",
       "      <td>0</td>\n",
       "      <td>0</td>\n",
       "      <td>0</td>\n",
       "      <td>0</td>\n",
       "      <td>0</td>\n",
       "      <td>0</td>\n",
       "      <td>0</td>\n",
       "      <td>0</td>\n",
       "      <td>0</td>\n",
       "      <td>0</td>\n",
       "    </tr>\n",
       "    <tr>\n",
       "      <th>3</th>\n",
       "      <td>3</td>\n",
       "      <td>0</td>\n",
       "      <td>0</td>\n",
       "      <td>0</td>\n",
       "      <td>1</td>\n",
       "      <td>0</td>\n",
       "      <td>1170</td>\n",
       "      <td>836</td>\n",
       "      <td>5680</td>\n",
       "      <td>145</td>\n",
       "      <td>...</td>\n",
       "      <td>0</td>\n",
       "      <td>0</td>\n",
       "      <td>0</td>\n",
       "      <td>0</td>\n",
       "      <td>0</td>\n",
       "      <td>0</td>\n",
       "      <td>0</td>\n",
       "      <td>0</td>\n",
       "      <td>0</td>\n",
       "      <td>0</td>\n",
       "    </tr>\n",
       "    <tr>\n",
       "      <th>4</th>\n",
       "      <td>4</td>\n",
       "      <td>0</td>\n",
       "      <td>1</td>\n",
       "      <td>0</td>\n",
       "      <td>1</td>\n",
       "      <td>0</td>\n",
       "      <td>1019</td>\n",
       "      <td>1635</td>\n",
       "      <td>3960</td>\n",
       "      <td>352</td>\n",
       "      <td>...</td>\n",
       "      <td>0</td>\n",
       "      <td>0</td>\n",
       "      <td>0</td>\n",
       "      <td>0</td>\n",
       "      <td>0</td>\n",
       "      <td>0</td>\n",
       "      <td>0</td>\n",
       "      <td>0</td>\n",
       "      <td>0</td>\n",
       "      <td>0</td>\n",
       "    </tr>\n",
       "    <tr>\n",
       "      <th>...</th>\n",
       "      <td>...</td>\n",
       "      <td>...</td>\n",
       "      <td>...</td>\n",
       "      <td>...</td>\n",
       "      <td>...</td>\n",
       "      <td>...</td>\n",
       "      <td>...</td>\n",
       "      <td>...</td>\n",
       "      <td>...</td>\n",
       "      <td>...</td>\n",
       "      <td>...</td>\n",
       "      <td>...</td>\n",
       "      <td>...</td>\n",
       "      <td>...</td>\n",
       "      <td>...</td>\n",
       "      <td>...</td>\n",
       "      <td>...</td>\n",
       "      <td>...</td>\n",
       "      <td>...</td>\n",
       "      <td>...</td>\n",
       "      <td>...</td>\n",
       "    </tr>\n",
       "    <tr>\n",
       "      <th>307506</th>\n",
       "      <td>307506</td>\n",
       "      <td>0</td>\n",
       "      <td>1</td>\n",
       "      <td>0</td>\n",
       "      <td>0</td>\n",
       "      <td>0</td>\n",
       "      <td>1407</td>\n",
       "      <td>612</td>\n",
       "      <td>5217</td>\n",
       "      <td>80</td>\n",
       "      <td>...</td>\n",
       "      <td>0</td>\n",
       "      <td>0</td>\n",
       "      <td>0</td>\n",
       "      <td>0</td>\n",
       "      <td>0</td>\n",
       "      <td>0</td>\n",
       "      <td>0</td>\n",
       "      <td>2</td>\n",
       "      <td>0</td>\n",
       "      <td>0</td>\n",
       "    </tr>\n",
       "    <tr>\n",
       "      <th>307507</th>\n",
       "      <td>307507</td>\n",
       "      <td>0</td>\n",
       "      <td>0</td>\n",
       "      <td>0</td>\n",
       "      <td>1</td>\n",
       "      <td>0</td>\n",
       "      <td>387</td>\n",
       "      <td>672</td>\n",
       "      <td>1792</td>\n",
       "      <td>80</td>\n",
       "      <td>...</td>\n",
       "      <td>0</td>\n",
       "      <td>0</td>\n",
       "      <td>0</td>\n",
       "      <td>0</td>\n",
       "      <td>0</td>\n",
       "      <td>0</td>\n",
       "      <td>0</td>\n",
       "      <td>2</td>\n",
       "      <td>0</td>\n",
       "      <td>0</td>\n",
       "    </tr>\n",
       "    <tr>\n",
       "      <th>307508</th>\n",
       "      <td>307508</td>\n",
       "      <td>0</td>\n",
       "      <td>0</td>\n",
       "      <td>0</td>\n",
       "      <td>1</td>\n",
       "      <td>0</td>\n",
       "      <td>1371</td>\n",
       "      <td>2270</td>\n",
       "      <td>5744</td>\n",
       "      <td>403</td>\n",
       "      <td>...</td>\n",
       "      <td>0</td>\n",
       "      <td>0</td>\n",
       "      <td>0</td>\n",
       "      <td>0</td>\n",
       "      <td>1</td>\n",
       "      <td>0</td>\n",
       "      <td>0</td>\n",
       "      <td>1</td>\n",
       "      <td>0</td>\n",
       "      <td>1</td>\n",
       "    </tr>\n",
       "    <tr>\n",
       "      <th>307509</th>\n",
       "      <td>307509</td>\n",
       "      <td>0</td>\n",
       "      <td>0</td>\n",
       "      <td>0</td>\n",
       "      <td>1</td>\n",
       "      <td>0</td>\n",
       "      <td>1519</td>\n",
       "      <td>1049</td>\n",
       "      <td>3593</td>\n",
       "      <td>161</td>\n",
       "      <td>...</td>\n",
       "      <td>0</td>\n",
       "      <td>0</td>\n",
       "      <td>0</td>\n",
       "      <td>0</td>\n",
       "      <td>0</td>\n",
       "      <td>0</td>\n",
       "      <td>0</td>\n",
       "      <td>0</td>\n",
       "      <td>0</td>\n",
       "      <td>0</td>\n",
       "    </tr>\n",
       "    <tr>\n",
       "      <th>307510</th>\n",
       "      <td>307510</td>\n",
       "      <td>0</td>\n",
       "      <td>0</td>\n",
       "      <td>0</td>\n",
       "      <td>0</td>\n",
       "      <td>0</td>\n",
       "      <td>1407</td>\n",
       "      <td>2260</td>\n",
       "      <td>9733</td>\n",
       "      <td>469</td>\n",
       "      <td>...</td>\n",
       "      <td>0</td>\n",
       "      <td>0</td>\n",
       "      <td>0</td>\n",
       "      <td>0</td>\n",
       "      <td>0</td>\n",
       "      <td>0</td>\n",
       "      <td>0</td>\n",
       "      <td>2</td>\n",
       "      <td>0</td>\n",
       "      <td>1</td>\n",
       "    </tr>\n",
       "  </tbody>\n",
       "</table>\n",
       "<p>307511 rows × 121 columns</p>\n",
       "</div>"
      ],
      "text/plain": [
       "        SK_ID_CURR  NAME_CONTRACT_TYPE  CODE_GENDER  FLAG_OWN_CAR  \\\n",
       "0                0                   0            1             0   \n",
       "1                1                   0            0             0   \n",
       "2                2                   1            1             1   \n",
       "3                3                   0            0             0   \n",
       "4                4                   0            1             0   \n",
       "...            ...                 ...          ...           ...   \n",
       "307506      307506                   0            1             0   \n",
       "307507      307507                   0            0             0   \n",
       "307508      307508                   0            0             0   \n",
       "307509      307509                   0            0             0   \n",
       "307510      307510                   0            0             0   \n",
       "\n",
       "        FLAG_OWN_REALTY  CNT_CHILDREN  AMT_INCOME_TOTAL  AMT_CREDIT  \\\n",
       "0                     1             0              1754        1191   \n",
       "1                     0             0              2064        4338   \n",
       "2                     1             0               338         228   \n",
       "3                     1             0              1170         836   \n",
       "4                     1             0              1019        1635   \n",
       "...                 ...           ...               ...         ...   \n",
       "307506                0             0              1407         612   \n",
       "307507                1             0               387         672   \n",
       "307508                1             0              1371        2270   \n",
       "307509                1             0              1519        1049   \n",
       "307510                0             0              1407        2260   \n",
       "\n",
       "        AMT_ANNUITY  AMT_GOODS_PRICE  ...  FLAG_DOCUMENT_18  FLAG_DOCUMENT_19  \\\n",
       "0              4588              189  ...                 0                 0   \n",
       "1              6985              704  ...                 0                 0   \n",
       "2               662               30  ...                 0                 0   \n",
       "3              5680              145  ...                 0                 0   \n",
       "4              3960              352  ...                 0                 0   \n",
       "...             ...              ...  ...               ...               ...   \n",
       "307506         5217               80  ...                 0                 0   \n",
       "307507         1792               80  ...                 0                 0   \n",
       "307508         5744              403  ...                 0                 0   \n",
       "307509         3593              161  ...                 0                 0   \n",
       "307510         9733              469  ...                 0                 0   \n",
       "\n",
       "        FLAG_DOCUMENT_20  FLAG_DOCUMENT_21  AMT_REQ_CREDIT_BUREAU_HOUR  \\\n",
       "0                      0                 0                           0   \n",
       "1                      0                 0                           0   \n",
       "2                      0                 0                           0   \n",
       "3                      0                 0                           0   \n",
       "4                      0                 0                           0   \n",
       "...                  ...               ...                         ...   \n",
       "307506                 0                 0                           0   \n",
       "307507                 0                 0                           0   \n",
       "307508                 0                 0                           1   \n",
       "307509                 0                 0                           0   \n",
       "307510                 0                 0                           0   \n",
       "\n",
       "        AMT_REQ_CREDIT_BUREAU_DAY  AMT_REQ_CREDIT_BUREAU_WEEK  \\\n",
       "0                               0                           0   \n",
       "1                               0                           0   \n",
       "2                               0                           0   \n",
       "3                               0                           0   \n",
       "4                               0                           0   \n",
       "...                           ...                         ...   \n",
       "307506                          0                           0   \n",
       "307507                          0                           0   \n",
       "307508                          0                           0   \n",
       "307509                          0                           0   \n",
       "307510                          0                           0   \n",
       "\n",
       "        AMT_REQ_CREDIT_BUREAU_MON  AMT_REQ_CREDIT_BUREAU_QRT  \\\n",
       "0                               0                          0   \n",
       "1                               0                          0   \n",
       "2                               0                          0   \n",
       "3                               0                          0   \n",
       "4                               0                          0   \n",
       "...                           ...                        ...   \n",
       "307506                          2                          0   \n",
       "307507                          2                          0   \n",
       "307508                          1                          0   \n",
       "307509                          0                          0   \n",
       "307510                          2                          0   \n",
       "\n",
       "        AMT_REQ_CREDIT_BUREAU_YEAR  \n",
       "0                                1  \n",
       "1                                0  \n",
       "2                                0  \n",
       "3                                0  \n",
       "4                                0  \n",
       "...                            ...  \n",
       "307506                           0  \n",
       "307507                           0  \n",
       "307508                           1  \n",
       "307509                           0  \n",
       "307510                           1  \n",
       "\n",
       "[307511 rows x 121 columns]"
      ]
     },
     "execution_count": 50,
     "metadata": {},
     "output_type": "execute_result"
    }
   ],
   "source": [
    "# факторизація - заміна рядків на числа\n",
    "Xtraing = train.drop(\"TARGET\", axis='columns') # прибираємо колонку таргет у Xtrain\n",
    "Xtraing = Xtraing.apply(lambda col: pd.factorize(col, sort=True)[0])\n",
    "Xtraing "
   ]
  },
  {
   "cell_type": "code",
   "execution_count": 51,
   "id": "square-proxy",
   "metadata": {
    "colab": {
     "base_uri": "https://localhost:8080/",
     "height": 419
    },
    "executionInfo": {
     "elapsed": 1339,
     "status": "ok",
     "timestamp": 1616856748357,
     "user": {
      "displayName": "Daniil Timachov",
      "photoUrl": "https://lh3.googleusercontent.com/a-/AOh14Ghk9scaQ0ydio6b7V2_t9-wRiT1cNGLcyCL07wR=s64",
      "userId": "00279435974685972614"
     },
     "user_tz": -120
    },
    "id": "civic-characteristic",
    "outputId": "9dcac394-ed38-4f18-ad95-dd6a3048ffde"
   },
   "outputs": [
    {
     "data": {
      "text/html": [
       "<div>\n",
       "<style scoped>\n",
       "    .dataframe tbody tr th:only-of-type {\n",
       "        vertical-align: middle;\n",
       "    }\n",
       "\n",
       "    .dataframe tbody tr th {\n",
       "        vertical-align: top;\n",
       "    }\n",
       "\n",
       "    .dataframe thead th {\n",
       "        text-align: right;\n",
       "    }\n",
       "</style>\n",
       "<table border=\"1\" class=\"dataframe\">\n",
       "  <thead>\n",
       "    <tr style=\"text-align: right;\">\n",
       "      <th></th>\n",
       "      <th>TARGET</th>\n",
       "    </tr>\n",
       "  </thead>\n",
       "  <tbody>\n",
       "    <tr>\n",
       "      <th>0</th>\n",
       "      <td>1</td>\n",
       "    </tr>\n",
       "    <tr>\n",
       "      <th>1</th>\n",
       "      <td>0</td>\n",
       "    </tr>\n",
       "    <tr>\n",
       "      <th>2</th>\n",
       "      <td>0</td>\n",
       "    </tr>\n",
       "    <tr>\n",
       "      <th>3</th>\n",
       "      <td>0</td>\n",
       "    </tr>\n",
       "    <tr>\n",
       "      <th>4</th>\n",
       "      <td>0</td>\n",
       "    </tr>\n",
       "    <tr>\n",
       "      <th>...</th>\n",
       "      <td>...</td>\n",
       "    </tr>\n",
       "    <tr>\n",
       "      <th>307506</th>\n",
       "      <td>0</td>\n",
       "    </tr>\n",
       "    <tr>\n",
       "      <th>307507</th>\n",
       "      <td>0</td>\n",
       "    </tr>\n",
       "    <tr>\n",
       "      <th>307508</th>\n",
       "      <td>0</td>\n",
       "    </tr>\n",
       "    <tr>\n",
       "      <th>307509</th>\n",
       "      <td>1</td>\n",
       "    </tr>\n",
       "    <tr>\n",
       "      <th>307510</th>\n",
       "      <td>0</td>\n",
       "    </tr>\n",
       "  </tbody>\n",
       "</table>\n",
       "<p>307511 rows × 1 columns</p>\n",
       "</div>"
      ],
      "text/plain": [
       "        TARGET\n",
       "0            1\n",
       "1            0\n",
       "2            0\n",
       "3            0\n",
       "4            0\n",
       "...        ...\n",
       "307506       0\n",
       "307507       0\n",
       "307508       0\n",
       "307509       1\n",
       "307510       0\n",
       "\n",
       "[307511 rows x 1 columns]"
      ]
     },
     "execution_count": 51,
     "metadata": {},
     "output_type": "execute_result"
    }
   ],
   "source": [
    "#беремо тільки target колонку\n",
    "Ytraing = train[[\"TARGET\"]]\n",
    "Ytraing"
   ]
  },
  {
   "cell_type": "code",
   "execution_count": 52,
   "id": "bibliographic-while",
   "metadata": {
    "colab": {
     "base_uri": "https://localhost:8080/",
     "height": 439
    },
    "executionInfo": {
     "elapsed": 1386,
     "status": "ok",
     "timestamp": 1616856748418,
     "user": {
      "displayName": "Daniil Timachov",
      "photoUrl": "https://lh3.googleusercontent.com/a-/AOh14Ghk9scaQ0ydio6b7V2_t9-wRiT1cNGLcyCL07wR=s64",
      "userId": "00279435974685972614"
     },
     "user_tz": -120
    },
    "id": "explicit-driving",
    "outputId": "b96408e0-bca1-422b-83f0-e77d93390b0b"
   },
   "outputs": [
    {
     "data": {
      "text/html": [
       "<div>\n",
       "<style scoped>\n",
       "    .dataframe tbody tr th:only-of-type {\n",
       "        vertical-align: middle;\n",
       "    }\n",
       "\n",
       "    .dataframe tbody tr th {\n",
       "        vertical-align: top;\n",
       "    }\n",
       "\n",
       "    .dataframe thead th {\n",
       "        text-align: right;\n",
       "    }\n",
       "</style>\n",
       "<table border=\"1\" class=\"dataframe\">\n",
       "  <thead>\n",
       "    <tr style=\"text-align: right;\">\n",
       "      <th></th>\n",
       "      <th>SK_ID_CURR</th>\n",
       "      <th>NAME_CONTRACT_TYPE</th>\n",
       "      <th>CODE_GENDER</th>\n",
       "      <th>FLAG_OWN_CAR</th>\n",
       "      <th>FLAG_OWN_REALTY</th>\n",
       "      <th>CNT_CHILDREN</th>\n",
       "      <th>AMT_INCOME_TOTAL</th>\n",
       "      <th>AMT_CREDIT</th>\n",
       "      <th>AMT_ANNUITY</th>\n",
       "      <th>AMT_GOODS_PRICE</th>\n",
       "      <th>...</th>\n",
       "      <th>FLAG_DOCUMENT_18</th>\n",
       "      <th>FLAG_DOCUMENT_19</th>\n",
       "      <th>FLAG_DOCUMENT_20</th>\n",
       "      <th>FLAG_DOCUMENT_21</th>\n",
       "      <th>AMT_REQ_CREDIT_BUREAU_HOUR</th>\n",
       "      <th>AMT_REQ_CREDIT_BUREAU_DAY</th>\n",
       "      <th>AMT_REQ_CREDIT_BUREAU_WEEK</th>\n",
       "      <th>AMT_REQ_CREDIT_BUREAU_MON</th>\n",
       "      <th>AMT_REQ_CREDIT_BUREAU_QRT</th>\n",
       "      <th>AMT_REQ_CREDIT_BUREAU_YEAR</th>\n",
       "    </tr>\n",
       "  </thead>\n",
       "  <tbody>\n",
       "    <tr>\n",
       "      <th>0</th>\n",
       "      <td>0</td>\n",
       "      <td>0</td>\n",
       "      <td>0</td>\n",
       "      <td>0</td>\n",
       "      <td>1</td>\n",
       "      <td>0</td>\n",
       "      <td>272</td>\n",
       "      <td>1320</td>\n",
       "      <td>2344</td>\n",
       "      <td>276</td>\n",
       "      <td>...</td>\n",
       "      <td>0</td>\n",
       "      <td>0</td>\n",
       "      <td>0</td>\n",
       "      <td>0</td>\n",
       "      <td>0</td>\n",
       "      <td>0</td>\n",
       "      <td>0</td>\n",
       "      <td>0</td>\n",
       "      <td>0</td>\n",
       "      <td>0</td>\n",
       "    </tr>\n",
       "    <tr>\n",
       "      <th>1</th>\n",
       "      <td>1</td>\n",
       "      <td>0</td>\n",
       "      <td>1</td>\n",
       "      <td>0</td>\n",
       "      <td>1</td>\n",
       "      <td>0</td>\n",
       "      <td>181</td>\n",
       "      <td>379</td>\n",
       "      <td>1820</td>\n",
       "      <td>93</td>\n",
       "      <td>...</td>\n",
       "      <td>0</td>\n",
       "      <td>0</td>\n",
       "      <td>0</td>\n",
       "      <td>0</td>\n",
       "      <td>0</td>\n",
       "      <td>0</td>\n",
       "      <td>0</td>\n",
       "      <td>0</td>\n",
       "      <td>0</td>\n",
       "      <td>3</td>\n",
       "    </tr>\n",
       "    <tr>\n",
       "      <th>2</th>\n",
       "      <td>2</td>\n",
       "      <td>0</td>\n",
       "      <td>1</td>\n",
       "      <td>1</td>\n",
       "      <td>1</td>\n",
       "      <td>0</td>\n",
       "      <td>402</td>\n",
       "      <td>1548</td>\n",
       "      <td>7132</td>\n",
       "      <td>366</td>\n",
       "      <td>...</td>\n",
       "      <td>0</td>\n",
       "      <td>0</td>\n",
       "      <td>0</td>\n",
       "      <td>0</td>\n",
       "      <td>0</td>\n",
       "      <td>0</td>\n",
       "      <td>0</td>\n",
       "      <td>0</td>\n",
       "      <td>1</td>\n",
       "      <td>4</td>\n",
       "    </tr>\n",
       "    <tr>\n",
       "      <th>3</th>\n",
       "      <td>3</td>\n",
       "      <td>0</td>\n",
       "      <td>0</td>\n",
       "      <td>0</td>\n",
       "      <td>1</td>\n",
       "      <td>2</td>\n",
       "      <td>492</td>\n",
       "      <td>2731</td>\n",
       "      <td>6049</td>\n",
       "      <td>628</td>\n",
       "      <td>...</td>\n",
       "      <td>0</td>\n",
       "      <td>0</td>\n",
       "      <td>0</td>\n",
       "      <td>0</td>\n",
       "      <td>0</td>\n",
       "      <td>0</td>\n",
       "      <td>0</td>\n",
       "      <td>0</td>\n",
       "      <td>0</td>\n",
       "      <td>3</td>\n",
       "    </tr>\n",
       "    <tr>\n",
       "      <th>4</th>\n",
       "      <td>4</td>\n",
       "      <td>0</td>\n",
       "      <td>1</td>\n",
       "      <td>1</td>\n",
       "      <td>0</td>\n",
       "      <td>1</td>\n",
       "      <td>366</td>\n",
       "      <td>1456</td>\n",
       "      <td>4108</td>\n",
       "      <td>365</td>\n",
       "      <td>...</td>\n",
       "      <td>0</td>\n",
       "      <td>0</td>\n",
       "      <td>0</td>\n",
       "      <td>0</td>\n",
       "      <td>0</td>\n",
       "      <td>0</td>\n",
       "      <td>0</td>\n",
       "      <td>0</td>\n",
       "      <td>0</td>\n",
       "      <td>3</td>\n",
       "    </tr>\n",
       "    <tr>\n",
       "      <th>...</th>\n",
       "      <td>...</td>\n",
       "      <td>...</td>\n",
       "      <td>...</td>\n",
       "      <td>...</td>\n",
       "      <td>...</td>\n",
       "      <td>...</td>\n",
       "      <td>...</td>\n",
       "      <td>...</td>\n",
       "      <td>...</td>\n",
       "      <td>...</td>\n",
       "      <td>...</td>\n",
       "      <td>...</td>\n",
       "      <td>...</td>\n",
       "      <td>...</td>\n",
       "      <td>...</td>\n",
       "      <td>...</td>\n",
       "      <td>...</td>\n",
       "      <td>...</td>\n",
       "      <td>...</td>\n",
       "      <td>...</td>\n",
       "      <td>...</td>\n",
       "    </tr>\n",
       "    <tr>\n",
       "      <th>48739</th>\n",
       "      <td>48739</td>\n",
       "      <td>0</td>\n",
       "      <td>0</td>\n",
       "      <td>0</td>\n",
       "      <td>1</td>\n",
       "      <td>0</td>\n",
       "      <td>243</td>\n",
       "      <td>903</td>\n",
       "      <td>1839</td>\n",
       "      <td>161</td>\n",
       "      <td>...</td>\n",
       "      <td>0</td>\n",
       "      <td>0</td>\n",
       "      <td>0</td>\n",
       "      <td>0</td>\n",
       "      <td>0</td>\n",
       "      <td>0</td>\n",
       "      <td>0</td>\n",
       "      <td>0</td>\n",
       "      <td>0</td>\n",
       "      <td>1</td>\n",
       "    </tr>\n",
       "    <tr>\n",
       "      <th>48740</th>\n",
       "      <td>48740</td>\n",
       "      <td>0</td>\n",
       "      <td>0</td>\n",
       "      <td>0</td>\n",
       "      <td>0</td>\n",
       "      <td>2</td>\n",
       "      <td>325</td>\n",
       "      <td>1452</td>\n",
       "      <td>4086</td>\n",
       "      <td>304</td>\n",
       "      <td>...</td>\n",
       "      <td>0</td>\n",
       "      <td>0</td>\n",
       "      <td>0</td>\n",
       "      <td>0</td>\n",
       "      <td>0</td>\n",
       "      <td>0</td>\n",
       "      <td>0</td>\n",
       "      <td>0</td>\n",
       "      <td>0</td>\n",
       "      <td>1</td>\n",
       "    </tr>\n",
       "    <tr>\n",
       "      <th>48741</th>\n",
       "      <td>48741</td>\n",
       "      <td>0</td>\n",
       "      <td>0</td>\n",
       "      <td>1</td>\n",
       "      <td>1</td>\n",
       "      <td>1</td>\n",
       "      <td>402</td>\n",
       "      <td>629</td>\n",
       "      <td>4257</td>\n",
       "      <td>195</td>\n",
       "      <td>...</td>\n",
       "      <td>0</td>\n",
       "      <td>0</td>\n",
       "      <td>0</td>\n",
       "      <td>0</td>\n",
       "      <td>0</td>\n",
       "      <td>0</td>\n",
       "      <td>0</td>\n",
       "      <td>0</td>\n",
       "      <td>3</td>\n",
       "      <td>1</td>\n",
       "    </tr>\n",
       "    <tr>\n",
       "      <th>48742</th>\n",
       "      <td>48742</td>\n",
       "      <td>0</td>\n",
       "      <td>1</td>\n",
       "      <td>0</td>\n",
       "      <td>0</td>\n",
       "      <td>0</td>\n",
       "      <td>434</td>\n",
       "      <td>998</td>\n",
       "      <td>3079</td>\n",
       "      <td>276</td>\n",
       "      <td>...</td>\n",
       "      <td>0</td>\n",
       "      <td>0</td>\n",
       "      <td>0</td>\n",
       "      <td>0</td>\n",
       "      <td>0</td>\n",
       "      <td>0</td>\n",
       "      <td>0</td>\n",
       "      <td>0</td>\n",
       "      <td>0</td>\n",
       "      <td>2</td>\n",
       "    </tr>\n",
       "    <tr>\n",
       "      <th>48743</th>\n",
       "      <td>48743</td>\n",
       "      <td>0</td>\n",
       "      <td>0</td>\n",
       "      <td>1</td>\n",
       "      <td>0</td>\n",
       "      <td>0</td>\n",
       "      <td>272</td>\n",
       "      <td>623</td>\n",
       "      <td>3012</td>\n",
       "      <td>161</td>\n",
       "      <td>...</td>\n",
       "      <td>0</td>\n",
       "      <td>0</td>\n",
       "      <td>0</td>\n",
       "      <td>0</td>\n",
       "      <td>0</td>\n",
       "      <td>0</td>\n",
       "      <td>0</td>\n",
       "      <td>0</td>\n",
       "      <td>1</td>\n",
       "      <td>4</td>\n",
       "    </tr>\n",
       "  </tbody>\n",
       "</table>\n",
       "<p>48744 rows × 121 columns</p>\n",
       "</div>"
      ],
      "text/plain": [
       "       SK_ID_CURR  NAME_CONTRACT_TYPE  CODE_GENDER  FLAG_OWN_CAR  \\\n",
       "0               0                   0            0             0   \n",
       "1               1                   0            1             0   \n",
       "2               2                   0            1             1   \n",
       "3               3                   0            0             0   \n",
       "4               4                   0            1             1   \n",
       "...           ...                 ...          ...           ...   \n",
       "48739       48739                   0            0             0   \n",
       "48740       48740                   0            0             0   \n",
       "48741       48741                   0            0             1   \n",
       "48742       48742                   0            1             0   \n",
       "48743       48743                   0            0             1   \n",
       "\n",
       "       FLAG_OWN_REALTY  CNT_CHILDREN  AMT_INCOME_TOTAL  AMT_CREDIT  \\\n",
       "0                    1             0               272        1320   \n",
       "1                    1             0               181         379   \n",
       "2                    1             0               402        1548   \n",
       "3                    1             2               492        2731   \n",
       "4                    0             1               366        1456   \n",
       "...                ...           ...               ...         ...   \n",
       "48739                1             0               243         903   \n",
       "48740                0             2               325        1452   \n",
       "48741                1             1               402         629   \n",
       "48742                0             0               434         998   \n",
       "48743                0             0               272         623   \n",
       "\n",
       "       AMT_ANNUITY  AMT_GOODS_PRICE  ...  FLAG_DOCUMENT_18  FLAG_DOCUMENT_19  \\\n",
       "0             2344              276  ...                 0                 0   \n",
       "1             1820               93  ...                 0                 0   \n",
       "2             7132              366  ...                 0                 0   \n",
       "3             6049              628  ...                 0                 0   \n",
       "4             4108              365  ...                 0                 0   \n",
       "...            ...              ...  ...               ...               ...   \n",
       "48739         1839              161  ...                 0                 0   \n",
       "48740         4086              304  ...                 0                 0   \n",
       "48741         4257              195  ...                 0                 0   \n",
       "48742         3079              276  ...                 0                 0   \n",
       "48743         3012              161  ...                 0                 0   \n",
       "\n",
       "       FLAG_DOCUMENT_20  FLAG_DOCUMENT_21  AMT_REQ_CREDIT_BUREAU_HOUR  \\\n",
       "0                     0                 0                           0   \n",
       "1                     0                 0                           0   \n",
       "2                     0                 0                           0   \n",
       "3                     0                 0                           0   \n",
       "4                     0                 0                           0   \n",
       "...                 ...               ...                         ...   \n",
       "48739                 0                 0                           0   \n",
       "48740                 0                 0                           0   \n",
       "48741                 0                 0                           0   \n",
       "48742                 0                 0                           0   \n",
       "48743                 0                 0                           0   \n",
       "\n",
       "       AMT_REQ_CREDIT_BUREAU_DAY  AMT_REQ_CREDIT_BUREAU_WEEK  \\\n",
       "0                              0                           0   \n",
       "1                              0                           0   \n",
       "2                              0                           0   \n",
       "3                              0                           0   \n",
       "4                              0                           0   \n",
       "...                          ...                         ...   \n",
       "48739                          0                           0   \n",
       "48740                          0                           0   \n",
       "48741                          0                           0   \n",
       "48742                          0                           0   \n",
       "48743                          0                           0   \n",
       "\n",
       "       AMT_REQ_CREDIT_BUREAU_MON  AMT_REQ_CREDIT_BUREAU_QRT  \\\n",
       "0                              0                          0   \n",
       "1                              0                          0   \n",
       "2                              0                          1   \n",
       "3                              0                          0   \n",
       "4                              0                          0   \n",
       "...                          ...                        ...   \n",
       "48739                          0                          0   \n",
       "48740                          0                          0   \n",
       "48741                          0                          3   \n",
       "48742                          0                          0   \n",
       "48743                          0                          1   \n",
       "\n",
       "       AMT_REQ_CREDIT_BUREAU_YEAR  \n",
       "0                               0  \n",
       "1                               3  \n",
       "2                               4  \n",
       "3                               3  \n",
       "4                               3  \n",
       "...                           ...  \n",
       "48739                           1  \n",
       "48740                           1  \n",
       "48741                           1  \n",
       "48742                           2  \n",
       "48743                           4  \n",
       "\n",
       "[48744 rows x 121 columns]"
      ]
     },
     "execution_count": 52,
     "metadata": {},
     "output_type": "execute_result"
    }
   ],
   "source": [
    "Xtest = test\n",
    "Xtest = Xtest.apply(lambda col: pd.factorize(col, sort=True)[0])\n",
    "Xtest"
   ]
  },
  {
   "cell_type": "code",
   "execution_count": 53,
   "id": "measured-reviewer",
   "metadata": {
    "id": "massive-tours"
   },
   "outputs": [
    {
     "name": "stderr",
     "output_type": "stream",
     "text": [
      "C:\\Users\\User\\AppData\\Roaming\\Python\\Python39\\site-packages\\sklearn\\utils\\validation.py:63: DataConversionWarning: A column-vector y was passed when a 1d array was expected. Please change the shape of y to (n_samples, ), for example using ravel().\n",
      "  return f(*args, **kwargs)\n"
     ]
    },
    {
     "name": "stdout",
     "output_type": "stream",
     "text": [
      "-- Epoch 1\n",
      "Norm: 62993.08, NNZs: 118, Bias: -21.408064, T: 206032, Avg. loss: 741920420.232036\n",
      "Total training time: 0.09 seconds.\n",
      "-- Epoch 2\n",
      "Norm: 52057.88, NNZs: 120, Bias: -27.601851, T: 412064, Avg. loss: 96384453.537494\n",
      "Total training time: 0.20 seconds.\n",
      "-- Epoch 3\n",
      "Norm: 47173.03, NNZs: 120, Bias: -30.891585, T: 618096, Avg. loss: 56356912.616081\n",
      "Total training time: 0.30 seconds.\n",
      "-- Epoch 4\n",
      "Norm: 45170.63, NNZs: 120, Bias: -32.849805, T: 824128, Avg. loss: 40057617.603286\n",
      "Total training time: 0.39 seconds.\n",
      "-- Epoch 5\n",
      "Norm: 43515.78, NNZs: 120, Bias: -34.304655, T: 1030160, Avg. loss: 30915736.780023\n",
      "Total training time: 0.48 seconds.\n",
      "-- Epoch 6\n",
      "Norm: 42387.69, NNZs: 120, Bias: -35.399690, T: 1236192, Avg. loss: 25296150.123995\n",
      "Total training time: 0.57 seconds.\n",
      "-- Epoch 7\n",
      "Norm: 41310.57, NNZs: 120, Bias: -36.245144, T: 1442224, Avg. loss: 21381529.930937\n",
      "Total training time: 0.66 seconds.\n",
      "-- Epoch 8\n",
      "Norm: 40388.79, NNZs: 121, Bias: -36.861163, T: 1648256, Avg. loss: 18606175.803198\n",
      "Total training time: 0.76 seconds.\n",
      "-- Epoch 9\n",
      "Norm: 39413.61, NNZs: 121, Bias: -37.416702, T: 1854288, Avg. loss: 16349888.064644\n",
      "Total training time: 0.84 seconds.\n",
      "-- Epoch 10\n",
      "Norm: 38839.07, NNZs: 121, Bias: -37.916437, T: 2060320, Avg. loss: 14584422.749408\n",
      "Total training time: 0.95 seconds.\n",
      "-- Epoch 11\n",
      "Norm: 38199.44, NNZs: 121, Bias: -38.305338, T: 2266352, Avg. loss: 13180256.438152\n",
      "Total training time: 1.06 seconds.\n",
      "-- Epoch 12\n",
      "Norm: 37284.79, NNZs: 121, Bias: -38.631897, T: 2472384, Avg. loss: 11983754.852927\n",
      "Total training time: 1.16 seconds.\n",
      "-- Epoch 13\n",
      "Norm: 36639.20, NNZs: 121, Bias: -38.886870, T: 2678416, Avg. loss: 11041174.456613\n",
      "Total training time: 1.25 seconds.\n",
      "-- Epoch 14\n",
      "Norm: 36052.16, NNZs: 121, Bias: -39.016845, T: 2884448, Avg. loss: 10231444.894817\n",
      "Total training time: 1.35 seconds.\n",
      "-- Epoch 15\n",
      "Norm: 35410.43, NNZs: 121, Bias: -39.219507, T: 3090480, Avg. loss: 9500329.988740\n",
      "Total training time: 1.44 seconds.\n",
      "-- Epoch 16\n",
      "Norm: 34766.00, NNZs: 121, Bias: -39.247502, T: 3296512, Avg. loss: 8892336.708553\n",
      "Total training time: 1.53 seconds.\n",
      "-- Epoch 17\n",
      "Norm: 34073.55, NNZs: 121, Bias: -39.332745, T: 3502544, Avg. loss: 8377713.464428\n",
      "Total training time: 1.63 seconds.\n",
      "-- Epoch 18\n",
      "Norm: 33630.29, NNZs: 121, Bias: -39.481826, T: 3708576, Avg. loss: 7879660.665597\n",
      "Total training time: 1.72 seconds.\n",
      "-- Epoch 19\n",
      "Norm: 32958.28, NNZs: 121, Bias: -39.584247, T: 3914608, Avg. loss: 7469969.990780\n",
      "Total training time: 1.80 seconds.\n",
      "-- Epoch 20\n",
      "Norm: 32361.98, NNZs: 121, Bias: -39.632733, T: 4120640, Avg. loss: 7078998.415460\n",
      "Total training time: 1.89 seconds.\n",
      "-- Epoch 21\n",
      "Norm: 31894.42, NNZs: 121, Bias: -39.666034, T: 4326672, Avg. loss: 6751536.591943\n",
      "Total training time: 1.97 seconds.\n",
      "-- Epoch 22\n",
      "Norm: 31385.96, NNZs: 121, Bias: -39.670570, T: 4532704, Avg. loss: 6409818.784082\n",
      "Total training time: 2.06 seconds.\n",
      "-- Epoch 23\n",
      "Norm: 30885.04, NNZs: 121, Bias: -39.712996, T: 4738736, Avg. loss: 6164825.024751\n",
      "Total training time: 2.15 seconds.\n",
      "-- Epoch 24\n",
      "Norm: 30408.00, NNZs: 121, Bias: -39.699998, T: 4944768, Avg. loss: 5870177.156173\n",
      "Total training time: 2.23 seconds.\n",
      "-- Epoch 25\n",
      "Norm: 29919.22, NNZs: 121, Bias: -39.698238, T: 5150800, Avg. loss: 5659055.009247\n",
      "Total training time: 2.31 seconds.\n",
      "-- Epoch 26\n",
      "Norm: 29481.08, NNZs: 121, Bias: -39.702727, T: 5356832, Avg. loss: 5422603.455071\n",
      "Total training time: 2.40 seconds.\n",
      "-- Epoch 27\n",
      "Norm: 29065.39, NNZs: 121, Bias: -39.689395, T: 5562864, Avg. loss: 5206977.712539\n",
      "Total training time: 2.49 seconds.\n",
      "-- Epoch 28\n",
      "Norm: 28556.30, NNZs: 121, Bias: -39.656946, T: 5768896, Avg. loss: 5040479.840799\n",
      "Total training time: 2.57 seconds.\n",
      "-- Epoch 29\n",
      "Norm: 28134.33, NNZs: 121, Bias: -39.620877, T: 5974928, Avg. loss: 4843324.208861\n",
      "Total training time: 2.66 seconds.\n",
      "-- Epoch 30\n",
      "Norm: 27704.61, NNZs: 121, Bias: -39.555259, T: 6180960, Avg. loss: 4678883.921655\n",
      "Total training time: 2.75 seconds.\n",
      "-- Epoch 31\n",
      "Norm: 27293.47, NNZs: 121, Bias: -39.509743, T: 6386992, Avg. loss: 4513431.360494\n",
      "Total training time: 2.83 seconds.\n",
      "-- Epoch 32\n",
      "Norm: 26902.52, NNZs: 121, Bias: -39.495741, T: 6593024, Avg. loss: 4356016.425984\n",
      "Total training time: 2.92 seconds.\n",
      "-- Epoch 33\n",
      "Norm: 26474.14, NNZs: 121, Bias: -39.472853, T: 6799056, Avg. loss: 4227432.698439\n",
      "Total training time: 3.01 seconds.\n",
      "-- Epoch 34\n",
      "Norm: 26042.70, NNZs: 121, Bias: -39.353798, T: 7005088, Avg. loss: 4140961.022013\n",
      "Total training time: 3.09 seconds.\n",
      "-- Epoch 35\n",
      "Norm: 25663.84, NNZs: 121, Bias: -39.275117, T: 7211120, Avg. loss: 3997366.614971\n",
      "Total training time: 3.19 seconds.\n",
      "-- Epoch 36\n",
      "Norm: 25329.74, NNZs: 121, Bias: -39.234297, T: 7417152, Avg. loss: 3874275.338811\n",
      "Total training time: 3.27 seconds.\n",
      "-- Epoch 37\n",
      "Norm: 24991.46, NNZs: 121, Bias: -39.205376, T: 7623184, Avg. loss: 3791040.151931\n",
      "Total training time: 3.35 seconds.\n",
      "-- Epoch 38\n",
      "Norm: 24665.68, NNZs: 121, Bias: -39.146970, T: 7829216, Avg. loss: 3651685.851914\n",
      "Total training time: 3.45 seconds.\n",
      "-- Epoch 39\n",
      "Norm: 24315.85, NNZs: 121, Bias: -39.078827, T: 8035248, Avg. loss: 3585383.937329\n",
      "Total training time: 3.54 seconds.\n",
      "-- Epoch 40\n",
      "Norm: 23964.28, NNZs: 121, Bias: -38.987693, T: 8241280, Avg. loss: 3498426.052569\n",
      "Total training time: 3.62 seconds.\n",
      "-- Epoch 41\n",
      "Norm: 23652.28, NNZs: 121, Bias: -38.957782, T: 8447312, Avg. loss: 3422235.489784\n",
      "Total training time: 3.71 seconds.\n",
      "-- Epoch 42\n",
      "Norm: 23370.12, NNZs: 121, Bias: -38.927461, T: 8653344, Avg. loss: 3321652.295376\n",
      "Total training time: 3.79 seconds.\n",
      "-- Epoch 43\n",
      "Norm: 23062.76, NNZs: 121, Bias: -38.865887, T: 8859376, Avg. loss: 3271627.395640\n",
      "Total training time: 3.87 seconds.\n",
      "-- Epoch 44\n",
      "Norm: 22742.87, NNZs: 121, Bias: -38.804603, T: 9065408, Avg. loss: 3166720.488606\n",
      "Total training time: 3.96 seconds.\n",
      "-- Epoch 45\n",
      "Norm: 22446.37, NNZs: 121, Bias: -38.748072, T: 9271440, Avg. loss: 3085548.866830\n",
      "Total training time: 4.06 seconds.\n",
      "-- Epoch 46\n",
      "Norm: 22160.56, NNZs: 121, Bias: -38.708484, T: 9477472, Avg. loss: 3034922.885511\n",
      "Total training time: 4.14 seconds.\n",
      "-- Epoch 47\n",
      "Norm: 21855.45, NNZs: 121, Bias: -38.628216, T: 9683504, Avg. loss: 2984309.669620\n",
      "Total training time: 4.23 seconds.\n",
      "-- Epoch 48\n",
      "Norm: 21567.70, NNZs: 121, Bias: -38.578198, T: 9889536, Avg. loss: 2910082.672034\n",
      "Total training time: 4.31 seconds.\n",
      "-- Epoch 49\n",
      "Norm: 21276.26, NNZs: 121, Bias: -38.505176, T: 10095568, Avg. loss: 2839581.994594\n",
      "Total training time: 4.39 seconds.\n",
      "-- Epoch 50\n",
      "Norm: 21014.05, NNZs: 121, Bias: -38.465837, T: 10301600, Avg. loss: 2774365.278992\n",
      "Total training time: 4.48 seconds.\n",
      "-- Epoch 51\n",
      "Norm: 20743.58, NNZs: 121, Bias: -38.399553, T: 10507632, Avg. loss: 2734764.379377\n",
      "Total training time: 4.57 seconds.\n",
      "-- Epoch 52\n",
      "Norm: 20473.12, NNZs: 121, Bias: -38.354375, T: 10713664, Avg. loss: 2691855.359590\n",
      "Total training time: 4.65 seconds.\n",
      "-- Epoch 53\n",
      "Norm: 20222.15, NNZs: 121, Bias: -38.318302, T: 10919696, Avg. loss: 2644980.727885\n",
      "Total training time: 4.74 seconds.\n",
      "-- Epoch 54\n",
      "Norm: 19960.58, NNZs: 121, Bias: -38.238405, T: 11125728, Avg. loss: 2571320.075983\n",
      "Total training time: 4.83 seconds.\n",
      "-- Epoch 55\n",
      "Norm: 19738.48, NNZs: 121, Bias: -38.163494, T: 11331760, Avg. loss: 2537802.390810\n",
      "Total training time: 4.92 seconds.\n",
      "-- Epoch 56\n",
      "Norm: 19502.89, NNZs: 121, Bias: -38.089293, T: 11537792, Avg. loss: 2488238.133947\n",
      "Total training time: 5.01 seconds.\n",
      "-- Epoch 57\n",
      "Norm: 19256.53, NNZs: 121, Bias: -38.020674, T: 11743824, Avg. loss: 2454001.045476\n",
      "Total training time: 5.09 seconds.\n",
      "-- Epoch 58\n",
      "Norm: 19027.14, NNZs: 121, Bias: -37.984482, T: 11949856, Avg. loss: 2391731.549191\n",
      "Total training time: 5.18 seconds.\n",
      "-- Epoch 59\n",
      "Norm: 18777.49, NNZs: 121, Bias: -37.925469, T: 12155888, Avg. loss: 2374205.802823\n",
      "Total training time: 5.27 seconds.\n",
      "-- Epoch 60\n",
      "Norm: 18548.59, NNZs: 121, Bias: -37.835677, T: 12361920, Avg. loss: 2329769.090343\n",
      "Total training time: 5.35 seconds.\n",
      "-- Epoch 61\n",
      "Norm: 18321.10, NNZs: 121, Bias: -37.776368, T: 12567952, Avg. loss: 2283409.508133\n",
      "Total training time: 5.44 seconds.\n",
      "-- Epoch 62\n",
      "Norm: 18116.40, NNZs: 121, Bias: -37.715607, T: 12773984, Avg. loss: 2255810.463289\n",
      "Total training time: 5.53 seconds.\n",
      "-- Epoch 63\n",
      "Norm: 17925.91, NNZs: 121, Bias: -37.667503, T: 12980016, Avg. loss: 2205862.348493\n",
      "Total training time: 5.62 seconds.\n",
      "-- Epoch 64\n",
      "Norm: 17731.42, NNZs: 121, Bias: -37.622391, T: 13186048, Avg. loss: 2184760.771203\n",
      "Total training time: 5.71 seconds.\n",
      "-- Epoch 65\n",
      "Norm: 17531.51, NNZs: 121, Bias: -37.544165, T: 13392080, Avg. loss: 2138427.719663\n",
      "Total training time: 5.80 seconds.\n",
      "-- Epoch 66\n",
      "Norm: 17318.25, NNZs: 121, Bias: -37.485027, T: 13598112, Avg. loss: 2117466.202034\n",
      "Total training time: 5.89 seconds.\n",
      "-- Epoch 67\n",
      "Norm: 17139.68, NNZs: 121, Bias: -37.428826, T: 13804144, Avg. loss: 2072628.002404\n",
      "Total training time: 5.99 seconds.\n",
      "-- Epoch 68\n",
      "Norm: 16948.82, NNZs: 121, Bias: -37.364204, T: 14010176, Avg. loss: 2047787.632753\n",
      "Total training time: 6.10 seconds.\n",
      "-- Epoch 69\n",
      "Norm: 16776.55, NNZs: 121, Bias: -37.291273, T: 14216208, Avg. loss: 2016972.118491\n",
      "Total training time: 6.19 seconds.\n",
      "-- Epoch 70\n",
      "Norm: 16581.34, NNZs: 121, Bias: -37.227802, T: 14422240, Avg. loss: 1988099.847479\n",
      "Total training time: 6.28 seconds.\n",
      "-- Epoch 71\n",
      "Norm: 16403.26, NNZs: 121, Bias: -37.169282, T: 14628272, Avg. loss: 1959817.514229\n",
      "Total training time: 6.37 seconds.\n",
      "-- Epoch 72\n",
      "Norm: 16250.59, NNZs: 121, Bias: -37.121729, T: 14834304, Avg. loss: 1925897.358594\n",
      "Total training time: 6.46 seconds.\n",
      "-- Epoch 73\n",
      "Norm: 16083.69, NNZs: 121, Bias: -37.068925, T: 15040336, Avg. loss: 1906358.866676\n",
      "Total training time: 6.54 seconds.\n",
      "-- Epoch 74\n",
      "Norm: 15896.86, NNZs: 121, Bias: -37.007479, T: 15246368, Avg. loss: 1886505.351097\n",
      "Total training time: 6.63 seconds.\n",
      "-- Epoch 75\n",
      "Norm: 15746.55, NNZs: 121, Bias: -36.945664, T: 15452400, Avg. loss: 1857267.446441\n",
      "Total training time: 6.71 seconds.\n",
      "-- Epoch 76\n",
      "Norm: 15581.46, NNZs: 121, Bias: -36.894276, T: 15658432, Avg. loss: 1829724.680372\n",
      "Total training time: 6.80 seconds.\n",
      "-- Epoch 77\n",
      "Norm: 15424.22, NNZs: 121, Bias: -36.836547, T: 15864464, Avg. loss: 1798897.999097\n",
      "Total training time: 6.89 seconds.\n",
      "-- Epoch 78\n",
      "Norm: 15251.20, NNZs: 121, Bias: -36.794013, T: 16070496, Avg. loss: 1788641.078300\n",
      "Total training time: 6.98 seconds.\n",
      "-- Epoch 79\n",
      "Norm: 15087.92, NNZs: 121, Bias: -36.741444, T: 16276528, Avg. loss: 1748275.363906\n",
      "Total training time: 7.07 seconds.\n",
      "-- Epoch 80\n",
      "Norm: 14944.81, NNZs: 121, Bias: -36.678582, T: 16482560, Avg. loss: 1742152.819994\n",
      "Total training time: 7.15 seconds.\n",
      "-- Epoch 81\n",
      "Norm: 14820.69, NNZs: 121, Bias: -36.646041, T: 16688592, Avg. loss: 1715128.921892\n",
      "Total training time: 7.24 seconds.\n",
      "-- Epoch 82\n",
      "Norm: 14680.18, NNZs: 121, Bias: -36.585819, T: 16894624, Avg. loss: 1705508.878623\n",
      "Total training time: 7.33 seconds.\n",
      "-- Epoch 83\n",
      "Norm: 14533.91, NNZs: 121, Bias: -36.529344, T: 17100656, Avg. loss: 1672741.872933\n",
      "Total training time: 7.41 seconds.\n",
      "-- Epoch 84\n",
      "Norm: 14382.79, NNZs: 121, Bias: -36.481776, T: 17306688, Avg. loss: 1667401.829899\n",
      "Total training time: 7.49 seconds.\n",
      "-- Epoch 85\n",
      "Norm: 14255.24, NNZs: 121, Bias: -36.428392, T: 17512720, Avg. loss: 1634691.558564\n",
      "Total training time: 7.58 seconds.\n",
      "-- Epoch 86\n",
      "Norm: 14125.75, NNZs: 121, Bias: -36.379647, T: 17718752, Avg. loss: 1614470.172651\n",
      "Total training time: 7.66 seconds.\n",
      "-- Epoch 87\n",
      "Norm: 14003.05, NNZs: 121, Bias: -36.330170, T: 17924784, Avg. loss: 1612106.529619\n",
      "Total training time: 7.74 seconds.\n",
      "-- Epoch 88\n",
      "Norm: 13864.30, NNZs: 121, Bias: -36.274100, T: 18130816, Avg. loss: 1578315.802164\n",
      "Total training time: 7.83 seconds.\n",
      "-- Epoch 89\n",
      "Norm: 13750.26, NNZs: 121, Bias: -36.222588, T: 18336848, Avg. loss: 1561064.705810\n",
      "Total training time: 7.91 seconds.\n",
      "-- Epoch 90\n",
      "Norm: 13639.56, NNZs: 121, Bias: -36.180908, T: 18542880, Avg. loss: 1544187.494332\n",
      "Total training time: 8.00 seconds.\n",
      "-- Epoch 91\n",
      "Norm: 13506.64, NNZs: 121, Bias: -36.131637, T: 18748912, Avg. loss: 1533971.006010\n",
      "Total training time: 8.08 seconds.\n",
      "-- Epoch 92\n",
      "Norm: 13399.48, NNZs: 121, Bias: -36.071778, T: 18954944, Avg. loss: 1513580.691447\n",
      "Total training time: 8.17 seconds.\n",
      "-- Epoch 93\n",
      "Norm: 13284.65, NNZs: 121, Bias: -36.033518, T: 19160976, Avg. loss: 1502620.839492\n",
      "Total training time: 8.26 seconds.\n",
      "-- Epoch 94\n",
      "Norm: 13179.71, NNZs: 121, Bias: -36.003391, T: 19367008, Avg. loss: 1487350.917887\n",
      "Total training time: 8.34 seconds.\n",
      "-- Epoch 95\n",
      "Norm: 13067.39, NNZs: 121, Bias: -35.950495, T: 19573040, Avg. loss: 1460557.849270\n",
      "Total training time: 8.42 seconds.\n",
      "-- Epoch 96\n",
      "Norm: 12954.48, NNZs: 121, Bias: -35.904280, T: 19779072, Avg. loss: 1451700.841633\n",
      "Total training time: 8.51 seconds.\n",
      "-- Epoch 97\n",
      "Norm: 12852.19, NNZs: 121, Bias: -35.851020, T: 19985104, Avg. loss: 1429754.347953\n",
      "Total training time: 8.60 seconds.\n",
      "-- Epoch 98\n",
      "Norm: 12735.69, NNZs: 121, Bias: -35.805699, T: 20191136, Avg. loss: 1416112.346776\n",
      "Total training time: 8.69 seconds.\n",
      "-- Epoch 99\n",
      "Norm: 12625.09, NNZs: 121, Bias: -35.760354, T: 20397168, Avg. loss: 1402093.713259\n",
      "Total training time: 8.78 seconds.\n",
      "-- Epoch 100\n",
      "Norm: 12525.86, NNZs: 121, Bias: -35.714985, T: 20603200, Avg. loss: 1385450.763469\n",
      "Total training time: 8.86 seconds.\n",
      "-- Epoch 101\n",
      "Norm: 12429.04, NNZs: 121, Bias: -35.675410, T: 20809232, Avg. loss: 1376637.258780\n",
      "Total training time: 8.94 seconds.\n",
      "-- Epoch 102\n",
      "Norm: 12329.55, NNZs: 121, Bias: -35.637673, T: 21015264, Avg. loss: 1365905.983280\n",
      "Total training time: 9.03 seconds.\n",
      "-- Epoch 103\n",
      "Norm: 12223.85, NNZs: 121, Bias: -35.587972, T: 21221296, Avg. loss: 1353074.633727\n",
      "Total training time: 9.11 seconds.\n",
      "-- Epoch 104\n",
      "Norm: 12124.68, NNZs: 121, Bias: -35.550015, T: 21427328, Avg. loss: 1336655.613459\n",
      "Total training time: 9.20 seconds.\n",
      "-- Epoch 105\n",
      "Norm: 12022.45, NNZs: 121, Bias: -35.498524, T: 21633360, Avg. loss: 1323911.480881\n",
      "Total training time: 9.29 seconds.\n",
      "-- Epoch 106\n",
      "Norm: 11932.77, NNZs: 121, Bias: -35.464965, T: 21839392, Avg. loss: 1310393.601092\n",
      "Total training time: 9.38 seconds.\n",
      "-- Epoch 107\n",
      "Norm: 11845.81, NNZs: 121, Bias: -35.414855, T: 22045424, Avg. loss: 1305912.814894\n",
      "Total training time: 9.46 seconds.\n",
      "-- Epoch 108\n",
      "Norm: 11753.59, NNZs: 121, Bias: -35.377393, T: 22251456, Avg. loss: 1286141.278710\n",
      "Total training time: 9.55 seconds.\n",
      "-- Epoch 109\n",
      "Norm: 11673.65, NNZs: 121, Bias: -35.326814, T: 22457488, Avg. loss: 1288522.303710\n",
      "Total training time: 9.64 seconds.\n",
      "-- Epoch 110\n",
      "Norm: 11588.01, NNZs: 121, Bias: -35.290890, T: 22663520, Avg. loss: 1273914.726867\n",
      "Total training time: 9.72 seconds.\n",
      "-- Epoch 111\n",
      "Norm: 11499.21, NNZs: 121, Bias: -35.254373, T: 22869552, Avg. loss: 1247046.043855\n",
      "Total training time: 9.80 seconds.\n",
      "-- Epoch 112\n",
      "Norm: 11414.61, NNZs: 121, Bias: -35.209951, T: 23075584, Avg. loss: 1246502.448279\n",
      "Total training time: 9.89 seconds.\n",
      "-- Epoch 113\n",
      "Norm: 11331.61, NNZs: 121, Bias: -35.171941, T: 23281616, Avg. loss: 1228046.326248\n",
      "Total training time: 9.97 seconds.\n",
      "-- Epoch 114\n",
      "Norm: 11265.34, NNZs: 121, Bias: -35.134736, T: 23487648, Avg. loss: 1215313.788884\n",
      "Total training time: 10.06 seconds.\n",
      "-- Epoch 115\n",
      "Norm: 11189.07, NNZs: 121, Bias: -35.092369, T: 23693680, Avg. loss: 1202358.531886\n",
      "Total training time: 10.15 seconds.\n",
      "-- Epoch 116\n",
      "Norm: 11100.66, NNZs: 121, Bias: -35.044874, T: 23899712, Avg. loss: 1198139.106103\n",
      "Total training time: 10.23 seconds.\n",
      "-- Epoch 117\n",
      "Norm: 11012.16, NNZs: 121, Bias: -35.009906, T: 24105744, Avg. loss: 1189953.288968\n",
      "Total training time: 10.32 seconds.\n",
      "-- Epoch 118\n",
      "Norm: 10944.08, NNZs: 121, Bias: -34.971059, T: 24311776, Avg. loss: 1174700.768672\n",
      "Total training time: 10.40 seconds.\n",
      "-- Epoch 119\n",
      "Norm: 10869.09, NNZs: 121, Bias: -34.941166, T: 24517808, Avg. loss: 1163585.714192\n",
      "Total training time: 10.48 seconds.\n",
      "-- Epoch 120\n",
      "Norm: 10801.95, NNZs: 121, Bias: -34.900538, T: 24723840, Avg. loss: 1159525.311532\n",
      "Total training time: 10.57 seconds.\n",
      "-- Epoch 121\n",
      "Norm: 10739.44, NNZs: 121, Bias: -34.857832, T: 24929872, Avg. loss: 1146447.447348\n",
      "Total training time: 10.65 seconds.\n",
      "-- Epoch 122\n",
      "Norm: 10665.71, NNZs: 121, Bias: -34.821512, T: 25135904, Avg. loss: 1139468.942446\n",
      "Total training time: 10.75 seconds.\n",
      "-- Epoch 123\n",
      "Norm: 10588.49, NNZs: 121, Bias: -34.775137, T: 25341936, Avg. loss: 1132331.982614\n",
      "Total training time: 10.85 seconds.\n",
      "-- Epoch 124\n",
      "Norm: 10515.34, NNZs: 121, Bias: -34.737430, T: 25547968, Avg. loss: 1121920.677946\n",
      "Total training time: 10.95 seconds.\n",
      "-- Epoch 125\n",
      "Norm: 10442.29, NNZs: 121, Bias: -34.694570, T: 25754000, Avg. loss: 1116870.596408\n",
      "Total training time: 11.05 seconds.\n",
      "-- Epoch 126\n",
      "Norm: 10384.84, NNZs: 121, Bias: -34.661681, T: 25960032, Avg. loss: 1103988.227847\n",
      "Total training time: 11.15 seconds.\n",
      "-- Epoch 127\n",
      "Norm: 10318.38, NNZs: 121, Bias: -34.629071, T: 26166064, Avg. loss: 1089042.198240\n",
      "Total training time: 11.23 seconds.\n",
      "-- Epoch 128\n",
      "Norm: 10253.51, NNZs: 121, Bias: -34.603944, T: 26372096, Avg. loss: 1087808.231794\n",
      "Total training time: 11.31 seconds.\n",
      "-- Epoch 129\n",
      "Norm: 10185.01, NNZs: 121, Bias: -34.574118, T: 26578128, Avg. loss: 1071377.187913\n",
      "Total training time: 11.40 seconds.\n",
      "-- Epoch 130\n",
      "Norm: 10124.25, NNZs: 121, Bias: -34.538143, T: 26784160, Avg. loss: 1067676.877117\n",
      "Total training time: 11.49 seconds.\n",
      "-- Epoch 131\n",
      "Norm: 10048.97, NNZs: 121, Bias: -34.505385, T: 26990192, Avg. loss: 1060332.886331\n",
      "Total training time: 11.57 seconds.\n",
      "-- Epoch 132\n",
      "Norm: 9988.34, NNZs: 121, Bias: -34.468448, T: 27196224, Avg. loss: 1053180.353907\n",
      "Total training time: 11.66 seconds.\n",
      "-- Epoch 133\n",
      "Norm: 9931.60, NNZs: 121, Bias: -34.429588, T: 27402256, Avg. loss: 1046695.962672\n",
      "Total training time: 11.74 seconds.\n",
      "-- Epoch 134\n",
      "Norm: 9861.92, NNZs: 121, Bias: -34.389609, T: 27608288, Avg. loss: 1035734.370974\n",
      "Total training time: 11.82 seconds.\n",
      "-- Epoch 135\n",
      "Norm: 9797.72, NNZs: 121, Bias: -34.352451, T: 27814320, Avg. loss: 1031943.668754\n",
      "Total training time: 11.91 seconds.\n",
      "-- Epoch 136\n",
      "Norm: 9741.09, NNZs: 121, Bias: -34.319176, T: 28020352, Avg. loss: 1020424.010879\n",
      "Total training time: 12.00 seconds.\n",
      "-- Epoch 137\n",
      "Norm: 9687.94, NNZs: 121, Bias: -34.289664, T: 28226384, Avg. loss: 1017656.103473\n",
      "Total training time: 12.08 seconds.\n",
      "-- Epoch 138\n",
      "Norm: 9625.84, NNZs: 121, Bias: -34.254011, T: 28432416, Avg. loss: 1004943.332034\n",
      "Total training time: 12.17 seconds.\n",
      "-- Epoch 139\n",
      "Norm: 9573.49, NNZs: 121, Bias: -34.219688, T: 28638448, Avg. loss: 999998.219659\n",
      "Total training time: 12.25 seconds.\n",
      "-- Epoch 140\n",
      "Norm: 9532.84, NNZs: 121, Bias: -34.189783, T: 28844480, Avg. loss: 990556.514734\n",
      "Total training time: 12.34 seconds.\n",
      "-- Epoch 141\n",
      "Norm: 9468.78, NNZs: 121, Bias: -34.159386, T: 29050512, Avg. loss: 984565.398692\n",
      "Total training time: 12.42 seconds.\n",
      "-- Epoch 142\n",
      "Norm: 9421.07, NNZs: 121, Bias: -34.129883, T: 29256544, Avg. loss: 978263.308031\n",
      "Total training time: 12.51 seconds.\n",
      "-- Epoch 143\n",
      "Norm: 9364.36, NNZs: 121, Bias: -34.100256, T: 29462576, Avg. loss: 970770.584593\n",
      "Total training time: 12.60 seconds.\n",
      "-- Epoch 144\n",
      "Norm: 9298.05, NNZs: 121, Bias: -34.069821, T: 29668608, Avg. loss: 969718.033852\n",
      "Total training time: 12.71 seconds.\n",
      "-- Epoch 145\n",
      "Norm: 9247.21, NNZs: 121, Bias: -34.028826, T: 29874640, Avg. loss: 957527.320132\n",
      "Total training time: 12.81 seconds.\n",
      "-- Epoch 146\n",
      "Norm: 9196.89, NNZs: 121, Bias: -33.995117, T: 30080672, Avg. loss: 948242.187564\n",
      "Total training time: 12.90 seconds.\n",
      "-- Epoch 147\n",
      "Norm: 9151.45, NNZs: 121, Bias: -33.970924, T: 30286704, Avg. loss: 942308.819530\n",
      "Total training time: 12.99 seconds.\n",
      "-- Epoch 148\n",
      "Norm: 9107.26, NNZs: 121, Bias: -33.945239, T: 30492736, Avg. loss: 939816.055386\n",
      "Total training time: 13.07 seconds.\n",
      "-- Epoch 149\n",
      "Norm: 9054.26, NNZs: 121, Bias: -33.922687, T: 30698768, Avg. loss: 929139.171783\n",
      "Total training time: 13.15 seconds.\n",
      "-- Epoch 150\n",
      "Norm: 9008.18, NNZs: 121, Bias: -33.887944, T: 30904800, Avg. loss: 923826.250026\n",
      "Total training time: 13.26 seconds.\n",
      "-- Epoch 151\n",
      "Norm: 8951.02, NNZs: 121, Bias: -33.853443, T: 31110832, Avg. loss: 919971.421668\n",
      "Total training time: 13.36 seconds.\n",
      "-- Epoch 152\n",
      "Norm: 8899.65, NNZs: 121, Bias: -33.822020, T: 31316864, Avg. loss: 915857.300475\n",
      "Total training time: 13.45 seconds.\n",
      "-- Epoch 153\n",
      "Norm: 8853.63, NNZs: 121, Bias: -33.787965, T: 31522896, Avg. loss: 911971.378653\n",
      "Total training time: 13.54 seconds.\n",
      "-- Epoch 154\n",
      "Norm: 8804.79, NNZs: 121, Bias: -33.760146, T: 31728928, Avg. loss: 900362.247425\n",
      "Total training time: 13.64 seconds.\n",
      "-- Epoch 155\n",
      "Norm: 8762.44, NNZs: 121, Bias: -33.728105, T: 31934960, Avg. loss: 894717.709482\n",
      "Total training time: 13.74 seconds.\n",
      "-- Epoch 156\n",
      "Norm: 8710.30, NNZs: 121, Bias: -33.694706, T: 32140992, Avg. loss: 891908.866937\n",
      "Total training time: 13.84 seconds.\n",
      "-- Epoch 157\n",
      "Norm: 8667.90, NNZs: 121, Bias: -33.667410, T: 32347024, Avg. loss: 880477.918368\n",
      "Total training time: 13.92 seconds.\n",
      "-- Epoch 158\n",
      "Norm: 8626.91, NNZs: 121, Bias: -33.639977, T: 32553056, Avg. loss: 875552.137116\n",
      "Total training time: 14.02 seconds.\n",
      "-- Epoch 159\n",
      "Norm: 8582.09, NNZs: 121, Bias: -33.609960, T: 32759088, Avg. loss: 873071.316956\n",
      "Total training time: 14.13 seconds.\n",
      "-- Epoch 160\n",
      "Norm: 8539.36, NNZs: 121, Bias: -33.591397, T: 32965120, Avg. loss: 865330.697177\n",
      "Total training time: 14.22 seconds.\n",
      "-- Epoch 161\n",
      "Norm: 8501.70, NNZs: 121, Bias: -33.562984, T: 33171152, Avg. loss: 862905.741893\n",
      "Total training time: 14.31 seconds.\n",
      "-- Epoch 162\n",
      "Norm: 8456.99, NNZs: 121, Bias: -33.525416, T: 33377184, Avg. loss: 855786.638109\n",
      "Total training time: 14.41 seconds.\n",
      "-- Epoch 163\n",
      "Norm: 8407.72, NNZs: 121, Bias: -33.498536, T: 33583216, Avg. loss: 853510.077943\n",
      "Total training time: 14.51 seconds.\n",
      "-- Epoch 164\n",
      "Norm: 8369.61, NNZs: 121, Bias: -33.470318, T: 33789248, Avg. loss: 843403.470286\n",
      "Total training time: 14.60 seconds.\n",
      "-- Epoch 165\n",
      "Norm: 8323.18, NNZs: 121, Bias: -33.442271, T: 33995280, Avg. loss: 837046.440677\n",
      "Total training time: 14.71 seconds.\n",
      "-- Epoch 166\n",
      "Norm: 8285.67, NNZs: 121, Bias: -33.419691, T: 34201312, Avg. loss: 835332.969000\n",
      "Total training time: 14.81 seconds.\n",
      "-- Epoch 167\n",
      "Norm: 8248.27, NNZs: 121, Bias: -33.396641, T: 34407344, Avg. loss: 826370.838774\n",
      "Total training time: 14.91 seconds.\n",
      "-- Epoch 168\n",
      "Norm: 8212.37, NNZs: 121, Bias: -33.363901, T: 34613376, Avg. loss: 826135.157009\n",
      "Total training time: 15.00 seconds.\n",
      "-- Epoch 169\n",
      "Norm: 8169.71, NNZs: 121, Bias: -33.334821, T: 34819408, Avg. loss: 824489.802693\n",
      "Total training time: 15.10 seconds.\n",
      "-- Epoch 170\n",
      "Norm: 8132.07, NNZs: 121, Bias: -33.309621, T: 35025440, Avg. loss: 812399.840047\n",
      "Total training time: 15.20 seconds.\n",
      "-- Epoch 171\n",
      "Norm: 8099.22, NNZs: 121, Bias: -33.287141, T: 35231472, Avg. loss: 809804.460981\n",
      "Total training time: 15.29 seconds.\n",
      "-- Epoch 172\n",
      "Norm: 8065.72, NNZs: 121, Bias: -33.269320, T: 35437504, Avg. loss: 804734.703349\n",
      "Total training time: 15.39 seconds.\n",
      "-- Epoch 173\n",
      "Norm: 8030.71, NNZs: 121, Bias: -33.245672, T: 35643536, Avg. loss: 804710.556709\n",
      "Total training time: 15.49 seconds.\n",
      "-- Epoch 174\n",
      "Norm: 7991.28, NNZs: 121, Bias: -33.211830, T: 35849568, Avg. loss: 798930.679150\n",
      "Total training time: 15.59 seconds.\n",
      "-- Epoch 175\n",
      "Norm: 7952.56, NNZs: 121, Bias: -33.186799, T: 36055600, Avg. loss: 793670.846273\n",
      "Total training time: 15.68 seconds.\n",
      "-- Epoch 176\n",
      "Norm: 7916.08, NNZs: 121, Bias: -33.162182, T: 36261632, Avg. loss: 786766.721795\n",
      "Total training time: 15.78 seconds.\n",
      "-- Epoch 177\n",
      "Norm: 7870.75, NNZs: 121, Bias: -33.133859, T: 36467664, Avg. loss: 785478.628414\n",
      "Total training time: 15.88 seconds.\n",
      "-- Epoch 178\n",
      "Norm: 7835.25, NNZs: 121, Bias: -33.105148, T: 36673696, Avg. loss: 779377.530230\n",
      "Total training time: 15.98 seconds.\n",
      "-- Epoch 179\n",
      "Norm: 7795.64, NNZs: 121, Bias: -33.082042, T: 36879728, Avg. loss: 776766.491928\n",
      "Total training time: 16.07 seconds.\n",
      "-- Epoch 180\n",
      "Norm: 7759.74, NNZs: 121, Bias: -33.068518, T: 37085760, Avg. loss: 767585.060784\n",
      "Total training time: 16.17 seconds.\n",
      "-- Epoch 181\n",
      "Norm: 7727.36, NNZs: 121, Bias: -33.047257, T: 37291792, Avg. loss: 766240.069447\n",
      "Total training time: 16.28 seconds.\n",
      "-- Epoch 182\n",
      "Norm: 7694.40, NNZs: 121, Bias: -33.020773, T: 37497824, Avg. loss: 765831.634673\n",
      "Total training time: 16.37 seconds.\n",
      "-- Epoch 183\n",
      "Norm: 7659.23, NNZs: 121, Bias: -32.993381, T: 37703856, Avg. loss: 760910.145116\n",
      "Total training time: 16.45 seconds.\n",
      "-- Epoch 184\n",
      "Norm: 7616.21, NNZs: 121, Bias: -32.960316, T: 37909888, Avg. loss: 753519.867680\n",
      "Total training time: 16.56 seconds.\n",
      "-- Epoch 185\n",
      "Norm: 7589.00, NNZs: 121, Bias: -32.933213, T: 38115920, Avg. loss: 752158.005316\n",
      "Total training time: 16.66 seconds.\n",
      "-- Epoch 186\n",
      "Norm: 7554.69, NNZs: 121, Bias: -32.911238, T: 38321952, Avg. loss: 744382.527515\n",
      "Total training time: 16.74 seconds.\n",
      "-- Epoch 187\n",
      "Norm: 7519.80, NNZs: 121, Bias: -32.889374, T: 38527984, Avg. loss: 743562.069252\n",
      "Total training time: 16.83 seconds.\n",
      "-- Epoch 188\n",
      "Norm: 7478.75, NNZs: 121, Bias: -32.861400, T: 38734016, Avg. loss: 737232.440974\n",
      "Total training time: 16.94 seconds.\n",
      "-- Epoch 189\n",
      "Norm: 7438.20, NNZs: 121, Bias: -32.838484, T: 38940048, Avg. loss: 738426.167168\n",
      "Total training time: 17.04 seconds.\n",
      "-- Epoch 190\n",
      "Norm: 7402.37, NNZs: 121, Bias: -32.824387, T: 39146080, Avg. loss: 731857.715601\n",
      "Total training time: 17.14 seconds.\n",
      "-- Epoch 191\n",
      "Norm: 7375.60, NNZs: 121, Bias: -32.805019, T: 39352112, Avg. loss: 725310.771777\n",
      "Total training time: 17.22 seconds.\n",
      "-- Epoch 192\n",
      "Norm: 7355.32, NNZs: 121, Bias: -32.778911, T: 39558144, Avg. loss: 720144.093894\n",
      "Total training time: 17.30 seconds.\n",
      "-- Epoch 193\n",
      "Norm: 7314.68, NNZs: 121, Bias: -32.759504, T: 39764176, Avg. loss: 719441.021296\n",
      "Total training time: 17.39 seconds.\n",
      "-- Epoch 194\n",
      "Norm: 7280.36, NNZs: 121, Bias: -32.740707, T: 39970208, Avg. loss: 717338.861591\n",
      "Total training time: 17.48 seconds.\n",
      "-- Epoch 195\n",
      "Norm: 7258.23, NNZs: 121, Bias: -32.723741, T: 40176240, Avg. loss: 712156.600822\n",
      "Total training time: 17.56 seconds.\n",
      "-- Epoch 196\n",
      "Norm: 7230.05, NNZs: 121, Bias: -32.699904, T: 40382272, Avg. loss: 714664.261932\n",
      "Total training time: 17.65 seconds.\n",
      "-- Epoch 197\n",
      "Norm: 7195.26, NNZs: 121, Bias: -32.678399, T: 40588304, Avg. loss: 704122.725186\n",
      "Total training time: 17.74 seconds.\n",
      "-- Epoch 198\n",
      "Norm: 7173.77, NNZs: 121, Bias: -32.661198, T: 40794336, Avg. loss: 699900.375736\n",
      "Total training time: 17.82 seconds.\n",
      "-- Epoch 199\n",
      "Norm: 7139.79, NNZs: 121, Bias: -32.639190, T: 41000368, Avg. loss: 700074.349420\n",
      "Total training time: 17.92 seconds.\n",
      "-- Epoch 200\n",
      "Norm: 7113.60, NNZs: 121, Bias: -32.618759, T: 41206400, Avg. loss: 693575.456799\n",
      "Total training time: 18.00 seconds.\n",
      "-- Epoch 201\n",
      "Norm: 7080.23, NNZs: 121, Bias: -32.597947, T: 41412432, Avg. loss: 694822.559236\n",
      "Total training time: 18.08 seconds.\n",
      "-- Epoch 202\n",
      "Norm: 7057.27, NNZs: 121, Bias: -32.581560, T: 41618464, Avg. loss: 686235.371931\n",
      "Total training time: 18.17 seconds.\n",
      "-- Epoch 203\n",
      "Norm: 7032.36, NNZs: 121, Bias: -32.568379, T: 41824496, Avg. loss: 679399.749656\n",
      "Total training time: 18.26 seconds.\n",
      "-- Epoch 204\n",
      "Norm: 7005.82, NNZs: 121, Bias: -32.548108, T: 42030528, Avg. loss: 679894.582808\n",
      "Total training time: 18.34 seconds.\n",
      "-- Epoch 205\n",
      "Norm: 6972.28, NNZs: 121, Bias: -32.526031, T: 42236560, Avg. loss: 678933.136352\n",
      "Total training time: 18.43 seconds.\n",
      "-- Epoch 206\n",
      "Norm: 6946.80, NNZs: 121, Bias: -32.509486, T: 42442592, Avg. loss: 675093.228043\n",
      "Total training time: 18.51 seconds.\n",
      "-- Epoch 207\n",
      "Norm: 6920.42, NNZs: 121, Bias: -32.495846, T: 42648624, Avg. loss: 669941.521967\n",
      "Total training time: 18.60 seconds.\n",
      "-- Epoch 208\n",
      "Norm: 6898.72, NNZs: 121, Bias: -32.474090, T: 42854656, Avg. loss: 667139.258294\n",
      "Total training time: 18.69 seconds.\n",
      "-- Epoch 209\n",
      "Norm: 6876.38, NNZs: 121, Bias: -32.460123, T: 43060688, Avg. loss: 663803.516825\n",
      "Total training time: 18.78 seconds.\n",
      "-- Epoch 210\n",
      "Norm: 6853.93, NNZs: 121, Bias: -32.439271, T: 43266720, Avg. loss: 662389.046147\n",
      "Total training time: 18.87 seconds.\n",
      "-- Epoch 211\n",
      "Norm: 6830.43, NNZs: 121, Bias: -32.412988, T: 43472752, Avg. loss: 654539.524623\n",
      "Total training time: 18.96 seconds.\n",
      "-- Epoch 212\n",
      "Norm: 6803.08, NNZs: 121, Bias: -32.391185, T: 43678784, Avg. loss: 655575.781123\n",
      "Total training time: 19.04 seconds.\n",
      "-- Epoch 213\n",
      "Norm: 6776.40, NNZs: 121, Bias: -32.375432, T: 43884816, Avg. loss: 648364.621746\n",
      "Total training time: 19.13 seconds.\n",
      "-- Epoch 214\n",
      "Norm: 6755.45, NNZs: 121, Bias: -32.356340, T: 44090848, Avg. loss: 648691.996363\n",
      "Total training time: 19.21 seconds.\n",
      "-- Epoch 215\n",
      "Norm: 6729.20, NNZs: 121, Bias: -32.335755, T: 44296880, Avg. loss: 642525.875201\n",
      "Total training time: 19.31 seconds.\n",
      "-- Epoch 216\n",
      "Norm: 6703.52, NNZs: 121, Bias: -32.313232, T: 44502912, Avg. loss: 643578.897415\n",
      "Total training time: 19.39 seconds.\n",
      "-- Epoch 217\n",
      "Norm: 6681.19, NNZs: 121, Bias: -32.293953, T: 44708944, Avg. loss: 639519.677165\n",
      "Total training time: 19.49 seconds.\n",
      "-- Epoch 218\n",
      "Norm: 6662.43, NNZs: 121, Bias: -32.274319, T: 44914976, Avg. loss: 630148.962813\n",
      "Total training time: 19.58 seconds.\n",
      "-- Epoch 219\n",
      "Norm: 6644.51, NNZs: 121, Bias: -32.258762, T: 45121008, Avg. loss: 631340.833669\n",
      "Total training time: 19.66 seconds.\n",
      "-- Epoch 220\n",
      "Norm: 6617.98, NNZs: 121, Bias: -32.242618, T: 45327040, Avg. loss: 631955.753359\n",
      "Total training time: 19.75 seconds.\n",
      "-- Epoch 221\n",
      "Norm: 6592.64, NNZs: 121, Bias: -32.221495, T: 45533072, Avg. loss: 627374.238088\n",
      "Total training time: 19.84 seconds.\n",
      "-- Epoch 222\n",
      "Norm: 6568.32, NNZs: 121, Bias: -32.203977, T: 45739104, Avg. loss: 620305.749979\n",
      "Total training time: 19.92 seconds.\n",
      "-- Epoch 223\n",
      "Norm: 6544.70, NNZs: 121, Bias: -32.188493, T: 45945136, Avg. loss: 619026.282065\n",
      "Total training time: 20.01 seconds.\n",
      "-- Epoch 224\n",
      "Norm: 6521.87, NNZs: 121, Bias: -32.173507, T: 46151168, Avg. loss: 621758.376806\n",
      "Total training time: 20.10 seconds.\n",
      "-- Epoch 225\n",
      "Norm: 6493.48, NNZs: 121, Bias: -32.155999, T: 46357200, Avg. loss: 617947.113541\n",
      "Total training time: 20.18 seconds.\n",
      "-- Epoch 226\n",
      "Norm: 6470.89, NNZs: 121, Bias: -32.135329, T: 46563232, Avg. loss: 616179.262680\n",
      "Total training time: 20.27 seconds.\n",
      "-- Epoch 227\n",
      "Norm: 6455.85, NNZs: 121, Bias: -32.115403, T: 46769264, Avg. loss: 611475.062620\n",
      "Total training time: 20.36 seconds.\n",
      "-- Epoch 228\n",
      "Norm: 6431.70, NNZs: 121, Bias: -32.097689, T: 46975296, Avg. loss: 608775.773269\n",
      "Total training time: 20.44 seconds.\n",
      "-- Epoch 229\n",
      "Norm: 6408.52, NNZs: 121, Bias: -32.085167, T: 47181328, Avg. loss: 603281.771090\n",
      "Total training time: 20.52 seconds.\n",
      "-- Epoch 230\n",
      "Norm: 6389.90, NNZs: 121, Bias: -32.063175, T: 47387360, Avg. loss: 605016.429522\n",
      "Total training time: 20.61 seconds.\n",
      "-- Epoch 231\n",
      "Norm: 6370.60, NNZs: 121, Bias: -32.047800, T: 47593392, Avg. loss: 598872.772092\n",
      "Total training time: 20.69 seconds.\n",
      "-- Epoch 232\n",
      "Norm: 6347.56, NNZs: 121, Bias: -32.035858, T: 47799424, Avg. loss: 600845.061513\n",
      "Total training time: 20.78 seconds.\n",
      "-- Epoch 233\n",
      "Norm: 6325.02, NNZs: 121, Bias: -32.015400, T: 48005456, Avg. loss: 595977.587799\n",
      "Total training time: 20.87 seconds.\n",
      "-- Epoch 234\n",
      "Norm: 6305.07, NNZs: 121, Bias: -32.000436, T: 48211488, Avg. loss: 592978.454178\n",
      "Total training time: 20.95 seconds.\n",
      "-- Epoch 235\n",
      "Norm: 6285.98, NNZs: 121, Bias: -31.987595, T: 48417520, Avg. loss: 590936.571354\n",
      "Total training time: 21.03 seconds.\n",
      "-- Epoch 236\n",
      "Norm: 6269.88, NNZs: 121, Bias: -31.967187, T: 48623552, Avg. loss: 587397.782867\n",
      "Total training time: 21.12 seconds.\n",
      "-- Epoch 237\n",
      "Norm: 6250.49, NNZs: 121, Bias: -31.953236, T: 48829584, Avg. loss: 581739.666192\n",
      "Total training time: 21.21 seconds.\n",
      "-- Epoch 238\n",
      "Norm: 6229.12, NNZs: 121, Bias: -31.933212, T: 49035616, Avg. loss: 585174.590611\n",
      "Total training time: 21.30 seconds.\n",
      "-- Epoch 239\n",
      "Norm: 6208.21, NNZs: 121, Bias: -31.916937, T: 49241648, Avg. loss: 578262.577315\n",
      "Total training time: 21.38 seconds.\n",
      "-- Epoch 240\n",
      "Norm: 6187.84, NNZs: 121, Bias: -31.904985, T: 49447680, Avg. loss: 573948.694065\n",
      "Total training time: 21.46 seconds.\n",
      "-- Epoch 241\n",
      "Norm: 6166.52, NNZs: 121, Bias: -31.884203, T: 49653712, Avg. loss: 574429.576001\n",
      "Total training time: 21.55 seconds.\n",
      "-- Epoch 242\n",
      "Norm: 6147.69, NNZs: 121, Bias: -31.864306, T: 49859744, Avg. loss: 571614.787465\n",
      "Total training time: 21.64 seconds.\n",
      "-- Epoch 243\n",
      "Norm: 6135.61, NNZs: 121, Bias: -31.849692, T: 50065776, Avg. loss: 570960.495592\n",
      "Total training time: 21.72 seconds.\n",
      "-- Epoch 244\n",
      "Norm: 6118.01, NNZs: 121, Bias: -31.835142, T: 50271808, Avg. loss: 565678.407256\n",
      "Total training time: 21.80 seconds.\n",
      "-- Epoch 245\n",
      "Norm: 6097.42, NNZs: 121, Bias: -31.818659, T: 50477840, Avg. loss: 565534.308055\n",
      "Total training time: 21.89 seconds.\n",
      "-- Epoch 246\n",
      "Norm: 6082.44, NNZs: 121, Bias: -31.804035, T: 50683872, Avg. loss: 560893.125965\n",
      "Total training time: 21.97 seconds.\n",
      "-- Epoch 247\n",
      "Norm: 6061.22, NNZs: 121, Bias: -31.785912, T: 50889904, Avg. loss: 562973.952643\n",
      "Total training time: 22.06 seconds.\n",
      "-- Epoch 248\n",
      "Norm: 6036.26, NNZs: 121, Bias: -31.764533, T: 51095936, Avg. loss: 558953.562211\n",
      "Total training time: 22.15 seconds.\n",
      "-- Epoch 249\n",
      "Norm: 6021.09, NNZs: 121, Bias: -31.752430, T: 51301968, Avg. loss: 555362.199903\n",
      "Total training time: 22.23 seconds.\n",
      "-- Epoch 250\n",
      "Norm: 6003.55, NNZs: 121, Bias: -31.733760, T: 51508000, Avg. loss: 554015.001740\n",
      "Total training time: 22.32 seconds.\n",
      "-- Epoch 251\n",
      "Norm: 5983.23, NNZs: 121, Bias: -31.716902, T: 51714032, Avg. loss: 551455.261127\n",
      "Total training time: 22.41 seconds.\n",
      "-- Epoch 252\n",
      "Norm: 5965.87, NNZs: 121, Bias: -31.700306, T: 51920064, Avg. loss: 548873.600248\n",
      "Total training time: 22.49 seconds.\n",
      "-- Epoch 253\n",
      "Norm: 5952.24, NNZs: 121, Bias: -31.689738, T: 52126096, Avg. loss: 547034.872593\n",
      "Total training time: 22.58 seconds.\n",
      "-- Epoch 254\n",
      "Norm: 5933.73, NNZs: 121, Bias: -31.672309, T: 52332128, Avg. loss: 547139.641678\n",
      "Total training time: 22.66 seconds.\n",
      "-- Epoch 255\n",
      "Norm: 5918.10, NNZs: 121, Bias: -31.655908, T: 52538160, Avg. loss: 543602.040556\n",
      "Total training time: 22.74 seconds.\n",
      "-- Epoch 256\n",
      "Norm: 5901.07, NNZs: 121, Bias: -31.641464, T: 52744192, Avg. loss: 539814.138162\n",
      "Total training time: 22.84 seconds.\n",
      "-- Epoch 257\n",
      "Norm: 5885.42, NNZs: 121, Bias: -31.628029, T: 52950224, Avg. loss: 538081.806380\n",
      "Total training time: 22.93 seconds.\n",
      "-- Epoch 258\n",
      "Norm: 5872.75, NNZs: 121, Bias: -31.611445, T: 53156256, Avg. loss: 536400.179563\n",
      "Total training time: 23.01 seconds.\n",
      "-- Epoch 259\n",
      "Norm: 5853.58, NNZs: 121, Bias: -31.594177, T: 53362288, Avg. loss: 537235.268533\n",
      "Total training time: 23.10 seconds.\n",
      "-- Epoch 260\n",
      "Norm: 5838.18, NNZs: 121, Bias: -31.576608, T: 53568320, Avg. loss: 533306.849550\n",
      "Total training time: 23.18 seconds.\n",
      "-- Epoch 261\n",
      "Norm: 5819.97, NNZs: 121, Bias: -31.563747, T: 53774352, Avg. loss: 531352.628828\n",
      "Total training time: 23.26 seconds.\n",
      "-- Epoch 262\n",
      "Norm: 5800.81, NNZs: 121, Bias: -31.551688, T: 53980384, Avg. loss: 530205.810379\n",
      "Total training time: 23.35 seconds.\n",
      "-- Epoch 263\n",
      "Norm: 5782.66, NNZs: 121, Bias: -31.535968, T: 54186416, Avg. loss: 527960.663794\n",
      "Total training time: 23.44 seconds.\n",
      "-- Epoch 264\n",
      "Norm: 5765.08, NNZs: 121, Bias: -31.521413, T: 54392448, Avg. loss: 524460.576332\n",
      "Total training time: 23.52 seconds.\n",
      "-- Epoch 265\n",
      "Norm: 5753.61, NNZs: 121, Bias: -31.509490, T: 54598480, Avg. loss: 522860.758502\n",
      "Total training time: 23.60 seconds.\n",
      "-- Epoch 266\n",
      "Norm: 5736.14, NNZs: 121, Bias: -31.495595, T: 54804512, Avg. loss: 519456.273175\n",
      "Total training time: 23.69 seconds.\n",
      "-- Epoch 267\n",
      "Norm: 5721.91, NNZs: 121, Bias: -31.487026, T: 55010544, Avg. loss: 519271.558625\n",
      "Total training time: 23.78 seconds.\n",
      "-- Epoch 268\n",
      "Norm: 5704.09, NNZs: 121, Bias: -31.470332, T: 55216576, Avg. loss: 517198.012445\n",
      "Total training time: 23.87 seconds.\n",
      "-- Epoch 269\n",
      "Norm: 5689.59, NNZs: 121, Bias: -31.453715, T: 55422608, Avg. loss: 515247.057701\n",
      "Total training time: 23.95 seconds.\n",
      "-- Epoch 270\n",
      "Norm: 5674.06, NNZs: 121, Bias: -31.438232, T: 55628640, Avg. loss: 514114.263241\n",
      "Total training time: 24.03 seconds.\n",
      "-- Epoch 271\n",
      "Norm: 5655.18, NNZs: 121, Bias: -31.419212, T: 55834672, Avg. loss: 511997.662498\n",
      "Total training time: 24.12 seconds.\n",
      "-- Epoch 272\n",
      "Norm: 5640.80, NNZs: 121, Bias: -31.407235, T: 56040704, Avg. loss: 510248.069814\n",
      "Total training time: 24.21 seconds.\n",
      "-- Epoch 273\n",
      "Norm: 5622.08, NNZs: 121, Bias: -31.389607, T: 56246736, Avg. loss: 504699.438418\n",
      "Total training time: 24.29 seconds.\n",
      "-- Epoch 274\n",
      "Norm: 5608.93, NNZs: 121, Bias: -31.374701, T: 56452768, Avg. loss: 508439.388278\n",
      "Total training time: 24.38 seconds.\n",
      "-- Epoch 275\n",
      "Norm: 5598.04, NNZs: 121, Bias: -31.356487, T: 56658800, Avg. loss: 501939.763188\n",
      "Total training time: 24.46 seconds.\n",
      "-- Epoch 276\n",
      "Norm: 5583.89, NNZs: 121, Bias: -31.345567, T: 56864832, Avg. loss: 502070.006765\n",
      "Total training time: 24.54 seconds.\n",
      "-- Epoch 277\n",
      "Norm: 5569.15, NNZs: 121, Bias: -31.332229, T: 57070864, Avg. loss: 500649.539976\n",
      "Total training time: 24.63 seconds.\n",
      "-- Epoch 278\n",
      "Norm: 5555.98, NNZs: 121, Bias: -31.316481, T: 57276896, Avg. loss: 497219.921031\n",
      "Total training time: 24.72 seconds.\n",
      "-- Epoch 279\n",
      "Norm: 5538.12, NNZs: 121, Bias: -31.298716, T: 57482928, Avg. loss: 498642.413412\n",
      "Total training time: 24.80 seconds.\n",
      "-- Epoch 280\n",
      "Norm: 5525.57, NNZs: 121, Bias: -31.289342, T: 57688960, Avg. loss: 491184.841553\n",
      "Total training time: 24.89 seconds.\n",
      "-- Epoch 281\n",
      "Norm: 5512.71, NNZs: 121, Bias: -31.275848, T: 57894992, Avg. loss: 492744.324489\n",
      "Total training time: 24.97 seconds.\n",
      "-- Epoch 282\n",
      "Norm: 5498.20, NNZs: 121, Bias: -31.261193, T: 58101024, Avg. loss: 488808.843006\n",
      "Total training time: 25.05 seconds.\n",
      "-- Epoch 283\n",
      "Norm: 5484.87, NNZs: 121, Bias: -31.245729, T: 58307056, Avg. loss: 490209.466370\n",
      "Total training time: 25.14 seconds.\n",
      "-- Epoch 284\n",
      "Norm: 5474.75, NNZs: 121, Bias: -31.235801, T: 58513088, Avg. loss: 488381.506909\n",
      "Total training time: 25.23 seconds.\n",
      "-- Epoch 285\n",
      "Norm: 5458.07, NNZs: 121, Bias: -31.221642, T: 58719120, Avg. loss: 490623.912482\n",
      "Total training time: 25.31 seconds.\n",
      "-- Epoch 286\n",
      "Norm: 5441.52, NNZs: 121, Bias: -31.206517, T: 58925152, Avg. loss: 483530.166392\n",
      "Total training time: 25.40 seconds.\n",
      "-- Epoch 287\n",
      "Norm: 5424.33, NNZs: 121, Bias: -31.196353, T: 59131184, Avg. loss: 481926.155360\n",
      "Total training time: 25.49 seconds.\n",
      "-- Epoch 288\n",
      "Norm: 5413.71, NNZs: 121, Bias: -31.184705, T: 59337216, Avg. loss: 481404.272891\n",
      "Total training time: 25.57 seconds.\n",
      "-- Epoch 289\n",
      "Norm: 5400.45, NNZs: 121, Bias: -31.170070, T: 59543248, Avg. loss: 478197.577765\n",
      "Total training time: 25.65 seconds.\n",
      "-- Epoch 290\n",
      "Norm: 5388.42, NNZs: 121, Bias: -31.158167, T: 59749280, Avg. loss: 477166.379151\n",
      "Total training time: 25.74 seconds.\n",
      "-- Epoch 291\n",
      "Norm: 5377.94, NNZs: 121, Bias: -31.144807, T: 59955312, Avg. loss: 473986.519886\n",
      "Total training time: 25.82 seconds.\n",
      "-- Epoch 292\n",
      "Norm: 5365.11, NNZs: 121, Bias: -31.131820, T: 60161344, Avg. loss: 474898.945816\n",
      "Total training time: 25.91 seconds.\n",
      "-- Epoch 293\n",
      "Norm: 5351.91, NNZs: 121, Bias: -31.121531, T: 60367376, Avg. loss: 474114.203880\n",
      "Total training time: 26.00 seconds.\n",
      "-- Epoch 294\n",
      "Norm: 5338.99, NNZs: 121, Bias: -31.107800, T: 60573408, Avg. loss: 472401.108572\n",
      "Total training time: 26.08 seconds.\n",
      "-- Epoch 295\n",
      "Norm: 5324.11, NNZs: 121, Bias: -31.093301, T: 60779440, Avg. loss: 469460.796080\n",
      "Total training time: 26.17 seconds.\n",
      "-- Epoch 296\n",
      "Norm: 5310.06, NNZs: 121, Bias: -31.083117, T: 60985472, Avg. loss: 466161.605217\n",
      "Total training time: 26.26 seconds.\n",
      "-- Epoch 297\n",
      "Norm: 5298.84, NNZs: 121, Bias: -31.067403, T: 61191504, Avg. loss: 464967.391152\n",
      "Total training time: 26.34 seconds.\n",
      "-- Epoch 298\n",
      "Norm: 5285.71, NNZs: 121, Bias: -31.055008, T: 61397536, Avg. loss: 463866.984170\n",
      "Total training time: 26.43 seconds.\n",
      "-- Epoch 299\n",
      "Norm: 5271.87, NNZs: 121, Bias: -31.039074, T: 61603568, Avg. loss: 463001.406782\n",
      "Total training time: 26.52 seconds.\n",
      "-- Epoch 300\n",
      "Norm: 5255.62, NNZs: 121, Bias: -31.026268, T: 61809600, Avg. loss: 463460.855817\n",
      "Total training time: 26.60 seconds.\n",
      "-- Epoch 301\n",
      "Norm: 5240.15, NNZs: 121, Bias: -31.012216, T: 62015632, Avg. loss: 459259.089073\n",
      "Total training time: 26.68 seconds.\n",
      "-- Epoch 302\n",
      "Norm: 5226.18, NNZs: 121, Bias: -31.000140, T: 62221664, Avg. loss: 457203.855148\n",
      "Total training time: 26.77 seconds.\n",
      "-- Epoch 303\n",
      "Norm: 5212.74, NNZs: 121, Bias: -30.986980, T: 62427696, Avg. loss: 459093.416411\n",
      "Total training time: 26.86 seconds.\n",
      "-- Epoch 304\n",
      "Norm: 5207.14, NNZs: 121, Bias: -30.978023, T: 62633728, Avg. loss: 452567.409493\n",
      "Total training time: 26.94 seconds.\n",
      "-- Epoch 305\n",
      "Norm: 5194.84, NNZs: 121, Bias: -30.964470, T: 62839760, Avg. loss: 457881.282911\n",
      "Total training time: 27.03 seconds.\n",
      "-- Epoch 306\n",
      "Norm: 5182.07, NNZs: 121, Bias: -30.953349, T: 63045792, Avg. loss: 451292.299813\n",
      "Total training time: 27.11 seconds.\n",
      "-- Epoch 307\n",
      "Norm: 5173.60, NNZs: 121, Bias: -30.941470, T: 63251824, Avg. loss: 451084.023672\n",
      "Total training time: 27.20 seconds.\n",
      "-- Epoch 308\n",
      "Norm: 5159.96, NNZs: 121, Bias: -30.931527, T: 63457856, Avg. loss: 450397.631143\n",
      "Total training time: 27.29 seconds.\n",
      "-- Epoch 309\n",
      "Norm: 5146.50, NNZs: 121, Bias: -30.916575, T: 63663888, Avg. loss: 447680.023301\n",
      "Total training time: 27.37 seconds.\n",
      "-- Epoch 310\n",
      "Norm: 5136.52, NNZs: 121, Bias: -30.905129, T: 63869920, Avg. loss: 445394.381469\n",
      "Total training time: 27.46 seconds.\n",
      "-- Epoch 311\n",
      "Norm: 5125.41, NNZs: 121, Bias: -30.890908, T: 64075952, Avg. loss: 446001.224873\n",
      "Total training time: 27.54 seconds.\n",
      "-- Epoch 312\n",
      "Norm: 5115.87, NNZs: 121, Bias: -30.877507, T: 64281984, Avg. loss: 441339.586334\n",
      "Total training time: 27.62 seconds.\n",
      "-- Epoch 313\n",
      "Norm: 5103.52, NNZs: 121, Bias: -30.868656, T: 64488016, Avg. loss: 443676.354666\n",
      "Total training time: 27.71 seconds.\n",
      "-- Epoch 314\n",
      "Norm: 5093.60, NNZs: 121, Bias: -30.855961, T: 64694048, Avg. loss: 443254.568299\n",
      "Total training time: 27.80 seconds.\n",
      "-- Epoch 315\n",
      "Norm: 5082.62, NNZs: 121, Bias: -30.847165, T: 64900080, Avg. loss: 440629.754474\n",
      "Total training time: 27.88 seconds.\n",
      "-- Epoch 316\n",
      "Norm: 5069.16, NNZs: 121, Bias: -30.835472, T: 65106112, Avg. loss: 437208.842168\n",
      "Total training time: 27.96 seconds.\n",
      "-- Epoch 317\n",
      "Norm: 5055.00, NNZs: 121, Bias: -30.822593, T: 65312144, Avg. loss: 436872.938895\n",
      "Total training time: 28.05 seconds.\n",
      "-- Epoch 318\n",
      "Norm: 5042.74, NNZs: 121, Bias: -30.809141, T: 65518176, Avg. loss: 435314.483029\n",
      "Total training time: 28.14 seconds.\n",
      "-- Epoch 319\n",
      "Norm: 5031.89, NNZs: 121, Bias: -30.796191, T: 65724208, Avg. loss: 432238.640267\n",
      "Total training time: 28.22 seconds.\n",
      "-- Epoch 320\n",
      "Norm: 5020.30, NNZs: 121, Bias: -30.783891, T: 65930240, Avg. loss: 432061.557395\n",
      "Total training time: 28.31 seconds.\n",
      "-- Epoch 321\n",
      "Norm: 5006.86, NNZs: 121, Bias: -30.775411, T: 66136272, Avg. loss: 431717.856681\n",
      "Total training time: 28.39 seconds.\n",
      "-- Epoch 322\n",
      "Norm: 4995.41, NNZs: 121, Bias: -30.761671, T: 66342304, Avg. loss: 427533.842765\n",
      "Total training time: 28.48 seconds.\n",
      "-- Epoch 323\n",
      "Norm: 4987.19, NNZs: 121, Bias: -30.752339, T: 66548336, Avg. loss: 429687.805584\n",
      "Total training time: 28.56 seconds.\n",
      "-- Epoch 324\n",
      "Norm: 4972.95, NNZs: 121, Bias: -30.741539, T: 66754368, Avg. loss: 424343.746027\n",
      "Total training time: 28.64 seconds.\n",
      "-- Epoch 325\n",
      "Norm: 4962.76, NNZs: 121, Bias: -30.727485, T: 66960400, Avg. loss: 426647.686382\n",
      "Total training time: 28.73 seconds.\n",
      "-- Epoch 326\n",
      "Norm: 4954.04, NNZs: 121, Bias: -30.718983, T: 67166432, Avg. loss: 420741.740888\n",
      "Total training time: 28.82 seconds.\n",
      "-- Epoch 327\n",
      "Norm: 4941.46, NNZs: 121, Bias: -30.708130, T: 67372464, Avg. loss: 424170.991936\n",
      "Total training time: 28.91 seconds.\n",
      "-- Epoch 328\n",
      "Norm: 4932.92, NNZs: 121, Bias: -30.694941, T: 67578496, Avg. loss: 422217.984780\n",
      "Total training time: 29.00 seconds.\n",
      "-- Epoch 329\n",
      "Norm: 4921.77, NNZs: 121, Bias: -30.680608, T: 67784528, Avg. loss: 419681.989460\n",
      "Total training time: 29.08 seconds.\n",
      "-- Epoch 330\n",
      "Norm: 4907.08, NNZs: 121, Bias: -30.669267, T: 67990560, Avg. loss: 420911.048885\n",
      "Total training time: 29.16 seconds.\n",
      "-- Epoch 331\n",
      "Norm: 4894.39, NNZs: 121, Bias: -30.653697, T: 68196592, Avg. loss: 418344.088859\n",
      "Total training time: 29.25 seconds.\n",
      "-- Epoch 332\n",
      "Norm: 4882.99, NNZs: 121, Bias: -30.637304, T: 68402624, Avg. loss: 416792.351765\n",
      "Total training time: 29.34 seconds.\n",
      "-- Epoch 333\n",
      "Norm: 4871.87, NNZs: 121, Bias: -30.628106, T: 68608656, Avg. loss: 416123.120421\n",
      "Total training time: 29.43 seconds.\n",
      "-- Epoch 334\n",
      "Norm: 4862.12, NNZs: 121, Bias: -30.617046, T: 68814688, Avg. loss: 414729.403228\n",
      "Total training time: 29.53 seconds.\n",
      "-- Epoch 335\n",
      "Norm: 4851.28, NNZs: 121, Bias: -30.604706, T: 69020720, Avg. loss: 413218.439927\n",
      "Total training time: 29.62 seconds.\n",
      "-- Epoch 336\n",
      "Norm: 4841.53, NNZs: 121, Bias: -30.589663, T: 69226752, Avg. loss: 413647.014262\n",
      "Total training time: 29.71 seconds.\n",
      "-- Epoch 337\n",
      "Norm: 4829.87, NNZs: 121, Bias: -30.583024, T: 69432784, Avg. loss: 411049.508390\n",
      "Total training time: 29.80 seconds.\n",
      "-- Epoch 338\n",
      "Norm: 4820.88, NNZs: 121, Bias: -30.570658, T: 69638816, Avg. loss: 408414.438353\n",
      "Total training time: 29.88 seconds.\n",
      "-- Epoch 339\n",
      "Norm: 4806.58, NNZs: 121, Bias: -30.557183, T: 69844848, Avg. loss: 409382.732430\n",
      "Total training time: 29.97 seconds.\n",
      "-- Epoch 340\n",
      "Norm: 4800.58, NNZs: 121, Bias: -30.549608, T: 70050880, Avg. loss: 407271.598167\n",
      "Total training time: 30.06 seconds.\n",
      "-- Epoch 341\n",
      "Norm: 4789.21, NNZs: 121, Bias: -30.540343, T: 70256912, Avg. loss: 404937.408622\n",
      "Total training time: 30.16 seconds.\n",
      "-- Epoch 342\n",
      "Norm: 4780.58, NNZs: 121, Bias: -30.528549, T: 70462944, Avg. loss: 402884.194475\n",
      "Total training time: 30.25 seconds.\n",
      "-- Epoch 343\n",
      "Norm: 4770.30, NNZs: 121, Bias: -30.516786, T: 70668976, Avg. loss: 402974.713505\n",
      "Total training time: 30.35 seconds.\n",
      "-- Epoch 344\n",
      "Norm: 4760.65, NNZs: 121, Bias: -30.505768, T: 70875008, Avg. loss: 401331.404699\n",
      "Total training time: 30.48 seconds.\n",
      "-- Epoch 345\n",
      "Norm: 4750.12, NNZs: 121, Bias: -30.498867, T: 71081040, Avg. loss: 401345.795760\n",
      "Total training time: 30.58 seconds.\n",
      "-- Epoch 346\n",
      "Norm: 4740.88, NNZs: 121, Bias: -30.488611, T: 71287072, Avg. loss: 399602.674299\n",
      "Total training time: 30.67 seconds.\n",
      "-- Epoch 347\n",
      "Norm: 4734.31, NNZs: 121, Bias: -30.479788, T: 71493104, Avg. loss: 399097.830339\n",
      "Total training time: 30.75 seconds.\n",
      "-- Epoch 348\n",
      "Norm: 4721.09, NNZs: 121, Bias: -30.471831, T: 71699136, Avg. loss: 398204.061785\n",
      "Total training time: 30.84 seconds.\n",
      "-- Epoch 349\n",
      "Norm: 4711.16, NNZs: 121, Bias: -30.464172, T: 71905168, Avg. loss: 397296.988559\n",
      "Total training time: 30.93 seconds.\n",
      "-- Epoch 350\n",
      "Norm: 4704.09, NNZs: 121, Bias: -30.452232, T: 72111200, Avg. loss: 395551.463969\n",
      "Total training time: 31.02 seconds.\n",
      "-- Epoch 351\n",
      "Norm: 4695.61, NNZs: 121, Bias: -30.442679, T: 72317232, Avg. loss: 397328.306344\n",
      "Total training time: 31.11 seconds.\n",
      "-- Epoch 352\n",
      "Norm: 4686.61, NNZs: 121, Bias: -30.431629, T: 72523264, Avg. loss: 395067.490027\n",
      "Total training time: 31.20 seconds.\n",
      "-- Epoch 353\n",
      "Norm: 4676.41, NNZs: 121, Bias: -30.424465, T: 72729296, Avg. loss: 391881.259371\n",
      "Total training time: 31.29 seconds.\n",
      "-- Epoch 354\n",
      "Norm: 4664.61, NNZs: 121, Bias: -30.414030, T: 72935328, Avg. loss: 390950.047464\n",
      "Total training time: 31.37 seconds.\n",
      "-- Epoch 355\n",
      "Norm: 4657.05, NNZs: 121, Bias: -30.403075, T: 73141360, Avg. loss: 389794.453544\n",
      "Total training time: 31.45 seconds.\n",
      "-- Epoch 356\n",
      "Norm: 4646.68, NNZs: 121, Bias: -30.389561, T: 73347392, Avg. loss: 390630.204424\n",
      "Total training time: 31.56 seconds.\n",
      "-- Epoch 357\n",
      "Norm: 4641.44, NNZs: 121, Bias: -30.382072, T: 73553424, Avg. loss: 387882.130986\n",
      "Total training time: 31.65 seconds.\n",
      "-- Epoch 358\n",
      "Norm: 4629.42, NNZs: 121, Bias: -30.367676, T: 73759456, Avg. loss: 386800.457842\n",
      "Total training time: 31.74 seconds.\n",
      "-- Epoch 359\n",
      "Norm: 4618.19, NNZs: 121, Bias: -30.355896, T: 73965488, Avg. loss: 386646.820751\n",
      "Total training time: 31.83 seconds.\n",
      "-- Epoch 360\n",
      "Norm: 4611.09, NNZs: 121, Bias: -30.345768, T: 74171520, Avg. loss: 386184.291418\n",
      "Total training time: 31.91 seconds.\n",
      "-- Epoch 361\n",
      "Norm: 4604.13, NNZs: 121, Bias: -30.334860, T: 74377552, Avg. loss: 383321.473120\n",
      "Total training time: 32.00 seconds.\n",
      "-- Epoch 362\n",
      "Norm: 4591.72, NNZs: 121, Bias: -30.323984, T: 74583584, Avg. loss: 379830.175914\n",
      "Total training time: 32.10 seconds.\n",
      "-- Epoch 363\n",
      "Norm: 4580.96, NNZs: 121, Bias: -30.314609, T: 74789616, Avg. loss: 382008.421110\n",
      "Total training time: 32.19 seconds.\n",
      "-- Epoch 364\n",
      "Norm: 4574.36, NNZs: 121, Bias: -30.306732, T: 74995648, Avg. loss: 380545.416540\n",
      "Total training time: 32.27 seconds.\n",
      "-- Epoch 365\n",
      "Norm: 4565.14, NNZs: 121, Bias: -30.297409, T: 75201680, Avg. loss: 378261.819328\n",
      "Total training time: 32.35 seconds.\n",
      "-- Epoch 366\n",
      "Norm: 4556.09, NNZs: 121, Bias: -30.288382, T: 75407712, Avg. loss: 378678.269271\n",
      "Total training time: 32.44 seconds.\n",
      "-- Epoch 367\n",
      "Norm: 4546.09, NNZs: 121, Bias: -30.275669, T: 75613744, Avg. loss: 376751.870291\n",
      "Total training time: 32.53 seconds.\n",
      "-- Epoch 368\n",
      "Norm: 4538.42, NNZs: 121, Bias: -30.266954, T: 75819776, Avg. loss: 375299.679876\n",
      "Total training time: 32.62 seconds.\n",
      "-- Epoch 369\n",
      "Norm: 4527.18, NNZs: 121, Bias: -30.257343, T: 76025808, Avg. loss: 374114.061274\n",
      "Total training time: 32.72 seconds.\n",
      "-- Epoch 370\n",
      "Norm: 4515.22, NNZs: 121, Bias: -30.245658, T: 76231840, Avg. loss: 373040.378915\n",
      "Total training time: 32.83 seconds.\n",
      "-- Epoch 371\n",
      "Norm: 4507.83, NNZs: 121, Bias: -30.235833, T: 76437872, Avg. loss: 373871.652889\n",
      "Total training time: 32.95 seconds.\n",
      "-- Epoch 372\n",
      "Norm: 4499.35, NNZs: 121, Bias: -30.221726, T: 76643904, Avg. loss: 374568.715277\n",
      "Total training time: 33.07 seconds.\n",
      "-- Epoch 373\n",
      "Norm: 4492.79, NNZs: 121, Bias: -30.212997, T: 76849936, Avg. loss: 371342.264842\n",
      "Total training time: 33.19 seconds.\n",
      "-- Epoch 374\n",
      "Norm: 4487.05, NNZs: 121, Bias: -30.202992, T: 77055968, Avg. loss: 369942.492371\n",
      "Total training time: 33.29 seconds.\n",
      "-- Epoch 375\n",
      "Norm: 4478.22, NNZs: 121, Bias: -30.193660, T: 77262000, Avg. loss: 368206.313570\n",
      "Total training time: 33.40 seconds.\n",
      "-- Epoch 376\n",
      "Norm: 4466.35, NNZs: 121, Bias: -30.182800, T: 77468032, Avg. loss: 367573.205185\n",
      "Total training time: 33.50 seconds.\n",
      "-- Epoch 377\n",
      "Norm: 4459.17, NNZs: 121, Bias: -30.171066, T: 77674064, Avg. loss: 365854.920289\n",
      "Total training time: 33.59 seconds.\n",
      "-- Epoch 378\n",
      "Norm: 4456.34, NNZs: 121, Bias: -30.163992, T: 77880096, Avg. loss: 365858.228814\n",
      "Total training time: 33.70 seconds.\n",
      "-- Epoch 379\n",
      "Norm: 4448.96, NNZs: 121, Bias: -30.153221, T: 78086128, Avg. loss: 362665.701172\n",
      "Total training time: 33.80 seconds.\n",
      "-- Epoch 380\n",
      "Norm: 4440.79, NNZs: 121, Bias: -30.143886, T: 78292160, Avg. loss: 363893.842777\n",
      "Total training time: 33.90 seconds.\n",
      "-- Epoch 381\n",
      "Norm: 4435.58, NNZs: 121, Bias: -30.135979, T: 78498192, Avg. loss: 363506.888688\n",
      "Total training time: 33.99 seconds.\n",
      "-- Epoch 382\n",
      "Norm: 4426.14, NNZs: 121, Bias: -30.126436, T: 78704224, Avg. loss: 363595.906788\n",
      "Total training time: 34.09 seconds.\n",
      "-- Epoch 383\n",
      "Norm: 4418.37, NNZs: 121, Bias: -30.115651, T: 78910256, Avg. loss: 363658.060887\n",
      "Total training time: 34.17 seconds.\n",
      "-- Epoch 384\n",
      "Norm: 4409.66, NNZs: 121, Bias: -30.105528, T: 79116288, Avg. loss: 361131.610469\n",
      "Total training time: 34.28 seconds.\n",
      "-- Epoch 385\n",
      "Norm: 4399.20, NNZs: 121, Bias: -30.096818, T: 79322320, Avg. loss: 359676.951938\n",
      "Total training time: 34.38 seconds.\n",
      "-- Epoch 386\n",
      "Norm: 4392.43, NNZs: 121, Bias: -30.087503, T: 79528352, Avg. loss: 357892.110360\n",
      "Total training time: 34.47 seconds.\n",
      "-- Epoch 387\n",
      "Norm: 4385.40, NNZs: 121, Bias: -30.078338, T: 79734384, Avg. loss: 356081.619424\n",
      "Total training time: 34.57 seconds.\n",
      "-- Epoch 388\n",
      "Norm: 4374.77, NNZs: 121, Bias: -30.066064, T: 79940416, Avg. loss: 355219.587440\n",
      "Total training time: 34.66 seconds.\n",
      "-- Epoch 389\n",
      "Norm: 4364.43, NNZs: 121, Bias: -30.058445, T: 80146448, Avg. loss: 355750.743569\n",
      "Total training time: 34.75 seconds.\n",
      "-- Epoch 390\n",
      "Norm: 4355.70, NNZs: 121, Bias: -30.051965, T: 80352480, Avg. loss: 353321.944561\n",
      "Total training time: 34.85 seconds.\n",
      "-- Epoch 391\n",
      "Norm: 4348.47, NNZs: 121, Bias: -30.043017, T: 80558512, Avg. loss: 354402.841010\n",
      "Total training time: 34.94 seconds.\n",
      "-- Epoch 392\n",
      "Norm: 4341.28, NNZs: 121, Bias: -30.032106, T: 80764544, Avg. loss: 352256.053154\n",
      "Total training time: 35.03 seconds.\n",
      "-- Epoch 393\n",
      "Norm: 4336.26, NNZs: 121, Bias: -30.025921, T: 80970576, Avg. loss: 352245.272631\n",
      "Total training time: 35.13 seconds.\n",
      "-- Epoch 394\n",
      "Norm: 4330.03, NNZs: 121, Bias: -30.019010, T: 81176608, Avg. loss: 351545.014953\n",
      "Total training time: 35.22 seconds.\n",
      "-- Epoch 395\n",
      "Norm: 4323.18, NNZs: 121, Bias: -30.010645, T: 81382640, Avg. loss: 349714.241556\n",
      "Total training time: 35.30 seconds.\n",
      "-- Epoch 396\n",
      "Norm: 4314.59, NNZs: 121, Bias: -29.998003, T: 81588672, Avg. loss: 349579.697017\n",
      "Total training time: 35.39 seconds.\n",
      "-- Epoch 397\n",
      "Norm: 4307.86, NNZs: 121, Bias: -29.989677, T: 81794704, Avg. loss: 346834.582307\n",
      "Total training time: 35.48 seconds.\n",
      "-- Epoch 398\n",
      "Norm: 4301.34, NNZs: 121, Bias: -29.980393, T: 82000736, Avg. loss: 348939.049085\n",
      "Total training time: 35.57 seconds.\n",
      "-- Epoch 399\n",
      "Norm: 4293.48, NNZs: 121, Bias: -29.974303, T: 82206768, Avg. loss: 347000.789513\n",
      "Total training time: 35.66 seconds.\n",
      "-- Epoch 400\n",
      "Norm: 4285.37, NNZs: 121, Bias: -29.965922, T: 82412800, Avg. loss: 345618.596999\n",
      "Total training time: 35.75 seconds.\n",
      "-- Epoch 401\n",
      "Norm: 4279.59, NNZs: 121, Bias: -29.957319, T: 82618832, Avg. loss: 345178.572157\n",
      "Total training time: 35.86 seconds.\n",
      "-- Epoch 402\n",
      "Norm: 4272.18, NNZs: 121, Bias: -29.946923, T: 82824864, Avg. loss: 344645.150615\n",
      "Total training time: 35.95 seconds.\n",
      "-- Epoch 403\n",
      "Norm: 4264.53, NNZs: 121, Bias: -29.938726, T: 83030896, Avg. loss: 344500.361981\n",
      "Total training time: 36.07 seconds.\n",
      "-- Epoch 404\n",
      "Norm: 4257.44, NNZs: 121, Bias: -29.930059, T: 83236928, Avg. loss: 341910.891066\n",
      "Total training time: 36.19 seconds.\n",
      "-- Epoch 405\n",
      "Norm: 4252.01, NNZs: 121, Bias: -29.923578, T: 83442960, Avg. loss: 343193.751949\n",
      "Total training time: 36.28 seconds.\n",
      "-- Epoch 406\n",
      "Norm: 4245.32, NNZs: 121, Bias: -29.913043, T: 83648992, Avg. loss: 339460.110259\n",
      "Total training time: 36.36 seconds.\n",
      "-- Epoch 407\n",
      "Norm: 4238.76, NNZs: 121, Bias: -29.903968, T: 83855024, Avg. loss: 339924.179296\n",
      "Total training time: 36.44 seconds.\n",
      "-- Epoch 408\n",
      "Norm: 4233.83, NNZs: 121, Bias: -29.892532, T: 84061056, Avg. loss: 338820.681281\n",
      "Total training time: 36.52 seconds.\n",
      "-- Epoch 409\n",
      "Norm: 4227.01, NNZs: 121, Bias: -29.883861, T: 84267088, Avg. loss: 337238.196667\n",
      "Total training time: 36.60 seconds.\n",
      "-- Epoch 410\n",
      "Norm: 4218.72, NNZs: 121, Bias: -29.874970, T: 84473120, Avg. loss: 337894.480034\n",
      "Total training time: 36.70 seconds.\n",
      "-- Epoch 411\n",
      "Norm: 4210.13, NNZs: 121, Bias: -29.863619, T: 84679152, Avg. loss: 337127.799387\n",
      "Total training time: 36.79 seconds.\n",
      "-- Epoch 412\n",
      "Norm: 4203.75, NNZs: 121, Bias: -29.857246, T: 84885184, Avg. loss: 334590.507515\n",
      "Total training time: 36.89 seconds.\n",
      "-- Epoch 413\n",
      "Norm: 4198.50, NNZs: 121, Bias: -29.847127, T: 85091216, Avg. loss: 333021.039671\n",
      "Total training time: 36.98 seconds.\n",
      "-- Epoch 414\n",
      "Norm: 4190.82, NNZs: 121, Bias: -29.839616, T: 85297248, Avg. loss: 334593.310691\n",
      "Total training time: 37.12 seconds.\n",
      "-- Epoch 415\n",
      "Norm: 4185.72, NNZs: 121, Bias: -29.834112, T: 85503280, Avg. loss: 333500.219435\n",
      "Total training time: 37.23 seconds.\n",
      "-- Epoch 416\n",
      "Norm: 4176.97, NNZs: 121, Bias: -29.824769, T: 85709312, Avg. loss: 332382.334748\n",
      "Total training time: 37.37 seconds.\n",
      "-- Epoch 417\n",
      "Norm: 4170.89, NNZs: 121, Bias: -29.813815, T: 85915344, Avg. loss: 331678.254129\n",
      "Total training time: 37.47 seconds.\n",
      "-- Epoch 418\n",
      "Norm: 4162.36, NNZs: 121, Bias: -29.802074, T: 86121376, Avg. loss: 331716.789690\n",
      "Total training time: 37.56 seconds.\n",
      "-- Epoch 419\n",
      "Norm: 4152.78, NNZs: 121, Bias: -29.792220, T: 86327408, Avg. loss: 329608.850763\n",
      "Total training time: 37.65 seconds.\n",
      "-- Epoch 420\n",
      "Norm: 4145.20, NNZs: 121, Bias: -29.782616, T: 86533440, Avg. loss: 329466.711793\n",
      "Total training time: 37.73 seconds.\n",
      "-- Epoch 421\n",
      "Norm: 4136.50, NNZs: 121, Bias: -29.775112, T: 86739472, Avg. loss: 329200.400158\n",
      "Total training time: 37.82 seconds.\n",
      "-- Epoch 422\n",
      "Norm: 4128.53, NNZs: 121, Bias: -29.767052, T: 86945504, Avg. loss: 327797.095997\n",
      "Total training time: 37.93 seconds.\n",
      "-- Epoch 423\n",
      "Norm: 4120.24, NNZs: 121, Bias: -29.758434, T: 87151536, Avg. loss: 326682.024786\n",
      "Total training time: 38.03 seconds.\n",
      "-- Epoch 424\n",
      "Norm: 4110.95, NNZs: 121, Bias: -29.750065, T: 87357568, Avg. loss: 325531.413231\n",
      "Total training time: 38.13 seconds.\n",
      "-- Epoch 425\n",
      "Norm: 4103.97, NNZs: 121, Bias: -29.742519, T: 87563600, Avg. loss: 325097.747771\n",
      "Total training time: 38.24 seconds.\n",
      "-- Epoch 426\n",
      "Norm: 4094.65, NNZs: 121, Bias: -29.730657, T: 87769632, Avg. loss: 325502.116034\n",
      "Total training time: 38.34 seconds.\n",
      "-- Epoch 427\n",
      "Norm: 4087.33, NNZs: 121, Bias: -29.723144, T: 87975664, Avg. loss: 323027.108067\n",
      "Total training time: 38.43 seconds.\n",
      "-- Epoch 428\n",
      "Norm: 4078.58, NNZs: 121, Bias: -29.714743, T: 88181696, Avg. loss: 322097.943313\n",
      "Total training time: 38.52 seconds.\n",
      "-- Epoch 429\n",
      "Norm: 4077.57, NNZs: 121, Bias: -29.708625, T: 88387728, Avg. loss: 322662.077219\n",
      "Total training time: 38.60 seconds.\n",
      "-- Epoch 430\n",
      "Norm: 4071.17, NNZs: 121, Bias: -29.700602, T: 88593760, Avg. loss: 320377.052318\n",
      "Total training time: 38.69 seconds.\n",
      "-- Epoch 431\n",
      "Norm: 4065.56, NNZs: 121, Bias: -29.692934, T: 88799792, Avg. loss: 321471.892804\n",
      "Total training time: 38.78 seconds.\n",
      "-- Epoch 432\n",
      "Norm: 4061.42, NNZs: 121, Bias: -29.685283, T: 89005824, Avg. loss: 318690.381569\n",
      "Total training time: 38.87 seconds.\n",
      "-- Epoch 433\n",
      "Norm: 4054.16, NNZs: 121, Bias: -29.676528, T: 89211856, Avg. loss: 320591.744169\n",
      "Total training time: 38.97 seconds.\n",
      "-- Epoch 434\n",
      "Norm: 4049.51, NNZs: 121, Bias: -29.667683, T: 89417888, Avg. loss: 318469.646802\n",
      "Total training time: 39.05 seconds.\n",
      "-- Epoch 435\n",
      "Norm: 4041.58, NNZs: 121, Bias: -29.658077, T: 89623920, Avg. loss: 319873.299977\n",
      "Total training time: 39.15 seconds.\n",
      "-- Epoch 436\n",
      "Norm: 4032.74, NNZs: 121, Bias: -29.650275, T: 89829952, Avg. loss: 316662.137113\n",
      "Total training time: 39.24 seconds.\n",
      "-- Epoch 437\n",
      "Norm: 4027.09, NNZs: 121, Bias: -29.641713, T: 90035984, Avg. loss: 318128.216671\n",
      "Total training time: 39.33 seconds.\n",
      "-- Epoch 438\n",
      "Norm: 4020.26, NNZs: 121, Bias: -29.635057, T: 90242016, Avg. loss: 318447.113670\n",
      "Total training time: 39.42 seconds.\n",
      "-- Epoch 439\n",
      "Norm: 4013.98, NNZs: 121, Bias: -29.629853, T: 90448048, Avg. loss: 314060.856468\n",
      "Total training time: 39.51 seconds.\n",
      "-- Epoch 440\n",
      "Norm: 4005.23, NNZs: 121, Bias: -29.620027, T: 90654080, Avg. loss: 313560.029525\n",
      "Total training time: 39.59 seconds.\n",
      "-- Epoch 441\n",
      "Norm: 3998.59, NNZs: 121, Bias: -29.612093, T: 90860112, Avg. loss: 313168.962212\n",
      "Total training time: 39.68 seconds.\n",
      "-- Epoch 442\n",
      "Norm: 3992.38, NNZs: 121, Bias: -29.605168, T: 91066144, Avg. loss: 312521.200826\n",
      "Total training time: 39.77 seconds.\n",
      "-- Epoch 443\n",
      "Norm: 3985.40, NNZs: 121, Bias: -29.596832, T: 91272176, Avg. loss: 310923.091367\n",
      "Total training time: 39.86 seconds.\n",
      "-- Epoch 444\n",
      "Norm: 3979.69, NNZs: 121, Bias: -29.592784, T: 91478208, Avg. loss: 310706.875705\n",
      "Total training time: 39.94 seconds.\n",
      "-- Epoch 445\n",
      "Norm: 3972.84, NNZs: 121, Bias: -29.586995, T: 91684240, Avg. loss: 310823.500090\n",
      "Total training time: 40.03 seconds.\n",
      "-- Epoch 446\n",
      "Norm: 3966.89, NNZs: 121, Bias: -29.578171, T: 91890272, Avg. loss: 311664.198085\n",
      "Total training time: 40.12 seconds.\n",
      "-- Epoch 447\n",
      "Norm: 3959.59, NNZs: 121, Bias: -29.569365, T: 92096304, Avg. loss: 310874.956111\n",
      "Total training time: 40.21 seconds.\n",
      "-- Epoch 448\n",
      "Norm: 3951.64, NNZs: 121, Bias: -29.559061, T: 92302336, Avg. loss: 310177.335413\n",
      "Total training time: 40.30 seconds.\n",
      "-- Epoch 449\n",
      "Norm: 3946.75, NNZs: 121, Bias: -29.550621, T: 92508368, Avg. loss: 307342.029029\n",
      "Total training time: 40.38 seconds.\n",
      "-- Epoch 450\n",
      "Norm: 3940.75, NNZs: 121, Bias: -29.545222, T: 92714400, Avg. loss: 307840.678608\n",
      "Total training time: 40.47 seconds.\n",
      "-- Epoch 451\n",
      "Norm: 3935.38, NNZs: 121, Bias: -29.538004, T: 92920432, Avg. loss: 307294.008063\n",
      "Total training time: 40.55 seconds.\n",
      "-- Epoch 452\n",
      "Norm: 3928.61, NNZs: 121, Bias: -29.530800, T: 93126464, Avg. loss: 305039.445738\n",
      "Total training time: 40.64 seconds.\n",
      "-- Epoch 453\n",
      "Norm: 3920.19, NNZs: 121, Bias: -29.519752, T: 93332496, Avg. loss: 305292.221830\n",
      "Total training time: 40.73 seconds.\n",
      "-- Epoch 454\n",
      "Norm: 3914.10, NNZs: 121, Bias: -29.511406, T: 93538528, Avg. loss: 304845.066723\n",
      "Total training time: 40.82 seconds.\n",
      "-- Epoch 455\n",
      "Norm: 3910.05, NNZs: 121, Bias: -29.504249, T: 93744560, Avg. loss: 305767.687270\n",
      "Total training time: 40.91 seconds.\n",
      "-- Epoch 456\n",
      "Norm: 3903.71, NNZs: 121, Bias: -29.495940, T: 93950592, Avg. loss: 302864.716510\n",
      "Total training time: 40.99 seconds.\n",
      "-- Epoch 457\n",
      "Norm: 3898.21, NNZs: 121, Bias: -29.489241, T: 94156624, Avg. loss: 302937.120425\n",
      "Total training time: 41.09 seconds.\n",
      "-- Epoch 458\n",
      "Norm: 3891.46, NNZs: 121, Bias: -29.479798, T: 94362656, Avg. loss: 303261.989068\n",
      "Total training time: 41.18 seconds.\n",
      "-- Epoch 459\n",
      "Norm: 3885.77, NNZs: 121, Bias: -29.473976, T: 94568688, Avg. loss: 299894.441769\n",
      "Total training time: 41.27 seconds.\n",
      "-- Epoch 460\n",
      "Norm: 3880.16, NNZs: 121, Bias: -29.465421, T: 94774720, Avg. loss: 301213.352800\n",
      "Total training time: 41.36 seconds.\n",
      "-- Epoch 461\n",
      "Norm: 3877.02, NNZs: 121, Bias: -29.458254, T: 94980752, Avg. loss: 300744.701465\n",
      "Total training time: 41.45 seconds.\n",
      "-- Epoch 462\n",
      "Norm: 3872.19, NNZs: 121, Bias: -29.452469, T: 95186784, Avg. loss: 298920.604511\n",
      "Total training time: 41.53 seconds.\n",
      "-- Epoch 463\n",
      "Norm: 3866.82, NNZs: 121, Bias: -29.444809, T: 95392816, Avg. loss: 297655.733997\n",
      "Total training time: 41.63 seconds.\n",
      "-- Epoch 464\n",
      "Norm: 3861.52, NNZs: 121, Bias: -29.437060, T: 95598848, Avg. loss: 298473.593457\n",
      "Total training time: 41.73 seconds.\n",
      "-- Epoch 465\n",
      "Norm: 3857.73, NNZs: 121, Bias: -29.428701, T: 95804880, Avg. loss: 298591.276563\n",
      "Total training time: 41.81 seconds.\n",
      "-- Epoch 466\n",
      "Norm: 3850.73, NNZs: 121, Bias: -29.422135, T: 96010912, Avg. loss: 297493.521272\n",
      "Total training time: 41.90 seconds.\n",
      "-- Epoch 467\n",
      "Norm: 3842.91, NNZs: 121, Bias: -29.408922, T: 96216944, Avg. loss: 294461.013511\n",
      "Total training time: 41.99 seconds.\n",
      "-- Epoch 468\n",
      "Norm: 3839.16, NNZs: 121, Bias: -29.404876, T: 96422976, Avg. loss: 294583.571536\n",
      "Total training time: 42.08 seconds.\n",
      "-- Epoch 469\n",
      "Norm: 3831.09, NNZs: 121, Bias: -29.396485, T: 96629008, Avg. loss: 296510.002536\n",
      "Total training time: 42.17 seconds.\n",
      "-- Epoch 470\n",
      "Norm: 3828.63, NNZs: 121, Bias: -29.388939, T: 96835040, Avg. loss: 294664.521885\n",
      "Total training time: 42.26 seconds.\n",
      "-- Epoch 471\n",
      "Norm: 3821.96, NNZs: 121, Bias: -29.381819, T: 97041072, Avg. loss: 296028.102093\n",
      "Total training time: 42.35 seconds.\n",
      "-- Epoch 472\n",
      "Norm: 3816.76, NNZs: 121, Bias: -29.372449, T: 97247104, Avg. loss: 291673.085100\n",
      "Total training time: 42.45 seconds.\n",
      "-- Epoch 473\n",
      "Norm: 3809.18, NNZs: 121, Bias: -29.366390, T: 97453136, Avg. loss: 292375.131942\n",
      "Total training time: 42.54 seconds.\n",
      "-- Epoch 474\n",
      "Norm: 3805.23, NNZs: 121, Bias: -29.359519, T: 97659168, Avg. loss: 291584.567089\n",
      "Total training time: 42.63 seconds.\n",
      "-- Epoch 475\n",
      "Norm: 3800.04, NNZs: 121, Bias: -29.352769, T: 97865200, Avg. loss: 291324.160145\n",
      "Total training time: 42.73 seconds.\n",
      "-- Epoch 476\n",
      "Norm: 3793.29, NNZs: 121, Bias: -29.347872, T: 98071232, Avg. loss: 291405.160721\n",
      "Total training time: 42.81 seconds.\n",
      "-- Epoch 477\n",
      "Norm: 3785.02, NNZs: 121, Bias: -29.337990, T: 98277264, Avg. loss: 290573.447040\n",
      "Total training time: 42.90 seconds.\n",
      "-- Epoch 478\n",
      "Norm: 3779.34, NNZs: 121, Bias: -29.330571, T: 98483296, Avg. loss: 290686.729447\n",
      "Total training time: 42.99 seconds.\n",
      "-- Epoch 479\n",
      "Norm: 3772.07, NNZs: 121, Bias: -29.323066, T: 98689328, Avg. loss: 289735.953467\n",
      "Total training time: 43.09 seconds.\n",
      "-- Epoch 480\n",
      "Norm: 3765.37, NNZs: 121, Bias: -29.314967, T: 98895360, Avg. loss: 289751.607717\n",
      "Total training time: 43.20 seconds.\n",
      "-- Epoch 481\n",
      "Norm: 3757.12, NNZs: 121, Bias: -29.306482, T: 99101392, Avg. loss: 290475.041014\n",
      "Total training time: 43.29 seconds.\n",
      "-- Epoch 482\n",
      "Norm: 3752.82, NNZs: 121, Bias: -29.297309, T: 99307424, Avg. loss: 286064.584273\n",
      "Total training time: 43.39 seconds.\n",
      "-- Epoch 483\n",
      "Norm: 3746.88, NNZs: 121, Bias: -29.292079, T: 99513456, Avg. loss: 286005.012878\n",
      "Total training time: 43.48 seconds.\n",
      "-- Epoch 484\n",
      "Norm: 3741.55, NNZs: 121, Bias: -29.287261, T: 99719488, Avg. loss: 286624.122754\n",
      "Total training time: 43.57 seconds.\n",
      "-- Epoch 485\n",
      "Norm: 3735.85, NNZs: 121, Bias: -29.280748, T: 99925520, Avg. loss: 284536.164986\n",
      "Total training time: 43.66 seconds.\n",
      "-- Epoch 486\n",
      "Norm: 3732.36, NNZs: 121, Bias: -29.273847, T: 100131552, Avg. loss: 284990.952449\n",
      "Total training time: 43.78 seconds.\n",
      "-- Epoch 487\n",
      "Norm: 3729.46, NNZs: 121, Bias: -29.268159, T: 100337584, Avg. loss: 283453.250687\n",
      "Total training time: 43.90 seconds.\n",
      "-- Epoch 488\n",
      "Norm: 3722.49, NNZs: 121, Bias: -29.261686, T: 100543616, Avg. loss: 284813.138587\n",
      "Total training time: 44.00 seconds.\n",
      "-- Epoch 489\n",
      "Norm: 3718.42, NNZs: 121, Bias: -29.255028, T: 100749648, Avg. loss: 282812.805403\n",
      "Total training time: 44.10 seconds.\n",
      "-- Epoch 490\n",
      "Norm: 3710.99, NNZs: 121, Bias: -29.246898, T: 100955680, Avg. loss: 283693.786814\n",
      "Total training time: 44.18 seconds.\n",
      "-- Epoch 491\n",
      "Norm: 3704.79, NNZs: 121, Bias: -29.241753, T: 101161712, Avg. loss: 281661.134280\n",
      "Total training time: 44.28 seconds.\n",
      "-- Epoch 492\n",
      "Norm: 3702.94, NNZs: 121, Bias: -29.237803, T: 101367744, Avg. loss: 280209.530291\n",
      "Total training time: 44.37 seconds.\n",
      "-- Epoch 493\n",
      "Norm: 3698.87, NNZs: 121, Bias: -29.230409, T: 101573776, Avg. loss: 282775.179194\n",
      "Total training time: 44.47 seconds.\n",
      "-- Epoch 494\n",
      "Norm: 3693.86, NNZs: 121, Bias: -29.222639, T: 101779808, Avg. loss: 280571.019484\n",
      "Total training time: 44.61 seconds.\n",
      "-- Epoch 495\n",
      "Norm: 3688.77, NNZs: 121, Bias: -29.215670, T: 101985840, Avg. loss: 280127.095284\n",
      "Total training time: 44.71 seconds.\n",
      "-- Epoch 496\n",
      "Norm: 3683.57, NNZs: 121, Bias: -29.209204, T: 102191872, Avg. loss: 279941.351262\n",
      "Total training time: 44.81 seconds.\n",
      "-- Epoch 497\n",
      "Norm: 3679.20, NNZs: 121, Bias: -29.204316, T: 102397904, Avg. loss: 277567.099031\n",
      "Total training time: 44.92 seconds.\n",
      "-- Epoch 498\n",
      "Norm: 3673.51, NNZs: 121, Bias: -29.199437, T: 102603936, Avg. loss: 277557.033629\n",
      "Total training time: 45.02 seconds.\n",
      "-- Epoch 499\n",
      "Norm: 3669.22, NNZs: 121, Bias: -29.193012, T: 102809968, Avg. loss: 276906.586707\n",
      "Total training time: 45.12 seconds.\n",
      "-- Epoch 500\n",
      "Norm: 3665.50, NNZs: 121, Bias: -29.186602, T: 103016000, Avg. loss: 276961.561218\n",
      "Total training time: 45.23 seconds.\n",
      "-- Epoch 501\n",
      "Norm: 3659.74, NNZs: 121, Bias: -29.178748, T: 103222032, Avg. loss: 276232.337253\n",
      "Total training time: 45.33 seconds.\n",
      "-- Epoch 502\n",
      "Norm: 3652.50, NNZs: 121, Bias: -29.172262, T: 103428064, Avg. loss: 275724.960997\n",
      "Total training time: 45.43 seconds.\n",
      "-- Epoch 503\n",
      "Norm: 3646.18, NNZs: 121, Bias: -29.165501, T: 103634096, Avg. loss: 275174.403494\n",
      "Total training time: 45.53 seconds.\n",
      "-- Epoch 504\n",
      "Norm: 3640.08, NNZs: 121, Bias: -29.161068, T: 103840128, Avg. loss: 274427.445748\n",
      "Total training time: 45.64 seconds.\n",
      "-- Epoch 505\n",
      "Norm: 3633.07, NNZs: 121, Bias: -29.153178, T: 104046160, Avg. loss: 273712.527744\n",
      "Total training time: 45.74 seconds.\n",
      "-- Epoch 506\n",
      "Norm: 3626.52, NNZs: 121, Bias: -29.146361, T: 104252192, Avg. loss: 273986.227632\n",
      "Total training time: 45.85 seconds.\n",
      "-- Epoch 507\n",
      "Norm: 3621.55, NNZs: 121, Bias: -29.137640, T: 104458224, Avg. loss: 273610.932712\n",
      "Total training time: 45.95 seconds.\n",
      "-- Epoch 508\n",
      "Norm: 3614.06, NNZs: 121, Bias: -29.129417, T: 104664256, Avg. loss: 273550.705405\n",
      "Total training time: 46.06 seconds.\n",
      "-- Epoch 509\n",
      "Norm: 3610.21, NNZs: 121, Bias: -29.122926, T: 104870288, Avg. loss: 272947.438204\n",
      "Total training time: 46.16 seconds.\n",
      "-- Epoch 510\n",
      "Norm: 3604.26, NNZs: 121, Bias: -29.116924, T: 105076320, Avg. loss: 271413.052224\n",
      "Total training time: 46.28 seconds.\n",
      "-- Epoch 511\n",
      "Norm: 3600.79, NNZs: 121, Bias: -29.112265, T: 105282352, Avg. loss: 270846.553091\n",
      "Total training time: 46.38 seconds.\n",
      "-- Epoch 512\n",
      "Norm: 3595.09, NNZs: 121, Bias: -29.103819, T: 105488384, Avg. loss: 270758.309239\n",
      "Total training time: 46.48 seconds.\n",
      "-- Epoch 513\n",
      "Norm: 3589.95, NNZs: 121, Bias: -29.098232, T: 105694416, Avg. loss: 269442.299930\n",
      "Total training time: 46.58 seconds.\n",
      "-- Epoch 514\n",
      "Norm: 3585.35, NNZs: 121, Bias: -29.091710, T: 105900448, Avg. loss: 269309.296270\n",
      "Total training time: 46.69 seconds.\n",
      "-- Epoch 515\n",
      "Norm: 3581.48, NNZs: 121, Bias: -29.084918, T: 106106480, Avg. loss: 268038.598430\n",
      "Total training time: 46.80 seconds.\n",
      "-- Epoch 516\n",
      "Norm: 3576.22, NNZs: 121, Bias: -29.077573, T: 106312512, Avg. loss: 268076.494384\n",
      "Total training time: 46.91 seconds.\n",
      "-- Epoch 517\n",
      "Norm: 3570.34, NNZs: 121, Bias: -29.070902, T: 106518544, Avg. loss: 265704.940663\n",
      "Total training time: 47.01 seconds.\n",
      "-- Epoch 518\n",
      "Norm: 3567.14, NNZs: 121, Bias: -29.064806, T: 106724576, Avg. loss: 266262.486325\n",
      "Total training time: 47.12 seconds.\n",
      "-- Epoch 519\n",
      "Norm: 3562.63, NNZs: 121, Bias: -29.057408, T: 106930608, Avg. loss: 266776.940524\n",
      "Total training time: 47.23 seconds.\n",
      "-- Epoch 520\n",
      "Norm: 3558.23, NNZs: 121, Bias: -29.049654, T: 107136640, Avg. loss: 265719.529089\n",
      "Total training time: 47.36 seconds.\n",
      "-- Epoch 521\n",
      "Norm: 3554.33, NNZs: 121, Bias: -29.042100, T: 107342672, Avg. loss: 265310.472509\n",
      "Total training time: 47.49 seconds.\n",
      "-- Epoch 522\n",
      "Norm: 3549.30, NNZs: 121, Bias: -29.034097, T: 107548704, Avg. loss: 264870.807107\n",
      "Total training time: 47.60 seconds.\n",
      "-- Epoch 523\n",
      "Norm: 3546.68, NNZs: 121, Bias: -29.028058, T: 107754736, Avg. loss: 264274.681312\n",
      "Total training time: 47.71 seconds.\n",
      "-- Epoch 524\n",
      "Norm: 3542.88, NNZs: 121, Bias: -29.019714, T: 107960768, Avg. loss: 263721.389028\n",
      "Total training time: 47.81 seconds.\n",
      "-- Epoch 525\n",
      "Norm: 3537.20, NNZs: 121, Bias: -29.013237, T: 108166800, Avg. loss: 263994.713711\n",
      "Total training time: 47.91 seconds.\n",
      "-- Epoch 526\n",
      "Norm: 3534.25, NNZs: 121, Bias: -29.008433, T: 108372832, Avg. loss: 262231.270341\n",
      "Total training time: 48.02 seconds.\n",
      "-- Epoch 527\n",
      "Norm: 3528.48, NNZs: 121, Bias: -29.004009, T: 108578864, Avg. loss: 262979.580892\n",
      "Total training time: 48.12 seconds.\n",
      "-- Epoch 528\n",
      "Norm: 3523.61, NNZs: 121, Bias: -28.996462, T: 108784896, Avg. loss: 262639.748237\n",
      "Total training time: 48.22 seconds.\n",
      "-- Epoch 529\n",
      "Norm: 3521.02, NNZs: 121, Bias: -28.989757, T: 108990928, Avg. loss: 259869.918548\n",
      "Total training time: 48.32 seconds.\n",
      "-- Epoch 530\n",
      "Norm: 3516.46, NNZs: 121, Bias: -28.984347, T: 109196960, Avg. loss: 261727.245309\n",
      "Total training time: 48.44 seconds.\n",
      "-- Epoch 531\n",
      "Norm: 3511.78, NNZs: 121, Bias: -28.978123, T: 109402992, Avg. loss: 260801.648010\n",
      "Total training time: 48.54 seconds.\n",
      "-- Epoch 532\n",
      "Norm: 3506.25, NNZs: 121, Bias: -28.970269, T: 109609024, Avg. loss: 259679.099650\n",
      "Total training time: 48.65 seconds.\n",
      "-- Epoch 533\n",
      "Norm: 3501.42, NNZs: 121, Bias: -28.965438, T: 109815056, Avg. loss: 259895.811330\n",
      "Total training time: 48.75 seconds.\n",
      "-- Epoch 534\n",
      "Norm: 3496.93, NNZs: 121, Bias: -28.957706, T: 110021088, Avg. loss: 257718.146275\n",
      "Total training time: 48.86 seconds.\n",
      "-- Epoch 535\n",
      "Norm: 3491.12, NNZs: 121, Bias: -28.952801, T: 110227120, Avg. loss: 257482.478171\n",
      "Total training time: 48.99 seconds.\n",
      "-- Epoch 536\n",
      "Norm: 3487.12, NNZs: 121, Bias: -28.944554, T: 110433152, Avg. loss: 257661.014740\n",
      "Total training time: 49.12 seconds.\n",
      "-- Epoch 537\n",
      "Norm: 3480.87, NNZs: 121, Bias: -28.937949, T: 110639184, Avg. loss: 258966.533951\n",
      "Total training time: 49.25 seconds.\n",
      "-- Epoch 538\n",
      "Norm: 3474.91, NNZs: 121, Bias: -28.931086, T: 110845216, Avg. loss: 257673.899391\n",
      "Total training time: 49.38 seconds.\n",
      "-- Epoch 539\n",
      "Norm: 3468.85, NNZs: 121, Bias: -28.922342, T: 111051248, Avg. loss: 257049.214258\n",
      "Total training time: 49.51 seconds.\n",
      "-- Epoch 540\n",
      "Norm: 3463.42, NNZs: 121, Bias: -28.917124, T: 111257280, Avg. loss: 255585.236691\n",
      "Total training time: 49.64 seconds.\n",
      "-- Epoch 541\n",
      "Norm: 3462.06, NNZs: 121, Bias: -28.910929, T: 111463312, Avg. loss: 255239.896628\n",
      "Total training time: 49.78 seconds.\n",
      "-- Epoch 542\n",
      "Norm: 3458.12, NNZs: 121, Bias: -28.905553, T: 111669344, Avg. loss: 255866.526276\n",
      "Total training time: 49.91 seconds.\n",
      "-- Epoch 543\n",
      "Norm: 3453.26, NNZs: 121, Bias: -28.898841, T: 111875376, Avg. loss: 254948.306315\n",
      "Total training time: 50.01 seconds.\n",
      "-- Epoch 544\n",
      "Norm: 3446.93, NNZs: 121, Bias: -28.893126, T: 112081408, Avg. loss: 255771.734656\n",
      "Total training time: 50.12 seconds.\n",
      "-- Epoch 545\n",
      "Norm: 3441.48, NNZs: 121, Bias: -28.887246, T: 112287440, Avg. loss: 253229.715216\n",
      "Total training time: 50.21 seconds.\n",
      "-- Epoch 546\n",
      "Norm: 3436.85, NNZs: 121, Bias: -28.882708, T: 112493472, Avg. loss: 253121.677316\n",
      "Total training time: 50.32 seconds.\n",
      "-- Epoch 547\n",
      "Norm: 3433.70, NNZs: 121, Bias: -28.876314, T: 112699504, Avg. loss: 253638.945604\n",
      "Total training time: 50.42 seconds.\n",
      "-- Epoch 548\n",
      "Norm: 3428.65, NNZs: 121, Bias: -28.870461, T: 112905536, Avg. loss: 253119.219924\n",
      "Total training time: 50.52 seconds.\n",
      "-- Epoch 549\n",
      "Norm: 3424.87, NNZs: 121, Bias: -28.864001, T: 113111568, Avg. loss: 251745.347597\n",
      "Total training time: 50.62 seconds.\n",
      "-- Epoch 550\n",
      "Norm: 3420.14, NNZs: 121, Bias: -28.858790, T: 113317600, Avg. loss: 250726.194358\n",
      "Total training time: 50.73 seconds.\n",
      "-- Epoch 551\n",
      "Norm: 3417.12, NNZs: 121, Bias: -28.854293, T: 113523632, Avg. loss: 250106.124760\n",
      "Total training time: 50.84 seconds.\n",
      "-- Epoch 552\n",
      "Norm: 3410.84, NNZs: 121, Bias: -28.847165, T: 113729664, Avg. loss: 251187.034089\n",
      "Total training time: 50.94 seconds.\n",
      "-- Epoch 553\n",
      "Norm: 3407.15, NNZs: 121, Bias: -28.841982, T: 113935696, Avg. loss: 250381.491561\n",
      "Total training time: 51.04 seconds.\n",
      "-- Epoch 554\n",
      "Norm: 3403.31, NNZs: 121, Bias: -28.837071, T: 114141728, Avg. loss: 250691.398557\n",
      "Total training time: 51.14 seconds.\n",
      "-- Epoch 555\n",
      "Norm: 3397.73, NNZs: 121, Bias: -28.829280, T: 114347760, Avg. loss: 249680.875742\n",
      "Total training time: 51.24 seconds.\n",
      "-- Epoch 556\n",
      "Norm: 3393.84, NNZs: 121, Bias: -28.825173, T: 114553792, Avg. loss: 248105.026807\n",
      "Total training time: 51.34 seconds.\n",
      "-- Epoch 557\n",
      "Norm: 3389.57, NNZs: 121, Bias: -28.818632, T: 114759824, Avg. loss: 248690.275224\n",
      "Total training time: 51.44 seconds.\n",
      "-- Epoch 558\n",
      "Norm: 3385.91, NNZs: 121, Bias: -28.812538, T: 114965856, Avg. loss: 246948.780820\n",
      "Total training time: 51.54 seconds.\n",
      "-- Epoch 559\n",
      "Norm: 3380.98, NNZs: 121, Bias: -28.807758, T: 115171888, Avg. loss: 247443.475321\n",
      "Total training time: 51.65 seconds.\n",
      "-- Epoch 560\n",
      "Norm: 3377.49, NNZs: 121, Bias: -28.799862, T: 115377920, Avg. loss: 247797.325495\n",
      "Total training time: 51.75 seconds.\n",
      "-- Epoch 561\n",
      "Norm: 3373.08, NNZs: 121, Bias: -28.792327, T: 115583952, Avg. loss: 246318.847069\n",
      "Total training time: 51.86 seconds.\n",
      "-- Epoch 562\n",
      "Norm: 3367.21, NNZs: 121, Bias: -28.786622, T: 115789984, Avg. loss: 246569.318830\n",
      "Total training time: 51.95 seconds.\n",
      "-- Epoch 563\n",
      "Norm: 3363.92, NNZs: 121, Bias: -28.778425, T: 115996016, Avg. loss: 246182.189240\n",
      "Total training time: 52.06 seconds.\n",
      "-- Epoch 564\n",
      "Norm: 3360.02, NNZs: 121, Bias: -28.772917, T: 116202048, Avg. loss: 244455.366469\n",
      "Total training time: 52.16 seconds.\n",
      "-- Epoch 565\n",
      "Norm: 3355.21, NNZs: 121, Bias: -28.767756, T: 116408080, Avg. loss: 245519.785092\n",
      "Total training time: 52.29 seconds.\n",
      "-- Epoch 566\n",
      "Norm: 3352.44, NNZs: 121, Bias: -28.763292, T: 116614112, Avg. loss: 244693.340206\n",
      "Total training time: 52.41 seconds.\n",
      "-- Epoch 567\n",
      "Norm: 3348.16, NNZs: 121, Bias: -28.755495, T: 116820144, Avg. loss: 244679.530250\n",
      "Total training time: 52.51 seconds.\n",
      "-- Epoch 568\n",
      "Norm: 3342.95, NNZs: 121, Bias: -28.748565, T: 117026176, Avg. loss: 243768.577384\n",
      "Total training time: 52.61 seconds.\n",
      "-- Epoch 569\n",
      "Norm: 3339.39, NNZs: 121, Bias: -28.743698, T: 117232208, Avg. loss: 243118.645872\n",
      "Total training time: 52.72 seconds.\n",
      "-- Epoch 570\n",
      "Norm: 3336.89, NNZs: 121, Bias: -28.739862, T: 117438240, Avg. loss: 243382.858225\n",
      "Total training time: 52.82 seconds.\n",
      "-- Epoch 571\n",
      "Norm: 3331.99, NNZs: 121, Bias: -28.733397, T: 117644272, Avg. loss: 243213.365112\n",
      "Total training time: 52.93 seconds.\n",
      "-- Epoch 572\n",
      "Norm: 3328.10, NNZs: 121, Bias: -28.726942, T: 117850304, Avg. loss: 242295.420055\n",
      "Total training time: 53.02 seconds.\n",
      "-- Epoch 573\n",
      "Norm: 3323.28, NNZs: 121, Bias: -28.721685, T: 118056336, Avg. loss: 241778.324659\n",
      "Total training time: 53.13 seconds.\n",
      "-- Epoch 574\n",
      "Norm: 3318.46, NNZs: 121, Bias: -28.713306, T: 118262368, Avg. loss: 241474.092927\n",
      "Total training time: 53.24 seconds.\n",
      "-- Epoch 575\n",
      "Norm: 3311.24, NNZs: 121, Bias: -28.709419, T: 118468400, Avg. loss: 240948.059484\n",
      "Total training time: 53.33 seconds.\n",
      "-- Epoch 576\n",
      "Norm: 3307.61, NNZs: 121, Bias: -28.704022, T: 118674432, Avg. loss: 240628.014796\n",
      "Total training time: 53.44 seconds.\n",
      "-- Epoch 577\n",
      "Norm: 3302.90, NNZs: 121, Bias: -28.696277, T: 118880464, Avg. loss: 240518.784352\n",
      "Total training time: 53.54 seconds.\n",
      "-- Epoch 578\n",
      "Norm: 3298.60, NNZs: 121, Bias: -28.689722, T: 119086496, Avg. loss: 238610.183356\n",
      "Total training time: 53.64 seconds.\n",
      "-- Epoch 579\n",
      "Norm: 3294.87, NNZs: 121, Bias: -28.685192, T: 119292528, Avg. loss: 239328.485473\n",
      "Total training time: 53.75 seconds.\n",
      "-- Epoch 580\n",
      "Norm: 3292.12, NNZs: 121, Bias: -28.680333, T: 119498560, Avg. loss: 237208.564638\n",
      "Total training time: 53.85 seconds.\n",
      "-- Epoch 581\n",
      "Norm: 3287.55, NNZs: 121, Bias: -28.674564, T: 119704592, Avg. loss: 238220.176151\n",
      "Total training time: 53.96 seconds.\n",
      "-- Epoch 582\n",
      "Norm: 3283.00, NNZs: 121, Bias: -28.667721, T: 119910624, Avg. loss: 237545.047789\n",
      "Total training time: 54.06 seconds.\n",
      "-- Epoch 583\n",
      "Norm: 3278.77, NNZs: 121, Bias: -28.662555, T: 120116656, Avg. loss: 238042.465578\n",
      "Total training time: 54.16 seconds.\n",
      "-- Epoch 584\n",
      "Norm: 3274.94, NNZs: 121, Bias: -28.656566, T: 120322688, Avg. loss: 236586.050407\n",
      "Total training time: 54.27 seconds.\n",
      "-- Epoch 585\n",
      "Norm: 3269.05, NNZs: 121, Bias: -28.649009, T: 120528720, Avg. loss: 236078.254540\n",
      "Total training time: 54.37 seconds.\n",
      "-- Epoch 586\n",
      "Norm: 3266.74, NNZs: 121, Bias: -28.642708, T: 120734752, Avg. loss: 235616.735184\n",
      "Total training time: 54.47 seconds.\n",
      "-- Epoch 587\n",
      "Norm: 3263.14, NNZs: 121, Bias: -28.638240, T: 120940784, Avg. loss: 235860.909007\n",
      "Total training time: 54.58 seconds.\n",
      "-- Epoch 588\n",
      "Norm: 3260.87, NNZs: 121, Bias: -28.631547, T: 121146816, Avg. loss: 234623.443069\n",
      "Total training time: 54.68 seconds.\n",
      "-- Epoch 589\n",
      "Norm: 3255.22, NNZs: 121, Bias: -28.624619, T: 121352848, Avg. loss: 233873.508789\n",
      "Total training time: 54.80 seconds.\n",
      "-- Epoch 590\n",
      "Norm: 3249.58, NNZs: 121, Bias: -28.619185, T: 121558880, Avg. loss: 233520.182984\n",
      "Total training time: 54.90 seconds.\n",
      "-- Epoch 591\n",
      "Norm: 3245.42, NNZs: 121, Bias: -28.612855, T: 121764912, Avg. loss: 235162.800381\n",
      "Total training time: 55.01 seconds.\n",
      "-- Epoch 592\n",
      "Norm: 3242.60, NNZs: 121, Bias: -28.608835, T: 121970944, Avg. loss: 233520.985630\n",
      "Total training time: 55.11 seconds.\n",
      "-- Epoch 593\n",
      "Norm: 3239.34, NNZs: 121, Bias: -28.603512, T: 122176976, Avg. loss: 232372.067002\n",
      "Total training time: 55.22 seconds.\n",
      "-- Epoch 594\n",
      "Norm: 3235.66, NNZs: 121, Bias: -28.598769, T: 122383008, Avg. loss: 233615.918879\n",
      "Total training time: 55.33 seconds.\n",
      "-- Epoch 595\n",
      "Norm: 3232.59, NNZs: 121, Bias: -28.592320, T: 122589040, Avg. loss: 231347.125862\n",
      "Total training time: 55.43 seconds.\n",
      "-- Epoch 596\n",
      "Norm: 3229.14, NNZs: 121, Bias: -28.588733, T: 122795072, Avg. loss: 232560.024630\n",
      "Total training time: 55.53 seconds.\n",
      "-- Epoch 597\n",
      "Norm: 3225.76, NNZs: 121, Bias: -28.583851, T: 123001104, Avg. loss: 231267.660484\n",
      "Total training time: 55.64 seconds.\n",
      "-- Epoch 598\n",
      "Norm: 3219.78, NNZs: 121, Bias: -28.577353, T: 123207136, Avg. loss: 231695.816624\n",
      "Total training time: 55.75 seconds.\n",
      "-- Epoch 599\n",
      "Norm: 3215.64, NNZs: 121, Bias: -28.573054, T: 123413168, Avg. loss: 230189.133079\n",
      "Total training time: 55.85 seconds.\n",
      "-- Epoch 600\n",
      "Norm: 3212.03, NNZs: 121, Bias: -28.565606, T: 123619200, Avg. loss: 231687.886782\n",
      "Total training time: 55.95 seconds.\n",
      "-- Epoch 601\n",
      "Norm: 3209.22, NNZs: 121, Bias: -28.560838, T: 123825232, Avg. loss: 230201.015437\n",
      "Total training time: 56.06 seconds.\n",
      "-- Epoch 602\n",
      "Norm: 3206.11, NNZs: 121, Bias: -28.554463, T: 124031264, Avg. loss: 230425.827516\n",
      "Total training time: 56.16 seconds.\n",
      "-- Epoch 603\n",
      "Norm: 3202.27, NNZs: 121, Bias: -28.549469, T: 124237296, Avg. loss: 230388.823765\n",
      "Total training time: 56.26 seconds.\n",
      "-- Epoch 604\n",
      "Norm: 3198.72, NNZs: 121, Bias: -28.543277, T: 124443328, Avg. loss: 229757.175812\n",
      "Total training time: 56.36 seconds.\n",
      "-- Epoch 605\n",
      "Norm: 3195.85, NNZs: 121, Bias: -28.539423, T: 124649360, Avg. loss: 228002.918794\n",
      "Total training time: 56.47 seconds.\n",
      "-- Epoch 606\n",
      "Norm: 3191.72, NNZs: 121, Bias: -28.534694, T: 124855392, Avg. loss: 228151.736003\n",
      "Total training time: 56.57 seconds.\n",
      "-- Epoch 607\n",
      "Norm: 3188.27, NNZs: 121, Bias: -28.529573, T: 125061424, Avg. loss: 227404.580614\n",
      "Total training time: 56.68 seconds.\n",
      "-- Epoch 608\n",
      "Norm: 3183.37, NNZs: 121, Bias: -28.524460, T: 125267456, Avg. loss: 227981.697572\n",
      "Total training time: 56.78 seconds.\n",
      "-- Epoch 609\n",
      "Norm: 3179.26, NNZs: 121, Bias: -28.517920, T: 125473488, Avg. loss: 226466.264717\n",
      "Total training time: 56.89 seconds.\n",
      "-- Epoch 610\n",
      "Norm: 3175.28, NNZs: 121, Bias: -28.511709, T: 125679520, Avg. loss: 227837.550772\n",
      "Total training time: 56.99 seconds.\n",
      "-- Epoch 611\n",
      "Norm: 3171.60, NNZs: 121, Bias: -28.508450, T: 125885552, Avg. loss: 226616.838677\n",
      "Total training time: 57.09 seconds.\n",
      "-- Epoch 612\n",
      "Norm: 3167.43, NNZs: 121, Bias: -28.501545, T: 126091584, Avg. loss: 226770.591200\n",
      "Total training time: 57.19 seconds.\n",
      "-- Epoch 613\n",
      "Norm: 3164.92, NNZs: 121, Bias: -28.497028, T: 126297616, Avg. loss: 225402.590763\n",
      "Total training time: 57.29 seconds.\n",
      "-- Epoch 614\n",
      "Norm: 3160.41, NNZs: 121, Bias: -28.492203, T: 126503648, Avg. loss: 224454.677364\n",
      "Total training time: 57.39 seconds.\n",
      "-- Epoch 615\n",
      "Norm: 3156.52, NNZs: 121, Bias: -28.488571, T: 126709680, Avg. loss: 224721.702461\n",
      "Total training time: 57.50 seconds.\n",
      "-- Epoch 616\n",
      "Norm: 3153.74, NNZs: 121, Bias: -28.482814, T: 126915712, Avg. loss: 224099.187044\n",
      "Total training time: 57.60 seconds.\n",
      "-- Epoch 617\n",
      "Norm: 3148.57, NNZs: 121, Bias: -28.477934, T: 127121744, Avg. loss: 224551.904250\n",
      "Total training time: 57.72 seconds.\n",
      "-- Epoch 618\n",
      "Norm: 3145.38, NNZs: 121, Bias: -28.473689, T: 127327776, Avg. loss: 224144.698557\n",
      "Total training time: 57.81 seconds.\n",
      "-- Epoch 619\n",
      "Norm: 3141.49, NNZs: 121, Bias: -28.469293, T: 127533808, Avg. loss: 221716.647500\n",
      "Total training time: 57.90 seconds.\n",
      "-- Epoch 620\n",
      "Norm: 3138.19, NNZs: 121, Bias: -28.462555, T: 127739840, Avg. loss: 222458.980083\n",
      "Total training time: 58.00 seconds.\n",
      "-- Epoch 621\n",
      "Norm: 3133.44, NNZs: 121, Bias: -28.457158, T: 127945872, Avg. loss: 223325.938539\n",
      "Total training time: 58.09 seconds.\n",
      "-- Epoch 622\n",
      "Norm: 3129.19, NNZs: 121, Bias: -28.453724, T: 128151904, Avg. loss: 222355.816897\n",
      "Total training time: 58.18 seconds.\n",
      "-- Epoch 623\n",
      "Norm: 3127.09, NNZs: 121, Bias: -28.449746, T: 128357936, Avg. loss: 221031.691457\n",
      "Total training time: 58.27 seconds.\n",
      "-- Epoch 624\n",
      "Norm: 3124.36, NNZs: 121, Bias: -28.445153, T: 128563968, Avg. loss: 221449.887267\n",
      "Total training time: 58.36 seconds.\n",
      "-- Epoch 625\n",
      "Norm: 3120.71, NNZs: 121, Bias: -28.437379, T: 128770000, Avg. loss: 221309.420879\n",
      "Total training time: 58.52 seconds.\n",
      "-- Epoch 626\n",
      "Norm: 3117.87, NNZs: 121, Bias: -28.432878, T: 128976032, Avg. loss: 220818.935047\n",
      "Total training time: 58.78 seconds.\n",
      "-- Epoch 627\n",
      "Norm: 3114.63, NNZs: 121, Bias: -28.426603, T: 129182064, Avg. loss: 220382.026500\n",
      "Total training time: 58.88 seconds.\n",
      "-- Epoch 628\n",
      "Norm: 3111.03, NNZs: 121, Bias: -28.420957, T: 129388096, Avg. loss: 221341.340627\n",
      "Total training time: 58.99 seconds.\n",
      "-- Epoch 629\n",
      "Norm: 3107.17, NNZs: 121, Bias: -28.415478, T: 129594128, Avg. loss: 220781.666118\n",
      "Total training time: 59.10 seconds.\n",
      "-- Epoch 630\n",
      "Norm: 3103.35, NNZs: 121, Bias: -28.409618, T: 129800160, Avg. loss: 218644.384659\n",
      "Total training time: 59.20 seconds.\n",
      "-- Epoch 631\n",
      "Norm: 3099.46, NNZs: 121, Bias: -28.407617, T: 130006192, Avg. loss: 218281.142279\n",
      "Total training time: 59.31 seconds.\n",
      "-- Epoch 632\n",
      "Norm: 3095.01, NNZs: 121, Bias: -28.401007, T: 130212224, Avg. loss: 219652.902212\n",
      "Total training time: 59.41 seconds.\n",
      "-- Epoch 633\n",
      "Norm: 3091.75, NNZs: 121, Bias: -28.397477, T: 130418256, Avg. loss: 219172.985074\n",
      "Total training time: 59.51 seconds.\n",
      "-- Epoch 634\n",
      "Norm: 3088.73, NNZs: 121, Bias: -28.393262, T: 130624288, Avg. loss: 217740.810021\n",
      "Total training time: 59.62 seconds.\n",
      "-- Epoch 635\n",
      "Norm: 3085.14, NNZs: 121, Bias: -28.387906, T: 130830320, Avg. loss: 217123.775774\n",
      "Total training time: 59.73 seconds.\n",
      "-- Epoch 636\n",
      "Norm: 3081.37, NNZs: 121, Bias: -28.385692, T: 131036352, Avg. loss: 217089.137289\n",
      "Total training time: 59.83 seconds.\n",
      "-- Epoch 637\n",
      "Norm: 3077.64, NNZs: 121, Bias: -28.379669, T: 131242384, Avg. loss: 217243.200497\n",
      "Total training time: 59.93 seconds.\n",
      "-- Epoch 638\n",
      "Norm: 3072.63, NNZs: 121, Bias: -28.373045, T: 131448416, Avg. loss: 217273.552329\n",
      "Total training time: 60.06 seconds.\n",
      "-- Epoch 639\n",
      "Norm: 3070.84, NNZs: 121, Bias: -28.367953, T: 131654448, Avg. loss: 216626.279542\n",
      "Total training time: 60.19 seconds.\n",
      "-- Epoch 640\n",
      "Norm: 3067.52, NNZs: 121, Bias: -28.364234, T: 131860480, Avg. loss: 215728.075686\n",
      "Total training time: 60.32 seconds.\n",
      "-- Epoch 641\n",
      "Norm: 3064.88, NNZs: 121, Bias: -28.358399, T: 132066512, Avg. loss: 216879.293155\n",
      "Total training time: 60.44 seconds.\n",
      "-- Epoch 642\n",
      "Norm: 3060.37, NNZs: 121, Bias: -28.352043, T: 132272544, Avg. loss: 215988.702981\n",
      "Total training time: 60.53 seconds.\n",
      "-- Epoch 643\n",
      "Norm: 3058.02, NNZs: 121, Bias: -28.347509, T: 132478576, Avg. loss: 214540.451872\n",
      "Total training time: 60.65 seconds.\n",
      "-- Epoch 644\n",
      "Norm: 3055.87, NNZs: 121, Bias: -28.342758, T: 132684608, Avg. loss: 215664.425165\n",
      "Total training time: 60.76 seconds.\n",
      "-- Epoch 645\n",
      "Norm: 3052.65, NNZs: 121, Bias: -28.338012, T: 132890640, Avg. loss: 213758.820083\n",
      "Total training time: 60.86 seconds.\n",
      "-- Epoch 646\n",
      "Norm: 3049.89, NNZs: 121, Bias: -28.331018, T: 133096672, Avg. loss: 212707.151562\n",
      "Total training time: 60.96 seconds.\n",
      "-- Epoch 647\n",
      "Norm: 3046.86, NNZs: 121, Bias: -28.326739, T: 133302704, Avg. loss: 213610.298498\n",
      "Total training time: 61.07 seconds.\n",
      "-- Epoch 648\n",
      "Norm: 3043.52, NNZs: 121, Bias: -28.321940, T: 133508736, Avg. loss: 214033.201482\n",
      "Total training time: 61.17 seconds.\n",
      "-- Epoch 649\n",
      "Norm: 3040.62, NNZs: 121, Bias: -28.318348, T: 133714768, Avg. loss: 212530.702352\n",
      "Total training time: 61.28 seconds.\n",
      "-- Epoch 650\n",
      "Norm: 3037.44, NNZs: 121, Bias: -28.314163, T: 133920800, Avg. loss: 212093.265212\n",
      "Total training time: 61.37 seconds.\n",
      "-- Epoch 651\n",
      "Norm: 3035.41, NNZs: 121, Bias: -28.310733, T: 134126832, Avg. loss: 211978.766430\n",
      "Total training time: 61.47 seconds.\n",
      "-- Epoch 652\n",
      "Norm: 3032.84, NNZs: 121, Bias: -28.307679, T: 134332864, Avg. loss: 212907.063877\n",
      "Total training time: 61.56 seconds.\n",
      "-- Epoch 653\n",
      "Norm: 3029.83, NNZs: 121, Bias: -28.302249, T: 134538896, Avg. loss: 212181.568467\n",
      "Total training time: 61.67 seconds.\n",
      "-- Epoch 654\n",
      "Norm: 3027.02, NNZs: 121, Bias: -28.297273, T: 134744928, Avg. loss: 211071.460324\n",
      "Total training time: 61.80 seconds.\n",
      "-- Epoch 655\n",
      "Norm: 3024.39, NNZs: 121, Bias: -28.291710, T: 134950960, Avg. loss: 210867.624277\n",
      "Total training time: 61.90 seconds.\n",
      "-- Epoch 656\n",
      "Norm: 3020.82, NNZs: 121, Bias: -28.286601, T: 135156992, Avg. loss: 210913.073719\n",
      "Total training time: 62.01 seconds.\n",
      "-- Epoch 657\n",
      "Norm: 3019.62, NNZs: 121, Bias: -28.283717, T: 135363024, Avg. loss: 210150.073504\n",
      "Total training time: 62.11 seconds.\n",
      "-- Epoch 658\n",
      "Norm: 3016.77, NNZs: 121, Bias: -28.278992, T: 135569056, Avg. loss: 209111.808599\n",
      "Total training time: 62.22 seconds.\n",
      "-- Epoch 659\n",
      "Norm: 3011.17, NNZs: 121, Bias: -28.273979, T: 135775088, Avg. loss: 209204.862745\n",
      "Total training time: 62.32 seconds.\n",
      "-- Epoch 660\n",
      "Norm: 3008.69, NNZs: 121, Bias: -28.270005, T: 135981120, Avg. loss: 208894.126009\n",
      "Total training time: 62.42 seconds.\n",
      "-- Epoch 661\n",
      "Norm: 3005.20, NNZs: 121, Bias: -28.263904, T: 136187152, Avg. loss: 208748.226686\n",
      "Total training time: 62.52 seconds.\n",
      "-- Epoch 662\n",
      "Norm: 3002.31, NNZs: 121, Bias: -28.257888, T: 136393184, Avg. loss: 210147.941178\n",
      "Total training time: 62.62 seconds.\n",
      "-- Epoch 663\n",
      "Norm: 3000.20, NNZs: 121, Bias: -28.252688, T: 136599216, Avg. loss: 207525.815916\n",
      "Total training time: 62.72 seconds.\n",
      "-- Epoch 664\n",
      "Norm: 2996.55, NNZs: 121, Bias: -28.247859, T: 136805248, Avg. loss: 208091.731793\n",
      "Total training time: 62.83 seconds.\n",
      "-- Epoch 665\n",
      "Norm: 2992.77, NNZs: 121, Bias: -28.241214, T: 137011280, Avg. loss: 208201.480337\n",
      "Total training time: 62.94 seconds.\n",
      "-- Epoch 666\n",
      "Norm: 2988.26, NNZs: 121, Bias: -28.234140, T: 137217312, Avg. loss: 206301.019563\n",
      "Total training time: 63.05 seconds.\n",
      "-- Epoch 667\n",
      "Norm: 2984.70, NNZs: 121, Bias: -28.230135, T: 137423344, Avg. loss: 208783.445643\n",
      "Total training time: 63.15 seconds.\n",
      "-- Epoch 668\n",
      "Norm: 2982.89, NNZs: 121, Bias: -28.225916, T: 137629376, Avg. loss: 205808.998672\n",
      "Total training time: 63.26 seconds.\n",
      "-- Epoch 669\n",
      "Norm: 2979.61, NNZs: 121, Bias: -28.221631, T: 137835408, Avg. loss: 206574.136146\n",
      "Total training time: 63.36 seconds.\n",
      "-- Epoch 670\n",
      "Norm: 2975.89, NNZs: 121, Bias: -28.217861, T: 138041440, Avg. loss: 206546.156344\n",
      "Total training time: 63.49 seconds.\n",
      "-- Epoch 671\n",
      "Norm: 2971.71, NNZs: 121, Bias: -28.210984, T: 138247472, Avg. loss: 206177.486502\n",
      "Total training time: 63.61 seconds.\n",
      "-- Epoch 672\n",
      "Norm: 2968.68, NNZs: 121, Bias: -28.206213, T: 138453504, Avg. loss: 206092.535974\n",
      "Total training time: 63.75 seconds.\n",
      "-- Epoch 673\n",
      "Norm: 2966.37, NNZs: 121, Bias: -28.200151, T: 138659536, Avg. loss: 204804.259420\n",
      "Total training time: 63.89 seconds.\n",
      "-- Epoch 674\n",
      "Norm: 2961.90, NNZs: 121, Bias: -28.194963, T: 138865568, Avg. loss: 205232.787094\n",
      "Total training time: 64.02 seconds.\n",
      "-- Epoch 675\n",
      "Norm: 2957.80, NNZs: 121, Bias: -28.189854, T: 139071600, Avg. loss: 205133.603799\n",
      "Total training time: 64.15 seconds.\n",
      "-- Epoch 676\n",
      "Norm: 2953.33, NNZs: 121, Bias: -28.186407, T: 139277632, Avg. loss: 204231.532383\n",
      "Total training time: 64.29 seconds.\n",
      "-- Epoch 677\n",
      "Norm: 2950.54, NNZs: 121, Bias: -28.180955, T: 139483664, Avg. loss: 205353.325889\n",
      "Total training time: 64.39 seconds.\n",
      "-- Epoch 678\n",
      "Norm: 2946.53, NNZs: 121, Bias: -28.178591, T: 139689696, Avg. loss: 204262.817914\n",
      "Total training time: 64.49 seconds.\n",
      "-- Epoch 679\n",
      "Norm: 2943.32, NNZs: 121, Bias: -28.174442, T: 139895728, Avg. loss: 204323.392305\n",
      "Total training time: 64.61 seconds.\n",
      "-- Epoch 680\n",
      "Norm: 2939.74, NNZs: 121, Bias: -28.169728, T: 140101760, Avg. loss: 203719.318480\n",
      "Total training time: 64.72 seconds.\n",
      "-- Epoch 681\n",
      "Norm: 2936.31, NNZs: 121, Bias: -28.164806, T: 140307792, Avg. loss: 203804.385638\n",
      "Total training time: 64.81 seconds.\n",
      "-- Epoch 682\n",
      "Norm: 2933.24, NNZs: 121, Bias: -28.158610, T: 140513824, Avg. loss: 202878.218352\n",
      "Total training time: 64.92 seconds.\n",
      "-- Epoch 683\n",
      "Norm: 2929.48, NNZs: 121, Bias: -28.153846, T: 140719856, Avg. loss: 202305.033170\n",
      "Total training time: 65.02 seconds.\n",
      "-- Epoch 684\n",
      "Norm: 2927.56, NNZs: 121, Bias: -28.149798, T: 140925888, Avg. loss: 202463.786200\n",
      "Total training time: 65.12 seconds.\n",
      "-- Epoch 685\n",
      "Norm: 2924.56, NNZs: 121, Bias: -28.145190, T: 141131920, Avg. loss: 202149.798729\n",
      "Total training time: 65.22 seconds.\n",
      "-- Epoch 686\n",
      "Norm: 2921.69, NNZs: 121, Bias: -28.141790, T: 141337952, Avg. loss: 201182.982401\n",
      "Total training time: 65.32 seconds.\n",
      "-- Epoch 687\n",
      "Norm: 2918.09, NNZs: 121, Bias: -28.136489, T: 141543984, Avg. loss: 202061.076084\n",
      "Total training time: 65.42 seconds.\n",
      "-- Epoch 688\n",
      "Norm: 2916.55, NNZs: 121, Bias: -28.133099, T: 141750016, Avg. loss: 199466.508315\n",
      "Total training time: 65.53 seconds.\n",
      "-- Epoch 689\n",
      "Norm: 2912.25, NNZs: 121, Bias: -28.129503, T: 141956048, Avg. loss: 200334.551782\n",
      "Total training time: 65.63 seconds.\n",
      "-- Epoch 690\n",
      "Norm: 2908.39, NNZs: 121, Bias: -28.123309, T: 142162080, Avg. loss: 200685.308334\n",
      "Total training time: 65.73 seconds.\n",
      "-- Epoch 691\n",
      "Norm: 2904.47, NNZs: 121, Bias: -28.120567, T: 142368112, Avg. loss: 200640.970753\n",
      "Total training time: 65.84 seconds.\n",
      "-- Epoch 692\n",
      "Norm: 2900.76, NNZs: 121, Bias: -28.115513, T: 142574144, Avg. loss: 199713.437961\n",
      "Total training time: 65.94 seconds.\n",
      "-- Epoch 693\n",
      "Norm: 2895.56, NNZs: 121, Bias: -28.111449, T: 142780176, Avg. loss: 197926.830582\n",
      "Total training time: 66.04 seconds.\n",
      "-- Epoch 694\n",
      "Norm: 2893.52, NNZs: 121, Bias: -28.108370, T: 142986208, Avg. loss: 199016.217210\n",
      "Total training time: 66.16 seconds.\n",
      "-- Epoch 695\n",
      "Norm: 2890.93, NNZs: 121, Bias: -28.104108, T: 143192240, Avg. loss: 199246.974347\n",
      "Total training time: 66.26 seconds.\n",
      "-- Epoch 696\n",
      "Norm: 2889.19, NNZs: 121, Bias: -28.100479, T: 143398272, Avg. loss: 198224.080401\n",
      "Total training time: 66.36 seconds.\n",
      "-- Epoch 697\n",
      "Norm: 2886.24, NNZs: 121, Bias: -28.096786, T: 143604304, Avg. loss: 199091.034549\n",
      "Total training time: 66.46 seconds.\n",
      "-- Epoch 698\n",
      "Norm: 2881.80, NNZs: 121, Bias: -28.092194, T: 143810336, Avg. loss: 197918.818973\n",
      "Total training time: 66.56 seconds.\n",
      "-- Epoch 699\n",
      "Norm: 2879.22, NNZs: 121, Bias: -28.086428, T: 144016368, Avg. loss: 197570.286263\n",
      "Total training time: 66.67 seconds.\n",
      "-- Epoch 700\n",
      "Norm: 2876.76, NNZs: 121, Bias: -28.083445, T: 144222400, Avg. loss: 197508.320920\n",
      "Total training time: 66.77 seconds.\n",
      "-- Epoch 701\n",
      "Norm: 2873.99, NNZs: 121, Bias: -28.080189, T: 144428432, Avg. loss: 197124.085135\n",
      "Total training time: 66.90 seconds.\n",
      "-- Epoch 702\n",
      "Norm: 2870.20, NNZs: 121, Bias: -28.073962, T: 144634464, Avg. loss: 195983.995314\n",
      "Total training time: 67.03 seconds.\n",
      "-- Epoch 703\n",
      "Norm: 2867.90, NNZs: 121, Bias: -28.070230, T: 144840496, Avg. loss: 197046.886145\n",
      "Total training time: 67.16 seconds.\n",
      "-- Epoch 704\n",
      "Norm: 2865.23, NNZs: 121, Bias: -28.066298, T: 145046528, Avg. loss: 195795.276171\n",
      "Total training time: 67.29 seconds.\n",
      "-- Epoch 705\n",
      "Norm: 2862.31, NNZs: 121, Bias: -28.062439, T: 145252560, Avg. loss: 195945.132171\n",
      "Total training time: 67.42 seconds.\n",
      "-- Epoch 706\n",
      "Norm: 2859.00, NNZs: 121, Bias: -28.056660, T: 145458592, Avg. loss: 195739.401231\n",
      "Total training time: 67.52 seconds.\n",
      "-- Epoch 707\n",
      "Norm: 2856.16, NNZs: 121, Bias: -28.052264, T: 145664624, Avg. loss: 195696.785135\n",
      "Total training time: 67.63 seconds.\n",
      "-- Epoch 708\n",
      "Norm: 2852.77, NNZs: 121, Bias: -28.047531, T: 145870656, Avg. loss: 195894.285976\n",
      "Total training time: 67.74 seconds.\n",
      "-- Epoch 709\n",
      "Norm: 2849.74, NNZs: 121, Bias: -28.043899, T: 146076688, Avg. loss: 194979.172639\n",
      "Total training time: 67.85 seconds.\n",
      "-- Epoch 710\n",
      "Norm: 2846.68, NNZs: 121, Bias: -28.037400, T: 146282720, Avg. loss: 195619.856975\n",
      "Total training time: 67.95 seconds.\n",
      "-- Epoch 711\n",
      "Norm: 2843.56, NNZs: 121, Bias: -28.034190, T: 146488752, Avg. loss: 194366.150562\n",
      "Total training time: 68.05 seconds.\n",
      "-- Epoch 712\n",
      "Norm: 2842.23, NNZs: 121, Bias: -28.029824, T: 146694784, Avg. loss: 194077.270570\n",
      "Total training time: 68.15 seconds.\n",
      "-- Epoch 713\n",
      "Norm: 2839.25, NNZs: 121, Bias: -28.026894, T: 146900816, Avg. loss: 194026.516511\n",
      "Total training time: 68.26 seconds.\n",
      "-- Epoch 714\n",
      "Norm: 2835.56, NNZs: 121, Bias: -28.022607, T: 147106848, Avg. loss: 193364.820021\n",
      "Total training time: 68.36 seconds.\n",
      "-- Epoch 715\n",
      "Norm: 2831.71, NNZs: 121, Bias: -28.018396, T: 147312880, Avg. loss: 193028.025327\n",
      "Total training time: 68.45 seconds.\n",
      "-- Epoch 716\n",
      "Norm: 2828.48, NNZs: 121, Bias: -28.012223, T: 147518912, Avg. loss: 192833.201742\n",
      "Total training time: 68.56 seconds.\n",
      "-- Epoch 717\n",
      "Norm: 2825.99, NNZs: 121, Bias: -28.008022, T: 147724944, Avg. loss: 193200.678682\n",
      "Total training time: 68.67 seconds.\n",
      "-- Epoch 718\n",
      "Norm: 2823.31, NNZs: 121, Bias: -28.001055, T: 147930976, Avg. loss: 193333.266258\n",
      "Total training time: 68.77 seconds.\n",
      "-- Epoch 719\n",
      "Norm: 2820.96, NNZs: 121, Bias: -27.996868, T: 148137008, Avg. loss: 192421.068830\n",
      "Total training time: 68.87 seconds.\n",
      "-- Epoch 720\n",
      "Norm: 2819.52, NNZs: 121, Bias: -27.990798, T: 148343040, Avg. loss: 191958.106038\n",
      "Total training time: 68.98 seconds.\n",
      "-- Epoch 721\n",
      "Norm: 2815.15, NNZs: 121, Bias: -27.986082, T: 148549072, Avg. loss: 192697.039739\n",
      "Total training time: 69.08 seconds.\n",
      "-- Epoch 722\n",
      "Norm: 2812.90, NNZs: 121, Bias: -27.982181, T: 148755104, Avg. loss: 192233.223602\n",
      "Total training time: 69.18 seconds.\n",
      "-- Epoch 723\n",
      "Norm: 2809.94, NNZs: 121, Bias: -27.978083, T: 148961136, Avg. loss: 191540.787882\n",
      "Total training time: 69.29 seconds.\n",
      "-- Epoch 724\n",
      "Norm: 2806.66, NNZs: 121, Bias: -27.972918, T: 149167168, Avg. loss: 191470.182095\n",
      "Total training time: 69.39 seconds.\n",
      "-- Epoch 725\n",
      "Norm: 2803.54, NNZs: 121, Bias: -27.968162, T: 149373200, Avg. loss: 191236.780724\n",
      "Total training time: 69.49 seconds.\n",
      "-- Epoch 726\n",
      "Norm: 2801.10, NNZs: 121, Bias: -27.965084, T: 149579232, Avg. loss: 190933.504297\n",
      "Total training time: 69.59 seconds.\n",
      "-- Epoch 727\n",
      "Norm: 2798.69, NNZs: 121, Bias: -27.959339, T: 149785264, Avg. loss: 189494.446745\n",
      "Total training time: 69.70 seconds.\n",
      "-- Epoch 728\n",
      "Norm: 2796.04, NNZs: 121, Bias: -27.955471, T: 149991296, Avg. loss: 190469.522186\n",
      "Total training time: 69.81 seconds.\n",
      "-- Epoch 729\n",
      "Norm: 2793.40, NNZs: 121, Bias: -27.953339, T: 150197328, Avg. loss: 190296.684803\n",
      "Total training time: 69.91 seconds.\n",
      "-- Epoch 730\n",
      "Norm: 2790.24, NNZs: 121, Bias: -27.949612, T: 150403360, Avg. loss: 190201.271796\n",
      "Total training time: 70.04 seconds.\n",
      "-- Epoch 731\n",
      "Norm: 2787.82, NNZs: 121, Bias: -27.945825, T: 150609392, Avg. loss: 190982.673348\n",
      "Total training time: 70.17 seconds.\n",
      "-- Epoch 732\n",
      "Norm: 2784.22, NNZs: 121, Bias: -27.941777, T: 150815424, Avg. loss: 188781.243314\n",
      "Total training time: 70.30 seconds.\n",
      "-- Epoch 733\n",
      "Norm: 2782.34, NNZs: 121, Bias: -27.935812, T: 151021456, Avg. loss: 188201.914927\n",
      "Total training time: 70.43 seconds.\n",
      "-- Epoch 734\n",
      "Norm: 2779.31, NNZs: 121, Bias: -27.933099, T: 151227488, Avg. loss: 187994.921704\n",
      "Total training time: 70.56 seconds.\n",
      "-- Epoch 735\n",
      "Norm: 2776.36, NNZs: 121, Bias: -27.927945, T: 151433520, Avg. loss: 188981.564479\n",
      "Total training time: 70.71 seconds.\n",
      "-- Epoch 736\n",
      "Norm: 2773.21, NNZs: 121, Bias: -27.924315, T: 151639552, Avg. loss: 187231.697241\n",
      "Total training time: 70.84 seconds.\n",
      "-- Epoch 737\n",
      "Norm: 2770.17, NNZs: 121, Bias: -27.919965, T: 151845584, Avg. loss: 187067.943455\n",
      "Total training time: 70.98 seconds.\n",
      "-- Epoch 738\n",
      "Norm: 2767.54, NNZs: 121, Bias: -27.914700, T: 152051616, Avg. loss: 187140.362610\n",
      "Total training time: 71.08 seconds.\n",
      "-- Epoch 739\n",
      "Norm: 2766.19, NNZs: 121, Bias: -27.910953, T: 152257648, Avg. loss: 187135.031544\n",
      "Total training time: 71.18 seconds.\n",
      "-- Epoch 740\n",
      "Norm: 2763.77, NNZs: 121, Bias: -27.906818, T: 152463680, Avg. loss: 187270.435245\n",
      "Total training time: 71.30 seconds.\n",
      "-- Epoch 741\n",
      "Norm: 2761.87, NNZs: 121, Bias: -27.903804, T: 152669712, Avg. loss: 186752.330469\n",
      "Total training time: 71.43 seconds.\n",
      "-- Epoch 742\n",
      "Norm: 2757.73, NNZs: 121, Bias: -27.898895, T: 152875744, Avg. loss: 186838.162099\n",
      "Total training time: 71.56 seconds.\n",
      "-- Epoch 743\n",
      "Norm: 2754.84, NNZs: 121, Bias: -27.895496, T: 153081776, Avg. loss: 185612.214889\n",
      "Total training time: 71.66 seconds.\n",
      "-- Epoch 744\n",
      "Norm: 2752.50, NNZs: 121, Bias: -27.889751, T: 153287808, Avg. loss: 186117.525023\n",
      "Total training time: 71.77 seconds.\n",
      "-- Epoch 745\n",
      "Norm: 2748.69, NNZs: 121, Bias: -27.884927, T: 153493840, Avg. loss: 186993.345805\n",
      "Total training time: 71.89 seconds.\n",
      "-- Epoch 746\n",
      "Norm: 2745.62, NNZs: 121, Bias: -27.880955, T: 153699872, Avg. loss: 183971.165679\n",
      "Total training time: 71.98 seconds.\n",
      "-- Epoch 747\n",
      "Norm: 2742.47, NNZs: 121, Bias: -27.877054, T: 153905904, Avg. loss: 184896.352122\n",
      "Total training time: 72.10 seconds.\n",
      "-- Epoch 748\n",
      "Norm: 2738.01, NNZs: 121, Bias: -27.872248, T: 154111936, Avg. loss: 185604.133568\n",
      "Total training time: 72.20 seconds.\n",
      "-- Epoch 749\n",
      "Norm: 2736.03, NNZs: 121, Bias: -27.867449, T: 154317968, Avg. loss: 184634.877004\n",
      "Total training time: 72.30 seconds.\n",
      "-- Epoch 750\n",
      "Norm: 2733.10, NNZs: 121, Bias: -27.864146, T: 154524000, Avg. loss: 184332.801018\n",
      "Total training time: 72.40 seconds.\n",
      "-- Epoch 751\n",
      "Norm: 2730.16, NNZs: 121, Bias: -27.861689, T: 154730032, Avg. loss: 184407.266188\n",
      "Total training time: 72.51 seconds.\n",
      "Convergence after 751 epochs took 72.51 seconds\n"
     ]
    },
    {
     "data": {
      "text/plain": [
       "SGDClassifier(verbose=True)"
      ]
     },
     "execution_count": 53,
     "metadata": {},
     "output_type": "execute_result"
    }
   ],
   "source": [
    "Xtraing, XtestNew, Ytraing, YtestNew = train_test_split(\n",
    "    Xtraing, Ytraing, test_size = 0.33, random_state = 10\n",
    ")\n",
    "clf = SGDClassifier(verbose=True) #тренуємо модель\n",
    "clf.fit(Xtraing, Ytraing) #X - input, Y - output"
   ]
  },
  {
   "cell_type": "code",
   "execution_count": 54,
   "id": "local-example",
   "metadata": {
    "id": "statewide-belfast"
   },
   "outputs": [],
   "source": [
    "Predict = clf.predict(XtestNew)"
   ]
  },
  {
   "cell_type": "markdown",
   "id": "annoying-scott",
   "metadata": {
    "id": "initial-macro"
   },
   "source": [
    "## Results"
   ]
  },
  {
   "cell_type": "code",
   "execution_count": 55,
   "id": "following-rebate",
   "metadata": {
    "colab": {
     "base_uri": "https://localhost:8080/"
    },
    "executionInfo": {
     "elapsed": 725,
     "status": "ok",
     "timestamp": 1616856772879,
     "user": {
      "displayName": "Daniil Timachov",
      "photoUrl": "https://lh3.googleusercontent.com/a-/AOh14Ghk9scaQ0ydio6b7V2_t9-wRiT1cNGLcyCL07wR=s64",
      "userId": "00279435974685972614"
     },
     "user_tz": -120
    },
    "id": "elementary-intention",
    "outputId": "2c8284d1-747c-4549-c852-0dc5c2514489"
   },
   "outputs": [
    {
     "data": {
      "text/plain": [
       "0.504546421317698"
      ]
     },
     "execution_count": 55,
     "metadata": {},
     "output_type": "execute_result"
    }
   ],
   "source": [
    "roc_auc_score(YtestNew, Predict) #справжні та передбачені дані"
   ]
  },
  {
   "cell_type": "code",
   "execution_count": 56,
   "id": "upset-pharmacy",
   "metadata": {
    "colab": {
     "base_uri": "https://localhost:8080/",
     "height": 405
    },
    "executionInfo": {
     "elapsed": 1004,
     "status": "ok",
     "timestamp": 1616856798092,
     "user": {
      "displayName": "Daniil Timachov",
      "photoUrl": "https://lh3.googleusercontent.com/a-/AOh14Ghk9scaQ0ydio6b7V2_t9-wRiT1cNGLcyCL07wR=s64",
      "userId": "00279435974685972614"
     },
     "user_tz": -120
    },
    "id": "unnecessary-sacrifice",
    "outputId": "84e1812e-a443-4987-a317-2a85451a0758"
   },
   "outputs": [
    {
     "data": {
      "text/plain": [
       "<sklearn.metrics._plot.roc_curve.RocCurveDisplay at 0x2a326ff0850>"
      ]
     },
     "execution_count": 56,
     "metadata": {},
     "output_type": "execute_result"
    },
    {
     "data": {
      "image/png": "[encoded data removed]",
      "text/plain": [
       "<Figure size 576x576 with 1 Axes>"
      ]
     },
     "metadata": {
      "needs_background": "light"
     },
     "output_type": "display_data"
    }
   ],
   "source": [
    "plot_roc_curve(clf, XtestNew, YtestNew) #крива росте вгору на кожному кроці якщо значення правильне, якщо ні - тільки вправо"
   ]
  },
  {
   "cell_type": "markdown",
   "id": "infrared-tribute",
   "metadata": {
    "id": "tested-stationery"
   },
   "source": [
    "## Saving submission"
   ]
  },
  {
   "cell_type": "code",
   "execution_count": 57,
   "id": "beneficial-district",
   "metadata": {
    "id": "signed-lighting"
   },
   "outputs": [
    {
     "data": {
      "text/plain": [
       "(48744, 2)"
      ]
     },
     "execution_count": 57,
     "metadata": {},
     "output_type": "execute_result"
    }
   ],
   "source": [
    "submission = pd.DataFrame() #по ID знаходимо дані і ставимо їм target, який ми передбачили\n",
    "submission['SK_ID_CURR'] = test['SK_ID_CURR']\n",
    "submission['TARGET'] = clf.predict(Xtest)\n",
    "submission.to_csv('submission.csv', index=False)\n",
    "submission.shape"
   ]
  },
  {
   "cell_type": "code",
   "execution_count": 58,
   "id": "automated-bolivia",
   "metadata": {
    "colab": {
     "base_uri": "https://localhost:8080/",
     "height": 80
    },
    "executionInfo": {
     "elapsed": 449,
     "status": "ok",
     "timestamp": 1616856836825,
     "user": {
      "displayName": "Daniil Timachov",
      "photoUrl": "https://lh3.googleusercontent.com/a-/AOh14Ghk9scaQ0ydio6b7V2_t9-wRiT1cNGLcyCL07wR=s64",
      "userId": "00279435974685972614"
     },
     "user_tz": -120
    },
    "id": "expensive-railway",
    "outputId": "b08362d6-1073-40d0-9fa3-10b13be5b7dd"
   },
   "outputs": [
    {
     "data": {
      "text/html": [
       "<div>\n",
       "<style scoped>\n",
       "    .dataframe tbody tr th:only-of-type {\n",
       "        vertical-align: middle;\n",
       "    }\n",
       "\n",
       "    .dataframe tbody tr th {\n",
       "        vertical-align: top;\n",
       "    }\n",
       "\n",
       "    .dataframe thead th {\n",
       "        text-align: right;\n",
       "    }\n",
       "</style>\n",
       "<table border=\"1\" class=\"dataframe\">\n",
       "  <thead>\n",
       "    <tr style=\"text-align: right;\">\n",
       "      <th></th>\n",
       "      <th>SK_ID_CURR</th>\n",
       "      <th>TARGET</th>\n",
       "    </tr>\n",
       "  </thead>\n",
       "  <tbody>\n",
       "    <tr>\n",
       "      <th>0</th>\n",
       "      <td>100001</td>\n",
       "      <td>0</td>\n",
       "    </tr>\n",
       "  </tbody>\n",
       "</table>\n",
       "</div>"
      ],
      "text/plain": [
       "   SK_ID_CURR  TARGET\n",
       "0      100001       0"
      ]
     },
     "execution_count": 58,
     "metadata": {},
     "output_type": "execute_result"
    }
   ],
   "source": [
    "submission[submission['SK_ID_CURR'] == 100001]"
   ]
  },
  {
   "cell_type": "markdown",
   "id": "rational-examination",
   "metadata": {
    "id": "proper-southeast"
   },
   "source": [
    "## Submission"
   ]
  },
  {
   "cell_type": "markdown",
   "id": "opponent-madrid",
   "metadata": {
    "id": "objective-frontier"
   },
   "source": [
    "![](submission.jpg)"
   ]
  },
  {
   "cell_type": "code",
   "execution_count": null,
   "id": "eight-market",
   "metadata": {},
   "outputs": [],
   "source": []
  }
 ],
 "metadata": {
  "colab": {
   "name": "Lab2 - EDA.ipynb",
   "provenance": [],
   "toc_visible": true
  },
  "kernelspec": {
   "display_name": "Python 3",
   "language": "python",
   "name": "python3"
  },
  "language_info": {
   "codemirror_mode": {
    "name": "ipython",
    "version": 3
   },
   "file_extension": ".py",
   "mimetype": "text/x-python",
   "name": "python",
   "nbconvert_exporter": "python",
   "pygments_lexer": "ipython3",
   "version": "3.9.1"
  }
 },
 "nbformat": 4,
 "nbformat_minor": 5
}
