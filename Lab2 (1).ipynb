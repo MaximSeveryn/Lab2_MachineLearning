{
 "cells": [
  {
   "cell_type": "markdown",
   "id": "graduate-africa",
   "metadata": {
    "id": "bridal-percentage"
   },
   "source": [
    "## Libraries"
   ]
  },
  {
   "cell_type": "code",
   "execution_count": 4,
   "id": "given-jones",
   "metadata": {
    "id": "advance-field"
   },
   "outputs": [],
   "source": [
    "import pandas as pd\n",
    "import numpy as np\n",
    "import matplotlib.pyplot as mpl #graphics\n",
    "#graphics wide functionality\n",
    "import seaborn as sb \n",
    "#Stohastic gradient descent (Classifier)\n",
    "from sklearn.linear_model import SGDClassifier\n",
    "from sklearn.model_selection import train_test_split\n",
    "# to estimate accuracy, \n",
    "from sklearn.metrics import roc_auc_score, plot_roc_curve\n",
    "# number of certain elements in array\n",
    "from collections import Counter\n",
    "\n",
    "from IPython.display import display, HTML\n",
    "mpl.rcParams['figure.figsize'] = (8, 8)"
   ]
  },
  {
   "cell_type": "markdown",
   "id": "toxic-medicare",
   "metadata": {
    "id": "under-ability"
   },
   "source": [
    "## Loading .csv"
   ]
  },
  {
   "cell_type": "code",
   "execution_count": 5,
   "id": "incomplete-appearance",
   "metadata": {
    "id": "relative-gibraltar"
   },
   "outputs": [],
   "source": [
    "file = 'application_{}.csv'\n",
    "train = pd.read_csv(file.format('train'))\n",
    "test = pd.read_csv(file.format('test'))"
   ]
  },
  {
   "cell_type": "code",
   "execution_count": 6,
   "id": "solid-suspect",
   "metadata": {
    "colab": {
     "base_uri": "https://localhost:8080/",
     "height": 321
    },
    "executionInfo": {
     "elapsed": 4601,
     "status": "ok",
     "timestamp": 1616856691989,
     "user": {
      "displayName": "Daniil Timachov",
      "photoUrl": "https://lh3.googleusercontent.com/a-/AOh14Ghk9scaQ0ydio6b7V2_t9-wRiT1cNGLcyCL07wR=s64",
      "userId": "00279435974685972614"
     },
     "user_tz": -120
    },
    "id": "detailed-candy",
    "outputId": "83e79cd7-9bb7-4218-8517-c1c93924a698"
   },
   "outputs": [
    {
     "data": {
      "text/html": [
       "<div>\n",
       "<style scoped>\n",
       "    .dataframe tbody tr th:only-of-type {\n",
       "        vertical-align: middle;\n",
       "    }\n",
       "\n",
       "    .dataframe tbody tr th {\n",
       "        vertical-align: top;\n",
       "    }\n",
       "\n",
       "    .dataframe thead th {\n",
       "        text-align: right;\n",
       "    }\n",
       "</style>\n",
       "<table border=\"1\" class=\"dataframe\">\n",
       "  <thead>\n",
       "    <tr style=\"text-align: right;\">\n",
       "      <th></th>\n",
       "      <th>SK_ID_CURR</th>\n",
       "      <th>TARGET</th>\n",
       "      <th>NAME_CONTRACT_TYPE</th>\n",
       "      <th>CODE_GENDER</th>\n",
       "      <th>FLAG_OWN_CAR</th>\n",
       "      <th>FLAG_OWN_REALTY</th>\n",
       "      <th>CNT_CHILDREN</th>\n",
       "      <th>AMT_INCOME_TOTAL</th>\n",
       "      <th>AMT_CREDIT</th>\n",
       "      <th>AMT_ANNUITY</th>\n",
       "      <th>...</th>\n",
       "      <th>FLAG_DOCUMENT_18</th>\n",
       "      <th>FLAG_DOCUMENT_19</th>\n",
       "      <th>FLAG_DOCUMENT_20</th>\n",
       "      <th>FLAG_DOCUMENT_21</th>\n",
       "      <th>AMT_REQ_CREDIT_BUREAU_HOUR</th>\n",
       "      <th>AMT_REQ_CREDIT_BUREAU_DAY</th>\n",
       "      <th>AMT_REQ_CREDIT_BUREAU_WEEK</th>\n",
       "      <th>AMT_REQ_CREDIT_BUREAU_MON</th>\n",
       "      <th>AMT_REQ_CREDIT_BUREAU_QRT</th>\n",
       "      <th>AMT_REQ_CREDIT_BUREAU_YEAR</th>\n",
       "    </tr>\n",
       "  </thead>\n",
       "  <tbody>\n",
       "    <tr>\n",
       "      <th>0</th>\n",
       "      <td>100002</td>\n",
       "      <td>1</td>\n",
       "      <td>Cash loans</td>\n",
       "      <td>M</td>\n",
       "      <td>N</td>\n",
       "      <td>Y</td>\n",
       "      <td>0</td>\n",
       "      <td>202500.0</td>\n",
       "      <td>406597.5</td>\n",
       "      <td>24700.5</td>\n",
       "      <td>...</td>\n",
       "      <td>0</td>\n",
       "      <td>0</td>\n",
       "      <td>0</td>\n",
       "      <td>0</td>\n",
       "      <td>0.0</td>\n",
       "      <td>0.0</td>\n",
       "      <td>0.0</td>\n",
       "      <td>0.0</td>\n",
       "      <td>0.0</td>\n",
       "      <td>1.0</td>\n",
       "    </tr>\n",
       "    <tr>\n",
       "      <th>1</th>\n",
       "      <td>100003</td>\n",
       "      <td>0</td>\n",
       "      <td>Cash loans</td>\n",
       "      <td>F</td>\n",
       "      <td>N</td>\n",
       "      <td>N</td>\n",
       "      <td>0</td>\n",
       "      <td>270000.0</td>\n",
       "      <td>1293502.5</td>\n",
       "      <td>35698.5</td>\n",
       "      <td>...</td>\n",
       "      <td>0</td>\n",
       "      <td>0</td>\n",
       "      <td>0</td>\n",
       "      <td>0</td>\n",
       "      <td>0.0</td>\n",
       "      <td>0.0</td>\n",
       "      <td>0.0</td>\n",
       "      <td>0.0</td>\n",
       "      <td>0.0</td>\n",
       "      <td>0.0</td>\n",
       "    </tr>\n",
       "    <tr>\n",
       "      <th>2</th>\n",
       "      <td>100004</td>\n",
       "      <td>0</td>\n",
       "      <td>Revolving loans</td>\n",
       "      <td>M</td>\n",
       "      <td>Y</td>\n",
       "      <td>Y</td>\n",
       "      <td>0</td>\n",
       "      <td>67500.0</td>\n",
       "      <td>135000.0</td>\n",
       "      <td>6750.0</td>\n",
       "      <td>...</td>\n",
       "      <td>0</td>\n",
       "      <td>0</td>\n",
       "      <td>0</td>\n",
       "      <td>0</td>\n",
       "      <td>0.0</td>\n",
       "      <td>0.0</td>\n",
       "      <td>0.0</td>\n",
       "      <td>0.0</td>\n",
       "      <td>0.0</td>\n",
       "      <td>0.0</td>\n",
       "    </tr>\n",
       "    <tr>\n",
       "      <th>3</th>\n",
       "      <td>100006</td>\n",
       "      <td>0</td>\n",
       "      <td>Cash loans</td>\n",
       "      <td>F</td>\n",
       "      <td>N</td>\n",
       "      <td>Y</td>\n",
       "      <td>0</td>\n",
       "      <td>135000.0</td>\n",
       "      <td>312682.5</td>\n",
       "      <td>29686.5</td>\n",
       "      <td>...</td>\n",
       "      <td>0</td>\n",
       "      <td>0</td>\n",
       "      <td>0</td>\n",
       "      <td>0</td>\n",
       "      <td>NaN</td>\n",
       "      <td>NaN</td>\n",
       "      <td>NaN</td>\n",
       "      <td>NaN</td>\n",
       "      <td>NaN</td>\n",
       "      <td>NaN</td>\n",
       "    </tr>\n",
       "    <tr>\n",
       "      <th>4</th>\n",
       "      <td>100007</td>\n",
       "      <td>0</td>\n",
       "      <td>Cash loans</td>\n",
       "      <td>M</td>\n",
       "      <td>N</td>\n",
       "      <td>Y</td>\n",
       "      <td>0</td>\n",
       "      <td>121500.0</td>\n",
       "      <td>513000.0</td>\n",
       "      <td>21865.5</td>\n",
       "      <td>...</td>\n",
       "      <td>0</td>\n",
       "      <td>0</td>\n",
       "      <td>0</td>\n",
       "      <td>0</td>\n",
       "      <td>0.0</td>\n",
       "      <td>0.0</td>\n",
       "      <td>0.0</td>\n",
       "      <td>0.0</td>\n",
       "      <td>0.0</td>\n",
       "      <td>0.0</td>\n",
       "    </tr>\n",
       "  </tbody>\n",
       "</table>\n",
       "<p>5 rows × 122 columns</p>\n",
       "</div>"
      ],
      "text/plain": [
       "   SK_ID_CURR  TARGET NAME_CONTRACT_TYPE CODE_GENDER FLAG_OWN_CAR  \\\n",
       "0      100002       1         Cash loans           M            N   \n",
       "1      100003       0         Cash loans           F            N   \n",
       "2      100004       0    Revolving loans           M            Y   \n",
       "3      100006       0         Cash loans           F            N   \n",
       "4      100007       0         Cash loans           M            N   \n",
       "\n",
       "  FLAG_OWN_REALTY  CNT_CHILDREN  AMT_INCOME_TOTAL  AMT_CREDIT  AMT_ANNUITY  \\\n",
       "0               Y             0          202500.0    406597.5      24700.5   \n",
       "1               N             0          270000.0   1293502.5      35698.5   \n",
       "2               Y             0           67500.0    135000.0       6750.0   \n",
       "3               Y             0          135000.0    312682.5      29686.5   \n",
       "4               Y             0          121500.0    513000.0      21865.5   \n",
       "\n",
       "   ...  FLAG_DOCUMENT_18 FLAG_DOCUMENT_19 FLAG_DOCUMENT_20 FLAG_DOCUMENT_21  \\\n",
       "0  ...                 0                0                0                0   \n",
       "1  ...                 0                0                0                0   \n",
       "2  ...                 0                0                0                0   \n",
       "3  ...                 0                0                0                0   \n",
       "4  ...                 0                0                0                0   \n",
       "\n",
       "  AMT_REQ_CREDIT_BUREAU_HOUR AMT_REQ_CREDIT_BUREAU_DAY  \\\n",
       "0                        0.0                       0.0   \n",
       "1                        0.0                       0.0   \n",
       "2                        0.0                       0.0   \n",
       "3                        NaN                       NaN   \n",
       "4                        0.0                       0.0   \n",
       "\n",
       "   AMT_REQ_CREDIT_BUREAU_WEEK  AMT_REQ_CREDIT_BUREAU_MON  \\\n",
       "0                         0.0                        0.0   \n",
       "1                         0.0                        0.0   \n",
       "2                         0.0                        0.0   \n",
       "3                         NaN                        NaN   \n",
       "4                         0.0                        0.0   \n",
       "\n",
       "   AMT_REQ_CREDIT_BUREAU_QRT  AMT_REQ_CREDIT_BUREAU_YEAR  \n",
       "0                        0.0                         1.0  \n",
       "1                        0.0                         0.0  \n",
       "2                        0.0                         0.0  \n",
       "3                        NaN                         NaN  \n",
       "4                        0.0                         0.0  \n",
       "\n",
       "[5 rows x 122 columns]"
      ]
     },
     "execution_count": 6,
     "metadata": {},
     "output_type": "execute_result"
    }
   ],
   "source": [
    "train.head() #first data in dataset, target - те що має бути при класифікації (відсутнє в test)"
   ]
  },
  {
   "cell_type": "code",
   "execution_count": 7,
   "id": "liberal-romance",
   "metadata": {
    "colab": {
     "base_uri": "https://localhost:8080/",
     "height": 304
    },
    "executionInfo": {
     "elapsed": 4588,
     "status": "ok",
     "timestamp": 1616856691991,
     "user": {
      "displayName": "Daniil Timachov",
      "photoUrl": "https://lh3.googleusercontent.com/a-/AOh14Ghk9scaQ0ydio6b7V2_t9-wRiT1cNGLcyCL07wR=s64",
      "userId": "00279435974685972614"
     },
     "user_tz": -120
    },
    "id": "immediate-gateway",
    "outputId": "ae7753ec-f409-4038-8e0b-7e90227e1fb7"
   },
   "outputs": [
    {
     "data": {
      "text/html": [
       "<div>\n",
       "<style scoped>\n",
       "    .dataframe tbody tr th:only-of-type {\n",
       "        vertical-align: middle;\n",
       "    }\n",
       "\n",
       "    .dataframe tbody tr th {\n",
       "        vertical-align: top;\n",
       "    }\n",
       "\n",
       "    .dataframe thead th {\n",
       "        text-align: right;\n",
       "    }\n",
       "</style>\n",
       "<table border=\"1\" class=\"dataframe\">\n",
       "  <thead>\n",
       "    <tr style=\"text-align: right;\">\n",
       "      <th></th>\n",
       "      <th>SK_ID_CURR</th>\n",
       "      <th>NAME_CONTRACT_TYPE</th>\n",
       "      <th>CODE_GENDER</th>\n",
       "      <th>FLAG_OWN_CAR</th>\n",
       "      <th>FLAG_OWN_REALTY</th>\n",
       "      <th>CNT_CHILDREN</th>\n",
       "      <th>AMT_INCOME_TOTAL</th>\n",
       "      <th>AMT_CREDIT</th>\n",
       "      <th>AMT_ANNUITY</th>\n",
       "      <th>AMT_GOODS_PRICE</th>\n",
       "      <th>...</th>\n",
       "      <th>FLAG_DOCUMENT_18</th>\n",
       "      <th>FLAG_DOCUMENT_19</th>\n",
       "      <th>FLAG_DOCUMENT_20</th>\n",
       "      <th>FLAG_DOCUMENT_21</th>\n",
       "      <th>AMT_REQ_CREDIT_BUREAU_HOUR</th>\n",
       "      <th>AMT_REQ_CREDIT_BUREAU_DAY</th>\n",
       "      <th>AMT_REQ_CREDIT_BUREAU_WEEK</th>\n",
       "      <th>AMT_REQ_CREDIT_BUREAU_MON</th>\n",
       "      <th>AMT_REQ_CREDIT_BUREAU_QRT</th>\n",
       "      <th>AMT_REQ_CREDIT_BUREAU_YEAR</th>\n",
       "    </tr>\n",
       "  </thead>\n",
       "  <tbody>\n",
       "    <tr>\n",
       "      <th>0</th>\n",
       "      <td>100001</td>\n",
       "      <td>Cash loans</td>\n",
       "      <td>F</td>\n",
       "      <td>N</td>\n",
       "      <td>Y</td>\n",
       "      <td>0</td>\n",
       "      <td>135000.0</td>\n",
       "      <td>568800.0</td>\n",
       "      <td>20560.5</td>\n",
       "      <td>450000.0</td>\n",
       "      <td>...</td>\n",
       "      <td>0</td>\n",
       "      <td>0</td>\n",
       "      <td>0</td>\n",
       "      <td>0</td>\n",
       "      <td>0.0</td>\n",
       "      <td>0.0</td>\n",
       "      <td>0.0</td>\n",
       "      <td>0.0</td>\n",
       "      <td>0.0</td>\n",
       "      <td>0.0</td>\n",
       "    </tr>\n",
       "    <tr>\n",
       "      <th>1</th>\n",
       "      <td>100005</td>\n",
       "      <td>Cash loans</td>\n",
       "      <td>M</td>\n",
       "      <td>N</td>\n",
       "      <td>Y</td>\n",
       "      <td>0</td>\n",
       "      <td>99000.0</td>\n",
       "      <td>222768.0</td>\n",
       "      <td>17370.0</td>\n",
       "      <td>180000.0</td>\n",
       "      <td>...</td>\n",
       "      <td>0</td>\n",
       "      <td>0</td>\n",
       "      <td>0</td>\n",
       "      <td>0</td>\n",
       "      <td>0.0</td>\n",
       "      <td>0.0</td>\n",
       "      <td>0.0</td>\n",
       "      <td>0.0</td>\n",
       "      <td>0.0</td>\n",
       "      <td>3.0</td>\n",
       "    </tr>\n",
       "    <tr>\n",
       "      <th>2</th>\n",
       "      <td>100013</td>\n",
       "      <td>Cash loans</td>\n",
       "      <td>M</td>\n",
       "      <td>Y</td>\n",
       "      <td>Y</td>\n",
       "      <td>0</td>\n",
       "      <td>202500.0</td>\n",
       "      <td>663264.0</td>\n",
       "      <td>69777.0</td>\n",
       "      <td>630000.0</td>\n",
       "      <td>...</td>\n",
       "      <td>0</td>\n",
       "      <td>0</td>\n",
       "      <td>0</td>\n",
       "      <td>0</td>\n",
       "      <td>0.0</td>\n",
       "      <td>0.0</td>\n",
       "      <td>0.0</td>\n",
       "      <td>0.0</td>\n",
       "      <td>1.0</td>\n",
       "      <td>4.0</td>\n",
       "    </tr>\n",
       "    <tr>\n",
       "      <th>3</th>\n",
       "      <td>100028</td>\n",
       "      <td>Cash loans</td>\n",
       "      <td>F</td>\n",
       "      <td>N</td>\n",
       "      <td>Y</td>\n",
       "      <td>2</td>\n",
       "      <td>315000.0</td>\n",
       "      <td>1575000.0</td>\n",
       "      <td>49018.5</td>\n",
       "      <td>1575000.0</td>\n",
       "      <td>...</td>\n",
       "      <td>0</td>\n",
       "      <td>0</td>\n",
       "      <td>0</td>\n",
       "      <td>0</td>\n",
       "      <td>0.0</td>\n",
       "      <td>0.0</td>\n",
       "      <td>0.0</td>\n",
       "      <td>0.0</td>\n",
       "      <td>0.0</td>\n",
       "      <td>3.0</td>\n",
       "    </tr>\n",
       "    <tr>\n",
       "      <th>4</th>\n",
       "      <td>100038</td>\n",
       "      <td>Cash loans</td>\n",
       "      <td>M</td>\n",
       "      <td>Y</td>\n",
       "      <td>N</td>\n",
       "      <td>1</td>\n",
       "      <td>180000.0</td>\n",
       "      <td>625500.0</td>\n",
       "      <td>32067.0</td>\n",
       "      <td>625500.0</td>\n",
       "      <td>...</td>\n",
       "      <td>0</td>\n",
       "      <td>0</td>\n",
       "      <td>0</td>\n",
       "      <td>0</td>\n",
       "      <td>NaN</td>\n",
       "      <td>NaN</td>\n",
       "      <td>NaN</td>\n",
       "      <td>NaN</td>\n",
       "      <td>NaN</td>\n",
       "      <td>NaN</td>\n",
       "    </tr>\n",
       "  </tbody>\n",
       "</table>\n",
       "<p>5 rows × 121 columns</p>\n",
       "</div>"
      ],
      "text/plain": [
       "   SK_ID_CURR NAME_CONTRACT_TYPE CODE_GENDER FLAG_OWN_CAR FLAG_OWN_REALTY  \\\n",
       "0      100001         Cash loans           F            N               Y   \n",
       "1      100005         Cash loans           M            N               Y   \n",
       "2      100013         Cash loans           M            Y               Y   \n",
       "3      100028         Cash loans           F            N               Y   \n",
       "4      100038         Cash loans           M            Y               N   \n",
       "\n",
       "   CNT_CHILDREN  AMT_INCOME_TOTAL  AMT_CREDIT  AMT_ANNUITY  AMT_GOODS_PRICE  \\\n",
       "0             0          135000.0    568800.0      20560.5         450000.0   \n",
       "1             0           99000.0    222768.0      17370.0         180000.0   \n",
       "2             0          202500.0    663264.0      69777.0         630000.0   \n",
       "3             2          315000.0   1575000.0      49018.5        1575000.0   \n",
       "4             1          180000.0    625500.0      32067.0         625500.0   \n",
       "\n",
       "   ... FLAG_DOCUMENT_18 FLAG_DOCUMENT_19 FLAG_DOCUMENT_20 FLAG_DOCUMENT_21  \\\n",
       "0  ...                0                0                0                0   \n",
       "1  ...                0                0                0                0   \n",
       "2  ...                0                0                0                0   \n",
       "3  ...                0                0                0                0   \n",
       "4  ...                0                0                0                0   \n",
       "\n",
       "  AMT_REQ_CREDIT_BUREAU_HOUR  AMT_REQ_CREDIT_BUREAU_DAY  \\\n",
       "0                        0.0                        0.0   \n",
       "1                        0.0                        0.0   \n",
       "2                        0.0                        0.0   \n",
       "3                        0.0                        0.0   \n",
       "4                        NaN                        NaN   \n",
       "\n",
       "   AMT_REQ_CREDIT_BUREAU_WEEK  AMT_REQ_CREDIT_BUREAU_MON  \\\n",
       "0                         0.0                        0.0   \n",
       "1                         0.0                        0.0   \n",
       "2                         0.0                        0.0   \n",
       "3                         0.0                        0.0   \n",
       "4                         NaN                        NaN   \n",
       "\n",
       "   AMT_REQ_CREDIT_BUREAU_QRT  AMT_REQ_CREDIT_BUREAU_YEAR  \n",
       "0                        0.0                         0.0  \n",
       "1                        0.0                         3.0  \n",
       "2                        1.0                         4.0  \n",
       "3                        0.0                         3.0  \n",
       "4                        NaN                         NaN  \n",
       "\n",
       "[5 rows x 121 columns]"
      ]
     },
     "execution_count": 7,
     "metadata": {},
     "output_type": "execute_result"
    }
   ],
   "source": [
    "test.head()"
   ]
  },
  {
   "cell_type": "code",
   "execution_count": 8,
   "id": "mechanical-error",
   "metadata": {
    "colab": {
     "base_uri": "https://localhost:8080/"
    },
    "executionInfo": {
     "elapsed": 4580,
     "status": "ok",
     "timestamp": 1616856691995,
     "user": {
      "displayName": "Daniil Timachov",
      "photoUrl": "https://lh3.googleusercontent.com/a-/AOh14Ghk9scaQ0ydio6b7V2_t9-wRiT1cNGLcyCL07wR=s64",
      "userId": "00279435974685972614"
     },
     "user_tz": -120
    },
    "id": "worldwide-teacher",
    "outputId": "1e802865-c0c3-47c2-eea5-daf09352dcdb"
   },
   "outputs": [
    {
     "data": {
      "text/plain": [
       "(307511, 122)"
      ]
     },
     "execution_count": 8,
     "metadata": {},
     "output_type": "execute_result"
    }
   ],
   "source": [
    "train.shape"
   ]
  },
  {
   "cell_type": "code",
   "execution_count": 9,
   "id": "direct-pension",
   "metadata": {
    "colab": {
     "base_uri": "https://localhost:8080/"
    },
    "executionInfo": {
     "elapsed": 4571,
     "status": "ok",
     "timestamp": 1616856691998,
     "user": {
      "displayName": "Daniil Timachov",
      "photoUrl": "https://lh3.googleusercontent.com/a-/AOh14Ghk9scaQ0ydio6b7V2_t9-wRiT1cNGLcyCL07wR=s64",
      "userId": "00279435974685972614"
     },
     "user_tz": -120
    },
    "id": "processed-ethnic",
    "outputId": "755de005-6288-4dd1-b6d3-dca90a7bf746"
   },
   "outputs": [
    {
     "data": {
      "text/plain": [
       "(48744, 121)"
      ]
     },
     "execution_count": 9,
     "metadata": {},
     "output_type": "execute_result"
    }
   ],
   "source": [
    "test.shape"
   ]
  },
  {
   "cell_type": "markdown",
   "id": "talented-courtesy",
   "metadata": {
    "id": "capable-string"
   },
   "source": [
    "## Data description"
   ]
  },
  {
   "cell_type": "code",
   "execution_count": 10,
   "id": "parliamentary-landing",
   "metadata": {
    "colab": {
     "base_uri": "https://localhost:8080/",
     "height": 204
    },
    "executionInfo": {
     "elapsed": 4560,
     "status": "ok",
     "timestamp": 1616856691999,
     "user": {
      "displayName": "Daniil Timachov",
      "photoUrl": "https://lh3.googleusercontent.com/a-/AOh14Ghk9scaQ0ydio6b7V2_t9-wRiT1cNGLcyCL07wR=s64",
      "userId": "00279435974685972614"
     },
     "user_tz": -120
    },
    "id": "harmful-consequence",
    "outputId": "9eeaa332-ec25-4134-e0a3-500b2d4e2278"
   },
   "outputs": [
    {
     "data": {
      "text/html": [
       "<div>\n",
       "<style scoped>\n",
       "    .dataframe tbody tr th:only-of-type {\n",
       "        vertical-align: middle;\n",
       "    }\n",
       "\n",
       "    .dataframe tbody tr th {\n",
       "        vertical-align: top;\n",
       "    }\n",
       "\n",
       "    .dataframe thead th {\n",
       "        text-align: right;\n",
       "    }\n",
       "</style>\n",
       "<table border=\"1\" class=\"dataframe\">\n",
       "  <thead>\n",
       "    <tr style=\"text-align: right;\">\n",
       "      <th></th>\n",
       "      <th>Table</th>\n",
       "      <th>Row</th>\n",
       "      <th>Description</th>\n",
       "      <th>Special</th>\n",
       "    </tr>\n",
       "  </thead>\n",
       "  <tbody>\n",
       "    <tr>\n",
       "      <th>1</th>\n",
       "      <td>application_{train|test}.csv</td>\n",
       "      <td>SK_ID_CURR</td>\n",
       "      <td>ID of loan in our sample</td>\n",
       "      <td>NaN</td>\n",
       "    </tr>\n",
       "    <tr>\n",
       "      <th>2</th>\n",
       "      <td>application_{train|test}.csv</td>\n",
       "      <td>TARGET</td>\n",
       "      <td>Target variable (1 - client with payment diffi...</td>\n",
       "      <td>NaN</td>\n",
       "    </tr>\n",
       "    <tr>\n",
       "      <th>5</th>\n",
       "      <td>application_{train|test}.csv</td>\n",
       "      <td>NAME_CONTRACT_TYPE</td>\n",
       "      <td>Identification if loan is cash or revolving</td>\n",
       "      <td>NaN</td>\n",
       "    </tr>\n",
       "    <tr>\n",
       "      <th>6</th>\n",
       "      <td>application_{train|test}.csv</td>\n",
       "      <td>CODE_GENDER</td>\n",
       "      <td>Gender of the client</td>\n",
       "      <td>NaN</td>\n",
       "    </tr>\n",
       "    <tr>\n",
       "      <th>7</th>\n",
       "      <td>application_{train|test}.csv</td>\n",
       "      <td>FLAG_OWN_CAR</td>\n",
       "      <td>Flag if the client owns a car</td>\n",
       "      <td>NaN</td>\n",
       "    </tr>\n",
       "  </tbody>\n",
       "</table>\n",
       "</div>"
      ],
      "text/plain": [
       "                          Table                 Row  \\\n",
       "1  application_{train|test}.csv          SK_ID_CURR   \n",
       "2  application_{train|test}.csv              TARGET   \n",
       "5  application_{train|test}.csv  NAME_CONTRACT_TYPE   \n",
       "6  application_{train|test}.csv         CODE_GENDER   \n",
       "7  application_{train|test}.csv        FLAG_OWN_CAR   \n",
       "\n",
       "                                         Description Special  \n",
       "1                           ID of loan in our sample     NaN  \n",
       "2  Target variable (1 - client with payment diffi...     NaN  \n",
       "5        Identification if loan is cash or revolving     NaN  \n",
       "6                               Gender of the client     NaN  \n",
       "7                      Flag if the client owns a car     NaN  "
      ]
     },
     "execution_count": 10,
     "metadata": {},
     "output_type": "execute_result"
    }
   ],
   "source": [
    "Descrip = pd.read_csv(\"HomeCredit_columns_description.csv\", index_col=0, encoding='unicode_escape')\n",
    "Descrip = Descrip[Descrip['Table'] == \"application_{train|test}.csv\"]\n",
    "Descrip.head() #дізнаємося, що робить кожна колонка"
   ]
  },
  {
   "cell_type": "code",
   "execution_count": 11,
   "id": "common-secret",
   "metadata": {
    "colab": {
     "base_uri": "https://localhost:8080/",
     "height": 1000
    },
    "executionInfo": {
     "elapsed": 4545,
     "status": "ok",
     "timestamp": 1616856692002,
     "user": {
      "displayName": "Daniil Timachov",
      "photoUrl": "https://lh3.googleusercontent.com/a-/AOh14Ghk9scaQ0ydio6b7V2_t9-wRiT1cNGLcyCL07wR=s64",
      "userId": "00279435974685972614"
     },
     "user_tz": -120
    },
    "id": "sensitive-shopping",
    "outputId": "1151b55e-fbc8-48e0-93f9-6d69a298a176"
   },
   "outputs": [
    {
     "data": {
      "text/html": [
       "<b>SK_ID_CURR</b>: <span>ID of loan in our sample</span>"
      ],
      "text/plain": [
       "<IPython.core.display.HTML object>"
      ]
     },
     "metadata": {},
     "output_type": "display_data"
    },
    {
     "data": {
      "text/html": [
       "<b>TARGET</b>: <span>Target variable (1 - client with payment difficulties: he/she had late payment more than X days on at least one of the first Y installments of the loan in our sample, 0 - all other cases)</span>"
      ],
      "text/plain": [
       "<IPython.core.display.HTML object>"
      ]
     },
     "metadata": {},
     "output_type": "display_data"
    },
    {
     "data": {
      "text/html": [
       "<b>NAME_CONTRACT_TYPE</b>: <span>Identification if loan is cash or revolving</span>"
      ],
      "text/plain": [
       "<IPython.core.display.HTML object>"
      ]
     },
     "metadata": {},
     "output_type": "display_data"
    },
    {
     "data": {
      "text/html": [
       "<b>CODE_GENDER</b>: <span>Gender of the client</span>"
      ],
      "text/plain": [
       "<IPython.core.display.HTML object>"
      ]
     },
     "metadata": {},
     "output_type": "display_data"
    },
    {
     "data": {
      "text/html": [
       "<b>FLAG_OWN_CAR</b>: <span>Flag if the client owns a car</span>"
      ],
      "text/plain": [
       "<IPython.core.display.HTML object>"
      ]
     },
     "metadata": {},
     "output_type": "display_data"
    },
    {
     "data": {
      "text/html": [
       "<b>FLAG_OWN_REALTY</b>: <span>Flag if client owns a house or flat</span>"
      ],
      "text/plain": [
       "<IPython.core.display.HTML object>"
      ]
     },
     "metadata": {},
     "output_type": "display_data"
    },
    {
     "data": {
      "text/html": [
       "<b>CNT_CHILDREN</b>: <span>Number of children the client has</span>"
      ],
      "text/plain": [
       "<IPython.core.display.HTML object>"
      ]
     },
     "metadata": {},
     "output_type": "display_data"
    },
    {
     "data": {
      "text/html": [
       "<b>AMT_INCOME_TOTAL</b>: <span>Income of the client</span>"
      ],
      "text/plain": [
       "<IPython.core.display.HTML object>"
      ]
     },
     "metadata": {},
     "output_type": "display_data"
    },
    {
     "data": {
      "text/html": [
       "<b>AMT_CREDIT</b>: <span>Credit amount of the loan</span>"
      ],
      "text/plain": [
       "<IPython.core.display.HTML object>"
      ]
     },
     "metadata": {},
     "output_type": "display_data"
    },
    {
     "data": {
      "text/html": [
       "<b>AMT_ANNUITY</b>: <span>Loan annuity</span>"
      ],
      "text/plain": [
       "<IPython.core.display.HTML object>"
      ]
     },
     "metadata": {},
     "output_type": "display_data"
    },
    {
     "data": {
      "text/html": [
       "<b>AMT_GOODS_PRICE</b>: <span>For consumer loans it is the price of the goods for which the loan is given</span>"
      ],
      "text/plain": [
       "<IPython.core.display.HTML object>"
      ]
     },
     "metadata": {},
     "output_type": "display_data"
    },
    {
     "data": {
      "text/html": [
       "<b>NAME_TYPE_SUITE</b>: <span>Who was accompanying client when he was applying for the loan</span>"
      ],
      "text/plain": [
       "<IPython.core.display.HTML object>"
      ]
     },
     "metadata": {},
     "output_type": "display_data"
    },
    {
     "data": {
      "text/html": [
       "<b>NAME_INCOME_TYPE</b>: <span>Clients income type (businessman, working, maternity leave,",
       ")</span>"
      ],
      "text/plain": [
       "<IPython.core.display.HTML object>"
      ]
     },
     "metadata": {},
     "output_type": "display_data"
    },
    {
     "data": {
      "text/html": [
       "<b>NAME_EDUCATION_TYPE</b>: <span>Level of highest education the client achieved</span>"
      ],
      "text/plain": [
       "<IPython.core.display.HTML object>"
      ]
     },
     "metadata": {},
     "output_type": "display_data"
    },
    {
     "data": {
      "text/html": [
       "<b>NAME_FAMILY_STATUS</b>: <span>Family status of the client</span>"
      ],
      "text/plain": [
       "<IPython.core.display.HTML object>"
      ]
     },
     "metadata": {},
     "output_type": "display_data"
    },
    {
     "data": {
      "text/html": [
       "<b>NAME_HOUSING_TYPE</b>: <span>What is the housing situation of the client (renting, living with parents, ...)</span>"
      ],
      "text/plain": [
       "<IPython.core.display.HTML object>"
      ]
     },
     "metadata": {},
     "output_type": "display_data"
    },
    {
     "data": {
      "text/html": [
       "<b>REGION_POPULATION_RELATIVE</b>: <span>Normalized population of region where client lives (higher number means the client lives in more populated region)</span>"
      ],
      "text/plain": [
       "<IPython.core.display.HTML object>"
      ]
     },
     "metadata": {},
     "output_type": "display_data"
    },
    {
     "data": {
      "text/html": [
       "<b>DAYS_BIRTH</b>: <span>Client's age in days at the time of application</span>"
      ],
      "text/plain": [
       "<IPython.core.display.HTML object>"
      ]
     },
     "metadata": {},
     "output_type": "display_data"
    },
    {
     "data": {
      "text/html": [
       "<b>DAYS_EMPLOYED</b>: <span>How many days before the application the person started current employment</span>"
      ],
      "text/plain": [
       "<IPython.core.display.HTML object>"
      ]
     },
     "metadata": {},
     "output_type": "display_data"
    },
    {
     "data": {
      "text/html": [
       "<b>DAYS_REGISTRATION</b>: <span>How many days before the application did client change his registration</span>"
      ],
      "text/plain": [
       "<IPython.core.display.HTML object>"
      ]
     },
     "metadata": {},
     "output_type": "display_data"
    },
    {
     "data": {
      "text/html": [
       "<b>DAYS_ID_PUBLISH</b>: <span>How many days before the application did client change the identity document with which he applied for the loan</span>"
      ],
      "text/plain": [
       "<IPython.core.display.HTML object>"
      ]
     },
     "metadata": {},
     "output_type": "display_data"
    },
    {
     "data": {
      "text/html": [
       "<b>OWN_CAR_AGE</b>: <span>Age of client's car</span>"
      ],
      "text/plain": [
       "<IPython.core.display.HTML object>"
      ]
     },
     "metadata": {},
     "output_type": "display_data"
    },
    {
     "data": {
      "text/html": [
       "<b>FLAG_MOBIL</b>: <span>Did client provide mobile phone (1=YES, 0=NO)</span>"
      ],
      "text/plain": [
       "<IPython.core.display.HTML object>"
      ]
     },
     "metadata": {},
     "output_type": "display_data"
    },
    {
     "data": {
      "text/html": [
       "<b>FLAG_EMP_PHONE</b>: <span>Did client provide work phone (1=YES, 0=NO)</span>"
      ],
      "text/plain": [
       "<IPython.core.display.HTML object>"
      ]
     },
     "metadata": {},
     "output_type": "display_data"
    },
    {
     "data": {
      "text/html": [
       "<b>FLAG_WORK_PHONE</b>: <span>Did client provide home phone (1=YES, 0=NO)</span>"
      ],
      "text/plain": [
       "<IPython.core.display.HTML object>"
      ]
     },
     "metadata": {},
     "output_type": "display_data"
    },
    {
     "data": {
      "text/html": [
       "<b>FLAG_CONT_MOBILE</b>: <span>Was mobile phone reachable (1=YES, 0=NO)</span>"
      ],
      "text/plain": [
       "<IPython.core.display.HTML object>"
      ]
     },
     "metadata": {},
     "output_type": "display_data"
    },
    {
     "data": {
      "text/html": [
       "<b>FLAG_PHONE</b>: <span>Did client provide home phone (1=YES, 0=NO)</span>"
      ],
      "text/plain": [
       "<IPython.core.display.HTML object>"
      ]
     },
     "metadata": {},
     "output_type": "display_data"
    },
    {
     "data": {
      "text/html": [
       "<b>FLAG_EMAIL</b>: <span>Did client provide email (1=YES, 0=NO)</span>"
      ],
      "text/plain": [
       "<IPython.core.display.HTML object>"
      ]
     },
     "metadata": {},
     "output_type": "display_data"
    },
    {
     "data": {
      "text/html": [
       "<b>OCCUPATION_TYPE</b>: <span>What kind of occupation does the client have</span>"
      ],
      "text/plain": [
       "<IPython.core.display.HTML object>"
      ]
     },
     "metadata": {},
     "output_type": "display_data"
    },
    {
     "data": {
      "text/html": [
       "<b>CNT_FAM_MEMBERS</b>: <span>How many family members does client have</span>"
      ],
      "text/plain": [
       "<IPython.core.display.HTML object>"
      ]
     },
     "metadata": {},
     "output_type": "display_data"
    },
    {
     "data": {
      "text/html": [
       "<b>REGION_RATING_CLIENT</b>: <span>Our rating of the region where client lives (1,2,3)</span>"
      ],
      "text/plain": [
       "<IPython.core.display.HTML object>"
      ]
     },
     "metadata": {},
     "output_type": "display_data"
    },
    {
     "data": {
      "text/html": [
       "<b>REGION_RATING_CLIENT_W_CITY</b>: <span>Our rating of the region where client lives with taking city into account (1,2,3)</span>"
      ],
      "text/plain": [
       "<IPython.core.display.HTML object>"
      ]
     },
     "metadata": {},
     "output_type": "display_data"
    },
    {
     "data": {
      "text/html": [
       "<b>WEEKDAY_APPR_PROCESS_START</b>: <span>On which day of the week did the client apply for the loan</span>"
      ],
      "text/plain": [
       "<IPython.core.display.HTML object>"
      ]
     },
     "metadata": {},
     "output_type": "display_data"
    },
    {
     "data": {
      "text/html": [
       "<b>HOUR_APPR_PROCESS_START</b>: <span>Approximately at what hour did the client apply for the loan</span>"
      ],
      "text/plain": [
       "<IPython.core.display.HTML object>"
      ]
     },
     "metadata": {},
     "output_type": "display_data"
    },
    {
     "data": {
      "text/html": [
       "<b>REG_REGION_NOT_LIVE_REGION</b>: <span>Flag if client's permanent address does not match contact address (1=different, 0=same, at region level)</span>"
      ],
      "text/plain": [
       "<IPython.core.display.HTML object>"
      ]
     },
     "metadata": {},
     "output_type": "display_data"
    },
    {
     "data": {
      "text/html": [
       "<b>REG_REGION_NOT_WORK_REGION</b>: <span>Flag if client's permanent address does not match work address (1=different, 0=same, at region level)</span>"
      ],
      "text/plain": [
       "<IPython.core.display.HTML object>"
      ]
     },
     "metadata": {},
     "output_type": "display_data"
    },
    {
     "data": {
      "text/html": [
       "<b>LIVE_REGION_NOT_WORK_REGION</b>: <span>Flag if client's contact address does not match work address (1=different, 0=same, at region level)</span>"
      ],
      "text/plain": [
       "<IPython.core.display.HTML object>"
      ]
     },
     "metadata": {},
     "output_type": "display_data"
    },
    {
     "data": {
      "text/html": [
       "<b>REG_CITY_NOT_LIVE_CITY</b>: <span>Flag if client's permanent address does not match contact address (1=different, 0=same, at city level)</span>"
      ],
      "text/plain": [
       "<IPython.core.display.HTML object>"
      ]
     },
     "metadata": {},
     "output_type": "display_data"
    },
    {
     "data": {
      "text/html": [
       "<b>REG_CITY_NOT_WORK_CITY</b>: <span>Flag if client's permanent address does not match work address (1=different, 0=same, at city level)</span>"
      ],
      "text/plain": [
       "<IPython.core.display.HTML object>"
      ]
     },
     "metadata": {},
     "output_type": "display_data"
    },
    {
     "data": {
      "text/html": [
       "<b>LIVE_CITY_NOT_WORK_CITY</b>: <span>Flag if client's contact address does not match work address (1=different, 0=same, at city level)</span>"
      ],
      "text/plain": [
       "<IPython.core.display.HTML object>"
      ]
     },
     "metadata": {},
     "output_type": "display_data"
    },
    {
     "data": {
      "text/html": [
       "<b>ORGANIZATION_TYPE</b>: <span>Type of organization where client works</span>"
      ],
      "text/plain": [
       "<IPython.core.display.HTML object>"
      ]
     },
     "metadata": {},
     "output_type": "display_data"
    },
    {
     "data": {
      "text/html": [
       "<b>EXT_SOURCE_1</b>: <span>Normalized score from external data source</span>"
      ],
      "text/plain": [
       "<IPython.core.display.HTML object>"
      ]
     },
     "metadata": {},
     "output_type": "display_data"
    },
    {
     "data": {
      "text/html": [
       "<b>EXT_SOURCE_2</b>: <span>Normalized score from external data source</span>"
      ],
      "text/plain": [
       "<IPython.core.display.HTML object>"
      ]
     },
     "metadata": {},
     "output_type": "display_data"
    },
    {
     "data": {
      "text/html": [
       "<b>EXT_SOURCE_3</b>: <span>Normalized score from external data source</span>"
      ],
      "text/plain": [
       "<IPython.core.display.HTML object>"
      ]
     },
     "metadata": {},
     "output_type": "display_data"
    },
    {
     "data": {
      "text/html": [
       "<b>APARTMENTS_AVG</b>: <span>Normalized information about building where the client lives, What is average (_AVG suffix), modus (_MODE suffix), median (_MEDI suffix) apartment size, common area, living area, age of building, number of elevators, number of entrances, state of the building, number of floor</span>"
      ],
      "text/plain": [
       "<IPython.core.display.HTML object>"
      ]
     },
     "metadata": {},
     "output_type": "display_data"
    },
    {
     "data": {
      "text/html": [
       "<b>BASEMENTAREA_AVG</b>: <span>Normalized information about building where the client lives, What is average (_AVG suffix), modus (_MODE suffix), median (_MEDI suffix) apartment size, common area, living area, age of building, number of elevators, number of entrances, state of the building, number of floor</span>"
      ],
      "text/plain": [
       "<IPython.core.display.HTML object>"
      ]
     },
     "metadata": {},
     "output_type": "display_data"
    },
    {
     "data": {
      "text/html": [
       "<b>YEARS_BEGINEXPLUATATION_AVG</b>: <span>Normalized information about building where the client lives, What is average (_AVG suffix), modus (_MODE suffix), median (_MEDI suffix) apartment size, common area, living area, age of building, number of elevators, number of entrances, state of the building, number of floor</span>"
      ],
      "text/plain": [
       "<IPython.core.display.HTML object>"
      ]
     },
     "metadata": {},
     "output_type": "display_data"
    },
    {
     "data": {
      "text/html": [
       "<b>YEARS_BUILD_AVG</b>: <span>Normalized information about building where the client lives, What is average (_AVG suffix), modus (_MODE suffix), median (_MEDI suffix) apartment size, common area, living area, age of building, number of elevators, number of entrances, state of the building, number of floor</span>"
      ],
      "text/plain": [
       "<IPython.core.display.HTML object>"
      ]
     },
     "metadata": {},
     "output_type": "display_data"
    },
    {
     "data": {
      "text/html": [
       "<b>COMMONAREA_AVG</b>: <span>Normalized information about building where the client lives, What is average (_AVG suffix), modus (_MODE suffix), median (_MEDI suffix) apartment size, common area, living area, age of building, number of elevators, number of entrances, state of the building, number of floor</span>"
      ],
      "text/plain": [
       "<IPython.core.display.HTML object>"
      ]
     },
     "metadata": {},
     "output_type": "display_data"
    },
    {
     "data": {
      "text/html": [
       "<b>ELEVATORS_AVG</b>: <span>Normalized information about building where the client lives, What is average (_AVG suffix), modus (_MODE suffix), median (_MEDI suffix) apartment size, common area, living area, age of building, number of elevators, number of entrances, state of the building, number of floor</span>"
      ],
      "text/plain": [
       "<IPython.core.display.HTML object>"
      ]
     },
     "metadata": {},
     "output_type": "display_data"
    },
    {
     "data": {
      "text/html": [
       "<b>ENTRANCES_AVG</b>: <span>Normalized information about building where the client lives, What is average (_AVG suffix), modus (_MODE suffix), median (_MEDI suffix) apartment size, common area, living area, age of building, number of elevators, number of entrances, state of the building, number of floor</span>"
      ],
      "text/plain": [
       "<IPython.core.display.HTML object>"
      ]
     },
     "metadata": {},
     "output_type": "display_data"
    },
    {
     "data": {
      "text/html": [
       "<b>FLOORSMAX_AVG</b>: <span>Normalized information about building where the client lives, What is average (_AVG suffix), modus (_MODE suffix), median (_MEDI suffix) apartment size, common area, living area, age of building, number of elevators, number of entrances, state of the building, number of floor</span>"
      ],
      "text/plain": [
       "<IPython.core.display.HTML object>"
      ]
     },
     "metadata": {},
     "output_type": "display_data"
    },
    {
     "data": {
      "text/html": [
       "<b>FLOORSMIN_AVG</b>: <span>Normalized information about building where the client lives, What is average (_AVG suffix), modus (_MODE suffix), median (_MEDI suffix) apartment size, common area, living area, age of building, number of elevators, number of entrances, state of the building, number of floor</span>"
      ],
      "text/plain": [
       "<IPython.core.display.HTML object>"
      ]
     },
     "metadata": {},
     "output_type": "display_data"
    },
    {
     "data": {
      "text/html": [
       "<b>LANDAREA_AVG</b>: <span>Normalized information about building where the client lives, What is average (_AVG suffix), modus (_MODE suffix), median (_MEDI suffix) apartment size, common area, living area, age of building, number of elevators, number of entrances, state of the building, number of floor</span>"
      ],
      "text/plain": [
       "<IPython.core.display.HTML object>"
      ]
     },
     "metadata": {},
     "output_type": "display_data"
    },
    {
     "data": {
      "text/html": [
       "<b>LIVINGAPARTMENTS_AVG</b>: <span>Normalized information about building where the client lives, What is average (_AVG suffix), modus (_MODE suffix), median (_MEDI suffix) apartment size, common area, living area, age of building, number of elevators, number of entrances, state of the building, number of floor</span>"
      ],
      "text/plain": [
       "<IPython.core.display.HTML object>"
      ]
     },
     "metadata": {},
     "output_type": "display_data"
    },
    {
     "data": {
      "text/html": [
       "<b>LIVINGAREA_AVG</b>: <span>Normalized information about building where the client lives, What is average (_AVG suffix), modus (_MODE suffix), median (_MEDI suffix) apartment size, common area, living area, age of building, number of elevators, number of entrances, state of the building, number of floor</span>"
      ],
      "text/plain": [
       "<IPython.core.display.HTML object>"
      ]
     },
     "metadata": {},
     "output_type": "display_data"
    },
    {
     "data": {
      "text/html": [
       "<b>NONLIVINGAPARTMENTS_AVG</b>: <span>Normalized information about building where the client lives, What is average (_AVG suffix), modus (_MODE suffix), median (_MEDI suffix) apartment size, common area, living area, age of building, number of elevators, number of entrances, state of the building, number of floor</span>"
      ],
      "text/plain": [
       "<IPython.core.display.HTML object>"
      ]
     },
     "metadata": {},
     "output_type": "display_data"
    },
    {
     "data": {
      "text/html": [
       "<b>NONLIVINGAREA_AVG</b>: <span>Normalized information about building where the client lives, What is average (_AVG suffix), modus (_MODE suffix), median (_MEDI suffix) apartment size, common area, living area, age of building, number of elevators, number of entrances, state of the building, number of floor</span>"
      ],
      "text/plain": [
       "<IPython.core.display.HTML object>"
      ]
     },
     "metadata": {},
     "output_type": "display_data"
    },
    {
     "data": {
      "text/html": [
       "<b>APARTMENTS_MODE</b>: <span>Normalized information about building where the client lives, What is average (_AVG suffix), modus (_MODE suffix), median (_MEDI suffix) apartment size, common area, living area, age of building, number of elevators, number of entrances, state of the building, number of floor</span>"
      ],
      "text/plain": [
       "<IPython.core.display.HTML object>"
      ]
     },
     "metadata": {},
     "output_type": "display_data"
    },
    {
     "data": {
      "text/html": [
       "<b>BASEMENTAREA_MODE</b>: <span>Normalized information about building where the client lives, What is average (_AVG suffix), modus (_MODE suffix), median (_MEDI suffix) apartment size, common area, living area, age of building, number of elevators, number of entrances, state of the building, number of floor</span>"
      ],
      "text/plain": [
       "<IPython.core.display.HTML object>"
      ]
     },
     "metadata": {},
     "output_type": "display_data"
    },
    {
     "data": {
      "text/html": [
       "<b>YEARS_BEGINEXPLUATATION_MODE</b>: <span>Normalized information about building where the client lives, What is average (_AVG suffix), modus (_MODE suffix), median (_MEDI suffix) apartment size, common area, living area, age of building, number of elevators, number of entrances, state of the building, number of floor</span>"
      ],
      "text/plain": [
       "<IPython.core.display.HTML object>"
      ]
     },
     "metadata": {},
     "output_type": "display_data"
    },
    {
     "data": {
      "text/html": [
       "<b>YEARS_BUILD_MODE</b>: <span>Normalized information about building where the client lives, What is average (_AVG suffix), modus (_MODE suffix), median (_MEDI suffix) apartment size, common area, living area, age of building, number of elevators, number of entrances, state of the building, number of floor</span>"
      ],
      "text/plain": [
       "<IPython.core.display.HTML object>"
      ]
     },
     "metadata": {},
     "output_type": "display_data"
    },
    {
     "data": {
      "text/html": [
       "<b>COMMONAREA_MODE</b>: <span>Normalized information about building where the client lives, What is average (_AVG suffix), modus (_MODE suffix), median (_MEDI suffix) apartment size, common area, living area, age of building, number of elevators, number of entrances, state of the building, number of floor</span>"
      ],
      "text/plain": [
       "<IPython.core.display.HTML object>"
      ]
     },
     "metadata": {},
     "output_type": "display_data"
    },
    {
     "data": {
      "text/html": [
       "<b>ELEVATORS_MODE</b>: <span>Normalized information about building where the client lives, What is average (_AVG suffix), modus (_MODE suffix), median (_MEDI suffix) apartment size, common area, living area, age of building, number of elevators, number of entrances, state of the building, number of floor</span>"
      ],
      "text/plain": [
       "<IPython.core.display.HTML object>"
      ]
     },
     "metadata": {},
     "output_type": "display_data"
    },
    {
     "data": {
      "text/html": [
       "<b>ENTRANCES_MODE</b>: <span>Normalized information about building where the client lives, What is average (_AVG suffix), modus (_MODE suffix), median (_MEDI suffix) apartment size, common area, living area, age of building, number of elevators, number of entrances, state of the building, number of floor</span>"
      ],
      "text/plain": [
       "<IPython.core.display.HTML object>"
      ]
     },
     "metadata": {},
     "output_type": "display_data"
    },
    {
     "data": {
      "text/html": [
       "<b>FLOORSMAX_MODE</b>: <span>Normalized information about building where the client lives, What is average (_AVG suffix), modus (_MODE suffix), median (_MEDI suffix) apartment size, common area, living area, age of building, number of elevators, number of entrances, state of the building, number of floor</span>"
      ],
      "text/plain": [
       "<IPython.core.display.HTML object>"
      ]
     },
     "metadata": {},
     "output_type": "display_data"
    },
    {
     "data": {
      "text/html": [
       "<b>FLOORSMIN_MODE</b>: <span>Normalized information about building where the client lives, What is average (_AVG suffix), modus (_MODE suffix), median (_MEDI suffix) apartment size, common area, living area, age of building, number of elevators, number of entrances, state of the building, number of floor</span>"
      ],
      "text/plain": [
       "<IPython.core.display.HTML object>"
      ]
     },
     "metadata": {},
     "output_type": "display_data"
    },
    {
     "data": {
      "text/html": [
       "<b>LANDAREA_MODE</b>: <span>Normalized information about building where the client lives, What is average (_AVG suffix), modus (_MODE suffix), median (_MEDI suffix) apartment size, common area, living area, age of building, number of elevators, number of entrances, state of the building, number of floor</span>"
      ],
      "text/plain": [
       "<IPython.core.display.HTML object>"
      ]
     },
     "metadata": {},
     "output_type": "display_data"
    },
    {
     "data": {
      "text/html": [
       "<b>LIVINGAPARTMENTS_MODE</b>: <span>Normalized information about building where the client lives, What is average (_AVG suffix), modus (_MODE suffix), median (_MEDI suffix) apartment size, common area, living area, age of building, number of elevators, number of entrances, state of the building, number of floor</span>"
      ],
      "text/plain": [
       "<IPython.core.display.HTML object>"
      ]
     },
     "metadata": {},
     "output_type": "display_data"
    },
    {
     "data": {
      "text/html": [
       "<b>LIVINGAREA_MODE</b>: <span>Normalized information about building where the client lives, What is average (_AVG suffix), modus (_MODE suffix), median (_MEDI suffix) apartment size, common area, living area, age of building, number of elevators, number of entrances, state of the building, number of floor</span>"
      ],
      "text/plain": [
       "<IPython.core.display.HTML object>"
      ]
     },
     "metadata": {},
     "output_type": "display_data"
    },
    {
     "data": {
      "text/html": [
       "<b>NONLIVINGAPARTMENTS_MODE</b>: <span>Normalized information about building where the client lives, What is average (_AVG suffix), modus (_MODE suffix), median (_MEDI suffix) apartment size, common area, living area, age of building, number of elevators, number of entrances, state of the building, number of floor</span>"
      ],
      "text/plain": [
       "<IPython.core.display.HTML object>"
      ]
     },
     "metadata": {},
     "output_type": "display_data"
    },
    {
     "data": {
      "text/html": [
       "<b>NONLIVINGAREA_MODE</b>: <span>Normalized information about building where the client lives, What is average (_AVG suffix), modus (_MODE suffix), median (_MEDI suffix) apartment size, common area, living area, age of building, number of elevators, number of entrances, state of the building, number of floor</span>"
      ],
      "text/plain": [
       "<IPython.core.display.HTML object>"
      ]
     },
     "metadata": {},
     "output_type": "display_data"
    },
    {
     "data": {
      "text/html": [
       "<b>APARTMENTS_MEDI</b>: <span>Normalized information about building where the client lives, What is average (_AVG suffix), modus (_MODE suffix), median (_MEDI suffix) apartment size, common area, living area, age of building, number of elevators, number of entrances, state of the building, number of floor</span>"
      ],
      "text/plain": [
       "<IPython.core.display.HTML object>"
      ]
     },
     "metadata": {},
     "output_type": "display_data"
    },
    {
     "data": {
      "text/html": [
       "<b>BASEMENTAREA_MEDI</b>: <span>Normalized information about building where the client lives, What is average (_AVG suffix), modus (_MODE suffix), median (_MEDI suffix) apartment size, common area, living area, age of building, number of elevators, number of entrances, state of the building, number of floor</span>"
      ],
      "text/plain": [
       "<IPython.core.display.HTML object>"
      ]
     },
     "metadata": {},
     "output_type": "display_data"
    },
    {
     "data": {
      "text/html": [
       "<b>YEARS_BEGINEXPLUATATION_MEDI</b>: <span>Normalized information about building where the client lives, What is average (_AVG suffix), modus (_MODE suffix), median (_MEDI suffix) apartment size, common area, living area, age of building, number of elevators, number of entrances, state of the building, number of floor</span>"
      ],
      "text/plain": [
       "<IPython.core.display.HTML object>"
      ]
     },
     "metadata": {},
     "output_type": "display_data"
    },
    {
     "data": {
      "text/html": [
       "<b>YEARS_BUILD_MEDI</b>: <span>Normalized information about building where the client lives, What is average (_AVG suffix), modus (_MODE suffix), median (_MEDI suffix) apartment size, common area, living area, age of building, number of elevators, number of entrances, state of the building, number of floor</span>"
      ],
      "text/plain": [
       "<IPython.core.display.HTML object>"
      ]
     },
     "metadata": {},
     "output_type": "display_data"
    },
    {
     "data": {
      "text/html": [
       "<b>COMMONAREA_MEDI</b>: <span>Normalized information about building where the client lives, What is average (_AVG suffix), modus (_MODE suffix), median (_MEDI suffix) apartment size, common area, living area, age of building, number of elevators, number of entrances, state of the building, number of floor</span>"
      ],
      "text/plain": [
       "<IPython.core.display.HTML object>"
      ]
     },
     "metadata": {},
     "output_type": "display_data"
    },
    {
     "data": {
      "text/html": [
       "<b>ELEVATORS_MEDI</b>: <span>Normalized information about building where the client lives, What is average (_AVG suffix), modus (_MODE suffix), median (_MEDI suffix) apartment size, common area, living area, age of building, number of elevators, number of entrances, state of the building, number of floor</span>"
      ],
      "text/plain": [
       "<IPython.core.display.HTML object>"
      ]
     },
     "metadata": {},
     "output_type": "display_data"
    },
    {
     "data": {
      "text/html": [
       "<b>ENTRANCES_MEDI</b>: <span>Normalized information about building where the client lives, What is average (_AVG suffix), modus (_MODE suffix), median (_MEDI suffix) apartment size, common area, living area, age of building, number of elevators, number of entrances, state of the building, number of floor</span>"
      ],
      "text/plain": [
       "<IPython.core.display.HTML object>"
      ]
     },
     "metadata": {},
     "output_type": "display_data"
    },
    {
     "data": {
      "text/html": [
       "<b>FLOORSMAX_MEDI</b>: <span>Normalized information about building where the client lives, What is average (_AVG suffix), modus (_MODE suffix), median (_MEDI suffix) apartment size, common area, living area, age of building, number of elevators, number of entrances, state of the building, number of floor</span>"
      ],
      "text/plain": [
       "<IPython.core.display.HTML object>"
      ]
     },
     "metadata": {},
     "output_type": "display_data"
    },
    {
     "data": {
      "text/html": [
       "<b>FLOORSMIN_MEDI</b>: <span>Normalized information about building where the client lives, What is average (_AVG suffix), modus (_MODE suffix), median (_MEDI suffix) apartment size, common area, living area, age of building, number of elevators, number of entrances, state of the building, number of floor</span>"
      ],
      "text/plain": [
       "<IPython.core.display.HTML object>"
      ]
     },
     "metadata": {},
     "output_type": "display_data"
    },
    {
     "data": {
      "text/html": [
       "<b>LANDAREA_MEDI</b>: <span>Normalized information about building where the client lives, What is average (_AVG suffix), modus (_MODE suffix), median (_MEDI suffix) apartment size, common area, living area, age of building, number of elevators, number of entrances, state of the building, number of floor</span>"
      ],
      "text/plain": [
       "<IPython.core.display.HTML object>"
      ]
     },
     "metadata": {},
     "output_type": "display_data"
    },
    {
     "data": {
      "text/html": [
       "<b>LIVINGAPARTMENTS_MEDI</b>: <span>Normalized information about building where the client lives, What is average (_AVG suffix), modus (_MODE suffix), median (_MEDI suffix) apartment size, common area, living area, age of building, number of elevators, number of entrances, state of the building, number of floor</span>"
      ],
      "text/plain": [
       "<IPython.core.display.HTML object>"
      ]
     },
     "metadata": {},
     "output_type": "display_data"
    },
    {
     "data": {
      "text/html": [
       "<b>LIVINGAREA_MEDI</b>: <span>Normalized information about building where the client lives, What is average (_AVG suffix), modus (_MODE suffix), median (_MEDI suffix) apartment size, common area, living area, age of building, number of elevators, number of entrances, state of the building, number of floor</span>"
      ],
      "text/plain": [
       "<IPython.core.display.HTML object>"
      ]
     },
     "metadata": {},
     "output_type": "display_data"
    },
    {
     "data": {
      "text/html": [
       "<b>NONLIVINGAPARTMENTS_MEDI</b>: <span>Normalized information about building where the client lives, What is average (_AVG suffix), modus (_MODE suffix), median (_MEDI suffix) apartment size, common area, living area, age of building, number of elevators, number of entrances, state of the building, number of floor</span>"
      ],
      "text/plain": [
       "<IPython.core.display.HTML object>"
      ]
     },
     "metadata": {},
     "output_type": "display_data"
    },
    {
     "data": {
      "text/html": [
       "<b>NONLIVINGAREA_MEDI</b>: <span>Normalized information about building where the client lives, What is average (_AVG suffix), modus (_MODE suffix), median (_MEDI suffix) apartment size, common area, living area, age of building, number of elevators, number of entrances, state of the building, number of floor</span>"
      ],
      "text/plain": [
       "<IPython.core.display.HTML object>"
      ]
     },
     "metadata": {},
     "output_type": "display_data"
    },
    {
     "data": {
      "text/html": [
       "<b>FONDKAPREMONT_MODE</b>: <span>Normalized information about building where the client lives, What is average (_AVG suffix), modus (_MODE suffix), median (_MEDI suffix) apartment size, common area, living area, age of building, number of elevators, number of entrances, state of the building, number of floor</span>"
      ],
      "text/plain": [
       "<IPython.core.display.HTML object>"
      ]
     },
     "metadata": {},
     "output_type": "display_data"
    },
    {
     "data": {
      "text/html": [
       "<b>HOUSETYPE_MODE</b>: <span>Normalized information about building where the client lives, What is average (_AVG suffix), modus (_MODE suffix), median (_MEDI suffix) apartment size, common area, living area, age of building, number of elevators, number of entrances, state of the building, number of floor</span>"
      ],
      "text/plain": [
       "<IPython.core.display.HTML object>"
      ]
     },
     "metadata": {},
     "output_type": "display_data"
    },
    {
     "data": {
      "text/html": [
       "<b>TOTALAREA_MODE</b>: <span>Normalized information about building where the client lives, What is average (_AVG suffix), modus (_MODE suffix), median (_MEDI suffix) apartment size, common area, living area, age of building, number of elevators, number of entrances, state of the building, number of floor</span>"
      ],
      "text/plain": [
       "<IPython.core.display.HTML object>"
      ]
     },
     "metadata": {},
     "output_type": "display_data"
    },
    {
     "data": {
      "text/html": [
       "<b>WALLSMATERIAL_MODE</b>: <span>Normalized information about building where the client lives, What is average (_AVG suffix), modus (_MODE suffix), median (_MEDI suffix) apartment size, common area, living area, age of building, number of elevators, number of entrances, state of the building, number of floor</span>"
      ],
      "text/plain": [
       "<IPython.core.display.HTML object>"
      ]
     },
     "metadata": {},
     "output_type": "display_data"
    },
    {
     "data": {
      "text/html": [
       "<b>EMERGENCYSTATE_MODE</b>: <span>Normalized information about building where the client lives, What is average (_AVG suffix), modus (_MODE suffix), median (_MEDI suffix) apartment size, common area, living area, age of building, number of elevators, number of entrances, state of the building, number of floor</span>"
      ],
      "text/plain": [
       "<IPython.core.display.HTML object>"
      ]
     },
     "metadata": {},
     "output_type": "display_data"
    },
    {
     "data": {
      "text/html": [
       "<b>OBS_30_CNT_SOCIAL_CIRCLE</b>: <span>How many observation of client's social surroundings with observable 30 DPD (days past due) default</span>"
      ],
      "text/plain": [
       "<IPython.core.display.HTML object>"
      ]
     },
     "metadata": {},
     "output_type": "display_data"
    },
    {
     "data": {
      "text/html": [
       "<b>DEF_30_CNT_SOCIAL_CIRCLE</b>: <span>How many observation of client's social surroundings defaulted on 30 DPD (days past due) </span>"
      ],
      "text/plain": [
       "<IPython.core.display.HTML object>"
      ]
     },
     "metadata": {},
     "output_type": "display_data"
    },
    {
     "data": {
      "text/html": [
       "<b>OBS_60_CNT_SOCIAL_CIRCLE</b>: <span>How many observation of client's social surroundings with observable 60 DPD (days past due) default</span>"
      ],
      "text/plain": [
       "<IPython.core.display.HTML object>"
      ]
     },
     "metadata": {},
     "output_type": "display_data"
    },
    {
     "data": {
      "text/html": [
       "<b>DEF_60_CNT_SOCIAL_CIRCLE</b>: <span>How many observation of client's social surroundings defaulted on 60 (days past due) DPD</span>"
      ],
      "text/plain": [
       "<IPython.core.display.HTML object>"
      ]
     },
     "metadata": {},
     "output_type": "display_data"
    },
    {
     "data": {
      "text/html": [
       "<b>DAYS_LAST_PHONE_CHANGE</b>: <span>How many days before application did client change phone</span>"
      ],
      "text/plain": [
       "<IPython.core.display.HTML object>"
      ]
     },
     "metadata": {},
     "output_type": "display_data"
    },
    {
     "data": {
      "text/html": [
       "<b>FLAG_DOCUMENT_2</b>: <span>Did client provide document 2</span>"
      ],
      "text/plain": [
       "<IPython.core.display.HTML object>"
      ]
     },
     "metadata": {},
     "output_type": "display_data"
    },
    {
     "data": {
      "text/html": [
       "<b>FLAG_DOCUMENT_3</b>: <span>Did client provide document 3</span>"
      ],
      "text/plain": [
       "<IPython.core.display.HTML object>"
      ]
     },
     "metadata": {},
     "output_type": "display_data"
    },
    {
     "data": {
      "text/html": [
       "<b>FLAG_DOCUMENT_4</b>: <span>Did client provide document 4</span>"
      ],
      "text/plain": [
       "<IPython.core.display.HTML object>"
      ]
     },
     "metadata": {},
     "output_type": "display_data"
    },
    {
     "data": {
      "text/html": [
       "<b>FLAG_DOCUMENT_5</b>: <span>Did client provide document 5</span>"
      ],
      "text/plain": [
       "<IPython.core.display.HTML object>"
      ]
     },
     "metadata": {},
     "output_type": "display_data"
    },
    {
     "data": {
      "text/html": [
       "<b>FLAG_DOCUMENT_6</b>: <span>Did client provide document 6</span>"
      ],
      "text/plain": [
       "<IPython.core.display.HTML object>"
      ]
     },
     "metadata": {},
     "output_type": "display_data"
    },
    {
     "data": {
      "text/html": [
       "<b>FLAG_DOCUMENT_7</b>: <span>Did client provide document 7</span>"
      ],
      "text/plain": [
       "<IPython.core.display.HTML object>"
      ]
     },
     "metadata": {},
     "output_type": "display_data"
    },
    {
     "data": {
      "text/html": [
       "<b>FLAG_DOCUMENT_8</b>: <span>Did client provide document 8</span>"
      ],
      "text/plain": [
       "<IPython.core.display.HTML object>"
      ]
     },
     "metadata": {},
     "output_type": "display_data"
    },
    {
     "data": {
      "text/html": [
       "<b>FLAG_DOCUMENT_9</b>: <span>Did client provide document 9</span>"
      ],
      "text/plain": [
       "<IPython.core.display.HTML object>"
      ]
     },
     "metadata": {},
     "output_type": "display_data"
    },
    {
     "data": {
      "text/html": [
       "<b>FLAG_DOCUMENT_10</b>: <span>Did client provide document 10</span>"
      ],
      "text/plain": [
       "<IPython.core.display.HTML object>"
      ]
     },
     "metadata": {},
     "output_type": "display_data"
    },
    {
     "data": {
      "text/html": [
       "<b>FLAG_DOCUMENT_11</b>: <span>Did client provide document 11</span>"
      ],
      "text/plain": [
       "<IPython.core.display.HTML object>"
      ]
     },
     "metadata": {},
     "output_type": "display_data"
    },
    {
     "data": {
      "text/html": [
       "<b>FLAG_DOCUMENT_12</b>: <span>Did client provide document 12</span>"
      ],
      "text/plain": [
       "<IPython.core.display.HTML object>"
      ]
     },
     "metadata": {},
     "output_type": "display_data"
    },
    {
     "data": {
      "text/html": [
       "<b>FLAG_DOCUMENT_13</b>: <span>Did client provide document 13</span>"
      ],
      "text/plain": [
       "<IPython.core.display.HTML object>"
      ]
     },
     "metadata": {},
     "output_type": "display_data"
    },
    {
     "data": {
      "text/html": [
       "<b>FLAG_DOCUMENT_14</b>: <span>Did client provide document 14</span>"
      ],
      "text/plain": [
       "<IPython.core.display.HTML object>"
      ]
     },
     "metadata": {},
     "output_type": "display_data"
    },
    {
     "data": {
      "text/html": [
       "<b>FLAG_DOCUMENT_15</b>: <span>Did client provide document 15</span>"
      ],
      "text/plain": [
       "<IPython.core.display.HTML object>"
      ]
     },
     "metadata": {},
     "output_type": "display_data"
    },
    {
     "data": {
      "text/html": [
       "<b>FLAG_DOCUMENT_16</b>: <span>Did client provide document 16</span>"
      ],
      "text/plain": [
       "<IPython.core.display.HTML object>"
      ]
     },
     "metadata": {},
     "output_type": "display_data"
    },
    {
     "data": {
      "text/html": [
       "<b>FLAG_DOCUMENT_17</b>: <span>Did client provide document 17</span>"
      ],
      "text/plain": [
       "<IPython.core.display.HTML object>"
      ]
     },
     "metadata": {},
     "output_type": "display_data"
    },
    {
     "data": {
      "text/html": [
       "<b>FLAG_DOCUMENT_18</b>: <span>Did client provide document 18</span>"
      ],
      "text/plain": [
       "<IPython.core.display.HTML object>"
      ]
     },
     "metadata": {},
     "output_type": "display_data"
    },
    {
     "data": {
      "text/html": [
       "<b>FLAG_DOCUMENT_19</b>: <span>Did client provide document 19</span>"
      ],
      "text/plain": [
       "<IPython.core.display.HTML object>"
      ]
     },
     "metadata": {},
     "output_type": "display_data"
    },
    {
     "data": {
      "text/html": [
       "<b>FLAG_DOCUMENT_20</b>: <span>Did client provide document 20</span>"
      ],
      "text/plain": [
       "<IPython.core.display.HTML object>"
      ]
     },
     "metadata": {},
     "output_type": "display_data"
    },
    {
     "data": {
      "text/html": [
       "<b>FLAG_DOCUMENT_21</b>: <span>Did client provide document 21</span>"
      ],
      "text/plain": [
       "<IPython.core.display.HTML object>"
      ]
     },
     "metadata": {},
     "output_type": "display_data"
    },
    {
     "data": {
      "text/html": [
       "<b>AMT_REQ_CREDIT_BUREAU_HOUR</b>: <span>Number of enquiries to Credit Bureau about the client one hour before application</span>"
      ],
      "text/plain": [
       "<IPython.core.display.HTML object>"
      ]
     },
     "metadata": {},
     "output_type": "display_data"
    },
    {
     "data": {
      "text/html": [
       "<b>AMT_REQ_CREDIT_BUREAU_DAY</b>: <span>Number of enquiries to Credit Bureau about the client one day before application (excluding one hour before application)</span>"
      ],
      "text/plain": [
       "<IPython.core.display.HTML object>"
      ]
     },
     "metadata": {},
     "output_type": "display_data"
    },
    {
     "data": {
      "text/html": [
       "<b>AMT_REQ_CREDIT_BUREAU_WEEK</b>: <span>Number of enquiries to Credit Bureau about the client one week before application (excluding one day before application)</span>"
      ],
      "text/plain": [
       "<IPython.core.display.HTML object>"
      ]
     },
     "metadata": {},
     "output_type": "display_data"
    },
    {
     "data": {
      "text/html": [
       "<b>AMT_REQ_CREDIT_BUREAU_MON</b>: <span>Number of enquiries to Credit Bureau about the client one month before application (excluding one week before application)</span>"
      ],
      "text/plain": [
       "<IPython.core.display.HTML object>"
      ]
     },
     "metadata": {},
     "output_type": "display_data"
    },
    {
     "data": {
      "text/html": [
       "<b>AMT_REQ_CREDIT_BUREAU_QRT</b>: <span>Number of enquiries to Credit Bureau about the client 3 month before application (excluding one month before application)</span>"
      ],
      "text/plain": [
       "<IPython.core.display.HTML object>"
      ]
     },
     "metadata": {},
     "output_type": "display_data"
    },
    {
     "data": {
      "text/html": [
       "<b>AMT_REQ_CREDIT_BUREAU_YEAR</b>: <span>Number of enquiries to Credit Bureau about the client one day year (excluding last 3 months before application)</span>"
      ],
      "text/plain": [
       "<IPython.core.display.HTML object>"
      ]
     },
     "metadata": {},
     "output_type": "display_data"
    }
   ],
   "source": [
    "for column in train.columns:\n",
    "    display(HTML(f\"<b>{column}</b>: <span>{Descrip[Descrip['Row'] == column]['Description'].iloc[0]}</span>\"))"
   ]
  },
  {
   "cell_type": "code",
   "execution_count": 12,
   "id": "pressing-avatar",
   "metadata": {
    "colab": {
     "base_uri": "https://localhost:8080/",
     "height": 346
    },
    "executionInfo": {
     "elapsed": 4531,
     "status": "ok",
     "timestamp": 1616856692003,
     "user": {
      "displayName": "Daniil Timachov",
      "photoUrl": "https://lh3.googleusercontent.com/a-/AOh14Ghk9scaQ0ydio6b7V2_t9-wRiT1cNGLcyCL07wR=s64",
      "userId": "00279435974685972614"
     },
     "user_tz": -120
    },
    "id": "naughty-sitting",
    "outputId": "08be1c5a-97a4-4596-8ee9-6282d00c7b66"
   },
   "outputs": [
    {
     "data": {
      "text/html": [
       "<div>\n",
       "<style scoped>\n",
       "    .dataframe tbody tr th:only-of-type {\n",
       "        vertical-align: middle;\n",
       "    }\n",
       "\n",
       "    .dataframe tbody tr th {\n",
       "        vertical-align: top;\n",
       "    }\n",
       "\n",
       "    .dataframe thead th {\n",
       "        text-align: right;\n",
       "    }\n",
       "</style>\n",
       "<table border=\"1\" class=\"dataframe\">\n",
       "  <thead>\n",
       "    <tr style=\"text-align: right;\">\n",
       "      <th></th>\n",
       "      <th>SK_ID_CURR</th>\n",
       "      <th>TARGET</th>\n",
       "      <th>CNT_CHILDREN</th>\n",
       "      <th>AMT_INCOME_TOTAL</th>\n",
       "      <th>AMT_CREDIT</th>\n",
       "      <th>AMT_ANNUITY</th>\n",
       "      <th>AMT_GOODS_PRICE</th>\n",
       "      <th>REGION_POPULATION_RELATIVE</th>\n",
       "      <th>DAYS_BIRTH</th>\n",
       "      <th>DAYS_EMPLOYED</th>\n",
       "      <th>...</th>\n",
       "      <th>FLAG_DOCUMENT_18</th>\n",
       "      <th>FLAG_DOCUMENT_19</th>\n",
       "      <th>FLAG_DOCUMENT_20</th>\n",
       "      <th>FLAG_DOCUMENT_21</th>\n",
       "      <th>AMT_REQ_CREDIT_BUREAU_HOUR</th>\n",
       "      <th>AMT_REQ_CREDIT_BUREAU_DAY</th>\n",
       "      <th>AMT_REQ_CREDIT_BUREAU_WEEK</th>\n",
       "      <th>AMT_REQ_CREDIT_BUREAU_MON</th>\n",
       "      <th>AMT_REQ_CREDIT_BUREAU_QRT</th>\n",
       "      <th>AMT_REQ_CREDIT_BUREAU_YEAR</th>\n",
       "    </tr>\n",
       "  </thead>\n",
       "  <tbody>\n",
       "    <tr>\n",
       "      <th>count</th>\n",
       "      <td>307511.000000</td>\n",
       "      <td>307511.000000</td>\n",
       "      <td>307511.000000</td>\n",
       "      <td>3.075110e+05</td>\n",
       "      <td>3.075110e+05</td>\n",
       "      <td>307499.000000</td>\n",
       "      <td>3.072330e+05</td>\n",
       "      <td>307511.000000</td>\n",
       "      <td>307511.000000</td>\n",
       "      <td>307511.000000</td>\n",
       "      <td>...</td>\n",
       "      <td>307511.000000</td>\n",
       "      <td>307511.000000</td>\n",
       "      <td>307511.000000</td>\n",
       "      <td>307511.000000</td>\n",
       "      <td>265992.000000</td>\n",
       "      <td>265992.000000</td>\n",
       "      <td>265992.000000</td>\n",
       "      <td>265992.000000</td>\n",
       "      <td>265992.000000</td>\n",
       "      <td>265992.000000</td>\n",
       "    </tr>\n",
       "    <tr>\n",
       "      <th>mean</th>\n",
       "      <td>278180.518577</td>\n",
       "      <td>0.080729</td>\n",
       "      <td>0.417052</td>\n",
       "      <td>1.687979e+05</td>\n",
       "      <td>5.990260e+05</td>\n",
       "      <td>27108.573909</td>\n",
       "      <td>5.383962e+05</td>\n",
       "      <td>0.020868</td>\n",
       "      <td>-16036.995067</td>\n",
       "      <td>63815.045904</td>\n",
       "      <td>...</td>\n",
       "      <td>0.008130</td>\n",
       "      <td>0.000595</td>\n",
       "      <td>0.000507</td>\n",
       "      <td>0.000335</td>\n",
       "      <td>0.006402</td>\n",
       "      <td>0.007000</td>\n",
       "      <td>0.034362</td>\n",
       "      <td>0.267395</td>\n",
       "      <td>0.265474</td>\n",
       "      <td>1.899974</td>\n",
       "    </tr>\n",
       "    <tr>\n",
       "      <th>std</th>\n",
       "      <td>102790.175348</td>\n",
       "      <td>0.272419</td>\n",
       "      <td>0.722121</td>\n",
       "      <td>2.371231e+05</td>\n",
       "      <td>4.024908e+05</td>\n",
       "      <td>14493.737315</td>\n",
       "      <td>3.694465e+05</td>\n",
       "      <td>0.013831</td>\n",
       "      <td>4363.988632</td>\n",
       "      <td>141275.766519</td>\n",
       "      <td>...</td>\n",
       "      <td>0.089798</td>\n",
       "      <td>0.024387</td>\n",
       "      <td>0.022518</td>\n",
       "      <td>0.018299</td>\n",
       "      <td>0.083849</td>\n",
       "      <td>0.110757</td>\n",
       "      <td>0.204685</td>\n",
       "      <td>0.916002</td>\n",
       "      <td>0.794056</td>\n",
       "      <td>1.869295</td>\n",
       "    </tr>\n",
       "    <tr>\n",
       "      <th>min</th>\n",
       "      <td>100002.000000</td>\n",
       "      <td>0.000000</td>\n",
       "      <td>0.000000</td>\n",
       "      <td>2.565000e+04</td>\n",
       "      <td>4.500000e+04</td>\n",
       "      <td>1615.500000</td>\n",
       "      <td>4.050000e+04</td>\n",
       "      <td>0.000290</td>\n",
       "      <td>-25229.000000</td>\n",
       "      <td>-17912.000000</td>\n",
       "      <td>...</td>\n",
       "      <td>0.000000</td>\n",
       "      <td>0.000000</td>\n",
       "      <td>0.000000</td>\n",
       "      <td>0.000000</td>\n",
       "      <td>0.000000</td>\n",
       "      <td>0.000000</td>\n",
       "      <td>0.000000</td>\n",
       "      <td>0.000000</td>\n",
       "      <td>0.000000</td>\n",
       "      <td>0.000000</td>\n",
       "    </tr>\n",
       "    <tr>\n",
       "      <th>25%</th>\n",
       "      <td>189145.500000</td>\n",
       "      <td>0.000000</td>\n",
       "      <td>0.000000</td>\n",
       "      <td>1.125000e+05</td>\n",
       "      <td>2.700000e+05</td>\n",
       "      <td>16524.000000</td>\n",
       "      <td>2.385000e+05</td>\n",
       "      <td>0.010006</td>\n",
       "      <td>-19682.000000</td>\n",
       "      <td>-2760.000000</td>\n",
       "      <td>...</td>\n",
       "      <td>0.000000</td>\n",
       "      <td>0.000000</td>\n",
       "      <td>0.000000</td>\n",
       "      <td>0.000000</td>\n",
       "      <td>0.000000</td>\n",
       "      <td>0.000000</td>\n",
       "      <td>0.000000</td>\n",
       "      <td>0.000000</td>\n",
       "      <td>0.000000</td>\n",
       "      <td>0.000000</td>\n",
       "    </tr>\n",
       "    <tr>\n",
       "      <th>50%</th>\n",
       "      <td>278202.000000</td>\n",
       "      <td>0.000000</td>\n",
       "      <td>0.000000</td>\n",
       "      <td>1.471500e+05</td>\n",
       "      <td>5.135310e+05</td>\n",
       "      <td>24903.000000</td>\n",
       "      <td>4.500000e+05</td>\n",
       "      <td>0.018850</td>\n",
       "      <td>-15750.000000</td>\n",
       "      <td>-1213.000000</td>\n",
       "      <td>...</td>\n",
       "      <td>0.000000</td>\n",
       "      <td>0.000000</td>\n",
       "      <td>0.000000</td>\n",
       "      <td>0.000000</td>\n",
       "      <td>0.000000</td>\n",
       "      <td>0.000000</td>\n",
       "      <td>0.000000</td>\n",
       "      <td>0.000000</td>\n",
       "      <td>0.000000</td>\n",
       "      <td>1.000000</td>\n",
       "    </tr>\n",
       "    <tr>\n",
       "      <th>75%</th>\n",
       "      <td>367142.500000</td>\n",
       "      <td>0.000000</td>\n",
       "      <td>1.000000</td>\n",
       "      <td>2.025000e+05</td>\n",
       "      <td>8.086500e+05</td>\n",
       "      <td>34596.000000</td>\n",
       "      <td>6.795000e+05</td>\n",
       "      <td>0.028663</td>\n",
       "      <td>-12413.000000</td>\n",
       "      <td>-289.000000</td>\n",
       "      <td>...</td>\n",
       "      <td>0.000000</td>\n",
       "      <td>0.000000</td>\n",
       "      <td>0.000000</td>\n",
       "      <td>0.000000</td>\n",
       "      <td>0.000000</td>\n",
       "      <td>0.000000</td>\n",
       "      <td>0.000000</td>\n",
       "      <td>0.000000</td>\n",
       "      <td>0.000000</td>\n",
       "      <td>3.000000</td>\n",
       "    </tr>\n",
       "    <tr>\n",
       "      <th>max</th>\n",
       "      <td>456255.000000</td>\n",
       "      <td>1.000000</td>\n",
       "      <td>19.000000</td>\n",
       "      <td>1.170000e+08</td>\n",
       "      <td>4.050000e+06</td>\n",
       "      <td>258025.500000</td>\n",
       "      <td>4.050000e+06</td>\n",
       "      <td>0.072508</td>\n",
       "      <td>-7489.000000</td>\n",
       "      <td>365243.000000</td>\n",
       "      <td>...</td>\n",
       "      <td>1.000000</td>\n",
       "      <td>1.000000</td>\n",
       "      <td>1.000000</td>\n",
       "      <td>1.000000</td>\n",
       "      <td>4.000000</td>\n",
       "      <td>9.000000</td>\n",
       "      <td>8.000000</td>\n",
       "      <td>27.000000</td>\n",
       "      <td>261.000000</td>\n",
       "      <td>25.000000</td>\n",
       "    </tr>\n",
       "  </tbody>\n",
       "</table>\n",
       "<p>8 rows × 106 columns</p>\n",
       "</div>"
      ],
      "text/plain": [
       "          SK_ID_CURR         TARGET   CNT_CHILDREN  AMT_INCOME_TOTAL  \\\n",
       "count  307511.000000  307511.000000  307511.000000      3.075110e+05   \n",
       "mean   278180.518577       0.080729       0.417052      1.687979e+05   \n",
       "std    102790.175348       0.272419       0.722121      2.371231e+05   \n",
       "min    100002.000000       0.000000       0.000000      2.565000e+04   \n",
       "25%    189145.500000       0.000000       0.000000      1.125000e+05   \n",
       "50%    278202.000000       0.000000       0.000000      1.471500e+05   \n",
       "75%    367142.500000       0.000000       1.000000      2.025000e+05   \n",
       "max    456255.000000       1.000000      19.000000      1.170000e+08   \n",
       "\n",
       "         AMT_CREDIT    AMT_ANNUITY  AMT_GOODS_PRICE  \\\n",
       "count  3.075110e+05  307499.000000     3.072330e+05   \n",
       "mean   5.990260e+05   27108.573909     5.383962e+05   \n",
       "std    4.024908e+05   14493.737315     3.694465e+05   \n",
       "min    4.500000e+04    1615.500000     4.050000e+04   \n",
       "25%    2.700000e+05   16524.000000     2.385000e+05   \n",
       "50%    5.135310e+05   24903.000000     4.500000e+05   \n",
       "75%    8.086500e+05   34596.000000     6.795000e+05   \n",
       "max    4.050000e+06  258025.500000     4.050000e+06   \n",
       "\n",
       "       REGION_POPULATION_RELATIVE     DAYS_BIRTH  DAYS_EMPLOYED  ...  \\\n",
       "count               307511.000000  307511.000000  307511.000000  ...   \n",
       "mean                     0.020868  -16036.995067   63815.045904  ...   \n",
       "std                      0.013831    4363.988632  141275.766519  ...   \n",
       "min                      0.000290  -25229.000000  -17912.000000  ...   \n",
       "25%                      0.010006  -19682.000000   -2760.000000  ...   \n",
       "50%                      0.018850  -15750.000000   -1213.000000  ...   \n",
       "75%                      0.028663  -12413.000000    -289.000000  ...   \n",
       "max                      0.072508   -7489.000000  365243.000000  ...   \n",
       "\n",
       "       FLAG_DOCUMENT_18  FLAG_DOCUMENT_19  FLAG_DOCUMENT_20  FLAG_DOCUMENT_21  \\\n",
       "count     307511.000000     307511.000000     307511.000000     307511.000000   \n",
       "mean           0.008130          0.000595          0.000507          0.000335   \n",
       "std            0.089798          0.024387          0.022518          0.018299   \n",
       "min            0.000000          0.000000          0.000000          0.000000   \n",
       "25%            0.000000          0.000000          0.000000          0.000000   \n",
       "50%            0.000000          0.000000          0.000000          0.000000   \n",
       "75%            0.000000          0.000000          0.000000          0.000000   \n",
       "max            1.000000          1.000000          1.000000          1.000000   \n",
       "\n",
       "       AMT_REQ_CREDIT_BUREAU_HOUR  AMT_REQ_CREDIT_BUREAU_DAY  \\\n",
       "count               265992.000000              265992.000000   \n",
       "mean                     0.006402                   0.007000   \n",
       "std                      0.083849                   0.110757   \n",
       "min                      0.000000                   0.000000   \n",
       "25%                      0.000000                   0.000000   \n",
       "50%                      0.000000                   0.000000   \n",
       "75%                      0.000000                   0.000000   \n",
       "max                      4.000000                   9.000000   \n",
       "\n",
       "       AMT_REQ_CREDIT_BUREAU_WEEK  AMT_REQ_CREDIT_BUREAU_MON  \\\n",
       "count               265992.000000              265992.000000   \n",
       "mean                     0.034362                   0.267395   \n",
       "std                      0.204685                   0.916002   \n",
       "min                      0.000000                   0.000000   \n",
       "25%                      0.000000                   0.000000   \n",
       "50%                      0.000000                   0.000000   \n",
       "75%                      0.000000                   0.000000   \n",
       "max                      8.000000                  27.000000   \n",
       "\n",
       "       AMT_REQ_CREDIT_BUREAU_QRT  AMT_REQ_CREDIT_BUREAU_YEAR  \n",
       "count              265992.000000               265992.000000  \n",
       "mean                    0.265474                    1.899974  \n",
       "std                     0.794056                    1.869295  \n",
       "min                     0.000000                    0.000000  \n",
       "25%                     0.000000                    0.000000  \n",
       "50%                     0.000000                    1.000000  \n",
       "75%                     0.000000                    3.000000  \n",
       "max                   261.000000                   25.000000  \n",
       "\n",
       "[8 rows x 106 columns]"
      ]
     },
     "execution_count": 12,
     "metadata": {},
     "output_type": "execute_result"
    }
   ],
   "source": [
    "#статистика, count - кількість значень, mean - середнє, std - середнє відхилення\n",
    "train.describe()"
   ]
  },
  {
   "cell_type": "code",
   "execution_count": 13,
   "id": "practical-exclusive",
   "metadata": {
    "colab": {
     "base_uri": "https://localhost:8080/",
     "height": 346
    },
    "executionInfo": {
     "elapsed": 4524,
     "status": "ok",
     "timestamp": 1616856692007,
     "user": {
      "displayName": "Daniil Timachov",
      "photoUrl": "https://lh3.googleusercontent.com/a-/AOh14Ghk9scaQ0ydio6b7V2_t9-wRiT1cNGLcyCL07wR=s64",
      "userId": "00279435974685972614"
     },
     "user_tz": -120
    },
    "id": "brilliant-number",
    "outputId": "df36e594-036a-4ac7-e402-46d3f70253f7"
   },
   "outputs": [
    {
     "data": {
      "text/html": [
       "<div>\n",
       "<style scoped>\n",
       "    .dataframe tbody tr th:only-of-type {\n",
       "        vertical-align: middle;\n",
       "    }\n",
       "\n",
       "    .dataframe tbody tr th {\n",
       "        vertical-align: top;\n",
       "    }\n",
       "\n",
       "    .dataframe thead th {\n",
       "        text-align: right;\n",
       "    }\n",
       "</style>\n",
       "<table border=\"1\" class=\"dataframe\">\n",
       "  <thead>\n",
       "    <tr style=\"text-align: right;\">\n",
       "      <th></th>\n",
       "      <th>SK_ID_CURR</th>\n",
       "      <th>CNT_CHILDREN</th>\n",
       "      <th>AMT_INCOME_TOTAL</th>\n",
       "      <th>AMT_CREDIT</th>\n",
       "      <th>AMT_ANNUITY</th>\n",
       "      <th>AMT_GOODS_PRICE</th>\n",
       "      <th>REGION_POPULATION_RELATIVE</th>\n",
       "      <th>DAYS_BIRTH</th>\n",
       "      <th>DAYS_EMPLOYED</th>\n",
       "      <th>DAYS_REGISTRATION</th>\n",
       "      <th>...</th>\n",
       "      <th>FLAG_DOCUMENT_18</th>\n",
       "      <th>FLAG_DOCUMENT_19</th>\n",
       "      <th>FLAG_DOCUMENT_20</th>\n",
       "      <th>FLAG_DOCUMENT_21</th>\n",
       "      <th>AMT_REQ_CREDIT_BUREAU_HOUR</th>\n",
       "      <th>AMT_REQ_CREDIT_BUREAU_DAY</th>\n",
       "      <th>AMT_REQ_CREDIT_BUREAU_WEEK</th>\n",
       "      <th>AMT_REQ_CREDIT_BUREAU_MON</th>\n",
       "      <th>AMT_REQ_CREDIT_BUREAU_QRT</th>\n",
       "      <th>AMT_REQ_CREDIT_BUREAU_YEAR</th>\n",
       "    </tr>\n",
       "  </thead>\n",
       "  <tbody>\n",
       "    <tr>\n",
       "      <th>count</th>\n",
       "      <td>48744.000000</td>\n",
       "      <td>48744.000000</td>\n",
       "      <td>4.874400e+04</td>\n",
       "      <td>4.874400e+04</td>\n",
       "      <td>48720.000000</td>\n",
       "      <td>4.874400e+04</td>\n",
       "      <td>48744.000000</td>\n",
       "      <td>48744.000000</td>\n",
       "      <td>48744.000000</td>\n",
       "      <td>48744.000000</td>\n",
       "      <td>...</td>\n",
       "      <td>48744.000000</td>\n",
       "      <td>48744.0</td>\n",
       "      <td>48744.0</td>\n",
       "      <td>48744.0</td>\n",
       "      <td>42695.000000</td>\n",
       "      <td>42695.000000</td>\n",
       "      <td>42695.000000</td>\n",
       "      <td>42695.000000</td>\n",
       "      <td>42695.000000</td>\n",
       "      <td>42695.000000</td>\n",
       "    </tr>\n",
       "    <tr>\n",
       "      <th>mean</th>\n",
       "      <td>277796.676350</td>\n",
       "      <td>0.397054</td>\n",
       "      <td>1.784318e+05</td>\n",
       "      <td>5.167404e+05</td>\n",
       "      <td>29426.240209</td>\n",
       "      <td>4.626188e+05</td>\n",
       "      <td>0.021226</td>\n",
       "      <td>-16068.084605</td>\n",
       "      <td>67485.366322</td>\n",
       "      <td>-4967.652716</td>\n",
       "      <td>...</td>\n",
       "      <td>0.001559</td>\n",
       "      <td>0.0</td>\n",
       "      <td>0.0</td>\n",
       "      <td>0.0</td>\n",
       "      <td>0.002108</td>\n",
       "      <td>0.001803</td>\n",
       "      <td>0.002787</td>\n",
       "      <td>0.009299</td>\n",
       "      <td>0.546902</td>\n",
       "      <td>1.983769</td>\n",
       "    </tr>\n",
       "    <tr>\n",
       "      <th>std</th>\n",
       "      <td>103169.547296</td>\n",
       "      <td>0.709047</td>\n",
       "      <td>1.015226e+05</td>\n",
       "      <td>3.653970e+05</td>\n",
       "      <td>16016.368315</td>\n",
       "      <td>3.367102e+05</td>\n",
       "      <td>0.014428</td>\n",
       "      <td>4325.900393</td>\n",
       "      <td>144348.507136</td>\n",
       "      <td>3552.612035</td>\n",
       "      <td>...</td>\n",
       "      <td>0.039456</td>\n",
       "      <td>0.0</td>\n",
       "      <td>0.0</td>\n",
       "      <td>0.0</td>\n",
       "      <td>0.046373</td>\n",
       "      <td>0.046132</td>\n",
       "      <td>0.054037</td>\n",
       "      <td>0.110924</td>\n",
       "      <td>0.693305</td>\n",
       "      <td>1.838873</td>\n",
       "    </tr>\n",
       "    <tr>\n",
       "      <th>min</th>\n",
       "      <td>100001.000000</td>\n",
       "      <td>0.000000</td>\n",
       "      <td>2.694150e+04</td>\n",
       "      <td>4.500000e+04</td>\n",
       "      <td>2295.000000</td>\n",
       "      <td>4.500000e+04</td>\n",
       "      <td>0.000253</td>\n",
       "      <td>-25195.000000</td>\n",
       "      <td>-17463.000000</td>\n",
       "      <td>-23722.000000</td>\n",
       "      <td>...</td>\n",
       "      <td>0.000000</td>\n",
       "      <td>0.0</td>\n",
       "      <td>0.0</td>\n",
       "      <td>0.0</td>\n",
       "      <td>0.000000</td>\n",
       "      <td>0.000000</td>\n",
       "      <td>0.000000</td>\n",
       "      <td>0.000000</td>\n",
       "      <td>0.000000</td>\n",
       "      <td>0.000000</td>\n",
       "    </tr>\n",
       "    <tr>\n",
       "      <th>25%</th>\n",
       "      <td>188557.750000</td>\n",
       "      <td>0.000000</td>\n",
       "      <td>1.125000e+05</td>\n",
       "      <td>2.606400e+05</td>\n",
       "      <td>17973.000000</td>\n",
       "      <td>2.250000e+05</td>\n",
       "      <td>0.010006</td>\n",
       "      <td>-19637.000000</td>\n",
       "      <td>-2910.000000</td>\n",
       "      <td>-7459.250000</td>\n",
       "      <td>...</td>\n",
       "      <td>0.000000</td>\n",
       "      <td>0.0</td>\n",
       "      <td>0.0</td>\n",
       "      <td>0.0</td>\n",
       "      <td>0.000000</td>\n",
       "      <td>0.000000</td>\n",
       "      <td>0.000000</td>\n",
       "      <td>0.000000</td>\n",
       "      <td>0.000000</td>\n",
       "      <td>0.000000</td>\n",
       "    </tr>\n",
       "    <tr>\n",
       "      <th>50%</th>\n",
       "      <td>277549.000000</td>\n",
       "      <td>0.000000</td>\n",
       "      <td>1.575000e+05</td>\n",
       "      <td>4.500000e+05</td>\n",
       "      <td>26199.000000</td>\n",
       "      <td>3.960000e+05</td>\n",
       "      <td>0.018850</td>\n",
       "      <td>-15785.000000</td>\n",
       "      <td>-1293.000000</td>\n",
       "      <td>-4490.000000</td>\n",
       "      <td>...</td>\n",
       "      <td>0.000000</td>\n",
       "      <td>0.0</td>\n",
       "      <td>0.0</td>\n",
       "      <td>0.0</td>\n",
       "      <td>0.000000</td>\n",
       "      <td>0.000000</td>\n",
       "      <td>0.000000</td>\n",
       "      <td>0.000000</td>\n",
       "      <td>0.000000</td>\n",
       "      <td>2.000000</td>\n",
       "    </tr>\n",
       "    <tr>\n",
       "      <th>75%</th>\n",
       "      <td>367555.500000</td>\n",
       "      <td>1.000000</td>\n",
       "      <td>2.250000e+05</td>\n",
       "      <td>6.750000e+05</td>\n",
       "      <td>37390.500000</td>\n",
       "      <td>6.300000e+05</td>\n",
       "      <td>0.028663</td>\n",
       "      <td>-12496.000000</td>\n",
       "      <td>-296.000000</td>\n",
       "      <td>-1901.000000</td>\n",
       "      <td>...</td>\n",
       "      <td>0.000000</td>\n",
       "      <td>0.0</td>\n",
       "      <td>0.0</td>\n",
       "      <td>0.0</td>\n",
       "      <td>0.000000</td>\n",
       "      <td>0.000000</td>\n",
       "      <td>0.000000</td>\n",
       "      <td>0.000000</td>\n",
       "      <td>1.000000</td>\n",
       "      <td>3.000000</td>\n",
       "    </tr>\n",
       "    <tr>\n",
       "      <th>max</th>\n",
       "      <td>456250.000000</td>\n",
       "      <td>20.000000</td>\n",
       "      <td>4.410000e+06</td>\n",
       "      <td>2.245500e+06</td>\n",
       "      <td>180576.000000</td>\n",
       "      <td>2.245500e+06</td>\n",
       "      <td>0.072508</td>\n",
       "      <td>-7338.000000</td>\n",
       "      <td>365243.000000</td>\n",
       "      <td>0.000000</td>\n",
       "      <td>...</td>\n",
       "      <td>1.000000</td>\n",
       "      <td>0.0</td>\n",
       "      <td>0.0</td>\n",
       "      <td>0.0</td>\n",
       "      <td>2.000000</td>\n",
       "      <td>2.000000</td>\n",
       "      <td>2.000000</td>\n",
       "      <td>6.000000</td>\n",
       "      <td>7.000000</td>\n",
       "      <td>17.000000</td>\n",
       "    </tr>\n",
       "  </tbody>\n",
       "</table>\n",
       "<p>8 rows × 105 columns</p>\n",
       "</div>"
      ],
      "text/plain": [
       "          SK_ID_CURR  CNT_CHILDREN  AMT_INCOME_TOTAL    AMT_CREDIT  \\\n",
       "count   48744.000000  48744.000000      4.874400e+04  4.874400e+04   \n",
       "mean   277796.676350      0.397054      1.784318e+05  5.167404e+05   \n",
       "std    103169.547296      0.709047      1.015226e+05  3.653970e+05   \n",
       "min    100001.000000      0.000000      2.694150e+04  4.500000e+04   \n",
       "25%    188557.750000      0.000000      1.125000e+05  2.606400e+05   \n",
       "50%    277549.000000      0.000000      1.575000e+05  4.500000e+05   \n",
       "75%    367555.500000      1.000000      2.250000e+05  6.750000e+05   \n",
       "max    456250.000000     20.000000      4.410000e+06  2.245500e+06   \n",
       "\n",
       "         AMT_ANNUITY  AMT_GOODS_PRICE  REGION_POPULATION_RELATIVE  \\\n",
       "count   48720.000000     4.874400e+04                48744.000000   \n",
       "mean    29426.240209     4.626188e+05                    0.021226   \n",
       "std     16016.368315     3.367102e+05                    0.014428   \n",
       "min      2295.000000     4.500000e+04                    0.000253   \n",
       "25%     17973.000000     2.250000e+05                    0.010006   \n",
       "50%     26199.000000     3.960000e+05                    0.018850   \n",
       "75%     37390.500000     6.300000e+05                    0.028663   \n",
       "max    180576.000000     2.245500e+06                    0.072508   \n",
       "\n",
       "         DAYS_BIRTH  DAYS_EMPLOYED  DAYS_REGISTRATION  ...  FLAG_DOCUMENT_18  \\\n",
       "count  48744.000000   48744.000000       48744.000000  ...      48744.000000   \n",
       "mean  -16068.084605   67485.366322       -4967.652716  ...          0.001559   \n",
       "std     4325.900393  144348.507136        3552.612035  ...          0.039456   \n",
       "min   -25195.000000  -17463.000000      -23722.000000  ...          0.000000   \n",
       "25%   -19637.000000   -2910.000000       -7459.250000  ...          0.000000   \n",
       "50%   -15785.000000   -1293.000000       -4490.000000  ...          0.000000   \n",
       "75%   -12496.000000    -296.000000       -1901.000000  ...          0.000000   \n",
       "max    -7338.000000  365243.000000           0.000000  ...          1.000000   \n",
       "\n",
       "       FLAG_DOCUMENT_19  FLAG_DOCUMENT_20  FLAG_DOCUMENT_21  \\\n",
       "count           48744.0           48744.0           48744.0   \n",
       "mean                0.0               0.0               0.0   \n",
       "std                 0.0               0.0               0.0   \n",
       "min                 0.0               0.0               0.0   \n",
       "25%                 0.0               0.0               0.0   \n",
       "50%                 0.0               0.0               0.0   \n",
       "75%                 0.0               0.0               0.0   \n",
       "max                 0.0               0.0               0.0   \n",
       "\n",
       "       AMT_REQ_CREDIT_BUREAU_HOUR  AMT_REQ_CREDIT_BUREAU_DAY  \\\n",
       "count                42695.000000               42695.000000   \n",
       "mean                     0.002108                   0.001803   \n",
       "std                      0.046373                   0.046132   \n",
       "min                      0.000000                   0.000000   \n",
       "25%                      0.000000                   0.000000   \n",
       "50%                      0.000000                   0.000000   \n",
       "75%                      0.000000                   0.000000   \n",
       "max                      2.000000                   2.000000   \n",
       "\n",
       "       AMT_REQ_CREDIT_BUREAU_WEEK  AMT_REQ_CREDIT_BUREAU_MON  \\\n",
       "count                42695.000000               42695.000000   \n",
       "mean                     0.002787                   0.009299   \n",
       "std                      0.054037                   0.110924   \n",
       "min                      0.000000                   0.000000   \n",
       "25%                      0.000000                   0.000000   \n",
       "50%                      0.000000                   0.000000   \n",
       "75%                      0.000000                   0.000000   \n",
       "max                      2.000000                   6.000000   \n",
       "\n",
       "       AMT_REQ_CREDIT_BUREAU_QRT  AMT_REQ_CREDIT_BUREAU_YEAR  \n",
       "count               42695.000000                42695.000000  \n",
       "mean                    0.546902                    1.983769  \n",
       "std                     0.693305                    1.838873  \n",
       "min                     0.000000                    0.000000  \n",
       "25%                     0.000000                    0.000000  \n",
       "50%                     0.000000                    2.000000  \n",
       "75%                     1.000000                    3.000000  \n",
       "max                     7.000000                   17.000000  \n",
       "\n",
       "[8 rows x 105 columns]"
      ]
     },
     "execution_count": 13,
     "metadata": {},
     "output_type": "execute_result"
    }
   ],
   "source": [
    "#порівнюємо з тестовими даними, найважливіші тут meam та std, відрізняються не суттєво\n",
    "test.describe()"
   ]
  },
  {
   "cell_type": "markdown",
   "id": "selective-press",
   "metadata": {
    "id": "communist-tomorrow"
   },
   "source": [
    "## Put NaN new value"
   ]
  },
  {
   "cell_type": "code",
   "execution_count": 14,
   "id": "brilliant-wheat",
   "metadata": {
    "colab": {
     "base_uri": "https://localhost:8080/",
     "height": 524
    },
    "executionInfo": {
     "elapsed": 4514,
     "status": "ok",
     "timestamp": 1616856692009,
     "user": {
      "displayName": "Daniil Timachov",
      "photoUrl": "https://lh3.googleusercontent.com/a-/AOh14Ghk9scaQ0ydio6b7V2_t9-wRiT1cNGLcyCL07wR=s64",
      "userId": "00279435974685972614"
     },
     "user_tz": -120
    },
    "id": "substantial-industry",
    "outputId": "84c35f60-a517-4630-9baf-67baf2d40bf2"
   },
   "outputs": [
    {
     "name": "stderr",
     "output_type": "stream",
     "text": [
      "<ipython-input-14-fe8eb0b5237f>:9: SettingWithCopyWarning: \n",
      "A value is trying to be set on a copy of a slice from a DataFrame\n",
      "\n",
      "See the caveats in the documentation: https://pandas.pydata.org/pandas-docs/stable/user_guide/indexing.html#returning-a-view-versus-a-copy\n",
      "  NanNewValue['NAN_value'][col] = NAN_value\n"
     ]
    },
    {
     "data": {
      "text/html": [
       "<div>\n",
       "<style scoped>\n",
       "    .dataframe tbody tr th:only-of-type {\n",
       "        vertical-align: middle;\n",
       "    }\n",
       "\n",
       "    .dataframe tbody tr th {\n",
       "        vertical-align: top;\n",
       "    }\n",
       "\n",
       "    .dataframe thead th {\n",
       "        text-align: right;\n",
       "    }\n",
       "</style>\n",
       "<table border=\"1\" class=\"dataframe\">\n",
       "  <thead>\n",
       "    <tr style=\"text-align: right;\">\n",
       "      <th></th>\n",
       "      <th>column</th>\n",
       "      <th>NAN_value</th>\n",
       "    </tr>\n",
       "  </thead>\n",
       "  <tbody>\n",
       "    <tr>\n",
       "      <th>0</th>\n",
       "      <td>SK_ID_CURR</td>\n",
       "      <td>0</td>\n",
       "    </tr>\n",
       "    <tr>\n",
       "      <th>1</th>\n",
       "      <td>TARGET</td>\n",
       "      <td>0</td>\n",
       "    </tr>\n",
       "    <tr>\n",
       "      <th>2</th>\n",
       "      <td>NAME_CONTRACT_TYPE</td>\n",
       "      <td>0</td>\n",
       "    </tr>\n",
       "    <tr>\n",
       "      <th>3</th>\n",
       "      <td>CODE_GENDER</td>\n",
       "      <td>0</td>\n",
       "    </tr>\n",
       "    <tr>\n",
       "      <th>4</th>\n",
       "      <td>FLAG_OWN_CAR</td>\n",
       "      <td>0</td>\n",
       "    </tr>\n",
       "    <tr>\n",
       "      <th>...</th>\n",
       "      <td>...</td>\n",
       "      <td>...</td>\n",
       "    </tr>\n",
       "    <tr>\n",
       "      <th>117</th>\n",
       "      <td>AMT_REQ_CREDIT_BUREAU_DAY</td>\n",
       "      <td>0</td>\n",
       "    </tr>\n",
       "    <tr>\n",
       "      <th>118</th>\n",
       "      <td>AMT_REQ_CREDIT_BUREAU_WEEK</td>\n",
       "      <td>0</td>\n",
       "    </tr>\n",
       "    <tr>\n",
       "      <th>119</th>\n",
       "      <td>AMT_REQ_CREDIT_BUREAU_MON</td>\n",
       "      <td>0</td>\n",
       "    </tr>\n",
       "    <tr>\n",
       "      <th>120</th>\n",
       "      <td>AMT_REQ_CREDIT_BUREAU_QRT</td>\n",
       "      <td>0</td>\n",
       "    </tr>\n",
       "    <tr>\n",
       "      <th>121</th>\n",
       "      <td>AMT_REQ_CREDIT_BUREAU_YEAR</td>\n",
       "      <td>0</td>\n",
       "    </tr>\n",
       "  </tbody>\n",
       "</table>\n",
       "<p>122 rows × 2 columns</p>\n",
       "</div>"
      ],
      "text/plain": [
       "                         column  NAN_value\n",
       "0                    SK_ID_CURR          0\n",
       "1                        TARGET          0\n",
       "2            NAME_CONTRACT_TYPE          0\n",
       "3                   CODE_GENDER          0\n",
       "4                  FLAG_OWN_CAR          0\n",
       "..                          ...        ...\n",
       "117   AMT_REQ_CREDIT_BUREAU_DAY          0\n",
       "118  AMT_REQ_CREDIT_BUREAU_WEEK          0\n",
       "119   AMT_REQ_CREDIT_BUREAU_MON          0\n",
       "120   AMT_REQ_CREDIT_BUREAU_QRT          0\n",
       "121  AMT_REQ_CREDIT_BUREAU_YEAR          0\n",
       "\n",
       "[122 rows x 2 columns]"
      ]
     },
     "execution_count": 14,
     "metadata": {},
     "output_type": "execute_result"
    }
   ],
   "source": [
    "NAN = train.isna().to_numpy()\n",
    "NanNewValue = pd.DataFrame()\n",
    "NanNewValue['column'] = train.columns\n",
    "NanNewValue['NAN_value'] = np.zeros_like(len(NanNewValue))\n",
    "\n",
    "for col in range(NAN.shape[1]):\n",
    "    column_values = NAN[:,col]\n",
    "    NAN_value = len(column_values[column_values == True]) / NAN.shape[0]\n",
    "    NanNewValue['NAN_value'][col] = NAN_value\n",
    "    \n",
    "NanNewValue"
   ]
  },
  {
   "cell_type": "code",
   "execution_count": 15,
   "id": "therapeutic-record",
   "metadata": {
    "id": "alternative-combat"
   },
   "outputs": [],
   "source": [
    "# missing values заповнимо останніми знайденими не NAN значеннями\n",
    "train.fillna(method='ffill', inplace=True)\n",
    "test.fillna(method='ffill', inplace=True)"
   ]
  },
  {
   "cell_type": "markdown",
   "id": "focal-dictionary",
   "metadata": {
    "id": "worst-short"
   },
   "source": [
    "## Distribution"
   ]
  },
  {
   "cell_type": "code",
   "execution_count": 16,
   "id": "needed-knife",
   "metadata": {
    "colab": {
     "base_uri": "https://localhost:8080/",
     "height": 406
    },
    "executionInfo": {
     "elapsed": 4501,
     "status": "ok",
     "timestamp": 1616856692016,
     "user": {
      "displayName": "Daniil Timachov",
      "photoUrl": "https://lh3.googleusercontent.com/a-/AOh14Ghk9scaQ0ydio6b7V2_t9-wRiT1cNGLcyCL07wR=s64",
      "userId": "00279435974685972614"
     },
     "user_tz": -120
    },
    "id": "double-recall",
    "outputId": "2a0cffb5-899c-4c50-89df-9f693bdab018"
   },
   "outputs": [
    {
     "data": {
      "image/png": "[encoded data removed]",
      "text/plain": [
       "<Figure size 360x360 with 1 Axes>"
      ]
     },
     "metadata": {
      "needs_background": "light"
     },
     "output_type": "display_data"
    },
    {
     "data": {
      "image/png": "[encoded data removed]",
      "text/plain": [
       "<Figure size 360x360 with 1 Axes>"
      ]
     },
     "metadata": {
      "needs_background": "light"
     },
     "output_type": "display_data"
    },
    {
     "data": {
      "image/png": "[encoded data removed]",
      "text/plain": [
       "<Figure size 360x360 with 1 Axes>"
      ]
     },
     "metadata": {
      "needs_background": "light"
     },
     "output_type": "display_data"
    },
    {
     "data": {
      "image/png": "[encoded data removed]",
      "text/plain": [
       "<Figure size 360x360 with 1 Axes>"
      ]
     },
     "metadata": {
      "needs_background": "light"
     },
     "output_type": "display_data"
    },
    {
     "data": {
      "image/png": "[encoded data removed]",
      "text/plain": [
       "<Figure size 360x360 with 1 Axes>"
      ]
     },
     "metadata": {
      "needs_background": "light"
     },
     "output_type": "display_data"
    },
    {
     "data": {
      "image/png": "[encoded data removed]",
      "text/plain": [
       "<Figure size 360x360 with 1 Axes>"
      ]
     },
     "metadata": {
      "needs_background": "light"
     },
     "output_type": "display_data"
    },
    {
     "data": {
      "image/png": "[encoded data removed]",
      "text/plain": [
       "<Figure size 360x360 with 1 Axes>"
      ]
     },
     "metadata": {
      "needs_background": "light"
     },
     "output_type": "display_data"
    },
    {
     "data": {
      "image/png": "[encoded data removed]",
      "text/plain": [
       "<Figure size 360x360 with 1 Axes>"
      ]
     },
     "metadata": {
      "needs_background": "light"
     },
     "output_type": "display_data"
    }
   ],
   "source": [
    "#шукаємо залежність між даними, перше - усі АМТ колонки, їх дані мають впливати найбільше\n",
    "AMT_data = list(filter(lambda col: col.startswith('AMT') and \"BUREAU\" not in col, train.columns))\n",
    "for colname in AMT_data:\n",
    "    ax = sb.displot(train[colname][:1000], kde=True)\n",
    "    sb.displot(test[colname][:1000], kde=True)\n",
    "\n"
   ]
  },
  {
   "cell_type": "code",
   "execution_count": 17,
   "id": "meaningful-grain",
   "metadata": {
    "colab": {
     "base_uri": "https://localhost:8080/",
     "height": 406
    },
    "executionInfo": {
     "elapsed": 5149,
     "status": "ok",
     "timestamp": 1616856692676,
     "user": {
      "displayName": "Daniil Timachov",
      "photoUrl": "https://lh3.googleusercontent.com/a-/AOh14Ghk9scaQ0ydio6b7V2_t9-wRiT1cNGLcyCL07wR=s64",
      "userId": "00279435974685972614"
     },
     "user_tz": -120
    },
    "id": "dedicated-depth",
    "outputId": "d3d4a82e-e6ae-45da-d129-997f61d33fd0"
   },
   "outputs": [
    {
     "data": {
      "text/plain": [
       "<AxesSubplot:xlabel='CNT_CHILDREN', ylabel='count'>"
      ]
     },
     "execution_count": 17,
     "metadata": {},
     "output_type": "execute_result"
    },
    {
     "data": {
      "image/png": "[encoded data removed]",
      "text/plain": [
       "<Figure size 576x576 with 1 Axes>"
      ]
     },
     "metadata": {
      "needs_background": "light"
     },
     "output_type": "display_data"
    }
   ],
   "source": [
    "# виплата від кількості дітей\n",
    "sb.countplot(x='CNT_CHILDREN', data=train)\n"
   ]
  },
  {
   "cell_type": "code",
   "execution_count": 18,
   "id": "protected-condition",
   "metadata": {
    "colab": {
     "base_uri": "https://localhost:8080/"
    },
    "executionInfo": {
     "elapsed": 5141,
     "status": "ok",
     "timestamp": 1616856692678,
     "user": {
      "displayName": "Daniil Timachov",
      "photoUrl": "https://lh3.googleusercontent.com/a-/AOh14Ghk9scaQ0ydio6b7V2_t9-wRiT1cNGLcyCL07wR=s64",
      "userId": "00279435974685972614"
     },
     "user_tz": -120
    },
    "id": "gentle-training",
    "outputId": "a05457ba-24f0-45f7-d340-b177d08ec3e6"
   },
   "outputs": [
    {
     "data": {
      "text/plain": [
       "<AxesSubplot:xlabel='CODE_GENDER', ylabel='count'>"
      ]
     },
     "execution_count": 18,
     "metadata": {},
     "output_type": "execute_result"
    },
    {
     "data": {
      "image/png": "[encoded data removed]",
      "text/plain": [
       "<Figure size 576x576 with 1 Axes>"
      ]
     },
     "metadata": {
      "needs_background": "light"
     },
     "output_type": "display_data"
    }
   ],
   "source": [
    "# від статі\n",
    "sb.countplot(x='CODE_GENDER', data=train)"
   ]
  },
  {
   "cell_type": "markdown",
   "id": "sought-amino",
   "metadata": {
    "id": "timely-acoustic"
   },
   "source": [
    "## Training"
   ]
  },
  {
   "cell_type": "code",
   "execution_count": 19,
   "id": "realistic-louisiana",
   "metadata": {
    "colab": {
     "base_uri": "https://localhost:8080/",
     "height": 439
    },
    "executionInfo": {
     "elapsed": 913,
     "status": "ok",
     "timestamp": 1616856747907,
     "user": {
      "displayName": "Daniil Timachov",
      "photoUrl": "https://lh3.googleusercontent.com/a-/AOh14Ghk9scaQ0ydio6b7V2_t9-wRiT1cNGLcyCL07wR=s64",
      "userId": "00279435974685972614"
     },
     "user_tz": -120
    },
    "id": "charged-margin",
    "outputId": "dfba2c4c-9c9d-4558-ea55-831ab5075fdc"
   },
   "outputs": [
    {
     "data": {
      "text/html": [
       "<div>\n",
       "<style scoped>\n",
       "    .dataframe tbody tr th:only-of-type {\n",
       "        vertical-align: middle;\n",
       "    }\n",
       "\n",
       "    .dataframe tbody tr th {\n",
       "        vertical-align: top;\n",
       "    }\n",
       "\n",
       "    .dataframe thead th {\n",
       "        text-align: right;\n",
       "    }\n",
       "</style>\n",
       "<table border=\"1\" class=\"dataframe\">\n",
       "  <thead>\n",
       "    <tr style=\"text-align: right;\">\n",
       "      <th></th>\n",
       "      <th>SK_ID_CURR</th>\n",
       "      <th>NAME_CONTRACT_TYPE</th>\n",
       "      <th>CODE_GENDER</th>\n",
       "      <th>FLAG_OWN_CAR</th>\n",
       "      <th>FLAG_OWN_REALTY</th>\n",
       "      <th>CNT_CHILDREN</th>\n",
       "      <th>AMT_INCOME_TOTAL</th>\n",
       "      <th>AMT_CREDIT</th>\n",
       "      <th>AMT_ANNUITY</th>\n",
       "      <th>AMT_GOODS_PRICE</th>\n",
       "      <th>...</th>\n",
       "      <th>FLAG_DOCUMENT_18</th>\n",
       "      <th>FLAG_DOCUMENT_19</th>\n",
       "      <th>FLAG_DOCUMENT_20</th>\n",
       "      <th>FLAG_DOCUMENT_21</th>\n",
       "      <th>AMT_REQ_CREDIT_BUREAU_HOUR</th>\n",
       "      <th>AMT_REQ_CREDIT_BUREAU_DAY</th>\n",
       "      <th>AMT_REQ_CREDIT_BUREAU_WEEK</th>\n",
       "      <th>AMT_REQ_CREDIT_BUREAU_MON</th>\n",
       "      <th>AMT_REQ_CREDIT_BUREAU_QRT</th>\n",
       "      <th>AMT_REQ_CREDIT_BUREAU_YEAR</th>\n",
       "    </tr>\n",
       "  </thead>\n",
       "  <tbody>\n",
       "    <tr>\n",
       "      <th>0</th>\n",
       "      <td>0</td>\n",
       "      <td>0</td>\n",
       "      <td>1</td>\n",
       "      <td>0</td>\n",
       "      <td>1</td>\n",
       "      <td>0</td>\n",
       "      <td>1754</td>\n",
       "      <td>1191</td>\n",
       "      <td>4588</td>\n",
       "      <td>189</td>\n",
       "      <td>...</td>\n",
       "      <td>0</td>\n",
       "      <td>0</td>\n",
       "      <td>0</td>\n",
       "      <td>0</td>\n",
       "      <td>0</td>\n",
       "      <td>0</td>\n",
       "      <td>0</td>\n",
       "      <td>0</td>\n",
       "      <td>0</td>\n",
       "      <td>1</td>\n",
       "    </tr>\n",
       "    <tr>\n",
       "      <th>1</th>\n",
       "      <td>1</td>\n",
       "      <td>0</td>\n",
       "      <td>0</td>\n",
       "      <td>0</td>\n",
       "      <td>0</td>\n",
       "      <td>0</td>\n",
       "      <td>2064</td>\n",
       "      <td>4338</td>\n",
       "      <td>6985</td>\n",
       "      <td>704</td>\n",
       "      <td>...</td>\n",
       "      <td>0</td>\n",
       "      <td>0</td>\n",
       "      <td>0</td>\n",
       "      <td>0</td>\n",
       "      <td>0</td>\n",
       "      <td>0</td>\n",
       "      <td>0</td>\n",
       "      <td>0</td>\n",
       "      <td>0</td>\n",
       "      <td>0</td>\n",
       "    </tr>\n",
       "    <tr>\n",
       "      <th>2</th>\n",
       "      <td>2</td>\n",
       "      <td>1</td>\n",
       "      <td>1</td>\n",
       "      <td>1</td>\n",
       "      <td>1</td>\n",
       "      <td>0</td>\n",
       "      <td>338</td>\n",
       "      <td>228</td>\n",
       "      <td>662</td>\n",
       "      <td>30</td>\n",
       "      <td>...</td>\n",
       "      <td>0</td>\n",
       "      <td>0</td>\n",
       "      <td>0</td>\n",
       "      <td>0</td>\n",
       "      <td>0</td>\n",
       "      <td>0</td>\n",
       "      <td>0</td>\n",
       "      <td>0</td>\n",
       "      <td>0</td>\n",
       "      <td>0</td>\n",
       "    </tr>\n",
       "    <tr>\n",
       "      <th>3</th>\n",
       "      <td>3</td>\n",
       "      <td>0</td>\n",
       "      <td>0</td>\n",
       "      <td>0</td>\n",
       "      <td>1</td>\n",
       "      <td>0</td>\n",
       "      <td>1170</td>\n",
       "      <td>836</td>\n",
       "      <td>5680</td>\n",
       "      <td>145</td>\n",
       "      <td>...</td>\n",
       "      <td>0</td>\n",
       "      <td>0</td>\n",
       "      <td>0</td>\n",
       "      <td>0</td>\n",
       "      <td>0</td>\n",
       "      <td>0</td>\n",
       "      <td>0</td>\n",
       "      <td>0</td>\n",
       "      <td>0</td>\n",
       "      <td>0</td>\n",
       "    </tr>\n",
       "    <tr>\n",
       "      <th>4</th>\n",
       "      <td>4</td>\n",
       "      <td>0</td>\n",
       "      <td>1</td>\n",
       "      <td>0</td>\n",
       "      <td>1</td>\n",
       "      <td>0</td>\n",
       "      <td>1019</td>\n",
       "      <td>1635</td>\n",
       "      <td>3960</td>\n",
       "      <td>352</td>\n",
       "      <td>...</td>\n",
       "      <td>0</td>\n",
       "      <td>0</td>\n",
       "      <td>0</td>\n",
       "      <td>0</td>\n",
       "      <td>0</td>\n",
       "      <td>0</td>\n",
       "      <td>0</td>\n",
       "      <td>0</td>\n",
       "      <td>0</td>\n",
       "      <td>0</td>\n",
       "    </tr>\n",
       "    <tr>\n",
       "      <th>...</th>\n",
       "      <td>...</td>\n",
       "      <td>...</td>\n",
       "      <td>...</td>\n",
       "      <td>...</td>\n",
       "      <td>...</td>\n",
       "      <td>...</td>\n",
       "      <td>...</td>\n",
       "      <td>...</td>\n",
       "      <td>...</td>\n",
       "      <td>...</td>\n",
       "      <td>...</td>\n",
       "      <td>...</td>\n",
       "      <td>...</td>\n",
       "      <td>...</td>\n",
       "      <td>...</td>\n",
       "      <td>...</td>\n",
       "      <td>...</td>\n",
       "      <td>...</td>\n",
       "      <td>...</td>\n",
       "      <td>...</td>\n",
       "      <td>...</td>\n",
       "    </tr>\n",
       "    <tr>\n",
       "      <th>307506</th>\n",
       "      <td>307506</td>\n",
       "      <td>0</td>\n",
       "      <td>1</td>\n",
       "      <td>0</td>\n",
       "      <td>0</td>\n",
       "      <td>0</td>\n",
       "      <td>1407</td>\n",
       "      <td>612</td>\n",
       "      <td>5217</td>\n",
       "      <td>80</td>\n",
       "      <td>...</td>\n",
       "      <td>0</td>\n",
       "      <td>0</td>\n",
       "      <td>0</td>\n",
       "      <td>0</td>\n",
       "      <td>0</td>\n",
       "      <td>0</td>\n",
       "      <td>0</td>\n",
       "      <td>2</td>\n",
       "      <td>0</td>\n",
       "      <td>0</td>\n",
       "    </tr>\n",
       "    <tr>\n",
       "      <th>307507</th>\n",
       "      <td>307507</td>\n",
       "      <td>0</td>\n",
       "      <td>0</td>\n",
       "      <td>0</td>\n",
       "      <td>1</td>\n",
       "      <td>0</td>\n",
       "      <td>387</td>\n",
       "      <td>672</td>\n",
       "      <td>1792</td>\n",
       "      <td>80</td>\n",
       "      <td>...</td>\n",
       "      <td>0</td>\n",
       "      <td>0</td>\n",
       "      <td>0</td>\n",
       "      <td>0</td>\n",
       "      <td>0</td>\n",
       "      <td>0</td>\n",
       "      <td>0</td>\n",
       "      <td>2</td>\n",
       "      <td>0</td>\n",
       "      <td>0</td>\n",
       "    </tr>\n",
       "    <tr>\n",
       "      <th>307508</th>\n",
       "      <td>307508</td>\n",
       "      <td>0</td>\n",
       "      <td>0</td>\n",
       "      <td>0</td>\n",
       "      <td>1</td>\n",
       "      <td>0</td>\n",
       "      <td>1371</td>\n",
       "      <td>2270</td>\n",
       "      <td>5744</td>\n",
       "      <td>403</td>\n",
       "      <td>...</td>\n",
       "      <td>0</td>\n",
       "      <td>0</td>\n",
       "      <td>0</td>\n",
       "      <td>0</td>\n",
       "      <td>1</td>\n",
       "      <td>0</td>\n",
       "      <td>0</td>\n",
       "      <td>1</td>\n",
       "      <td>0</td>\n",
       "      <td>1</td>\n",
       "    </tr>\n",
       "    <tr>\n",
       "      <th>307509</th>\n",
       "      <td>307509</td>\n",
       "      <td>0</td>\n",
       "      <td>0</td>\n",
       "      <td>0</td>\n",
       "      <td>1</td>\n",
       "      <td>0</td>\n",
       "      <td>1519</td>\n",
       "      <td>1049</td>\n",
       "      <td>3593</td>\n",
       "      <td>161</td>\n",
       "      <td>...</td>\n",
       "      <td>0</td>\n",
       "      <td>0</td>\n",
       "      <td>0</td>\n",
       "      <td>0</td>\n",
       "      <td>0</td>\n",
       "      <td>0</td>\n",
       "      <td>0</td>\n",
       "      <td>0</td>\n",
       "      <td>0</td>\n",
       "      <td>0</td>\n",
       "    </tr>\n",
       "    <tr>\n",
       "      <th>307510</th>\n",
       "      <td>307510</td>\n",
       "      <td>0</td>\n",
       "      <td>0</td>\n",
       "      <td>0</td>\n",
       "      <td>0</td>\n",
       "      <td>0</td>\n",
       "      <td>1407</td>\n",
       "      <td>2260</td>\n",
       "      <td>9733</td>\n",
       "      <td>469</td>\n",
       "      <td>...</td>\n",
       "      <td>0</td>\n",
       "      <td>0</td>\n",
       "      <td>0</td>\n",
       "      <td>0</td>\n",
       "      <td>0</td>\n",
       "      <td>0</td>\n",
       "      <td>0</td>\n",
       "      <td>2</td>\n",
       "      <td>0</td>\n",
       "      <td>1</td>\n",
       "    </tr>\n",
       "  </tbody>\n",
       "</table>\n",
       "<p>307511 rows × 121 columns</p>\n",
       "</div>"
      ],
      "text/plain": [
       "        SK_ID_CURR  NAME_CONTRACT_TYPE  CODE_GENDER  FLAG_OWN_CAR  \\\n",
       "0                0                   0            1             0   \n",
       "1                1                   0            0             0   \n",
       "2                2                   1            1             1   \n",
       "3                3                   0            0             0   \n",
       "4                4                   0            1             0   \n",
       "...            ...                 ...          ...           ...   \n",
       "307506      307506                   0            1             0   \n",
       "307507      307507                   0            0             0   \n",
       "307508      307508                   0            0             0   \n",
       "307509      307509                   0            0             0   \n",
       "307510      307510                   0            0             0   \n",
       "\n",
       "        FLAG_OWN_REALTY  CNT_CHILDREN  AMT_INCOME_TOTAL  AMT_CREDIT  \\\n",
       "0                     1             0              1754        1191   \n",
       "1                     0             0              2064        4338   \n",
       "2                     1             0               338         228   \n",
       "3                     1             0              1170         836   \n",
       "4                     1             0              1019        1635   \n",
       "...                 ...           ...               ...         ...   \n",
       "307506                0             0              1407         612   \n",
       "307507                1             0               387         672   \n",
       "307508                1             0              1371        2270   \n",
       "307509                1             0              1519        1049   \n",
       "307510                0             0              1407        2260   \n",
       "\n",
       "        AMT_ANNUITY  AMT_GOODS_PRICE  ...  FLAG_DOCUMENT_18  FLAG_DOCUMENT_19  \\\n",
       "0              4588              189  ...                 0                 0   \n",
       "1              6985              704  ...                 0                 0   \n",
       "2               662               30  ...                 0                 0   \n",
       "3              5680              145  ...                 0                 0   \n",
       "4              3960              352  ...                 0                 0   \n",
       "...             ...              ...  ...               ...               ...   \n",
       "307506         5217               80  ...                 0                 0   \n",
       "307507         1792               80  ...                 0                 0   \n",
       "307508         5744              403  ...                 0                 0   \n",
       "307509         3593              161  ...                 0                 0   \n",
       "307510         9733              469  ...                 0                 0   \n",
       "\n",
       "        FLAG_DOCUMENT_20  FLAG_DOCUMENT_21  AMT_REQ_CREDIT_BUREAU_HOUR  \\\n",
       "0                      0                 0                           0   \n",
       "1                      0                 0                           0   \n",
       "2                      0                 0                           0   \n",
       "3                      0                 0                           0   \n",
       "4                      0                 0                           0   \n",
       "...                  ...               ...                         ...   \n",
       "307506                 0                 0                           0   \n",
       "307507                 0                 0                           0   \n",
       "307508                 0                 0                           1   \n",
       "307509                 0                 0                           0   \n",
       "307510                 0                 0                           0   \n",
       "\n",
       "        AMT_REQ_CREDIT_BUREAU_DAY  AMT_REQ_CREDIT_BUREAU_WEEK  \\\n",
       "0                               0                           0   \n",
       "1                               0                           0   \n",
       "2                               0                           0   \n",
       "3                               0                           0   \n",
       "4                               0                           0   \n",
       "...                           ...                         ...   \n",
       "307506                          0                           0   \n",
       "307507                          0                           0   \n",
       "307508                          0                           0   \n",
       "307509                          0                           0   \n",
       "307510                          0                           0   \n",
       "\n",
       "        AMT_REQ_CREDIT_BUREAU_MON  AMT_REQ_CREDIT_BUREAU_QRT  \\\n",
       "0                               0                          0   \n",
       "1                               0                          0   \n",
       "2                               0                          0   \n",
       "3                               0                          0   \n",
       "4                               0                          0   \n",
       "...                           ...                        ...   \n",
       "307506                          2                          0   \n",
       "307507                          2                          0   \n",
       "307508                          1                          0   \n",
       "307509                          0                          0   \n",
       "307510                          2                          0   \n",
       "\n",
       "        AMT_REQ_CREDIT_BUREAU_YEAR  \n",
       "0                                1  \n",
       "1                                0  \n",
       "2                                0  \n",
       "3                                0  \n",
       "4                                0  \n",
       "...                            ...  \n",
       "307506                           0  \n",
       "307507                           0  \n",
       "307508                           1  \n",
       "307509                           0  \n",
       "307510                           1  \n",
       "\n",
       "[307511 rows x 121 columns]"
      ]
     },
     "execution_count": 19,
     "metadata": {},
     "output_type": "execute_result"
    }
   ],
   "source": [
    "# факторизація - заміна рядків на числа\n",
    "Xtraing = train.drop(\"TARGET\", axis='columns') # прибираємо колонку таргет у Xtrain\n",
    "Xtraing = Xtraing.apply(lambda col: pd.factorize(col, sort=True)[0])\n",
    "Xtraing "
   ]
  },
  {
   "cell_type": "code",
   "execution_count": 20,
   "id": "separate-denial",
   "metadata": {
    "colab": {
     "base_uri": "https://localhost:8080/",
     "height": 419
    },
    "executionInfo": {
     "elapsed": 1339,
     "status": "ok",
     "timestamp": 1616856748357,
     "user": {
      "displayName": "Daniil Timachov",
      "photoUrl": "https://lh3.googleusercontent.com/a-/AOh14Ghk9scaQ0ydio6b7V2_t9-wRiT1cNGLcyCL07wR=s64",
      "userId": "00279435974685972614"
     },
     "user_tz": -120
    },
    "id": "civic-characteristic",
    "outputId": "9dcac394-ed38-4f18-ad95-dd6a3048ffde"
   },
   "outputs": [
    {
     "data": {
      "text/html": [
       "<div>\n",
       "<style scoped>\n",
       "    .dataframe tbody tr th:only-of-type {\n",
       "        vertical-align: middle;\n",
       "    }\n",
       "\n",
       "    .dataframe tbody tr th {\n",
       "        vertical-align: top;\n",
       "    }\n",
       "\n",
       "    .dataframe thead th {\n",
       "        text-align: right;\n",
       "    }\n",
       "</style>\n",
       "<table border=\"1\" class=\"dataframe\">\n",
       "  <thead>\n",
       "    <tr style=\"text-align: right;\">\n",
       "      <th></th>\n",
       "      <th>TARGET</th>\n",
       "    </tr>\n",
       "  </thead>\n",
       "  <tbody>\n",
       "    <tr>\n",
       "      <th>0</th>\n",
       "      <td>1</td>\n",
       "    </tr>\n",
       "    <tr>\n",
       "      <th>1</th>\n",
       "      <td>0</td>\n",
       "    </tr>\n",
       "    <tr>\n",
       "      <th>2</th>\n",
       "      <td>0</td>\n",
       "    </tr>\n",
       "    <tr>\n",
       "      <th>3</th>\n",
       "      <td>0</td>\n",
       "    </tr>\n",
       "    <tr>\n",
       "      <th>4</th>\n",
       "      <td>0</td>\n",
       "    </tr>\n",
       "    <tr>\n",
       "      <th>...</th>\n",
       "      <td>...</td>\n",
       "    </tr>\n",
       "    <tr>\n",
       "      <th>307506</th>\n",
       "      <td>0</td>\n",
       "    </tr>\n",
       "    <tr>\n",
       "      <th>307507</th>\n",
       "      <td>0</td>\n",
       "    </tr>\n",
       "    <tr>\n",
       "      <th>307508</th>\n",
       "      <td>0</td>\n",
       "    </tr>\n",
       "    <tr>\n",
       "      <th>307509</th>\n",
       "      <td>1</td>\n",
       "    </tr>\n",
       "    <tr>\n",
       "      <th>307510</th>\n",
       "      <td>0</td>\n",
       "    </tr>\n",
       "  </tbody>\n",
       "</table>\n",
       "<p>307511 rows × 1 columns</p>\n",
       "</div>"
      ],
      "text/plain": [
       "        TARGET\n",
       "0            1\n",
       "1            0\n",
       "2            0\n",
       "3            0\n",
       "4            0\n",
       "...        ...\n",
       "307506       0\n",
       "307507       0\n",
       "307508       0\n",
       "307509       1\n",
       "307510       0\n",
       "\n",
       "[307511 rows x 1 columns]"
      ]
     },
     "execution_count": 20,
     "metadata": {},
     "output_type": "execute_result"
    }
   ],
   "source": [
    "#беремо тільки target колонку\n",
    "Ytraing = train[[\"TARGET\"]]\n",
    "Ytraing"
   ]
  },
  {
   "cell_type": "code",
   "execution_count": 21,
   "id": "mineral-merchant",
   "metadata": {
    "colab": {
     "base_uri": "https://localhost:8080/",
     "height": 439
    },
    "executionInfo": {
     "elapsed": 1386,
     "status": "ok",
     "timestamp": 1616856748418,
     "user": {
      "displayName": "Daniil Timachov",
      "photoUrl": "https://lh3.googleusercontent.com/a-/AOh14Ghk9scaQ0ydio6b7V2_t9-wRiT1cNGLcyCL07wR=s64",
      "userId": "00279435974685972614"
     },
     "user_tz": -120
    },
    "id": "explicit-driving",
    "outputId": "b96408e0-bca1-422b-83f0-e77d93390b0b"
   },
   "outputs": [
    {
     "data": {
      "text/html": [
       "<div>\n",
       "<style scoped>\n",
       "    .dataframe tbody tr th:only-of-type {\n",
       "        vertical-align: middle;\n",
       "    }\n",
       "\n",
       "    .dataframe tbody tr th {\n",
       "        vertical-align: top;\n",
       "    }\n",
       "\n",
       "    .dataframe thead th {\n",
       "        text-align: right;\n",
       "    }\n",
       "</style>\n",
       "<table border=\"1\" class=\"dataframe\">\n",
       "  <thead>\n",
       "    <tr style=\"text-align: right;\">\n",
       "      <th></th>\n",
       "      <th>SK_ID_CURR</th>\n",
       "      <th>NAME_CONTRACT_TYPE</th>\n",
       "      <th>CODE_GENDER</th>\n",
       "      <th>FLAG_OWN_CAR</th>\n",
       "      <th>FLAG_OWN_REALTY</th>\n",
       "      <th>CNT_CHILDREN</th>\n",
       "      <th>AMT_INCOME_TOTAL</th>\n",
       "      <th>AMT_CREDIT</th>\n",
       "      <th>AMT_ANNUITY</th>\n",
       "      <th>AMT_GOODS_PRICE</th>\n",
       "      <th>...</th>\n",
       "      <th>FLAG_DOCUMENT_18</th>\n",
       "      <th>FLAG_DOCUMENT_19</th>\n",
       "      <th>FLAG_DOCUMENT_20</th>\n",
       "      <th>FLAG_DOCUMENT_21</th>\n",
       "      <th>AMT_REQ_CREDIT_BUREAU_HOUR</th>\n",
       "      <th>AMT_REQ_CREDIT_BUREAU_DAY</th>\n",
       "      <th>AMT_REQ_CREDIT_BUREAU_WEEK</th>\n",
       "      <th>AMT_REQ_CREDIT_BUREAU_MON</th>\n",
       "      <th>AMT_REQ_CREDIT_BUREAU_QRT</th>\n",
       "      <th>AMT_REQ_CREDIT_BUREAU_YEAR</th>\n",
       "    </tr>\n",
       "  </thead>\n",
       "  <tbody>\n",
       "    <tr>\n",
       "      <th>0</th>\n",
       "      <td>0</td>\n",
       "      <td>0</td>\n",
       "      <td>0</td>\n",
       "      <td>0</td>\n",
       "      <td>1</td>\n",
       "      <td>0</td>\n",
       "      <td>272</td>\n",
       "      <td>1320</td>\n",
       "      <td>2344</td>\n",
       "      <td>276</td>\n",
       "      <td>...</td>\n",
       "      <td>0</td>\n",
       "      <td>0</td>\n",
       "      <td>0</td>\n",
       "      <td>0</td>\n",
       "      <td>0</td>\n",
       "      <td>0</td>\n",
       "      <td>0</td>\n",
       "      <td>0</td>\n",
       "      <td>0</td>\n",
       "      <td>0</td>\n",
       "    </tr>\n",
       "    <tr>\n",
       "      <th>1</th>\n",
       "      <td>1</td>\n",
       "      <td>0</td>\n",
       "      <td>1</td>\n",
       "      <td>0</td>\n",
       "      <td>1</td>\n",
       "      <td>0</td>\n",
       "      <td>181</td>\n",
       "      <td>379</td>\n",
       "      <td>1820</td>\n",
       "      <td>93</td>\n",
       "      <td>...</td>\n",
       "      <td>0</td>\n",
       "      <td>0</td>\n",
       "      <td>0</td>\n",
       "      <td>0</td>\n",
       "      <td>0</td>\n",
       "      <td>0</td>\n",
       "      <td>0</td>\n",
       "      <td>0</td>\n",
       "      <td>0</td>\n",
       "      <td>3</td>\n",
       "    </tr>\n",
       "    <tr>\n",
       "      <th>2</th>\n",
       "      <td>2</td>\n",
       "      <td>0</td>\n",
       "      <td>1</td>\n",
       "      <td>1</td>\n",
       "      <td>1</td>\n",
       "      <td>0</td>\n",
       "      <td>402</td>\n",
       "      <td>1548</td>\n",
       "      <td>7132</td>\n",
       "      <td>366</td>\n",
       "      <td>...</td>\n",
       "      <td>0</td>\n",
       "      <td>0</td>\n",
       "      <td>0</td>\n",
       "      <td>0</td>\n",
       "      <td>0</td>\n",
       "      <td>0</td>\n",
       "      <td>0</td>\n",
       "      <td>0</td>\n",
       "      <td>1</td>\n",
       "      <td>4</td>\n",
       "    </tr>\n",
       "    <tr>\n",
       "      <th>3</th>\n",
       "      <td>3</td>\n",
       "      <td>0</td>\n",
       "      <td>0</td>\n",
       "      <td>0</td>\n",
       "      <td>1</td>\n",
       "      <td>2</td>\n",
       "      <td>492</td>\n",
       "      <td>2731</td>\n",
       "      <td>6049</td>\n",
       "      <td>628</td>\n",
       "      <td>...</td>\n",
       "      <td>0</td>\n",
       "      <td>0</td>\n",
       "      <td>0</td>\n",
       "      <td>0</td>\n",
       "      <td>0</td>\n",
       "      <td>0</td>\n",
       "      <td>0</td>\n",
       "      <td>0</td>\n",
       "      <td>0</td>\n",
       "      <td>3</td>\n",
       "    </tr>\n",
       "    <tr>\n",
       "      <th>4</th>\n",
       "      <td>4</td>\n",
       "      <td>0</td>\n",
       "      <td>1</td>\n",
       "      <td>1</td>\n",
       "      <td>0</td>\n",
       "      <td>1</td>\n",
       "      <td>366</td>\n",
       "      <td>1456</td>\n",
       "      <td>4108</td>\n",
       "      <td>365</td>\n",
       "      <td>...</td>\n",
       "      <td>0</td>\n",
       "      <td>0</td>\n",
       "      <td>0</td>\n",
       "      <td>0</td>\n",
       "      <td>0</td>\n",
       "      <td>0</td>\n",
       "      <td>0</td>\n",
       "      <td>0</td>\n",
       "      <td>0</td>\n",
       "      <td>3</td>\n",
       "    </tr>\n",
       "    <tr>\n",
       "      <th>...</th>\n",
       "      <td>...</td>\n",
       "      <td>...</td>\n",
       "      <td>...</td>\n",
       "      <td>...</td>\n",
       "      <td>...</td>\n",
       "      <td>...</td>\n",
       "      <td>...</td>\n",
       "      <td>...</td>\n",
       "      <td>...</td>\n",
       "      <td>...</td>\n",
       "      <td>...</td>\n",
       "      <td>...</td>\n",
       "      <td>...</td>\n",
       "      <td>...</td>\n",
       "      <td>...</td>\n",
       "      <td>...</td>\n",
       "      <td>...</td>\n",
       "      <td>...</td>\n",
       "      <td>...</td>\n",
       "      <td>...</td>\n",
       "      <td>...</td>\n",
       "    </tr>\n",
       "    <tr>\n",
       "      <th>48739</th>\n",
       "      <td>48739</td>\n",
       "      <td>0</td>\n",
       "      <td>0</td>\n",
       "      <td>0</td>\n",
       "      <td>1</td>\n",
       "      <td>0</td>\n",
       "      <td>243</td>\n",
       "      <td>903</td>\n",
       "      <td>1839</td>\n",
       "      <td>161</td>\n",
       "      <td>...</td>\n",
       "      <td>0</td>\n",
       "      <td>0</td>\n",
       "      <td>0</td>\n",
       "      <td>0</td>\n",
       "      <td>0</td>\n",
       "      <td>0</td>\n",
       "      <td>0</td>\n",
       "      <td>0</td>\n",
       "      <td>0</td>\n",
       "      <td>1</td>\n",
       "    </tr>\n",
       "    <tr>\n",
       "      <th>48740</th>\n",
       "      <td>48740</td>\n",
       "      <td>0</td>\n",
       "      <td>0</td>\n",
       "      <td>0</td>\n",
       "      <td>0</td>\n",
       "      <td>2</td>\n",
       "      <td>325</td>\n",
       "      <td>1452</td>\n",
       "      <td>4086</td>\n",
       "      <td>304</td>\n",
       "      <td>...</td>\n",
       "      <td>0</td>\n",
       "      <td>0</td>\n",
       "      <td>0</td>\n",
       "      <td>0</td>\n",
       "      <td>0</td>\n",
       "      <td>0</td>\n",
       "      <td>0</td>\n",
       "      <td>0</td>\n",
       "      <td>0</td>\n",
       "      <td>1</td>\n",
       "    </tr>\n",
       "    <tr>\n",
       "      <th>48741</th>\n",
       "      <td>48741</td>\n",
       "      <td>0</td>\n",
       "      <td>0</td>\n",
       "      <td>1</td>\n",
       "      <td>1</td>\n",
       "      <td>1</td>\n",
       "      <td>402</td>\n",
       "      <td>629</td>\n",
       "      <td>4257</td>\n",
       "      <td>195</td>\n",
       "      <td>...</td>\n",
       "      <td>0</td>\n",
       "      <td>0</td>\n",
       "      <td>0</td>\n",
       "      <td>0</td>\n",
       "      <td>0</td>\n",
       "      <td>0</td>\n",
       "      <td>0</td>\n",
       "      <td>0</td>\n",
       "      <td>3</td>\n",
       "      <td>1</td>\n",
       "    </tr>\n",
       "    <tr>\n",
       "      <th>48742</th>\n",
       "      <td>48742</td>\n",
       "      <td>0</td>\n",
       "      <td>1</td>\n",
       "      <td>0</td>\n",
       "      <td>0</td>\n",
       "      <td>0</td>\n",
       "      <td>434</td>\n",
       "      <td>998</td>\n",
       "      <td>3079</td>\n",
       "      <td>276</td>\n",
       "      <td>...</td>\n",
       "      <td>0</td>\n",
       "      <td>0</td>\n",
       "      <td>0</td>\n",
       "      <td>0</td>\n",
       "      <td>0</td>\n",
       "      <td>0</td>\n",
       "      <td>0</td>\n",
       "      <td>0</td>\n",
       "      <td>0</td>\n",
       "      <td>2</td>\n",
       "    </tr>\n",
       "    <tr>\n",
       "      <th>48743</th>\n",
       "      <td>48743</td>\n",
       "      <td>0</td>\n",
       "      <td>0</td>\n",
       "      <td>1</td>\n",
       "      <td>0</td>\n",
       "      <td>0</td>\n",
       "      <td>272</td>\n",
       "      <td>623</td>\n",
       "      <td>3012</td>\n",
       "      <td>161</td>\n",
       "      <td>...</td>\n",
       "      <td>0</td>\n",
       "      <td>0</td>\n",
       "      <td>0</td>\n",
       "      <td>0</td>\n",
       "      <td>0</td>\n",
       "      <td>0</td>\n",
       "      <td>0</td>\n",
       "      <td>0</td>\n",
       "      <td>1</td>\n",
       "      <td>4</td>\n",
       "    </tr>\n",
       "  </tbody>\n",
       "</table>\n",
       "<p>48744 rows × 121 columns</p>\n",
       "</div>"
      ],
      "text/plain": [
       "       SK_ID_CURR  NAME_CONTRACT_TYPE  CODE_GENDER  FLAG_OWN_CAR  \\\n",
       "0               0                   0            0             0   \n",
       "1               1                   0            1             0   \n",
       "2               2                   0            1             1   \n",
       "3               3                   0            0             0   \n",
       "4               4                   0            1             1   \n",
       "...           ...                 ...          ...           ...   \n",
       "48739       48739                   0            0             0   \n",
       "48740       48740                   0            0             0   \n",
       "48741       48741                   0            0             1   \n",
       "48742       48742                   0            1             0   \n",
       "48743       48743                   0            0             1   \n",
       "\n",
       "       FLAG_OWN_REALTY  CNT_CHILDREN  AMT_INCOME_TOTAL  AMT_CREDIT  \\\n",
       "0                    1             0               272        1320   \n",
       "1                    1             0               181         379   \n",
       "2                    1             0               402        1548   \n",
       "3                    1             2               492        2731   \n",
       "4                    0             1               366        1456   \n",
       "...                ...           ...               ...         ...   \n",
       "48739                1             0               243         903   \n",
       "48740                0             2               325        1452   \n",
       "48741                1             1               402         629   \n",
       "48742                0             0               434         998   \n",
       "48743                0             0               272         623   \n",
       "\n",
       "       AMT_ANNUITY  AMT_GOODS_PRICE  ...  FLAG_DOCUMENT_18  FLAG_DOCUMENT_19  \\\n",
       "0             2344              276  ...                 0                 0   \n",
       "1             1820               93  ...                 0                 0   \n",
       "2             7132              366  ...                 0                 0   \n",
       "3             6049              628  ...                 0                 0   \n",
       "4             4108              365  ...                 0                 0   \n",
       "...            ...              ...  ...               ...               ...   \n",
       "48739         1839              161  ...                 0                 0   \n",
       "48740         4086              304  ...                 0                 0   \n",
       "48741         4257              195  ...                 0                 0   \n",
       "48742         3079              276  ...                 0                 0   \n",
       "48743         3012              161  ...                 0                 0   \n",
       "\n",
       "       FLAG_DOCUMENT_20  FLAG_DOCUMENT_21  AMT_REQ_CREDIT_BUREAU_HOUR  \\\n",
       "0                     0                 0                           0   \n",
       "1                     0                 0                           0   \n",
       "2                     0                 0                           0   \n",
       "3                     0                 0                           0   \n",
       "4                     0                 0                           0   \n",
       "...                 ...               ...                         ...   \n",
       "48739                 0                 0                           0   \n",
       "48740                 0                 0                           0   \n",
       "48741                 0                 0                           0   \n",
       "48742                 0                 0                           0   \n",
       "48743                 0                 0                           0   \n",
       "\n",
       "       AMT_REQ_CREDIT_BUREAU_DAY  AMT_REQ_CREDIT_BUREAU_WEEK  \\\n",
       "0                              0                           0   \n",
       "1                              0                           0   \n",
       "2                              0                           0   \n",
       "3                              0                           0   \n",
       "4                              0                           0   \n",
       "...                          ...                         ...   \n",
       "48739                          0                           0   \n",
       "48740                          0                           0   \n",
       "48741                          0                           0   \n",
       "48742                          0                           0   \n",
       "48743                          0                           0   \n",
       "\n",
       "       AMT_REQ_CREDIT_BUREAU_MON  AMT_REQ_CREDIT_BUREAU_QRT  \\\n",
       "0                              0                          0   \n",
       "1                              0                          0   \n",
       "2                              0                          1   \n",
       "3                              0                          0   \n",
       "4                              0                          0   \n",
       "...                          ...                        ...   \n",
       "48739                          0                          0   \n",
       "48740                          0                          0   \n",
       "48741                          0                          3   \n",
       "48742                          0                          0   \n",
       "48743                          0                          1   \n",
       "\n",
       "       AMT_REQ_CREDIT_BUREAU_YEAR  \n",
       "0                               0  \n",
       "1                               3  \n",
       "2                               4  \n",
       "3                               3  \n",
       "4                               3  \n",
       "...                           ...  \n",
       "48739                           1  \n",
       "48740                           1  \n",
       "48741                           1  \n",
       "48742                           2  \n",
       "48743                           4  \n",
       "\n",
       "[48744 rows x 121 columns]"
      ]
     },
     "execution_count": 21,
     "metadata": {},
     "output_type": "execute_result"
    }
   ],
   "source": [
    "Xtest = test\n",
    "Xtest = Xtest.apply(lambda col: pd.factorize(col, sort=True)[0])\n",
    "Xtest"
   ]
  },
  {
   "cell_type": "code",
   "execution_count": 22,
   "id": "lucky-yeast",
   "metadata": {
    "id": "massive-tours"
   },
   "outputs": [
    {
     "name": "stderr",
     "output_type": "stream",
     "text": [
      "C:\\Users\\User\\AppData\\Roaming\\Python\\Python39\\site-packages\\sklearn\\utils\\validation.py:63: DataConversionWarning: A column-vector y was passed when a 1d array was expected. Please change the shape of y to (n_samples, ), for example using ravel().\n",
      "  return f(*args, **kwargs)\n"
     ]
    },
    {
     "name": "stdout",
     "output_type": "stream",
     "text": [
      "-- Epoch 1\n",
      "Norm: 64260.08, NNZs: 119, Bias: 3.883386, T: 206032, Avg. loss: 772629091.471723\n",
      "Total training time: 0.11 seconds.\n",
      "-- Epoch 2\n",
      "Norm: 52227.08, NNZs: 119, Bias: -3.366913, T: 412064, Avg. loss: 97266785.842042\n",
      "Total training time: 0.21 seconds.\n",
      "-- Epoch 3\n",
      "Norm: 47367.69, NNZs: 120, Bias: -6.488894, T: 618096, Avg. loss: 56558396.278317\n",
      "Total training time: 0.30 seconds.\n",
      "-- Epoch 4\n",
      "Norm: 46141.38, NNZs: 120, Bias: -8.531016, T: 824128, Avg. loss: 40192658.090702\n",
      "Total training time: 0.38 seconds.\n",
      "-- Epoch 5\n",
      "Norm: 44420.08, NNZs: 120, Bias: -9.855684, T: 1030160, Avg. loss: 31239207.165428\n",
      "Total training time: 0.49 seconds.\n",
      "-- Epoch 6\n",
      "Norm: 42646.33, NNZs: 120, Bias: -10.785849, T: 1236192, Avg. loss: 25530281.214927\n",
      "Total training time: 0.57 seconds.\n",
      "-- Epoch 7\n",
      "Norm: 41570.67, NNZs: 120, Bias: -11.655486, T: 1442224, Avg. loss: 21450040.013799\n",
      "Total training time: 0.66 seconds.\n",
      "-- Epoch 8\n",
      "Norm: 40848.02, NNZs: 120, Bias: -12.357622, T: 1648256, Avg. loss: 18690834.108048\n",
      "Total training time: 0.75 seconds.\n",
      "-- Epoch 9\n",
      "Norm: 39943.39, NNZs: 120, Bias: -12.949733, T: 1854288, Avg. loss: 16391122.535648\n",
      "Total training time: 0.84 seconds.\n",
      "-- Epoch 10\n",
      "Norm: 39087.98, NNZs: 120, Bias: -13.422610, T: 2060320, Avg. loss: 14638211.326128\n",
      "Total training time: 0.93 seconds.\n",
      "-- Epoch 11\n",
      "Norm: 38293.32, NNZs: 120, Bias: -13.752461, T: 2266352, Avg. loss: 13203849.164270\n",
      "Total training time: 1.03 seconds.\n",
      "-- Epoch 12\n",
      "Norm: 37476.48, NNZs: 120, Bias: -14.050602, T: 2472384, Avg. loss: 12164450.487939\n",
      "Total training time: 1.11 seconds.\n",
      "-- Epoch 13\n",
      "Norm: 36741.61, NNZs: 120, Bias: -14.244179, T: 2678416, Avg. loss: 11097179.986987\n",
      "Total training time: 1.20 seconds.\n",
      "-- Epoch 14\n",
      "Norm: 36127.34, NNZs: 120, Bias: -14.365253, T: 2884448, Avg. loss: 10292035.690412\n",
      "Total training time: 1.30 seconds.\n",
      "-- Epoch 15\n",
      "Norm: 35504.83, NNZs: 120, Bias: -14.487044, T: 3090480, Avg. loss: 9584919.486673\n",
      "Total training time: 1.37 seconds.\n",
      "-- Epoch 16\n",
      "Norm: 34964.96, NNZs: 120, Bias: -14.584487, T: 3296512, Avg. loss: 9010241.855021\n",
      "Total training time: 1.47 seconds.\n",
      "-- Epoch 17\n",
      "Norm: 34326.46, NNZs: 120, Bias: -14.704685, T: 3502544, Avg. loss: 8452648.823965\n",
      "Total training time: 1.55 seconds.\n",
      "-- Epoch 18\n",
      "Norm: 33839.40, NNZs: 120, Bias: -14.853893, T: 3708576, Avg. loss: 7914483.776454\n",
      "Total training time: 1.65 seconds.\n",
      "-- Epoch 19\n",
      "Norm: 33228.00, NNZs: 120, Bias: -14.940951, T: 3914608, Avg. loss: 7504491.188072\n",
      "Total training time: 1.74 seconds.\n",
      "-- Epoch 20\n",
      "Norm: 32599.49, NNZs: 120, Bias: -15.014023, T: 4120640, Avg. loss: 7108848.745684\n",
      "Total training time: 1.83 seconds.\n",
      "-- Epoch 21\n",
      "Norm: 32168.24, NNZs: 120, Bias: -15.082481, T: 4326672, Avg. loss: 6744142.956980\n",
      "Total training time: 1.91 seconds.\n",
      "-- Epoch 22\n",
      "Norm: 31632.17, NNZs: 120, Bias: -15.082856, T: 4532704, Avg. loss: 6424028.226982\n",
      "Total training time: 2.01 seconds.\n",
      "-- Epoch 23\n",
      "Norm: 31085.31, NNZs: 120, Bias: -15.099315, T: 4738736, Avg. loss: 6158237.461403\n",
      "Total training time: 2.10 seconds.\n",
      "-- Epoch 24\n",
      "Norm: 30624.56, NNZs: 120, Bias: -15.100619, T: 4944768, Avg. loss: 5897293.712424\n",
      "Total training time: 2.19 seconds.\n",
      "-- Epoch 25\n",
      "Norm: 30081.96, NNZs: 120, Bias: -15.010942, T: 5150800, Avg. loss: 5636355.989994\n",
      "Total training time: 2.27 seconds.\n",
      "-- Epoch 26\n",
      "Norm: 29565.35, NNZs: 120, Bias: -15.008622, T: 5356832, Avg. loss: 5431610.547449\n",
      "Total training time: 2.37 seconds.\n",
      "-- Epoch 27\n",
      "Norm: 29086.07, NNZs: 120, Bias: -14.983370, T: 5562864, Avg. loss: 5217433.240388\n",
      "Total training time: 2.47 seconds.\n",
      "-- Epoch 28\n",
      "Norm: 28713.23, NNZs: 120, Bias: -14.986738, T: 5768896, Avg. loss: 5054145.709871\n",
      "Total training time: 2.55 seconds.\n",
      "-- Epoch 29\n",
      "Norm: 28344.34, NNZs: 120, Bias: -15.015640, T: 5974928, Avg. loss: 4873297.213209\n",
      "Total training time: 2.65 seconds.\n",
      "-- Epoch 30\n",
      "Norm: 27953.61, NNZs: 120, Bias: -14.990622, T: 6180960, Avg. loss: 4702135.237931\n",
      "Total training time: 2.75 seconds.\n",
      "-- Epoch 31\n",
      "Norm: 27548.15, NNZs: 120, Bias: -14.979324, T: 6386992, Avg. loss: 4507852.491722\n",
      "Total training time: 2.84 seconds.\n",
      "-- Epoch 32\n",
      "Norm: 27174.28, NNZs: 120, Bias: -14.903839, T: 6593024, Avg. loss: 4368676.933810\n",
      "Total training time: 2.93 seconds.\n",
      "-- Epoch 33\n",
      "Norm: 26795.19, NNZs: 120, Bias: -14.888708, T: 6799056, Avg. loss: 4256495.656710\n",
      "Total training time: 3.02 seconds.\n",
      "-- Epoch 34\n",
      "Norm: 26357.85, NNZs: 120, Bias: -14.845039, T: 7005088, Avg. loss: 4124639.105645\n",
      "Total training time: 3.10 seconds.\n",
      "-- Epoch 35\n",
      "Norm: 25950.75, NNZs: 120, Bias: -14.791793, T: 7211120, Avg. loss: 4027384.125248\n",
      "Total training time: 3.20 seconds.\n",
      "-- Epoch 36\n",
      "Norm: 25641.80, NNZs: 120, Bias: -14.738262, T: 7417152, Avg. loss: 3904012.117156\n",
      "Total training time: 3.27 seconds.\n",
      "-- Epoch 37\n",
      "Norm: 25274.16, NNZs: 120, Bias: -14.647779, T: 7623184, Avg. loss: 3808773.423827\n",
      "Total training time: 3.37 seconds.\n",
      "-- Epoch 38\n",
      "Norm: 24960.93, NNZs: 120, Bias: -14.625885, T: 7829216, Avg. loss: 3685825.397889\n",
      "Total training time: 3.47 seconds.\n",
      "-- Epoch 39\n",
      "Norm: 24618.23, NNZs: 120, Bias: -14.586270, T: 8035248, Avg. loss: 3592371.035752\n",
      "Total training time: 3.56 seconds.\n",
      "-- Epoch 40\n",
      "Norm: 24289.30, NNZs: 120, Bias: -14.500623, T: 8241280, Avg. loss: 3515162.940570\n",
      "Total training time: 3.65 seconds.\n",
      "-- Epoch 41\n",
      "Norm: 23915.70, NNZs: 120, Bias: -14.431307, T: 8447312, Avg. loss: 3414295.044190\n",
      "Total training time: 3.74 seconds.\n",
      "-- Epoch 42\n",
      "Norm: 23616.38, NNZs: 120, Bias: -14.388086, T: 8653344, Avg. loss: 3348640.695250\n",
      "Total training time: 3.83 seconds.\n",
      "-- Epoch 43\n",
      "Norm: 23287.35, NNZs: 120, Bias: -14.334429, T: 8859376, Avg. loss: 3271100.993774\n",
      "Total training time: 3.92 seconds.\n",
      "-- Epoch 44\n",
      "Norm: 22993.88, NNZs: 120, Bias: -14.284006, T: 9065408, Avg. loss: 3192589.271604\n",
      "Total training time: 4.02 seconds.\n",
      "-- Epoch 45\n",
      "Norm: 22707.71, NNZs: 120, Bias: -14.224095, T: 9271440, Avg. loss: 3109456.205658\n",
      "Total training time: 4.11 seconds.\n",
      "-- Epoch 46\n",
      "Norm: 22413.57, NNZs: 120, Bias: -14.141849, T: 9477472, Avg. loss: 3053877.514547\n",
      "Total training time: 4.21 seconds.\n",
      "-- Epoch 47\n",
      "Norm: 22099.63, NNZs: 120, Bias: -14.085382, T: 9683504, Avg. loss: 2990427.865211\n",
      "Total training time: 4.32 seconds.\n",
      "-- Epoch 48\n",
      "Norm: 21830.61, NNZs: 120, Bias: -14.024959, T: 9889536, Avg. loss: 2916081.557643\n",
      "Total training time: 4.40 seconds.\n",
      "-- Epoch 49\n",
      "Norm: 21543.32, NNZs: 120, Bias: -13.953140, T: 10095568, Avg. loss: 2857481.737449\n",
      "Total training time: 4.50 seconds.\n",
      "-- Epoch 50\n",
      "Norm: 21234.47, NNZs: 120, Bias: -13.885524, T: 10301600, Avg. loss: 2804178.508288\n",
      "Total training time: 4.58 seconds.\n",
      "-- Epoch 51\n",
      "Norm: 20945.10, NNZs: 120, Bias: -13.807812, T: 10507632, Avg. loss: 2752563.707295\n",
      "Total training time: 4.67 seconds.\n",
      "-- Epoch 52\n",
      "Norm: 20712.37, NNZs: 120, Bias: -13.761672, T: 10713664, Avg. loss: 2687454.551158\n",
      "Total training time: 4.75 seconds.\n",
      "-- Epoch 53\n",
      "Norm: 20462.61, NNZs: 120, Bias: -13.717415, T: 10919696, Avg. loss: 2628319.322642\n",
      "Total training time: 4.85 seconds.\n",
      "-- Epoch 54\n",
      "Norm: 20224.48, NNZs: 120, Bias: -13.683098, T: 11125728, Avg. loss: 2586226.470296\n",
      "Total training time: 4.94 seconds.\n",
      "-- Epoch 55\n",
      "Norm: 19979.33, NNZs: 120, Bias: -13.619703, T: 11331760, Avg. loss: 2537026.516358\n",
      "Total training time: 5.02 seconds.\n",
      "-- Epoch 56\n",
      "Norm: 19739.02, NNZs: 120, Bias: -13.543745, T: 11537792, Avg. loss: 2515376.568034\n",
      "Total training time: 5.11 seconds.\n",
      "-- Epoch 57\n",
      "Norm: 19508.41, NNZs: 120, Bias: -13.487991, T: 11743824, Avg. loss: 2464444.222517\n",
      "Total training time: 5.21 seconds.\n",
      "-- Epoch 58\n",
      "Norm: 19295.48, NNZs: 120, Bias: -13.428029, T: 11949856, Avg. loss: 2423867.292483\n",
      "Total training time: 5.30 seconds.\n",
      "-- Epoch 59\n",
      "Norm: 19079.78, NNZs: 120, Bias: -13.360079, T: 12155888, Avg. loss: 2362730.746991\n",
      "Total training time: 5.39 seconds.\n",
      "-- Epoch 60\n",
      "Norm: 18845.28, NNZs: 120, Bias: -13.295620, T: 12361920, Avg. loss: 2339543.000439\n",
      "Total training time: 5.48 seconds.\n",
      "-- Epoch 61\n",
      "Norm: 18642.87, NNZs: 120, Bias: -13.217859, T: 12567952, Avg. loss: 2305669.591340\n",
      "Total training time: 5.57 seconds.\n",
      "-- Epoch 62\n",
      "Norm: 18425.45, NNZs: 120, Bias: -13.148391, T: 12773984, Avg. loss: 2263970.836229\n",
      "Total training time: 5.67 seconds.\n",
      "-- Epoch 63\n",
      "Norm: 18220.80, NNZs: 120, Bias: -13.082421, T: 12980016, Avg. loss: 2227739.588747\n",
      "Total training time: 5.75 seconds.\n",
      "-- Epoch 64\n",
      "Norm: 18044.49, NNZs: 120, Bias: -13.038841, T: 13186048, Avg. loss: 2188999.443289\n",
      "Total training time: 5.84 seconds.\n",
      "-- Epoch 65\n",
      "Norm: 17852.63, NNZs: 120, Bias: -12.967308, T: 13392080, Avg. loss: 2157206.714643\n",
      "Total training time: 5.94 seconds.\n",
      "-- Epoch 66\n",
      "Norm: 17635.31, NNZs: 120, Bias: -12.902860, T: 13598112, Avg. loss: 2128769.816465\n",
      "Total training time: 6.03 seconds.\n",
      "-- Epoch 67\n",
      "Norm: 17447.35, NNZs: 120, Bias: -12.864834, T: 13804144, Avg. loss: 2080496.917895\n",
      "Total training time: 6.12 seconds.\n",
      "-- Epoch 68\n",
      "Norm: 17262.84, NNZs: 120, Bias: -12.801496, T: 14010176, Avg. loss: 2059180.704495\n",
      "Total training time: 6.21 seconds.\n",
      "-- Epoch 69\n",
      "Norm: 17079.16, NNZs: 120, Bias: -12.746324, T: 14216208, Avg. loss: 2022903.109605\n",
      "Total training time: 6.30 seconds.\n",
      "-- Epoch 70\n",
      "Norm: 16909.33, NNZs: 120, Bias: -12.675147, T: 14422240, Avg. loss: 1992036.064245\n",
      "Total training time: 6.38 seconds.\n",
      "-- Epoch 71\n",
      "Norm: 16727.02, NNZs: 120, Bias: -12.616058, T: 14628272, Avg. loss: 1968400.259576\n",
      "Total training time: 6.48 seconds.\n",
      "-- Epoch 72\n",
      "Norm: 16556.56, NNZs: 120, Bias: -12.549599, T: 14834304, Avg. loss: 1945016.695383\n",
      "Total training time: 6.56 seconds.\n",
      "-- Epoch 73\n",
      "Norm: 16370.99, NNZs: 120, Bias: -12.506070, T: 15040336, Avg. loss: 1920880.455655\n",
      "Total training time: 6.65 seconds.\n",
      "-- Epoch 74\n",
      "Norm: 16218.10, NNZs: 120, Bias: -12.461227, T: 15246368, Avg. loss: 1886070.673202\n",
      "Total training time: 6.73 seconds.\n",
      "-- Epoch 75\n",
      "Norm: 16064.89, NNZs: 120, Bias: -12.411801, T: 15452400, Avg. loss: 1871653.140238\n",
      "Total training time: 6.83 seconds.\n",
      "-- Epoch 76\n",
      "Norm: 15891.41, NNZs: 120, Bias: -12.371325, T: 15658432, Avg. loss: 1841876.913185\n",
      "Total training time: 6.91 seconds.\n",
      "-- Epoch 77\n",
      "Norm: 15732.25, NNZs: 120, Bias: -12.313617, T: 15864464, Avg. loss: 1815262.219775\n",
      "Total training time: 7.00 seconds.\n",
      "-- Epoch 78\n",
      "Norm: 15573.56, NNZs: 120, Bias: -12.264787, T: 16070496, Avg. loss: 1796189.628598\n",
      "Total training time: 7.09 seconds.\n",
      "-- Epoch 79\n",
      "Norm: 15419.69, NNZs: 120, Bias: -12.226416, T: 16276528, Avg. loss: 1781483.785627\n",
      "Total training time: 7.17 seconds.\n",
      "-- Epoch 80\n",
      "Norm: 15254.36, NNZs: 120, Bias: -12.178833, T: 16482560, Avg. loss: 1742849.156658\n",
      "Total training time: 7.27 seconds.\n",
      "-- Epoch 81\n",
      "Norm: 15120.28, NNZs: 120, Bias: -12.123461, T: 16688592, Avg. loss: 1724529.048313\n",
      "Total training time: 7.37 seconds.\n",
      "-- Epoch 82\n",
      "Norm: 14972.45, NNZs: 120, Bias: -12.064544, T: 16894624, Avg. loss: 1706188.602013\n",
      "Total training time: 7.45 seconds.\n",
      "-- Epoch 83\n",
      "Norm: 14825.67, NNZs: 120, Bias: -12.026289, T: 17100656, Avg. loss: 1686620.612044\n",
      "Total training time: 7.55 seconds.\n",
      "-- Epoch 84\n",
      "Norm: 14684.96, NNZs: 120, Bias: -11.964135, T: 17306688, Avg. loss: 1655747.752169\n",
      "Total training time: 7.63 seconds.\n",
      "-- Epoch 85\n",
      "Norm: 14547.91, NNZs: 120, Bias: -11.912454, T: 17512720, Avg. loss: 1646539.701732\n",
      "Total training time: 7.72 seconds.\n",
      "-- Epoch 86\n",
      "Norm: 14425.73, NNZs: 120, Bias: -11.865424, T: 17718752, Avg. loss: 1627494.917009\n",
      "Total training time: 7.81 seconds.\n",
      "-- Epoch 87\n",
      "Norm: 14300.07, NNZs: 120, Bias: -11.824452, T: 17924784, Avg. loss: 1607288.229860\n",
      "Total training time: 7.90 seconds.\n",
      "-- Epoch 88\n",
      "Norm: 14173.38, NNZs: 120, Bias: -11.782266, T: 18130816, Avg. loss: 1587154.405740\n",
      "Total training time: 7.99 seconds.\n",
      "-- Epoch 89\n",
      "Norm: 14053.31, NNZs: 120, Bias: -11.737788, T: 18336848, Avg. loss: 1566326.962677\n",
      "Total training time: 8.08 seconds.\n",
      "-- Epoch 90\n",
      "Norm: 13922.50, NNZs: 120, Bias: -11.692809, T: 18542880, Avg. loss: 1542209.682827\n",
      "Total training time: 8.17 seconds.\n",
      "-- Epoch 91\n",
      "Norm: 13799.72, NNZs: 120, Bias: -11.640782, T: 18748912, Avg. loss: 1527313.856446\n",
      "Total training time: 8.25 seconds.\n",
      "-- Epoch 92\n",
      "Norm: 13691.26, NNZs: 120, Bias: -11.604693, T: 18954944, Avg. loss: 1515772.217617\n",
      "Total training time: 8.34 seconds.\n",
      "-- Epoch 93\n",
      "Norm: 13584.26, NNZs: 120, Bias: -11.557011, T: 19160976, Avg. loss: 1491323.907845\n",
      "Total training time: 8.43 seconds.\n",
      "-- Epoch 94\n",
      "Norm: 13462.69, NNZs: 120, Bias: -11.522714, T: 19367008, Avg. loss: 1488361.370379\n",
      "Total training time: 8.52 seconds.\n",
      "-- Epoch 95\n",
      "Norm: 13355.03, NNZs: 120, Bias: -11.481592, T: 19573040, Avg. loss: 1476130.418037\n",
      "Total training time: 8.62 seconds.\n",
      "-- Epoch 96\n",
      "Norm: 13255.63, NNZs: 120, Bias: -11.445492, T: 19779072, Avg. loss: 1446650.497808\n",
      "Total training time: 8.71 seconds.\n",
      "-- Epoch 97\n",
      "Norm: 13139.17, NNZs: 120, Bias: -11.398172, T: 19985104, Avg. loss: 1434967.260144\n",
      "Total training time: 8.79 seconds.\n",
      "-- Epoch 98\n",
      "Norm: 13027.42, NNZs: 120, Bias: -11.345920, T: 20191136, Avg. loss: 1428177.676149\n",
      "Total training time: 8.89 seconds.\n",
      "-- Epoch 99\n",
      "Norm: 12934.06, NNZs: 120, Bias: -11.302579, T: 20397168, Avg. loss: 1406307.527612\n",
      "Total training time: 8.98 seconds.\n",
      "-- Epoch 100\n",
      "Norm: 12820.26, NNZs: 120, Bias: -11.245559, T: 20603200, Avg. loss: 1395228.597094\n",
      "Total training time: 9.07 seconds.\n",
      "-- Epoch 101\n",
      "Norm: 12720.68, NNZs: 120, Bias: -11.195867, T: 20809232, Avg. loss: 1381547.228988\n",
      "Total training time: 9.16 seconds.\n",
      "-- Epoch 102\n",
      "Norm: 12619.84, NNZs: 120, Bias: -11.165283, T: 21015264, Avg. loss: 1366283.982256\n",
      "Total training time: 9.25 seconds.\n",
      "-- Epoch 103\n",
      "Norm: 12506.82, NNZs: 120, Bias: -11.106603, T: 21221296, Avg. loss: 1360267.440468\n",
      "Total training time: 9.35 seconds.\n",
      "-- Epoch 104\n",
      "Norm: 12411.98, NNZs: 120, Bias: -11.068614, T: 21427328, Avg. loss: 1344092.598675\n",
      "Total training time: 9.44 seconds.\n",
      "-- Epoch 105\n",
      "Norm: 12312.94, NNZs: 120, Bias: -11.020263, T: 21633360, Avg. loss: 1331813.757846\n",
      "Total training time: 9.52 seconds.\n",
      "-- Epoch 106\n",
      "Norm: 12204.46, NNZs: 120, Bias: -10.981203, T: 21839392, Avg. loss: 1323521.577671\n",
      "Total training time: 9.61 seconds.\n",
      "-- Epoch 107\n",
      "Norm: 12111.98, NNZs: 120, Bias: -10.948830, T: 22045424, Avg. loss: 1309175.340151\n",
      "Total training time: 9.71 seconds.\n",
      "-- Epoch 108\n",
      "Norm: 12014.63, NNZs: 120, Bias: -10.909073, T: 22251456, Avg. loss: 1291526.930949\n",
      "Total training time: 9.79 seconds.\n",
      "-- Epoch 109\n",
      "Norm: 11936.23, NNZs: 120, Bias: -10.868813, T: 22457488, Avg. loss: 1276354.159066\n",
      "Total training time: 9.89 seconds.\n",
      "-- Epoch 110\n",
      "Norm: 11846.53, NNZs: 120, Bias: -10.828461, T: 22663520, Avg. loss: 1267577.504269\n",
      "Total training time: 9.99 seconds.\n",
      "-- Epoch 111\n",
      "Norm: 11751.56, NNZs: 120, Bias: -10.791991, T: 22869552, Avg. loss: 1256301.755531\n",
      "Total training time: 10.07 seconds.\n",
      "-- Epoch 112\n",
      "Norm: 11669.51, NNZs: 120, Bias: -10.758032, T: 23075584, Avg. loss: 1250763.886747\n",
      "Total training time: 10.17 seconds.\n",
      "-- Epoch 113\n",
      "Norm: 11583.41, NNZs: 120, Bias: -10.728265, T: 23281616, Avg. loss: 1240953.024192\n",
      "Total training time: 10.26 seconds.\n",
      "-- Epoch 114\n",
      "Norm: 11493.62, NNZs: 120, Bias: -10.684653, T: 23487648, Avg. loss: 1219320.162750\n",
      "Total training time: 10.35 seconds.\n",
      "-- Epoch 115\n",
      "Norm: 11407.19, NNZs: 120, Bias: -10.639299, T: 23693680, Avg. loss: 1209425.371458\n",
      "Total training time: 10.43 seconds.\n",
      "-- Epoch 116\n",
      "Norm: 11315.80, NNZs: 120, Bias: -10.606081, T: 23899712, Avg. loss: 1205535.973008\n",
      "Total training time: 10.53 seconds.\n",
      "-- Epoch 117\n",
      "Norm: 11251.88, NNZs: 120, Bias: -10.573597, T: 24105744, Avg. loss: 1192730.436618\n",
      "Total training time: 10.63 seconds.\n",
      "-- Epoch 118\n",
      "Norm: 11180.36, NNZs: 120, Bias: -10.532703, T: 24311776, Avg. loss: 1179575.349127\n",
      "Total training time: 10.71 seconds.\n",
      "-- Epoch 119\n",
      "Norm: 11105.00, NNZs: 120, Bias: -10.499928, T: 24517808, Avg. loss: 1177974.186748\n",
      "Total training time: 10.81 seconds.\n",
      "-- Epoch 120\n",
      "Norm: 11024.63, NNZs: 120, Bias: -10.463410, T: 24723840, Avg. loss: 1161159.396445\n",
      "Total training time: 10.91 seconds.\n",
      "-- Epoch 121\n",
      "Norm: 10946.01, NNZs: 120, Bias: -10.432359, T: 24929872, Avg. loss: 1146586.185420\n",
      "Total training time: 11.00 seconds.\n",
      "-- Epoch 122\n",
      "Norm: 10873.29, NNZs: 120, Bias: -10.392024, T: 25135904, Avg. loss: 1144364.612635\n",
      "Total training time: 11.10 seconds.\n",
      "-- Epoch 123\n",
      "Norm: 10796.18, NNZs: 120, Bias: -10.361125, T: 25341936, Avg. loss: 1132589.105326\n",
      "Total training time: 11.18 seconds.\n",
      "-- Epoch 124\n",
      "Norm: 10738.33, NNZs: 120, Bias: -10.323395, T: 25547968, Avg. loss: 1127788.573941\n",
      "Total training time: 11.27 seconds.\n",
      "-- Epoch 125\n",
      "Norm: 10668.78, NNZs: 120, Bias: -10.291862, T: 25754000, Avg. loss: 1114732.509353\n",
      "Total training time: 11.37 seconds.\n",
      "-- Epoch 126\n",
      "Norm: 10607.10, NNZs: 120, Bias: -10.256680, T: 25960032, Avg. loss: 1108995.766285\n",
      "Total training time: 11.46 seconds.\n",
      "-- Epoch 127\n",
      "Norm: 10537.79, NNZs: 120, Bias: -10.221023, T: 26166064, Avg. loss: 1092698.314325\n",
      "Total training time: 11.55 seconds.\n",
      "-- Epoch 128\n",
      "Norm: 10474.39, NNZs: 120, Bias: -10.193208, T: 26372096, Avg. loss: 1088381.613374\n",
      "Total training time: 11.64 seconds.\n",
      "-- Epoch 129\n",
      "Norm: 10409.88, NNZs: 120, Bias: -10.159948, T: 26578128, Avg. loss: 1079906.268216\n",
      "Total training time: 11.74 seconds.\n",
      "-- Epoch 130\n",
      "Norm: 10355.91, NNZs: 120, Bias: -10.125877, T: 26784160, Avg. loss: 1077001.263893\n",
      "Total training time: 11.83 seconds.\n",
      "-- Epoch 131\n",
      "Norm: 10292.67, NNZs: 120, Bias: -10.096853, T: 26990192, Avg. loss: 1060630.853485\n",
      "Total training time: 11.94 seconds.\n",
      "-- Epoch 132\n",
      "Norm: 10217.67, NNZs: 120, Bias: -10.058439, T: 27196224, Avg. loss: 1058152.486874\n",
      "Total training time: 12.03 seconds.\n",
      "-- Epoch 133\n",
      "Norm: 10160.39, NNZs: 120, Bias: -10.033875, T: 27402256, Avg. loss: 1051034.940739\n",
      "Total training time: 12.12 seconds.\n",
      "-- Epoch 134\n",
      "Norm: 10086.35, NNZs: 120, Bias: -10.007659, T: 27608288, Avg. loss: 1033930.661880\n",
      "Total training time: 12.22 seconds.\n",
      "-- Epoch 135\n",
      "Norm: 10018.29, NNZs: 120, Bias: -9.974075, T: 27814320, Avg. loss: 1031228.864750\n",
      "Total training time: 12.31 seconds.\n",
      "-- Epoch 136\n",
      "Norm: 9955.82, NNZs: 120, Bias: -9.940388, T: 28020352, Avg. loss: 1024196.138942\n",
      "Total training time: 12.40 seconds.\n",
      "-- Epoch 137\n",
      "Norm: 9901.15, NNZs: 120, Bias: -9.901965, T: 28226384, Avg. loss: 1017471.373214\n",
      "Total training time: 12.50 seconds.\n",
      "-- Epoch 138\n",
      "Norm: 9851.57, NNZs: 120, Bias: -9.877967, T: 28432416, Avg. loss: 1010803.741957\n",
      "Total training time: 12.59 seconds.\n",
      "-- Epoch 139\n",
      "Norm: 9800.32, NNZs: 120, Bias: -9.843260, T: 28638448, Avg. loss: 1003127.685150\n",
      "Total training time: 12.69 seconds.\n",
      "-- Epoch 140\n",
      "Norm: 9741.35, NNZs: 120, Bias: -9.803943, T: 28844480, Avg. loss: 995481.708915\n",
      "Total training time: 12.79 seconds.\n",
      "-- Epoch 141\n",
      "Norm: 9679.34, NNZs: 120, Bias: -9.774596, T: 29050512, Avg. loss: 994216.532654\n",
      "Total training time: 12.88 seconds.\n",
      "-- Epoch 142\n",
      "Norm: 9621.22, NNZs: 120, Bias: -9.739284, T: 29256544, Avg. loss: 979696.480635\n",
      "Total training time: 12.96 seconds.\n",
      "-- Epoch 143\n",
      "Norm: 9567.63, NNZs: 120, Bias: -9.714448, T: 29462576, Avg. loss: 971968.929688\n",
      "Total training time: 13.05 seconds.\n",
      "-- Epoch 144\n",
      "Norm: 9515.11, NNZs: 120, Bias: -9.683677, T: 29668608, Avg. loss: 974576.261332\n",
      "Total training time: 13.15 seconds.\n",
      "-- Epoch 145\n",
      "Norm: 9470.12, NNZs: 120, Bias: -9.668906, T: 29874640, Avg. loss: 963336.472306\n",
      "Total training time: 13.25 seconds.\n",
      "-- Epoch 146\n",
      "Norm: 9421.07, NNZs: 120, Bias: -9.638889, T: 30080672, Avg. loss: 955332.911246\n",
      "Total training time: 13.35 seconds.\n",
      "-- Epoch 147\n",
      "Norm: 9358.74, NNZs: 120, Bias: -9.607730, T: 30286704, Avg. loss: 950133.660243\n",
      "Total training time: 13.44 seconds.\n",
      "-- Epoch 148\n",
      "Norm: 9302.81, NNZs: 120, Bias: -9.578772, T: 30492736, Avg. loss: 944885.441094\n",
      "Total training time: 13.54 seconds.\n",
      "-- Epoch 149\n",
      "Norm: 9250.99, NNZs: 120, Bias: -9.551951, T: 30698768, Avg. loss: 937553.589261\n",
      "Total training time: 13.63 seconds.\n",
      "-- Epoch 150\n",
      "Norm: 9194.69, NNZs: 120, Bias: -9.516565, T: 30904800, Avg. loss: 928765.879147\n",
      "Total training time: 13.72 seconds.\n",
      "-- Epoch 151\n",
      "Norm: 9147.34, NNZs: 120, Bias: -9.482692, T: 31110832, Avg. loss: 924907.310169\n",
      "Total training time: 13.81 seconds.\n",
      "-- Epoch 152\n",
      "Norm: 9097.18, NNZs: 120, Bias: -9.457338, T: 31316864, Avg. loss: 921039.460525\n",
      "Total training time: 13.90 seconds.\n",
      "-- Epoch 153\n",
      "Norm: 9057.81, NNZs: 120, Bias: -9.433472, T: 31522896, Avg. loss: 910737.067103\n",
      "Total training time: 13.99 seconds.\n",
      "-- Epoch 154\n",
      "Norm: 9009.19, NNZs: 120, Bias: -9.392074, T: 31728928, Avg. loss: 907058.418119\n",
      "Total training time: 14.07 seconds.\n",
      "-- Epoch 155\n",
      "Norm: 8967.43, NNZs: 120, Bias: -9.366659, T: 31934960, Avg. loss: 903653.945168\n",
      "Total training time: 14.17 seconds.\n",
      "-- Epoch 156\n",
      "Norm: 8924.05, NNZs: 120, Bias: -9.343556, T: 32140992, Avg. loss: 891622.342872\n",
      "Total training time: 14.26 seconds.\n",
      "-- Epoch 157\n",
      "Norm: 8875.10, NNZs: 120, Bias: -9.311012, T: 32347024, Avg. loss: 889925.385088\n",
      "Total training time: 14.36 seconds.\n",
      "-- Epoch 158\n",
      "Norm: 8831.81, NNZs: 120, Bias: -9.280514, T: 32553056, Avg. loss: 882217.601526\n",
      "Total training time: 14.46 seconds.\n",
      "-- Epoch 159\n",
      "Norm: 8783.04, NNZs: 120, Bias: -9.261498, T: 32759088, Avg. loss: 874676.446311\n",
      "Total training time: 14.56 seconds.\n",
      "-- Epoch 160\n",
      "Norm: 8733.32, NNZs: 120, Bias: -9.223765, T: 32965120, Avg. loss: 873941.621122\n",
      "Total training time: 14.66 seconds.\n",
      "-- Epoch 161\n",
      "Norm: 8691.82, NNZs: 120, Bias: -9.201995, T: 33171152, Avg. loss: 863642.734605\n",
      "Total training time: 14.73 seconds.\n",
      "-- Epoch 162\n",
      "Norm: 8643.60, NNZs: 120, Bias: -9.167437, T: 33377184, Avg. loss: 860299.557925\n",
      "Total training time: 14.83 seconds.\n",
      "-- Epoch 163\n",
      "Norm: 8605.49, NNZs: 120, Bias: -9.142935, T: 33583216, Avg. loss: 855307.852109\n",
      "Total training time: 14.92 seconds.\n",
      "-- Epoch 164\n",
      "Norm: 8573.49, NNZs: 120, Bias: -9.119752, T: 33789248, Avg. loss: 850007.091268\n",
      "Total training time: 15.01 seconds.\n",
      "-- Epoch 165\n",
      "Norm: 8528.65, NNZs: 120, Bias: -9.091694, T: 33995280, Avg. loss: 844842.009741\n",
      "Total training time: 15.10 seconds.\n",
      "-- Epoch 166\n",
      "Norm: 8487.17, NNZs: 120, Bias: -9.067936, T: 34201312, Avg. loss: 839551.534822\n",
      "Total training time: 15.19 seconds.\n",
      "-- Epoch 167\n",
      "Norm: 8447.97, NNZs: 120, Bias: -9.038211, T: 34407344, Avg. loss: 835970.043749\n",
      "Total training time: 15.27 seconds.\n",
      "-- Epoch 168\n",
      "Norm: 8401.62, NNZs: 120, Bias: -9.014743, T: 34613376, Avg. loss: 833831.578269\n",
      "Total training time: 15.37 seconds.\n",
      "-- Epoch 169\n",
      "Norm: 8356.17, NNZs: 120, Bias: -8.984210, T: 34819408, Avg. loss: 821413.969955\n",
      "Total training time: 15.46 seconds.\n",
      "-- Epoch 170\n",
      "Norm: 8324.38, NNZs: 120, Bias: -8.967315, T: 35025440, Avg. loss: 819429.369669\n",
      "Total training time: 15.54 seconds.\n",
      "-- Epoch 171\n",
      "Norm: 8281.83, NNZs: 120, Bias: -8.938554, T: 35231472, Avg. loss: 815976.893561\n",
      "Total training time: 15.63 seconds.\n",
      "-- Epoch 172\n",
      "Norm: 8256.81, NNZs: 120, Bias: -8.919600, T: 35437504, Avg. loss: 807896.851144\n",
      "Total training time: 15.73 seconds.\n",
      "-- Epoch 173\n",
      "Norm: 8214.84, NNZs: 120, Bias: -8.898776, T: 35643536, Avg. loss: 805429.206410\n",
      "Total training time: 15.81 seconds.\n",
      "-- Epoch 174\n",
      "Norm: 8169.34, NNZs: 120, Bias: -8.875559, T: 35849568, Avg. loss: 803290.115819\n",
      "Total training time: 15.90 seconds.\n",
      "-- Epoch 175\n",
      "Norm: 8128.57, NNZs: 120, Bias: -8.847197, T: 36055600, Avg. loss: 795017.676048\n",
      "Total training time: 16.00 seconds.\n",
      "-- Epoch 176\n",
      "Norm: 8079.94, NNZs: 120, Bias: -8.823965, T: 36261632, Avg. loss: 789814.116238\n",
      "Total training time: 16.08 seconds.\n",
      "-- Epoch 177\n",
      "Norm: 8047.23, NNZs: 120, Bias: -8.802796, T: 36467664, Avg. loss: 788883.279737\n",
      "Total training time: 16.17 seconds.\n",
      "-- Epoch 178\n",
      "Norm: 8005.13, NNZs: 120, Bias: -8.779572, T: 36673696, Avg. loss: 780025.651977\n",
      "Total training time: 16.27 seconds.\n",
      "-- Epoch 179\n",
      "Norm: 7966.85, NNZs: 120, Bias: -8.753207, T: 36879728, Avg. loss: 780160.850559\n",
      "Total training time: 16.36 seconds.\n",
      "-- Epoch 180\n",
      "Norm: 7938.71, NNZs: 120, Bias: -8.743197, T: 37085760, Avg. loss: 775157.378027\n",
      "Total training time: 16.46 seconds.\n",
      "-- Epoch 181\n",
      "Norm: 7899.61, NNZs: 120, Bias: -8.722497, T: 37291792, Avg. loss: 770853.791013\n",
      "Total training time: 16.56 seconds.\n",
      "-- Epoch 182\n",
      "Norm: 7871.75, NNZs: 120, Bias: -8.694162, T: 37497824, Avg. loss: 768371.964168\n",
      "Total training time: 16.65 seconds.\n",
      "-- Epoch 183\n",
      "Norm: 7836.24, NNZs: 120, Bias: -8.672877, T: 37703856, Avg. loss: 757616.477828\n",
      "Total training time: 16.74 seconds.\n",
      "-- Epoch 184\n",
      "Norm: 7803.54, NNZs: 120, Bias: -8.654631, T: 37909888, Avg. loss: 756579.664572\n",
      "Total training time: 16.84 seconds.\n",
      "-- Epoch 185\n",
      "Norm: 7771.05, NNZs: 120, Bias: -8.633061, T: 38115920, Avg. loss: 751042.263777\n",
      "Total training time: 16.93 seconds.\n",
      "-- Epoch 186\n",
      "Norm: 7734.13, NNZs: 120, Bias: -8.612138, T: 38321952, Avg. loss: 752033.035278\n",
      "Total training time: 17.01 seconds.\n",
      "-- Epoch 187\n",
      "Norm: 7698.08, NNZs: 120, Bias: -8.590794, T: 38527984, Avg. loss: 748354.839604\n",
      "Total training time: 17.11 seconds.\n",
      "-- Epoch 188\n",
      "Norm: 7668.40, NNZs: 120, Bias: -8.570860, T: 38734016, Avg. loss: 740370.217739\n",
      "Total training time: 17.20 seconds.\n",
      "-- Epoch 189\n",
      "Norm: 7635.35, NNZs: 120, Bias: -8.547436, T: 38940048, Avg. loss: 735327.476192\n",
      "Total training time: 17.28 seconds.\n",
      "-- Epoch 190\n",
      "Norm: 7610.12, NNZs: 120, Bias: -8.523630, T: 39146080, Avg. loss: 730105.611564\n",
      "Total training time: 17.39 seconds.\n",
      "-- Epoch 191\n",
      "Norm: 7576.12, NNZs: 120, Bias: -8.507588, T: 39352112, Avg. loss: 731860.601062\n",
      "Total training time: 17.47 seconds.\n",
      "-- Epoch 192\n",
      "Norm: 7547.02, NNZs: 120, Bias: -8.491878, T: 39558144, Avg. loss: 723248.284762\n",
      "Total training time: 17.56 seconds.\n",
      "-- Epoch 193\n",
      "Norm: 7514.21, NNZs: 120, Bias: -8.469959, T: 39764176, Avg. loss: 721754.987704\n",
      "Total training time: 17.66 seconds.\n",
      "-- Epoch 194\n",
      "Norm: 7479.15, NNZs: 120, Bias: -8.446377, T: 39970208, Avg. loss: 716844.214835\n",
      "Total training time: 17.74 seconds.\n",
      "-- Epoch 195\n",
      "Norm: 7446.29, NNZs: 120, Bias: -8.427919, T: 40176240, Avg. loss: 715806.424545\n",
      "Total training time: 17.82 seconds.\n",
      "-- Epoch 196\n",
      "Norm: 7413.75, NNZs: 120, Bias: -8.408801, T: 40382272, Avg. loss: 711088.502047\n",
      "Total training time: 17.93 seconds.\n",
      "-- Epoch 197\n",
      "Norm: 7377.83, NNZs: 120, Bias: -8.388552, T: 40588304, Avg. loss: 710031.463431\n",
      "Total training time: 18.02 seconds.\n",
      "-- Epoch 198\n",
      "Norm: 7347.10, NNZs: 120, Bias: -8.368650, T: 40794336, Avg. loss: 705643.115803\n",
      "Total training time: 18.12 seconds.\n",
      "-- Epoch 199\n",
      "Norm: 7313.92, NNZs: 120, Bias: -8.352509, T: 41000368, Avg. loss: 698298.447924\n",
      "Total training time: 18.23 seconds.\n",
      "-- Epoch 200\n",
      "Norm: 7288.13, NNZs: 120, Bias: -8.335466, T: 41206400, Avg. loss: 695717.837824\n",
      "Total training time: 18.32 seconds.\n",
      "-- Epoch 201\n",
      "Norm: 7254.01, NNZs: 120, Bias: -8.316825, T: 41412432, Avg. loss: 693282.587712\n",
      "Total training time: 18.41 seconds.\n",
      "-- Epoch 202\n",
      "Norm: 7229.98, NNZs: 120, Bias: -8.293941, T: 41618464, Avg. loss: 686952.230940\n",
      "Total training time: 18.50 seconds.\n",
      "-- Epoch 203\n",
      "Norm: 7204.39, NNZs: 120, Bias: -8.265179, T: 41824496, Avg. loss: 687339.222164\n",
      "Total training time: 18.59 seconds.\n",
      "-- Epoch 204\n",
      "Norm: 7173.95, NNZs: 120, Bias: -8.245863, T: 42030528, Avg. loss: 678498.805256\n",
      "Total training time: 18.68 seconds.\n",
      "-- Epoch 205\n",
      "Norm: 7149.60, NNZs: 120, Bias: -8.221182, T: 42236560, Avg. loss: 678831.146612\n",
      "Total training time: 18.78 seconds.\n",
      "-- Epoch 206\n",
      "Norm: 7120.08, NNZs: 120, Bias: -8.198972, T: 42442592, Avg. loss: 675050.545364\n",
      "Total training time: 18.87 seconds.\n",
      "-- Epoch 207\n",
      "Norm: 7095.01, NNZs: 120, Bias: -8.183466, T: 42648624, Avg. loss: 675570.356400\n",
      "Total training time: 18.96 seconds.\n",
      "-- Epoch 208\n",
      "Norm: 7064.47, NNZs: 120, Bias: -8.170133, T: 42854656, Avg. loss: 670523.359735\n",
      "Total training time: 19.06 seconds.\n",
      "-- Epoch 209\n",
      "Norm: 7037.71, NNZs: 120, Bias: -8.149182, T: 43060688, Avg. loss: 662146.857033\n",
      "Total training time: 19.15 seconds.\n",
      "-- Epoch 210\n",
      "Norm: 7009.62, NNZs: 120, Bias: -8.132028, T: 43266720, Avg. loss: 661587.480189\n",
      "Total training time: 19.24 seconds.\n",
      "-- Epoch 211\n",
      "Norm: 6980.35, NNZs: 120, Bias: -8.109434, T: 43472752, Avg. loss: 663033.722069\n",
      "Total training time: 19.33 seconds.\n",
      "-- Epoch 212\n",
      "Norm: 6954.11, NNZs: 120, Bias: -8.085341, T: 43678784, Avg. loss: 656944.817934\n",
      "Total training time: 19.42 seconds.\n",
      "-- Epoch 213\n",
      "Norm: 6934.20, NNZs: 120, Bias: -8.068198, T: 43884816, Avg. loss: 654366.882733\n",
      "Total training time: 19.49 seconds.\n",
      "-- Epoch 214\n",
      "Norm: 6915.99, NNZs: 120, Bias: -8.048421, T: 44090848, Avg. loss: 650403.326230\n",
      "Total training time: 19.61 seconds.\n",
      "-- Epoch 215\n",
      "Norm: 6893.48, NNZs: 120, Bias: -8.027383, T: 44296880, Avg. loss: 645480.861755\n",
      "Total training time: 19.70 seconds.\n",
      "-- Epoch 216\n",
      "Norm: 6870.63, NNZs: 120, Bias: -8.008914, T: 44502912, Avg. loss: 645042.633416\n",
      "Total training time: 19.79 seconds.\n",
      "-- Epoch 217\n",
      "Norm: 6848.36, NNZs: 120, Bias: -7.991207, T: 44708944, Avg. loss: 635751.808228\n",
      "Total training time: 19.88 seconds.\n",
      "-- Epoch 218\n",
      "Norm: 6819.63, NNZs: 120, Bias: -7.975380, T: 44914976, Avg. loss: 638464.482265\n",
      "Total training time: 19.98 seconds.\n",
      "-- Epoch 219\n",
      "Norm: 6797.38, NNZs: 120, Bias: -7.956048, T: 45121008, Avg. loss: 637995.371986\n",
      "Total training time: 20.06 seconds.\n",
      "-- Epoch 220\n",
      "Norm: 6773.39, NNZs: 120, Bias: -7.939683, T: 45327040, Avg. loss: 635098.421004\n",
      "Total training time: 20.16 seconds.\n",
      "-- Epoch 221\n",
      "Norm: 6748.17, NNZs: 120, Bias: -7.922291, T: 45533072, Avg. loss: 624478.654704\n",
      "Total training time: 20.24 seconds.\n",
      "-- Epoch 222\n",
      "Norm: 6722.76, NNZs: 120, Bias: -7.906294, T: 45739104, Avg. loss: 625115.245267\n",
      "Total training time: 20.33 seconds.\n",
      "-- Epoch 223\n",
      "Norm: 6695.37, NNZs: 120, Bias: -7.887533, T: 45945136, Avg. loss: 623079.929481\n",
      "Total training time: 20.43 seconds.\n",
      "-- Epoch 224\n",
      "Norm: 6669.35, NNZs: 120, Bias: -7.864945, T: 46151168, Avg. loss: 619051.382412\n",
      "Total training time: 20.51 seconds.\n",
      "-- Epoch 225\n",
      "Norm: 6646.16, NNZs: 120, Bias: -7.842466, T: 46357200, Avg. loss: 617589.825526\n",
      "Total training time: 20.61 seconds.\n",
      "-- Epoch 226\n",
      "Norm: 6627.75, NNZs: 120, Bias: -7.830202, T: 46563232, Avg. loss: 612019.853313\n",
      "Total training time: 20.70 seconds.\n",
      "-- Epoch 227\n",
      "Norm: 6609.34, NNZs: 120, Bias: -7.810701, T: 46769264, Avg. loss: 610977.124539\n",
      "Total training time: 20.79 seconds.\n",
      "-- Epoch 228\n",
      "Norm: 6588.04, NNZs: 120, Bias: -7.793852, T: 46975296, Avg. loss: 609965.499353\n",
      "Total training time: 20.88 seconds.\n",
      "-- Epoch 229\n",
      "Norm: 6569.14, NNZs: 120, Bias: -7.777074, T: 47181328, Avg. loss: 610282.896637\n",
      "Total training time: 20.98 seconds.\n",
      "-- Epoch 230\n",
      "Norm: 6549.63, NNZs: 120, Bias: -7.764384, T: 47387360, Avg. loss: 607041.642555\n",
      "Total training time: 21.07 seconds.\n",
      "-- Epoch 231\n",
      "Norm: 6530.40, NNZs: 120, Bias: -7.747122, T: 47593392, Avg. loss: 602099.330424\n",
      "Total training time: 21.16 seconds.\n",
      "-- Epoch 232\n",
      "Norm: 6501.84, NNZs: 120, Bias: -7.726582, T: 47799424, Avg. loss: 601331.343291\n",
      "Total training time: 21.26 seconds.\n",
      "-- Epoch 233\n",
      "Norm: 6480.72, NNZs: 120, Bias: -7.710501, T: 48005456, Avg. loss: 598803.146317\n",
      "Total training time: 21.34 seconds.\n",
      "-- Epoch 234\n",
      "Norm: 6461.11, NNZs: 120, Bias: -7.699062, T: 48211488, Avg. loss: 595391.687861\n",
      "Total training time: 21.43 seconds.\n",
      "-- Epoch 235\n",
      "Norm: 6435.97, NNZs: 120, Bias: -7.682502, T: 48417520, Avg. loss: 591068.035714\n",
      "Total training time: 21.52 seconds.\n",
      "-- Epoch 236\n",
      "Norm: 6413.46, NNZs: 120, Bias: -7.663950, T: 48623552, Avg. loss: 588259.105397\n",
      "Total training time: 21.61 seconds.\n",
      "-- Epoch 237\n",
      "Norm: 6394.71, NNZs: 120, Bias: -7.643227, T: 48829584, Avg. loss: 587944.169840\n",
      "Total training time: 21.70 seconds.\n",
      "-- Epoch 238\n",
      "Norm: 6376.72, NNZs: 120, Bias: -7.633625, T: 49035616, Avg. loss: 582808.479701\n",
      "Total training time: 21.79 seconds.\n",
      "-- Epoch 239\n",
      "Norm: 6353.50, NNZs: 120, Bias: -7.613282, T: 49241648, Avg. loss: 580004.454425\n",
      "Total training time: 21.87 seconds.\n",
      "-- Epoch 240\n",
      "Norm: 6337.95, NNZs: 120, Bias: -7.599705, T: 49447680, Avg. loss: 581126.288715\n",
      "Total training time: 21.96 seconds.\n",
      "-- Epoch 241\n",
      "Norm: 6318.46, NNZs: 120, Bias: -7.588412, T: 49653712, Avg. loss: 573925.041340\n",
      "Total training time: 22.06 seconds.\n",
      "-- Epoch 242\n",
      "Norm: 6297.89, NNZs: 120, Bias: -7.567310, T: 49859744, Avg. loss: 577816.341326\n",
      "Total training time: 22.15 seconds.\n",
      "-- Epoch 243\n",
      "Norm: 6280.41, NNZs: 120, Bias: -7.549098, T: 50065776, Avg. loss: 572423.578591\n",
      "Total training time: 22.24 seconds.\n",
      "-- Epoch 244\n",
      "Norm: 6258.29, NNZs: 120, Bias: -7.532562, T: 50271808, Avg. loss: 572393.291569\n",
      "Total training time: 22.34 seconds.\n",
      "-- Epoch 245\n",
      "Norm: 6241.74, NNZs: 120, Bias: -7.515895, T: 50477840, Avg. loss: 567406.968298\n",
      "Total training time: 22.41 seconds.\n",
      "-- Epoch 246\n",
      "Norm: 6223.54, NNZs: 120, Bias: -7.503045, T: 50683872, Avg. loss: 564350.318842\n",
      "Total training time: 22.50 seconds.\n",
      "-- Epoch 247\n",
      "Norm: 6203.35, NNZs: 120, Bias: -7.485527, T: 50889904, Avg. loss: 563319.044173\n",
      "Total training time: 22.60 seconds.\n",
      "-- Epoch 248\n",
      "Norm: 6181.62, NNZs: 120, Bias: -7.468065, T: 51095936, Avg. loss: 558087.820057\n",
      "Total training time: 22.68 seconds.\n",
      "-- Epoch 249\n",
      "Norm: 6163.53, NNZs: 120, Bias: -7.451266, T: 51301968, Avg. loss: 558052.910724\n",
      "Total training time: 22.77 seconds.\n",
      "-- Epoch 250\n",
      "Norm: 6148.55, NNZs: 120, Bias: -7.436288, T: 51508000, Avg. loss: 557145.934925\n",
      "Total training time: 22.88 seconds.\n",
      "-- Epoch 251\n",
      "Norm: 6127.79, NNZs: 120, Bias: -7.420981, T: 51714032, Avg. loss: 555737.942963\n",
      "Total training time: 22.96 seconds.\n",
      "-- Epoch 252\n",
      "Norm: 6110.84, NNZs: 120, Bias: -7.403229, T: 51920064, Avg. loss: 554552.745462\n",
      "Total training time: 23.05 seconds.\n",
      "-- Epoch 253\n",
      "Norm: 6093.43, NNZs: 120, Bias: -7.385930, T: 52126096, Avg. loss: 551991.594823\n",
      "Total training time: 23.15 seconds.\n",
      "-- Epoch 254\n",
      "Norm: 6076.25, NNZs: 120, Bias: -7.372907, T: 52332128, Avg. loss: 550456.828643\n",
      "Total training time: 23.23 seconds.\n",
      "-- Epoch 255\n",
      "Norm: 6059.41, NNZs: 120, Bias: -7.355554, T: 52538160, Avg. loss: 549369.350261\n",
      "Total training time: 23.34 seconds.\n",
      "-- Epoch 256\n",
      "Norm: 6048.43, NNZs: 120, Bias: -7.345868, T: 52744192, Avg. loss: 540985.274986\n",
      "Total training time: 23.45 seconds.\n",
      "-- Epoch 257\n",
      "Norm: 6029.57, NNZs: 120, Bias: -7.332240, T: 52950224, Avg. loss: 543833.759940\n",
      "Total training time: 23.55 seconds.\n",
      "-- Epoch 258\n",
      "Norm: 6010.72, NNZs: 120, Bias: -7.316585, T: 53156256, Avg. loss: 536070.644843\n",
      "Total training time: 23.64 seconds.\n",
      "-- Epoch 259\n",
      "Norm: 5989.16, NNZs: 120, Bias: -7.299119, T: 53362288, Avg. loss: 535147.379012\n",
      "Total training time: 23.74 seconds.\n",
      "-- Epoch 260\n",
      "Norm: 5970.28, NNZs: 120, Bias: -7.281534, T: 53568320, Avg. loss: 535026.607087\n",
      "Total training time: 23.81 seconds.\n",
      "-- Epoch 261\n",
      "Norm: 5955.84, NNZs: 120, Bias: -7.268681, T: 53774352, Avg. loss: 532687.145160\n",
      "Total training time: 23.93 seconds.\n",
      "-- Epoch 262\n",
      "Norm: 5938.40, NNZs: 120, Bias: -7.254206, T: 53980384, Avg. loss: 532205.264567\n",
      "Total training time: 24.02 seconds.\n",
      "-- Epoch 263\n",
      "Norm: 5921.54, NNZs: 120, Bias: -7.237385, T: 54186416, Avg. loss: 529888.986043\n",
      "Total training time: 24.10 seconds.\n",
      "-- Epoch 264\n",
      "Norm: 5904.10, NNZs: 120, Bias: -7.225042, T: 54392448, Avg. loss: 526962.563144\n",
      "Total training time: 24.20 seconds.\n",
      "-- Epoch 265\n",
      "Norm: 5889.09, NNZs: 120, Bias: -7.211833, T: 54598480, Avg. loss: 525700.407845\n",
      "Total training time: 24.30 seconds.\n",
      "-- Epoch 266\n",
      "Norm: 5871.26, NNZs: 120, Bias: -7.200501, T: 54804512, Avg. loss: 522576.061521\n",
      "Total training time: 24.39 seconds.\n",
      "-- Epoch 267\n",
      "Norm: 5854.44, NNZs: 120, Bias: -7.183562, T: 55010544, Avg. loss: 522266.875705\n",
      "Total training time: 24.47 seconds.\n",
      "-- Epoch 268\n",
      "Norm: 5838.90, NNZs: 120, Bias: -7.172679, T: 55216576, Avg. loss: 517067.624019\n",
      "Total training time: 24.56 seconds.\n",
      "-- Epoch 269\n",
      "Norm: 5817.75, NNZs: 120, Bias: -7.157502, T: 55422608, Avg. loss: 516117.991853\n",
      "Total training time: 24.65 seconds.\n",
      "-- Epoch 270\n",
      "Norm: 5803.75, NNZs: 120, Bias: -7.142185, T: 55628640, Avg. loss: 517096.791376\n",
      "Total training time: 24.75 seconds.\n",
      "-- Epoch 271\n",
      "Norm: 5794.13, NNZs: 120, Bias: -7.126927, T: 55834672, Avg. loss: 514604.388486\n",
      "Total training time: 24.84 seconds.\n",
      "-- Epoch 272\n",
      "Norm: 5780.49, NNZs: 120, Bias: -7.110831, T: 56040704, Avg. loss: 510787.174952\n",
      "Total training time: 24.92 seconds.\n",
      "-- Epoch 273\n",
      "Norm: 5765.20, NNZs: 120, Bias: -7.101387, T: 56246736, Avg. loss: 506501.280095\n",
      "Total training time: 25.03 seconds.\n",
      "-- Epoch 274\n",
      "Norm: 5748.80, NNZs: 120, Bias: -7.082934, T: 56452768, Avg. loss: 507344.239802\n",
      "Total training time: 25.12 seconds.\n",
      "-- Epoch 275\n",
      "Norm: 5734.47, NNZs: 120, Bias: -7.069666, T: 56658800, Avg. loss: 506131.240692\n",
      "Total training time: 25.19 seconds.\n",
      "-- Epoch 276\n",
      "Norm: 5722.24, NNZs: 120, Bias: -7.056281, T: 56864832, Avg. loss: 503731.526582\n",
      "Total training time: 25.30 seconds.\n",
      "-- Epoch 277\n",
      "Norm: 5705.74, NNZs: 120, Bias: -7.041882, T: 57070864, Avg. loss: 503692.695219\n",
      "Total training time: 25.39 seconds.\n",
      "-- Epoch 278\n",
      "Norm: 5689.48, NNZs: 120, Bias: -7.033135, T: 57276896, Avg. loss: 499592.897583\n",
      "Total training time: 25.47 seconds.\n",
      "-- Epoch 279\n",
      "Norm: 5675.77, NNZs: 120, Bias: -7.022502, T: 57482928, Avg. loss: 497754.034650\n",
      "Total training time: 25.58 seconds.\n",
      "-- Epoch 280\n",
      "Norm: 5661.14, NNZs: 120, Bias: -7.011732, T: 57688960, Avg. loss: 496584.002326\n",
      "Total training time: 25.67 seconds.\n",
      "-- Epoch 281\n",
      "Norm: 5647.05, NNZs: 120, Bias: -6.998059, T: 57894992, Avg. loss: 493646.624889\n",
      "Total training time: 25.77 seconds.\n",
      "-- Epoch 282\n",
      "Norm: 5631.19, NNZs: 120, Bias: -6.985988, T: 58101024, Avg. loss: 492052.713230\n",
      "Total training time: 25.88 seconds.\n",
      "-- Epoch 283\n",
      "Norm: 5620.16, NNZs: 120, Bias: -6.975507, T: 58307056, Avg. loss: 491626.059610\n",
      "Total training time: 25.98 seconds.\n",
      "-- Epoch 284\n",
      "Norm: 5603.56, NNZs: 120, Bias: -6.964210, T: 58513088, Avg. loss: 490301.560135\n",
      "Total training time: 26.09 seconds.\n",
      "-- Epoch 285\n",
      "Norm: 5588.03, NNZs: 120, Bias: -6.949533, T: 58719120, Avg. loss: 483286.025229\n",
      "Total training time: 26.18 seconds.\n",
      "-- Epoch 286\n",
      "Norm: 5571.98, NNZs: 120, Bias: -6.933045, T: 58925152, Avg. loss: 484557.063401\n",
      "Total training time: 26.28 seconds.\n",
      "-- Epoch 287\n",
      "Norm: 5558.28, NNZs: 120, Bias: -6.917295, T: 59131184, Avg. loss: 485635.400199\n",
      "Total training time: 26.41 seconds.\n",
      "-- Epoch 288\n",
      "Norm: 5544.35, NNZs: 120, Bias: -6.907001, T: 59337216, Avg. loss: 482656.446699\n",
      "Total training time: 26.50 seconds.\n",
      "-- Epoch 289\n",
      "Norm: 5532.87, NNZs: 120, Bias: -6.897576, T: 59543248, Avg. loss: 481027.917719\n",
      "Total training time: 26.59 seconds.\n",
      "-- Epoch 290\n",
      "Norm: 5518.34, NNZs: 120, Bias: -6.884326, T: 59749280, Avg. loss: 479132.994291\n",
      "Total training time: 26.68 seconds.\n",
      "-- Epoch 291\n",
      "Norm: 5502.07, NNZs: 120, Bias: -6.872472, T: 59955312, Avg. loss: 475498.955743\n",
      "Total training time: 26.77 seconds.\n",
      "-- Epoch 292\n",
      "Norm: 5485.41, NNZs: 120, Bias: -6.862317, T: 60161344, Avg. loss: 478544.447451\n",
      "Total training time: 26.86 seconds.\n",
      "-- Epoch 293\n",
      "Norm: 5470.81, NNZs: 120, Bias: -6.844065, T: 60367376, Avg. loss: 476453.703690\n",
      "Total training time: 26.95 seconds.\n",
      "-- Epoch 294\n",
      "Norm: 5454.34, NNZs: 120, Bias: -6.831667, T: 60573408, Avg. loss: 473975.372860\n",
      "Total training time: 27.04 seconds.\n",
      "-- Epoch 295\n",
      "Norm: 5441.29, NNZs: 120, Bias: -6.819958, T: 60779440, Avg. loss: 469922.246154\n",
      "Total training time: 27.14 seconds.\n",
      "-- Epoch 296\n",
      "Norm: 5429.73, NNZs: 120, Bias: -6.805669, T: 60985472, Avg. loss: 469428.809839\n",
      "Total training time: 27.23 seconds.\n",
      "-- Epoch 297\n",
      "Norm: 5414.89, NNZs: 120, Bias: -6.791102, T: 61191504, Avg. loss: 469096.548946\n",
      "Total training time: 27.32 seconds.\n",
      "-- Epoch 298\n",
      "Norm: 5402.66, NNZs: 120, Bias: -6.779031, T: 61397536, Avg. loss: 465930.776283\n",
      "Total training time: 27.40 seconds.\n",
      "-- Epoch 299\n",
      "Norm: 5388.17, NNZs: 120, Bias: -6.763912, T: 61603568, Avg. loss: 464053.820618\n",
      "Total training time: 27.51 seconds.\n",
      "-- Epoch 300\n",
      "Norm: 5377.50, NNZs: 120, Bias: -6.756290, T: 61809600, Avg. loss: 461985.364903\n",
      "Total training time: 27.60 seconds.\n",
      "-- Epoch 301\n",
      "Norm: 5364.41, NNZs: 120, Bias: -6.742561, T: 62015632, Avg. loss: 461555.802562\n",
      "Total training time: 27.68 seconds.\n",
      "-- Epoch 302\n",
      "Norm: 5351.48, NNZs: 120, Bias: -6.727111, T: 62221664, Avg. loss: 462920.329671\n",
      "Total training time: 27.78 seconds.\n",
      "-- Epoch 303\n",
      "Norm: 5339.94, NNZs: 120, Bias: -6.718764, T: 62427696, Avg. loss: 458727.335077\n",
      "Total training time: 27.87 seconds.\n",
      "-- Epoch 304\n",
      "Norm: 5327.10, NNZs: 120, Bias: -6.705329, T: 62633728, Avg. loss: 459661.987062\n",
      "Total training time: 27.96 seconds.\n",
      "-- Epoch 305\n",
      "Norm: 5317.27, NNZs: 120, Bias: -6.693699, T: 62839760, Avg. loss: 455187.694504\n",
      "Total training time: 28.05 seconds.\n",
      "-- Epoch 306\n",
      "Norm: 5302.31, NNZs: 120, Bias: -6.680832, T: 63045792, Avg. loss: 455963.405220\n",
      "Total training time: 28.13 seconds.\n",
      "-- Epoch 307\n",
      "Norm: 5290.80, NNZs: 120, Bias: -6.672443, T: 63251824, Avg. loss: 449678.794823\n",
      "Total training time: 28.23 seconds.\n",
      "-- Epoch 308\n",
      "Norm: 5277.21, NNZs: 120, Bias: -6.662651, T: 63457856, Avg. loss: 450969.217951\n",
      "Total training time: 28.33 seconds.\n",
      "-- Epoch 309\n",
      "Norm: 5263.72, NNZs: 120, Bias: -6.648645, T: 63663888, Avg. loss: 449579.177185\n",
      "Total training time: 28.42 seconds.\n",
      "-- Epoch 310\n",
      "Norm: 5248.45, NNZs: 120, Bias: -6.636096, T: 63869920, Avg. loss: 448628.662560\n",
      "Total training time: 28.50 seconds.\n",
      "-- Epoch 311\n",
      "Norm: 5233.41, NNZs: 120, Bias: -6.623279, T: 64075952, Avg. loss: 446627.496358\n",
      "Total training time: 28.59 seconds.\n",
      "-- Epoch 312\n",
      "Norm: 5225.78, NNZs: 120, Bias: -6.613461, T: 64281984, Avg. loss: 445868.518272\n",
      "Total training time: 28.68 seconds.\n",
      "-- Epoch 313\n",
      "Norm: 5214.04, NNZs: 120, Bias: -6.599481, T: 64488016, Avg. loss: 447897.196825\n",
      "Total training time: 28.76 seconds.\n",
      "-- Epoch 314\n",
      "Norm: 5202.02, NNZs: 120, Bias: -6.589572, T: 64694048, Avg. loss: 443503.302009\n",
      "Total training time: 28.86 seconds.\n",
      "-- Epoch 315\n",
      "Norm: 5187.92, NNZs: 120, Bias: -6.579849, T: 64900080, Avg. loss: 441927.017067\n",
      "Total training time: 28.96 seconds.\n",
      "-- Epoch 316\n",
      "Norm: 5177.13, NNZs: 120, Bias: -6.571849, T: 65106112, Avg. loss: 441397.728681\n",
      "Total training time: 29.07 seconds.\n",
      "-- Epoch 317\n",
      "Norm: 5166.00, NNZs: 120, Bias: -6.560349, T: 65312144, Avg. loss: 437448.278709\n",
      "Total training time: 29.16 seconds.\n",
      "-- Epoch 318\n",
      "Norm: 5153.53, NNZs: 120, Bias: -6.546742, T: 65518176, Avg. loss: 436637.960205\n",
      "Total training time: 29.25 seconds.\n",
      "-- Epoch 319\n",
      "Norm: 5141.13, NNZs: 120, Bias: -6.532719, T: 65724208, Avg. loss: 436695.678532\n",
      "Total training time: 29.34 seconds.\n",
      "-- Epoch 320\n",
      "Norm: 5132.49, NNZs: 120, Bias: -6.521023, T: 65930240, Avg. loss: 435369.575128\n",
      "Total training time: 29.45 seconds.\n",
      "-- Epoch 321\n",
      "Norm: 5118.89, NNZs: 120, Bias: -6.510421, T: 66136272, Avg. loss: 434202.204492\n",
      "Total training time: 29.54 seconds.\n",
      "-- Epoch 322\n",
      "Norm: 5103.78, NNZs: 120, Bias: -6.497138, T: 66342304, Avg. loss: 429863.254179\n",
      "Total training time: 29.62 seconds.\n",
      "-- Epoch 323\n",
      "Norm: 5093.47, NNZs: 120, Bias: -6.491414, T: 66548336, Avg. loss: 431036.920295\n",
      "Total training time: 29.72 seconds.\n",
      "-- Epoch 324\n",
      "Norm: 5082.46, NNZs: 120, Bias: -6.477755, T: 66754368, Avg. loss: 431687.542532\n",
      "Total training time: 29.80 seconds.\n",
      "-- Epoch 325\n",
      "Norm: 5069.16, NNZs: 120, Bias: -6.463993, T: 66960400, Avg. loss: 426083.376468\n",
      "Total training time: 29.87 seconds.\n",
      "-- Epoch 326\n",
      "Norm: 5058.55, NNZs: 120, Bias: -6.455939, T: 67166432, Avg. loss: 426984.229031\n",
      "Total training time: 29.98 seconds.\n",
      "-- Epoch 327\n",
      "Norm: 5048.59, NNZs: 120, Bias: -6.445684, T: 67372464, Avg. loss: 424431.811515\n",
      "Total training time: 30.07 seconds.\n",
      "-- Epoch 328\n",
      "Norm: 5038.74, NNZs: 120, Bias: -6.436638, T: 67578496, Avg. loss: 425789.238080\n",
      "Total training time: 30.16 seconds.\n",
      "-- Epoch 329\n",
      "Norm: 5030.56, NNZs: 120, Bias: -6.428217, T: 67784528, Avg. loss: 421663.145938\n",
      "Total training time: 30.26 seconds.\n",
      "-- Epoch 330\n",
      "Norm: 5019.84, NNZs: 120, Bias: -6.416725, T: 67990560, Avg. loss: 423797.590170\n",
      "Total training time: 30.35 seconds.\n",
      "-- Epoch 331\n",
      "Norm: 5007.36, NNZs: 120, Bias: -6.404684, T: 68196592, Avg. loss: 418801.402154\n",
      "Total training time: 30.44 seconds.\n",
      "-- Epoch 332\n",
      "Norm: 4994.83, NNZs: 120, Bias: -6.392678, T: 68402624, Avg. loss: 417265.530196\n",
      "Total training time: 30.53 seconds.\n",
      "-- Epoch 333\n",
      "Norm: 4983.30, NNZs: 120, Bias: -6.380710, T: 68608656, Avg. loss: 417294.130648\n",
      "Total training time: 30.63 seconds.\n",
      "-- Epoch 334\n",
      "Norm: 4971.52, NNZs: 120, Bias: -6.372270, T: 68814688, Avg. loss: 416719.481184\n",
      "Total training time: 30.71 seconds.\n",
      "-- Epoch 335\n",
      "Norm: 4964.10, NNZs: 120, Bias: -6.360660, T: 69020720, Avg. loss: 416158.354121\n",
      "Total training time: 30.80 seconds.\n",
      "-- Epoch 336\n",
      "Norm: 4953.22, NNZs: 121, Bias: -6.350528, T: 69226752, Avg. loss: 413414.934165\n",
      "Total training time: 30.88 seconds.\n",
      "-- Epoch 337\n",
      "Norm: 4942.86, NNZs: 121, Bias: -6.339712, T: 69432784, Avg. loss: 412087.655152\n",
      "Total training time: 30.96 seconds.\n",
      "-- Epoch 338\n",
      "Norm: 4934.04, NNZs: 121, Bias: -6.330357, T: 69638816, Avg. loss: 411600.700738\n",
      "Total training time: 31.07 seconds.\n",
      "-- Epoch 339\n",
      "Norm: 4925.54, NNZs: 121, Bias: -6.321179, T: 69844848, Avg. loss: 410321.213623\n",
      "Total training time: 31.16 seconds.\n",
      "-- Epoch 340\n",
      "Norm: 4913.95, NNZs: 121, Bias: -6.309171, T: 70050880, Avg. loss: 410029.440943\n",
      "Total training time: 31.25 seconds.\n",
      "-- Epoch 341\n",
      "Norm: 4903.56, NNZs: 121, Bias: -6.299619, T: 70256912, Avg. loss: 407764.802250\n",
      "Total training time: 31.34 seconds.\n",
      "-- Epoch 342\n",
      "Norm: 4890.31, NNZs: 121, Bias: -6.288539, T: 70462944, Avg. loss: 405877.873295\n",
      "Total training time: 31.44 seconds.\n",
      "-- Epoch 343\n",
      "Norm: 4878.81, NNZs: 121, Bias: -6.278482, T: 70668976, Avg. loss: 404755.928295\n",
      "Total training time: 31.52 seconds.\n",
      "-- Epoch 344\n",
      "Norm: 4871.04, NNZs: 121, Bias: -6.264635, T: 70875008, Avg. loss: 403594.029503\n",
      "Total training time: 31.61 seconds.\n",
      "-- Epoch 345\n",
      "Norm: 4858.74, NNZs: 121, Bias: -6.254492, T: 71081040, Avg. loss: 404383.188059\n",
      "Total training time: 31.70 seconds.\n",
      "-- Epoch 346\n",
      "Norm: 4843.75, NNZs: 121, Bias: -6.241571, T: 71287072, Avg. loss: 400547.151325\n",
      "Total training time: 31.78 seconds.\n",
      "-- Epoch 347\n",
      "Norm: 4831.11, NNZs: 121, Bias: -6.226862, T: 71493104, Avg. loss: 400115.216059\n",
      "Total training time: 31.88 seconds.\n",
      "-- Epoch 348\n",
      "Norm: 4820.42, NNZs: 121, Bias: -6.217787, T: 71699136, Avg. loss: 399489.142456\n",
      "Total training time: 31.95 seconds.\n",
      "-- Epoch 349\n",
      "Norm: 4809.93, NNZs: 121, Bias: -6.210409, T: 71905168, Avg. loss: 396639.142099\n",
      "Total training time: 32.05 seconds.\n",
      "-- Epoch 350\n",
      "Norm: 4800.05, NNZs: 121, Bias: -6.201103, T: 72111200, Avg. loss: 397185.022380\n",
      "Total training time: 32.14 seconds.\n",
      "-- Epoch 351\n",
      "Norm: 4790.08, NNZs: 121, Bias: -6.191405, T: 72317232, Avg. loss: 395119.101405\n",
      "Total training time: 32.22 seconds.\n",
      "-- Epoch 352\n",
      "Norm: 4781.05, NNZs: 121, Bias: -6.178697, T: 72523264, Avg. loss: 398225.770410\n",
      "Total training time: 32.32 seconds.\n",
      "-- Epoch 353\n",
      "Norm: 4769.36, NNZs: 121, Bias: -6.166168, T: 72729296, Avg. loss: 394567.077992\n",
      "Total training time: 32.41 seconds.\n",
      "-- Epoch 354\n",
      "Norm: 4760.70, NNZs: 121, Bias: -6.157655, T: 72935328, Avg. loss: 392340.639931\n",
      "Total training time: 32.49 seconds.\n",
      "-- Epoch 355\n",
      "Norm: 4754.68, NNZs: 121, Bias: -6.150393, T: 73141360, Avg. loss: 390929.111325\n",
      "Total training time: 32.58 seconds.\n",
      "-- Epoch 356\n",
      "Norm: 4747.14, NNZs: 121, Bias: -6.140287, T: 73347392, Avg. loss: 389165.192683\n",
      "Total training time: 32.68 seconds.\n",
      "-- Epoch 357\n",
      "Norm: 4738.55, NNZs: 121, Bias: -6.131166, T: 73553424, Avg. loss: 391157.097519\n",
      "Total training time: 32.77 seconds.\n",
      "-- Epoch 358\n",
      "Norm: 4729.26, NNZs: 121, Bias: -6.123023, T: 73759456, Avg. loss: 389340.070472\n",
      "Total training time: 32.85 seconds.\n",
      "-- Epoch 359\n",
      "Norm: 4717.91, NNZs: 121, Bias: -6.114087, T: 73965488, Avg. loss: 386855.618307\n",
      "Total training time: 32.95 seconds.\n",
      "-- Epoch 360\n",
      "Norm: 4709.47, NNZs: 121, Bias: -6.103286, T: 74171520, Avg. loss: 387008.462689\n",
      "Total training time: 33.04 seconds.\n",
      "-- Epoch 361\n",
      "Norm: 4697.20, NNZs: 121, Bias: -6.091301, T: 74377552, Avg. loss: 384595.457326\n",
      "Total training time: 33.12 seconds.\n",
      "-- Epoch 362\n",
      "Norm: 4690.26, NNZs: 121, Bias: -6.081363, T: 74583584, Avg. loss: 386283.901392\n",
      "Total training time: 33.22 seconds.\n",
      "-- Epoch 363\n",
      "Norm: 4682.48, NNZs: 121, Bias: -6.071323, T: 74789616, Avg. loss: 381692.727255\n",
      "Total training time: 33.32 seconds.\n",
      "-- Epoch 364\n",
      "Norm: 4672.10, NNZs: 121, Bias: -6.065980, T: 74995648, Avg. loss: 380337.376200\n",
      "Total training time: 33.41 seconds.\n",
      "-- Epoch 365\n",
      "Norm: 4664.38, NNZs: 121, Bias: -6.056126, T: 75201680, Avg. loss: 379508.171406\n",
      "Total training time: 33.52 seconds.\n",
      "-- Epoch 366\n",
      "Norm: 4656.89, NNZs: 121, Bias: -6.047761, T: 75407712, Avg. loss: 378500.869986\n",
      "Total training time: 33.62 seconds.\n",
      "-- Epoch 367\n",
      "Norm: 4645.74, NNZs: 121, Bias: -6.037431, T: 75613744, Avg. loss: 379071.815480\n",
      "Total training time: 33.71 seconds.\n",
      "-- Epoch 368\n",
      "Norm: 4635.14, NNZs: 121, Bias: -6.029637, T: 75819776, Avg. loss: 379314.499119\n",
      "Total training time: 33.81 seconds.\n",
      "-- Epoch 369\n",
      "Norm: 4626.05, NNZs: 121, Bias: -6.020417, T: 76025808, Avg. loss: 376922.568260\n",
      "Total training time: 33.90 seconds.\n",
      "-- Epoch 370\n",
      "Norm: 4616.87, NNZs: 121, Bias: -6.012273, T: 76231840, Avg. loss: 375922.290336\n",
      "Total training time: 33.99 seconds.\n",
      "-- Epoch 371\n",
      "Norm: 4607.31, NNZs: 121, Bias: -5.999302, T: 76437872, Avg. loss: 373030.791082\n",
      "Total training time: 34.08 seconds.\n",
      "-- Epoch 372\n",
      "Norm: 4597.89, NNZs: 121, Bias: -5.991855, T: 76643904, Avg. loss: 372339.744320\n",
      "Total training time: 34.17 seconds.\n",
      "-- Epoch 373\n",
      "Norm: 4590.27, NNZs: 121, Bias: -5.983909, T: 76849936, Avg. loss: 371852.159046\n",
      "Total training time: 34.27 seconds.\n",
      "-- Epoch 374\n",
      "Norm: 4582.23, NNZs: 121, Bias: -5.973382, T: 77055968, Avg. loss: 370977.686434\n",
      "Total training time: 34.36 seconds.\n",
      "-- Epoch 375\n",
      "Norm: 4571.43, NNZs: 121, Bias: -5.964053, T: 77262000, Avg. loss: 370189.390765\n",
      "Total training time: 34.45 seconds.\n",
      "-- Epoch 376\n",
      "Norm: 4563.65, NNZs: 121, Bias: -5.954486, T: 77468032, Avg. loss: 370314.816715\n",
      "Total training time: 34.54 seconds.\n",
      "-- Epoch 377\n",
      "Norm: 4552.80, NNZs: 121, Bias: -5.940821, T: 77674064, Avg. loss: 370018.313839\n",
      "Total training time: 34.63 seconds.\n",
      "-- Epoch 378\n",
      "Norm: 4546.22, NNZs: 121, Bias: -5.932205, T: 77880096, Avg. loss: 365084.501527\n",
      "Total training time: 34.71 seconds.\n",
      "-- Epoch 379\n",
      "Norm: 4539.54, NNZs: 121, Bias: -5.921687, T: 78086128, Avg. loss: 364988.222226\n",
      "Total training time: 34.80 seconds.\n",
      "-- Epoch 380\n",
      "Norm: 4532.65, NNZs: 121, Bias: -5.913247, T: 78292160, Avg. loss: 365370.967979\n",
      "Total training time: 34.90 seconds.\n",
      "-- Epoch 381\n",
      "Norm: 4523.54, NNZs: 121, Bias: -5.904062, T: 78498192, Avg. loss: 363565.974298\n",
      "Total training time: 34.98 seconds.\n",
      "-- Epoch 382\n",
      "Norm: 4512.89, NNZs: 121, Bias: -5.893119, T: 78704224, Avg. loss: 365539.786473\n",
      "Total training time: 35.07 seconds.\n",
      "-- Epoch 383\n",
      "Norm: 4501.84, NNZs: 121, Bias: -5.882585, T: 78910256, Avg. loss: 362869.245802\n",
      "Total training time: 35.17 seconds.\n",
      "-- Epoch 384\n",
      "Norm: 4497.57, NNZs: 121, Bias: -5.875371, T: 79116288, Avg. loss: 361460.764137\n",
      "Total training time: 35.26 seconds.\n",
      "-- Epoch 385\n",
      "Norm: 4486.62, NNZs: 121, Bias: -5.865151, T: 79322320, Avg. loss: 363145.816024\n",
      "Total training time: 35.35 seconds.\n",
      "-- Epoch 386\n",
      "Norm: 4479.76, NNZs: 121, Bias: -5.858102, T: 79528352, Avg. loss: 358207.000608\n",
      "Total training time: 35.45 seconds.\n",
      "-- Epoch 387\n",
      "Norm: 4470.63, NNZs: 121, Bias: -5.847552, T: 79734384, Avg. loss: 359535.958596\n",
      "Total training time: 35.54 seconds.\n",
      "-- Epoch 388\n",
      "Norm: 4464.08, NNZs: 121, Bias: -5.838032, T: 79940416, Avg. loss: 358752.219750\n",
      "Total training time: 35.64 seconds.\n",
      "-- Epoch 389\n",
      "Norm: 4457.42, NNZs: 121, Bias: -5.828039, T: 80146448, Avg. loss: 357075.809330\n",
      "Total training time: 35.74 seconds.\n",
      "-- Epoch 390\n",
      "Norm: 4449.28, NNZs: 121, Bias: -5.819943, T: 80352480, Avg. loss: 357392.597403\n",
      "Total training time: 35.83 seconds.\n",
      "-- Epoch 391\n",
      "Norm: 4441.18, NNZs: 121, Bias: -5.813727, T: 80558512, Avg. loss: 353172.208178\n",
      "Total training time: 35.94 seconds.\n",
      "-- Epoch 392\n",
      "Norm: 4435.26, NNZs: 121, Bias: -5.803931, T: 80764544, Avg. loss: 356433.702347\n",
      "Total training time: 36.04 seconds.\n",
      "-- Epoch 393\n",
      "Norm: 4430.03, NNZs: 121, Bias: -5.796878, T: 80970576, Avg. loss: 353880.710304\n",
      "Total training time: 36.13 seconds.\n",
      "-- Epoch 394\n",
      "Norm: 4423.55, NNZs: 121, Bias: -5.790463, T: 81176608, Avg. loss: 350330.188393\n",
      "Total training time: 36.24 seconds.\n",
      "-- Epoch 395\n",
      "Norm: 4414.65, NNZs: 121, Bias: -5.779021, T: 81382640, Avg. loss: 353447.277350\n",
      "Total training time: 36.32 seconds.\n",
      "-- Epoch 396\n",
      "Norm: 4408.62, NNZs: 121, Bias: -5.771287, T: 81588672, Avg. loss: 349630.171495\n",
      "Total training time: 36.41 seconds.\n",
      "-- Epoch 397\n",
      "Norm: 4401.94, NNZs: 121, Bias: -5.763083, T: 81794704, Avg. loss: 349792.674639\n",
      "Total training time: 36.50 seconds.\n",
      "-- Epoch 398\n",
      "Norm: 4393.45, NNZs: 121, Bias: -5.754412, T: 82000736, Avg. loss: 348535.643426\n",
      "Total training time: 36.60 seconds.\n",
      "-- Epoch 399\n",
      "Norm: 4384.17, NNZs: 121, Bias: -5.742476, T: 82206768, Avg. loss: 347804.160772\n",
      "Total training time: 36.70 seconds.\n",
      "-- Epoch 400\n",
      "Norm: 4376.66, NNZs: 121, Bias: -5.731909, T: 82412800, Avg. loss: 346299.575374\n",
      "Total training time: 36.81 seconds.\n",
      "-- Epoch 401\n",
      "Norm: 4369.02, NNZs: 121, Bias: -5.722216, T: 82618832, Avg. loss: 345259.527360\n",
      "Total training time: 36.90 seconds.\n",
      "-- Epoch 402\n",
      "Norm: 4361.34, NNZs: 121, Bias: -5.715810, T: 82824864, Avg. loss: 346186.030490\n",
      "Total training time: 37.00 seconds.\n",
      "-- Epoch 403\n",
      "Norm: 4354.89, NNZs: 121, Bias: -5.710022, T: 83030896, Avg. loss: 342949.285816\n",
      "Total training time: 37.10 seconds.\n",
      "-- Epoch 404\n",
      "Norm: 4347.65, NNZs: 121, Bias: -5.699917, T: 83236928, Avg. loss: 346197.940282\n",
      "Total training time: 37.19 seconds.\n",
      "-- Epoch 405\n",
      "Norm: 4339.11, NNZs: 121, Bias: -5.689596, T: 83442960, Avg. loss: 345272.017206\n",
      "Total training time: 37.29 seconds.\n",
      "-- Epoch 406\n",
      "Norm: 4332.39, NNZs: 121, Bias: -5.683732, T: 83648992, Avg. loss: 341126.756509\n",
      "Total training time: 37.38 seconds.\n",
      "-- Epoch 407\n",
      "Norm: 4326.03, NNZs: 121, Bias: -5.675376, T: 83855024, Avg. loss: 340658.585610\n",
      "Total training time: 37.46 seconds.\n",
      "-- Epoch 408\n",
      "Norm: 4317.57, NNZs: 121, Bias: -5.667989, T: 84061056, Avg. loss: 340524.593097\n",
      "Total training time: 37.56 seconds.\n",
      "-- Epoch 409\n",
      "Norm: 4312.14, NNZs: 121, Bias: -5.657769, T: 84267088, Avg. loss: 338641.285726\n",
      "Total training time: 37.66 seconds.\n",
      "-- Epoch 410\n",
      "Norm: 4305.70, NNZs: 121, Bias: -5.648049, T: 84473120, Avg. loss: 339706.498384\n",
      "Total training time: 37.75 seconds.\n",
      "-- Epoch 411\n",
      "Norm: 4297.61, NNZs: 121, Bias: -5.640364, T: 84679152, Avg. loss: 338327.758932\n",
      "Total training time: 37.84 seconds.\n",
      "-- Epoch 412\n",
      "Norm: 4291.91, NNZs: 121, Bias: -5.632342, T: 84885184, Avg. loss: 339511.080506\n",
      "Total training time: 37.92 seconds.\n",
      "-- Epoch 413\n",
      "Norm: 4286.84, NNZs: 121, Bias: -5.626810, T: 85091216, Avg. loss: 336654.327810\n",
      "Total training time: 38.00 seconds.\n",
      "-- Epoch 414\n",
      "Norm: 4280.42, NNZs: 121, Bias: -5.617539, T: 85297248, Avg. loss: 334911.460667\n",
      "Total training time: 38.11 seconds.\n",
      "-- Epoch 415\n",
      "Norm: 4271.39, NNZs: 121, Bias: -5.608406, T: 85503280, Avg. loss: 335394.460435\n",
      "Total training time: 38.19 seconds.\n",
      "-- Epoch 416\n",
      "Norm: 4267.03, NNZs: 121, Bias: -5.602447, T: 85709312, Avg. loss: 333416.560183\n",
      "Total training time: 38.28 seconds.\n",
      "-- Epoch 417\n",
      "Norm: 4259.31, NNZs: 121, Bias: -5.597435, T: 85915344, Avg. loss: 331157.790435\n",
      "Total training time: 38.37 seconds.\n",
      "-- Epoch 418\n",
      "Norm: 4251.33, NNZs: 121, Bias: -5.586505, T: 86121376, Avg. loss: 332517.168415\n",
      "Total training time: 38.46 seconds.\n",
      "-- Epoch 419\n",
      "Norm: 4247.16, NNZs: 121, Bias: -5.581403, T: 86327408, Avg. loss: 331748.274805\n",
      "Total training time: 38.55 seconds.\n",
      "-- Epoch 420\n",
      "Norm: 4239.48, NNZs: 121, Bias: -5.571454, T: 86533440, Avg. loss: 332307.390565\n",
      "Total training time: 38.64 seconds.\n",
      "-- Epoch 421\n",
      "Norm: 4230.82, NNZs: 121, Bias: -5.562565, T: 86739472, Avg. loss: 329645.906199\n",
      "Total training time: 38.73 seconds.\n",
      "-- Epoch 422\n",
      "Norm: 4222.15, NNZs: 121, Bias: -5.553815, T: 86945504, Avg. loss: 329800.913330\n",
      "Total training time: 38.82 seconds.\n",
      "-- Epoch 423\n",
      "Norm: 4212.89, NNZs: 121, Bias: -5.545429, T: 87151536, Avg. loss: 327887.558144\n",
      "Total training time: 38.91 seconds.\n",
      "-- Epoch 424\n",
      "Norm: 4207.89, NNZs: 121, Bias: -5.538669, T: 87357568, Avg. loss: 327152.729518\n",
      "Total training time: 39.00 seconds.\n",
      "-- Epoch 425\n",
      "Norm: 4202.63, NNZs: 121, Bias: -5.530781, T: 87563600, Avg. loss: 328544.396513\n",
      "Total training time: 39.09 seconds.\n",
      "-- Epoch 426\n",
      "Norm: 4194.45, NNZs: 121, Bias: -5.520743, T: 87769632, Avg. loss: 326420.082092\n",
      "Total training time: 39.19 seconds.\n",
      "-- Epoch 427\n",
      "Norm: 4188.87, NNZs: 121, Bias: -5.513344, T: 87975664, Avg. loss: 325461.743261\n",
      "Total training time: 39.28 seconds.\n",
      "-- Epoch 428\n",
      "Norm: 4179.99, NNZs: 121, Bias: -5.500741, T: 88181696, Avg. loss: 324143.978473\n",
      "Total training time: 39.37 seconds.\n",
      "-- Epoch 429\n",
      "Norm: 4170.33, NNZs: 121, Bias: -5.490889, T: 88387728, Avg. loss: 326654.701460\n",
      "Total training time: 39.45 seconds.\n",
      "-- Epoch 430\n",
      "Norm: 4161.86, NNZs: 121, Bias: -5.481401, T: 88593760, Avg. loss: 325287.613633\n",
      "Total training time: 39.54 seconds.\n",
      "-- Epoch 431\n",
      "Norm: 4155.49, NNZs: 121, Bias: -5.475314, T: 88799792, Avg. loss: 323581.094806\n",
      "Total training time: 39.62 seconds.\n",
      "-- Epoch 432\n",
      "Norm: 4149.77, NNZs: 121, Bias: -5.469913, T: 89005824, Avg. loss: 320539.326096\n",
      "Total training time: 39.72 seconds.\n",
      "-- Epoch 433\n",
      "Norm: 4143.44, NNZs: 121, Bias: -5.462729, T: 89211856, Avg. loss: 321117.746646\n",
      "Total training time: 39.81 seconds.\n",
      "-- Epoch 434\n",
      "Norm: 4138.47, NNZs: 121, Bias: -5.453658, T: 89417888, Avg. loss: 319821.648918\n",
      "Total training time: 39.89 seconds.\n",
      "-- Epoch 435\n",
      "Norm: 4132.37, NNZs: 121, Bias: -5.445391, T: 89623920, Avg. loss: 317924.189983\n",
      "Total training time: 39.99 seconds.\n",
      "-- Epoch 436\n",
      "Norm: 4124.87, NNZs: 121, Bias: -5.434247, T: 89829952, Avg. loss: 319695.870136\n",
      "Total training time: 40.07 seconds.\n",
      "-- Epoch 437\n",
      "Norm: 4118.98, NNZs: 121, Bias: -5.426352, T: 90035984, Avg. loss: 318648.079457\n",
      "Total training time: 40.15 seconds.\n",
      "-- Epoch 438\n",
      "Norm: 4112.23, NNZs: 121, Bias: -5.420359, T: 90242016, Avg. loss: 316456.938432\n",
      "Total training time: 40.25 seconds.\n",
      "-- Epoch 439\n",
      "Norm: 4102.42, NNZs: 121, Bias: -5.409620, T: 90448048, Avg. loss: 315935.328198\n",
      "Total training time: 40.33 seconds.\n",
      "-- Epoch 440\n",
      "Norm: 4096.36, NNZs: 121, Bias: -5.399901, T: 90654080, Avg. loss: 316122.563362\n",
      "Total training time: 40.42 seconds.\n",
      "-- Epoch 441\n",
      "Norm: 4089.45, NNZs: 121, Bias: -5.392408, T: 90860112, Avg. loss: 314552.328160\n",
      "Total training time: 40.51 seconds.\n",
      "-- Epoch 442\n",
      "Norm: 4083.97, NNZs: 121, Bias: -5.385153, T: 91066144, Avg. loss: 315198.993110\n",
      "Total training time: 40.60 seconds.\n",
      "-- Epoch 443\n",
      "Norm: 4076.49, NNZs: 121, Bias: -5.375282, T: 91272176, Avg. loss: 313029.620998\n",
      "Total training time: 40.67 seconds.\n",
      "-- Epoch 444\n",
      "Norm: 4071.35, NNZs: 121, Bias: -5.370027, T: 91478208, Avg. loss: 312323.936264\n",
      "Total training time: 40.78 seconds.\n",
      "-- Epoch 445\n",
      "Norm: 4064.66, NNZs: 121, Bias: -5.359217, T: 91684240, Avg. loss: 312735.646769\n",
      "Total training time: 40.86 seconds.\n",
      "-- Epoch 446\n",
      "Norm: 4061.29, NNZs: 121, Bias: -5.353556, T: 91890272, Avg. loss: 311228.597772\n",
      "Total training time: 40.94 seconds.\n",
      "-- Epoch 447\n",
      "Norm: 4053.33, NNZs: 121, Bias: -5.344966, T: 92096304, Avg. loss: 309970.154822\n",
      "Total training time: 41.04 seconds.\n",
      "-- Epoch 448\n",
      "Norm: 4049.81, NNZs: 121, Bias: -5.337481, T: 92302336, Avg. loss: 309729.569329\n",
      "Total training time: 41.11 seconds.\n",
      "-- Epoch 449\n",
      "Norm: 4042.78, NNZs: 121, Bias: -5.329148, T: 92508368, Avg. loss: 310628.494252\n",
      "Total training time: 41.21 seconds.\n",
      "-- Epoch 450\n",
      "Norm: 4033.21, NNZs: 121, Bias: -5.323643, T: 92714400, Avg. loss: 307079.435780\n",
      "Total training time: 41.30 seconds.\n",
      "-- Epoch 451\n",
      "Norm: 4027.99, NNZs: 121, Bias: -5.317071, T: 92920432, Avg. loss: 308306.774124\n",
      "Total training time: 41.38 seconds.\n",
      "-- Epoch 452\n",
      "Norm: 4021.56, NNZs: 121, Bias: -5.310297, T: 93126464, Avg. loss: 308308.176860\n",
      "Total training time: 41.48 seconds.\n",
      "-- Epoch 453\n",
      "Norm: 4013.15, NNZs: 121, Bias: -5.299357, T: 93332496, Avg. loss: 307223.527300\n",
      "Total training time: 41.57 seconds.\n",
      "-- Epoch 454\n",
      "Norm: 4008.67, NNZs: 121, Bias: -5.294219, T: 93538528, Avg. loss: 306458.726394\n",
      "Total training time: 41.65 seconds.\n",
      "-- Epoch 455\n",
      "Norm: 4003.94, NNZs: 121, Bias: -5.285780, T: 93744560, Avg. loss: 305942.790508\n",
      "Total training time: 41.74 seconds.\n",
      "-- Epoch 456\n",
      "Norm: 3996.58, NNZs: 121, Bias: -5.278530, T: 93950592, Avg. loss: 303513.326357\n",
      "Total training time: 41.84 seconds.\n",
      "-- Epoch 457\n",
      "Norm: 3990.19, NNZs: 121, Bias: -5.271727, T: 94156624, Avg. loss: 303913.304204\n",
      "Total training time: 41.93 seconds.\n",
      "-- Epoch 458\n",
      "Norm: 3984.27, NNZs: 121, Bias: -5.265573, T: 94362656, Avg. loss: 304963.317677\n",
      "Total training time: 42.03 seconds.\n",
      "-- Epoch 459\n",
      "Norm: 3980.37, NNZs: 121, Bias: -5.257209, T: 94568688, Avg. loss: 302908.979876\n",
      "Total training time: 42.13 seconds.\n",
      "-- Epoch 460\n",
      "Norm: 3974.45, NNZs: 121, Bias: -5.250555, T: 94774720, Avg. loss: 302493.143456\n",
      "Total training time: 42.23 seconds.\n",
      "-- Epoch 461\n",
      "Norm: 3970.29, NNZs: 121, Bias: -5.243070, T: 94980752, Avg. loss: 301441.328474\n",
      "Total training time: 42.32 seconds.\n",
      "-- Epoch 462\n",
      "Norm: 3962.02, NNZs: 121, Bias: -5.237601, T: 95186784, Avg. loss: 300016.264208\n",
      "Total training time: 42.41 seconds.\n",
      "-- Epoch 463\n",
      "Norm: 3954.98, NNZs: 121, Bias: -5.230778, T: 95392816, Avg. loss: 301066.211583\n",
      "Total training time: 42.50 seconds.\n",
      "-- Epoch 464\n",
      "Norm: 3950.68, NNZs: 121, Bias: -5.222923, T: 95598848, Avg. loss: 298336.730775\n",
      "Total training time: 42.59 seconds.\n",
      "-- Epoch 465\n",
      "Norm: 3943.87, NNZs: 121, Bias: -5.214668, T: 95804880, Avg. loss: 299462.819822\n",
      "Total training time: 42.69 seconds.\n",
      "-- Epoch 466\n",
      "Norm: 3936.17, NNZs: 121, Bias: -5.208516, T: 96010912, Avg. loss: 297333.860017\n",
      "Total training time: 42.78 seconds.\n",
      "-- Epoch 467\n",
      "Norm: 3929.54, NNZs: 121, Bias: -5.199878, T: 96216944, Avg. loss: 298087.786382\n",
      "Total training time: 42.88 seconds.\n",
      "-- Epoch 468\n",
      "Norm: 3924.70, NNZs: 121, Bias: -5.191782, T: 96422976, Avg. loss: 294788.310916\n",
      "Total training time: 42.98 seconds.\n",
      "-- Epoch 469\n",
      "Norm: 3918.22, NNZs: 121, Bias: -5.185051, T: 96629008, Avg. loss: 294503.782989\n",
      "Total training time: 43.08 seconds.\n",
      "-- Epoch 470\n",
      "Norm: 3911.43, NNZs: 121, Bias: -5.175850, T: 96835040, Avg. loss: 295126.616231\n",
      "Total training time: 43.17 seconds.\n",
      "-- Epoch 471\n",
      "Norm: 3905.87, NNZs: 121, Bias: -5.168112, T: 97041072, Avg. loss: 295705.476279\n",
      "Total training time: 43.27 seconds.\n",
      "-- Epoch 472\n",
      "Norm: 3900.72, NNZs: 121, Bias: -5.162966, T: 97247104, Avg. loss: 296922.709711\n",
      "Total training time: 43.37 seconds.\n",
      "-- Epoch 473\n",
      "Norm: 3895.80, NNZs: 121, Bias: -5.154853, T: 97453136, Avg. loss: 294744.271621\n",
      "Total training time: 43.46 seconds.\n",
      "-- Epoch 474\n",
      "Norm: 3892.86, NNZs: 121, Bias: -5.148805, T: 97659168, Avg. loss: 293089.212151\n",
      "Total training time: 43.57 seconds.\n",
      "-- Epoch 475\n",
      "Norm: 3884.30, NNZs: 121, Bias: -5.141646, T: 97865200, Avg. loss: 292095.304208\n",
      "Total training time: 43.66 seconds.\n",
      "-- Epoch 476\n",
      "Norm: 3878.57, NNZs: 121, Bias: -5.135623, T: 98071232, Avg. loss: 291330.025795\n",
      "Total training time: 43.76 seconds.\n",
      "-- Epoch 477\n",
      "Norm: 3871.59, NNZs: 121, Bias: -5.130123, T: 98277264, Avg. loss: 291925.994115\n",
      "Total training time: 43.85 seconds.\n",
      "-- Epoch 478\n",
      "Norm: 3865.16, NNZs: 121, Bias: -5.122601, T: 98483296, Avg. loss: 291780.214290\n",
      "Total training time: 43.94 seconds.\n",
      "-- Epoch 479\n",
      "Norm: 3859.67, NNZs: 121, Bias: -5.115093, T: 98689328, Avg. loss: 288901.842566\n",
      "Total training time: 44.05 seconds.\n",
      "-- Epoch 480\n",
      "Norm: 3851.96, NNZs: 121, Bias: -5.109727, T: 98895360, Avg. loss: 289737.733092\n",
      "Total training time: 44.14 seconds.\n",
      "-- Epoch 481\n",
      "Norm: 3847.28, NNZs: 121, Bias: -5.102152, T: 99101392, Avg. loss: 288516.560717\n",
      "Total training time: 44.22 seconds.\n",
      "-- Epoch 482\n",
      "Norm: 3842.02, NNZs: 121, Bias: -5.095499, T: 99307424, Avg. loss: 286948.773658\n",
      "Total training time: 44.34 seconds.\n",
      "-- Epoch 483\n",
      "Norm: 3836.81, NNZs: 121, Bias: -5.086846, T: 99513456, Avg. loss: 288977.918293\n",
      "Total training time: 44.42 seconds.\n",
      "-- Epoch 484\n",
      "Norm: 3831.94, NNZs: 121, Bias: -5.078414, T: 99719488, Avg. loss: 284783.537507\n",
      "Total training time: 44.52 seconds.\n",
      "-- Epoch 485\n",
      "Norm: 3827.75, NNZs: 121, Bias: -5.072806, T: 99925520, Avg. loss: 286803.997967\n",
      "Total training time: 44.62 seconds.\n",
      "-- Epoch 486\n",
      "Norm: 3821.12, NNZs: 121, Bias: -5.066510, T: 100131552, Avg. loss: 287204.896165\n",
      "Total training time: 44.71 seconds.\n",
      "-- Epoch 487\n",
      "Norm: 3816.93, NNZs: 121, Bias: -5.062218, T: 100337584, Avg. loss: 285539.153829\n",
      "Total training time: 44.80 seconds.\n",
      "-- Epoch 488\n",
      "Norm: 3809.56, NNZs: 121, Bias: -5.053954, T: 100543616, Avg. loss: 283742.597167\n",
      "Total training time: 44.90 seconds.\n",
      "-- Epoch 489\n",
      "Norm: 3801.01, NNZs: 121, Bias: -5.046104, T: 100749648, Avg. loss: 284099.320834\n",
      "Total training time: 44.98 seconds.\n",
      "-- Epoch 490\n",
      "Norm: 3795.73, NNZs: 121, Bias: -5.040252, T: 100955680, Avg. loss: 283410.197024\n",
      "Total training time: 45.07 seconds.\n",
      "-- Epoch 491\n",
      "Norm: 3789.09, NNZs: 121, Bias: -5.032828, T: 101161712, Avg. loss: 285160.645262\n",
      "Total training time: 45.18 seconds.\n",
      "-- Epoch 492\n",
      "Norm: 3783.48, NNZs: 121, Bias: -5.026211, T: 101367744, Avg. loss: 280797.483362\n",
      "Total training time: 45.26 seconds.\n",
      "-- Epoch 493\n",
      "Norm: 3777.40, NNZs: 121, Bias: -5.018128, T: 101573776, Avg. loss: 281315.982557\n",
      "Total training time: 45.36 seconds.\n",
      "-- Epoch 494\n",
      "Norm: 3773.26, NNZs: 121, Bias: -5.011441, T: 101779808, Avg. loss: 279765.894510\n",
      "Total training time: 45.45 seconds.\n",
      "-- Epoch 495\n",
      "Norm: 3766.63, NNZs: 121, Bias: -5.004372, T: 101985840, Avg. loss: 280060.938903\n",
      "Total training time: 45.54 seconds.\n",
      "-- Epoch 496\n",
      "Norm: 3763.00, NNZs: 121, Bias: -4.999575, T: 102191872, Avg. loss: 280430.725336\n",
      "Total training time: 45.62 seconds.\n",
      "-- Epoch 497\n",
      "Norm: 3757.58, NNZs: 121, Bias: -4.994491, T: 102397904, Avg. loss: 279304.862717\n",
      "Total training time: 45.74 seconds.\n",
      "-- Epoch 498\n",
      "Norm: 3752.98, NNZs: 121, Bias: -4.986297, T: 102603936, Avg. loss: 278897.559441\n",
      "Total training time: 45.83 seconds.\n",
      "-- Epoch 499\n",
      "Norm: 3748.27, NNZs: 121, Bias: -4.978409, T: 102809968, Avg. loss: 278803.252629\n",
      "Total training time: 45.91 seconds.\n",
      "-- Epoch 500\n",
      "Norm: 3743.69, NNZs: 121, Bias: -4.971800, T: 103016000, Avg. loss: 278000.105646\n",
      "Total training time: 46.01 seconds.\n",
      "-- Epoch 501\n",
      "Norm: 3738.24, NNZs: 121, Bias: -4.965302, T: 103222032, Avg. loss: 277946.840496\n",
      "Total training time: 46.09 seconds.\n",
      "-- Epoch 502\n",
      "Norm: 3733.07, NNZs: 121, Bias: -4.957850, T: 103428064, Avg. loss: 277263.876577\n",
      "Total training time: 46.19 seconds.\n",
      "-- Epoch 503\n",
      "Norm: 3728.84, NNZs: 121, Bias: -4.952830, T: 103634096, Avg. loss: 275160.560814\n",
      "Total training time: 46.30 seconds.\n",
      "-- Epoch 504\n",
      "Norm: 3723.45, NNZs: 121, Bias: -4.946852, T: 103840128, Avg. loss: 275823.594340\n",
      "Total training time: 46.38 seconds.\n",
      "-- Epoch 505\n",
      "Norm: 3719.43, NNZs: 121, Bias: -4.941079, T: 104046160, Avg. loss: 274806.781503\n",
      "Total training time: 46.48 seconds.\n",
      "-- Epoch 506\n",
      "Norm: 3713.69, NNZs: 121, Bias: -4.936279, T: 104252192, Avg. loss: 275353.083688\n",
      "Total training time: 46.58 seconds.\n",
      "-- Epoch 507\n",
      "Norm: 3707.23, NNZs: 121, Bias: -4.931007, T: 104458224, Avg. loss: 273356.385859\n",
      "Total training time: 46.67 seconds.\n",
      "-- Epoch 508\n",
      "Norm: 3702.30, NNZs: 121, Bias: -4.922495, T: 104664256, Avg. loss: 273580.066696\n",
      "Total training time: 46.77 seconds.\n",
      "-- Epoch 509\n",
      "Norm: 3697.98, NNZs: 121, Bias: -4.919726, T: 104870288, Avg. loss: 272139.633712\n",
      "Total training time: 46.87 seconds.\n",
      "-- Epoch 510\n",
      "Norm: 3692.60, NNZs: 121, Bias: -4.912199, T: 105076320, Avg. loss: 272971.548442\n",
      "Total training time: 46.96 seconds.\n",
      "-- Epoch 511\n",
      "Norm: 3687.05, NNZs: 121, Bias: -4.905545, T: 105282352, Avg. loss: 271479.489209\n",
      "Total training time: 47.06 seconds.\n",
      "-- Epoch 512\n",
      "Norm: 3681.08, NNZs: 121, Bias: -4.897385, T: 105488384, Avg. loss: 272296.242750\n",
      "Total training time: 47.16 seconds.\n",
      "-- Epoch 513\n",
      "Norm: 3676.49, NNZs: 121, Bias: -4.890851, T: 105694416, Avg. loss: 270073.465612\n",
      "Total training time: 47.25 seconds.\n",
      "-- Epoch 514\n",
      "Norm: 3672.81, NNZs: 121, Bias: -4.884139, T: 105900448, Avg. loss: 268665.501033\n",
      "Total training time: 47.35 seconds.\n",
      "-- Epoch 515\n",
      "Norm: 3666.76, NNZs: 121, Bias: -4.877630, T: 106106480, Avg. loss: 268981.243588\n",
      "Total training time: 47.45 seconds.\n",
      "-- Epoch 516\n",
      "Norm: 3662.79, NNZs: 121, Bias: -4.871885, T: 106312512, Avg. loss: 269543.699607\n",
      "Total training time: 47.55 seconds.\n",
      "-- Epoch 517\n",
      "Norm: 3658.67, NNZs: 121, Bias: -4.864741, T: 106518544, Avg. loss: 267239.128260\n",
      "Total training time: 47.64 seconds.\n",
      "-- Epoch 518\n",
      "Norm: 3653.99, NNZs: 121, Bias: -4.857516, T: 106724576, Avg. loss: 267956.962697\n",
      "Total training time: 47.74 seconds.\n",
      "-- Epoch 519\n",
      "Norm: 3647.53, NNZs: 121, Bias: -4.849464, T: 106930608, Avg. loss: 266947.871407\n",
      "Total training time: 47.84 seconds.\n",
      "-- Epoch 520\n",
      "Norm: 3641.13, NNZs: 121, Bias: -4.844795, T: 107136640, Avg. loss: 268227.579302\n",
      "Total training time: 47.93 seconds.\n",
      "-- Epoch 521\n",
      "Norm: 3637.42, NNZs: 121, Bias: -4.839574, T: 107342672, Avg. loss: 265998.791515\n",
      "Total training time: 48.03 seconds.\n",
      "-- Epoch 522\n",
      "Norm: 3633.19, NNZs: 121, Bias: -4.831756, T: 107548704, Avg. loss: 266399.275657\n",
      "Total training time: 48.13 seconds.\n",
      "-- Epoch 523\n",
      "Norm: 3626.70, NNZs: 121, Bias: -4.823395, T: 107754736, Avg. loss: 266777.506344\n",
      "Total training time: 48.23 seconds.\n",
      "-- Epoch 524\n",
      "Norm: 3623.63, NNZs: 121, Bias: -4.819131, T: 107960768, Avg. loss: 265561.451127\n",
      "Total training time: 48.32 seconds.\n",
      "-- Epoch 525\n",
      "Norm: 3619.41, NNZs: 121, Bias: -4.813023, T: 108166800, Avg. loss: 264187.857472\n",
      "Total training time: 48.42 seconds.\n",
      "-- Epoch 526\n",
      "Norm: 3614.53, NNZs: 121, Bias: -4.806927, T: 108372832, Avg. loss: 264609.408964\n",
      "Total training time: 48.52 seconds.\n",
      "-- Epoch 527\n",
      "Norm: 3610.13, NNZs: 121, Bias: -4.800935, T: 108578864, Avg. loss: 262382.071459\n",
      "Total training time: 48.62 seconds.\n",
      "-- Epoch 528\n",
      "Norm: 3604.68, NNZs: 121, Bias: -4.796335, T: 108784896, Avg. loss: 262694.257379\n",
      "Total training time: 48.72 seconds.\n",
      "-- Epoch 529\n",
      "Norm: 3600.69, NNZs: 121, Bias: -4.791559, T: 108990928, Avg. loss: 262547.412736\n",
      "Total training time: 48.82 seconds.\n",
      "-- Epoch 530\n",
      "Norm: 3594.99, NNZs: 121, Bias: -4.783858, T: 109196960, Avg. loss: 262843.746058\n",
      "Total training time: 48.91 seconds.\n",
      "-- Epoch 531\n",
      "Norm: 3590.69, NNZs: 121, Bias: -4.778004, T: 109402992, Avg. loss: 263410.052809\n",
      "Total training time: 49.00 seconds.\n",
      "-- Epoch 532\n",
      "Norm: 3585.95, NNZs: 121, Bias: -4.770424, T: 109609024, Avg. loss: 261618.200206\n",
      "Total training time: 49.10 seconds.\n",
      "-- Epoch 533\n",
      "Norm: 3580.79, NNZs: 121, Bias: -4.764135, T: 109815056, Avg. loss: 260599.641497\n",
      "Total training time: 49.21 seconds.\n",
      "-- Epoch 534\n",
      "Norm: 3576.60, NNZs: 121, Bias: -4.760860, T: 110021088, Avg. loss: 260742.708882\n",
      "Total training time: 49.31 seconds.\n",
      "-- Epoch 535\n",
      "Norm: 3571.17, NNZs: 121, Bias: -4.753594, T: 110227120, Avg. loss: 259126.150466\n",
      "Total training time: 49.41 seconds.\n",
      "-- Epoch 536\n",
      "Norm: 3565.67, NNZs: 121, Bias: -4.749424, T: 110433152, Avg. loss: 259853.887052\n",
      "Total training time: 49.50 seconds.\n",
      "-- Epoch 537\n",
      "Norm: 3559.19, NNZs: 121, Bias: -4.743180, T: 110639184, Avg. loss: 259242.933302\n",
      "Total training time: 49.60 seconds.\n",
      "-- Epoch 538\n",
      "Norm: 3555.49, NNZs: 121, Bias: -4.737221, T: 110845216, Avg. loss: 258325.993565\n",
      "Total training time: 49.69 seconds.\n",
      "-- Epoch 539\n",
      "Norm: 3550.24, NNZs: 121, Bias: -4.730910, T: 111051248, Avg. loss: 257825.588823\n",
      "Total training time: 49.79 seconds.\n",
      "-- Epoch 540\n",
      "Norm: 3545.07, NNZs: 121, Bias: -4.724793, T: 111257280, Avg. loss: 255980.990045\n",
      "Total training time: 49.89 seconds.\n",
      "-- Epoch 541\n",
      "Norm: 3540.77, NNZs: 121, Bias: -4.720303, T: 111463312, Avg. loss: 258032.505796\n",
      "Total training time: 49.98 seconds.\n",
      "-- Epoch 542\n",
      "Norm: 3536.13, NNZs: 121, Bias: -4.714564, T: 111669344, Avg. loss: 256318.786038\n",
      "Total training time: 50.08 seconds.\n",
      "-- Epoch 543\n",
      "Norm: 3531.90, NNZs: 121, Bias: -4.707676, T: 111875376, Avg. loss: 256078.252752\n",
      "Total training time: 50.19 seconds.\n",
      "-- Epoch 544\n",
      "Norm: 3526.37, NNZs: 121, Bias: -4.701782, T: 112081408, Avg. loss: 255656.872932\n",
      "Total training time: 50.29 seconds.\n",
      "-- Epoch 545\n",
      "Norm: 3523.00, NNZs: 121, Bias: -4.697679, T: 112287440, Avg. loss: 254422.510858\n",
      "Total training time: 50.39 seconds.\n",
      "-- Epoch 546\n",
      "Norm: 3515.39, NNZs: 121, Bias: -4.688692, T: 112493472, Avg. loss: 254126.301982\n",
      "Total training time: 50.48 seconds.\n",
      "-- Epoch 547\n",
      "Norm: 3510.73, NNZs: 121, Bias: -4.682478, T: 112699504, Avg. loss: 255216.020960\n",
      "Total training time: 50.58 seconds.\n",
      "-- Epoch 548\n",
      "Norm: 3506.71, NNZs: 121, Bias: -4.677425, T: 112905536, Avg. loss: 253057.699821\n",
      "Total training time: 50.68 seconds.\n",
      "-- Epoch 549\n",
      "Norm: 3502.74, NNZs: 121, Bias: -4.672647, T: 113111568, Avg. loss: 253799.822792\n",
      "Total training time: 50.77 seconds.\n",
      "-- Epoch 550\n",
      "Norm: 3497.97, NNZs: 121, Bias: -4.666024, T: 113317600, Avg. loss: 251024.899358\n",
      "Total training time: 50.86 seconds.\n",
      "-- Epoch 551\n",
      "Norm: 3493.18, NNZs: 121, Bias: -4.659851, T: 113523632, Avg. loss: 252612.801497\n",
      "Total training time: 50.96 seconds.\n",
      "-- Epoch 552\n",
      "Norm: 3487.51, NNZs: 121, Bias: -4.653338, T: 113729664, Avg. loss: 251428.198883\n",
      "Total training time: 51.06 seconds.\n",
      "-- Epoch 553\n",
      "Norm: 3483.00, NNZs: 121, Bias: -4.645255, T: 113935696, Avg. loss: 251582.571249\n",
      "Total training time: 51.15 seconds.\n",
      "-- Epoch 554\n",
      "Norm: 3480.90, NNZs: 121, Bias: -4.638415, T: 114141728, Avg. loss: 250540.760475\n",
      "Total training time: 51.25 seconds.\n",
      "-- Epoch 555\n",
      "Norm: 3475.06, NNZs: 121, Bias: -4.631150, T: 114347760, Avg. loss: 249749.965893\n",
      "Total training time: 51.35 seconds.\n",
      "-- Epoch 556\n",
      "Norm: 3469.85, NNZs: 121, Bias: -4.625470, T: 114553792, Avg. loss: 249993.281551\n",
      "Total training time: 51.45 seconds.\n",
      "-- Epoch 557\n",
      "Norm: 3466.19, NNZs: 121, Bias: -4.620411, T: 114759824, Avg. loss: 247961.618170\n",
      "Total training time: 51.54 seconds.\n",
      "-- Epoch 558\n",
      "Norm: 3462.10, NNZs: 121, Bias: -4.614666, T: 114965856, Avg. loss: 248969.689310\n",
      "Total training time: 51.64 seconds.\n",
      "-- Epoch 559\n",
      "Norm: 3457.62, NNZs: 121, Bias: -4.609452, T: 115171888, Avg. loss: 248403.646957\n",
      "Total training time: 51.74 seconds.\n",
      "-- Epoch 560\n",
      "Norm: 3453.94, NNZs: 121, Bias: -4.606591, T: 115377920, Avg. loss: 248404.031998\n",
      "Total training time: 51.83 seconds.\n",
      "-- Epoch 561\n",
      "Norm: 3449.64, NNZs: 121, Bias: -4.603300, T: 115583952, Avg. loss: 249016.542894\n",
      "Total training time: 51.93 seconds.\n",
      "-- Epoch 562\n",
      "Norm: 3444.09, NNZs: 121, Bias: -4.595520, T: 115789984, Avg. loss: 248453.268803\n",
      "Total training time: 52.02 seconds.\n",
      "Convergence after 562 epochs took 52.02 seconds\n"
     ]
    },
    {
     "data": {
      "text/plain": [
       "SGDClassifier(verbose=True)"
      ]
     },
     "execution_count": 22,
     "metadata": {},
     "output_type": "execute_result"
    }
   ],
   "source": [
    "Xtraing, XtestNew, Ytraing, YtestNew = train_test_split(\n",
    "    Xtraing, Ytraing, test_size = 0.33, random_state = 50\n",
    ")\n",
    "clf = SGDClassifier(verbose=True) #тренуємо модель\n",
    "clf.fit(Xtraing, Ytraing) #X - input, Y - output"
   ]
  },
  {
   "cell_type": "code",
   "execution_count": 23,
   "id": "polar-lighting",
   "metadata": {
    "id": "statewide-belfast"
   },
   "outputs": [],
   "source": [
    "Predict = clf.predict(XtestNew)"
   ]
  },
  {
   "cell_type": "markdown",
   "id": "burning-hygiene",
   "metadata": {
    "id": "initial-macro"
   },
   "source": [
    "## Results"
   ]
  },
  {
   "cell_type": "code",
   "execution_count": 24,
   "id": "bulgarian-verification",
   "metadata": {
    "colab": {
     "base_uri": "https://localhost:8080/"
    },
    "executionInfo": {
     "elapsed": 725,
     "status": "ok",
     "timestamp": 1616856772879,
     "user": {
      "displayName": "Daniil Timachov",
      "photoUrl": "https://lh3.googleusercontent.com/a-/AOh14Ghk9scaQ0ydio6b7V2_t9-wRiT1cNGLcyCL07wR=s64",
      "userId": "00279435974685972614"
     },
     "user_tz": -120
    },
    "id": "elementary-intention",
    "outputId": "2c8284d1-747c-4549-c852-0dc5c2514489"
   },
   "outputs": [
    {
     "data": {
      "text/plain": [
       "0.6221778011102935"
      ]
     },
     "execution_count": 24,
     "metadata": {},
     "output_type": "execute_result"
    }
   ],
   "source": [
    "roc_auc_score(YtestNew, Predict) #справжні та передбачені дані"
   ]
  },
  {
   "cell_type": "code",
   "execution_count": 25,
   "id": "medium-input",
   "metadata": {
    "colab": {
     "base_uri": "https://localhost:8080/",
     "height": 405
    },
    "executionInfo": {
     "elapsed": 1004,
     "status": "ok",
     "timestamp": 1616856798092,
     "user": {
      "displayName": "Daniil Timachov",
      "photoUrl": "https://lh3.googleusercontent.com/a-/AOh14Ghk9scaQ0ydio6b7V2_t9-wRiT1cNGLcyCL07wR=s64",
      "userId": "00279435974685972614"
     },
     "user_tz": -120
    },
    "id": "unnecessary-sacrifice",
    "outputId": "84e1812e-a443-4987-a317-2a85451a0758"
   },
   "outputs": [
    {
     "data": {
      "text/plain": [
       "<sklearn.metrics._plot.roc_curve.RocCurveDisplay at 0x1f682d25e50>"
      ]
     },
     "execution_count": 25,
     "metadata": {},
     "output_type": "execute_result"
    },
    {
     "data": {
      "image/png": "[encoded data removed]",
      "text/plain": [
       "<Figure size 576x576 with 1 Axes>"
      ]
     },
     "metadata": {
      "needs_background": "light"
     },
     "output_type": "display_data"
    }
   ],
   "source": [
    "plot_roc_curve(clf, XtestNew, YtestNew) #крива росте вгору на кожному кроці якщо значення правильне, якщо ні - тільки вправо"
   ]
  },
  {
   "cell_type": "markdown",
   "id": "tender-wholesale",
   "metadata": {
    "id": "tested-stationery"
   },
   "source": [
    "## Saving submission"
   ]
  },
  {
   "cell_type": "code",
   "execution_count": 26,
   "id": "adapted-wilson",
   "metadata": {
    "id": "signed-lighting"
   },
   "outputs": [
    {
     "data": {
      "text/plain": [
       "(48744, 2)"
      ]
     },
     "execution_count": 26,
     "metadata": {},
     "output_type": "execute_result"
    }
   ],
   "source": [
    "submission = pd.DataFrame() #по ID знаходимо дані і ставимо їм target, який ми передбачили\n",
    "submission['SK_ID_CURR'] = test['SK_ID_CURR']\n",
    "submission['TARGET'] = clf.predict(Xtest)\n",
    "submission.to_csv('submission.csv', index=False)\n",
    "submission.shape"
   ]
  },
  {
   "cell_type": "code",
   "execution_count": 27,
   "id": "purple-religious",
   "metadata": {
    "colab": {
     "base_uri": "https://localhost:8080/",
     "height": 80
    },
    "executionInfo": {
     "elapsed": 449,
     "status": "ok",
     "timestamp": 1616856836825,
     "user": {
      "displayName": "Daniil Timachov",
      "photoUrl": "https://lh3.googleusercontent.com/a-/AOh14Ghk9scaQ0ydio6b7V2_t9-wRiT1cNGLcyCL07wR=s64",
      "userId": "00279435974685972614"
     },
     "user_tz": -120
    },
    "id": "expensive-railway",
    "outputId": "b08362d6-1073-40d0-9fa3-10b13be5b7dd"
   },
   "outputs": [
    {
     "data": {
      "text/html": [
       "<div>\n",
       "<style scoped>\n",
       "    .dataframe tbody tr th:only-of-type {\n",
       "        vertical-align: middle;\n",
       "    }\n",
       "\n",
       "    .dataframe tbody tr th {\n",
       "        vertical-align: top;\n",
       "    }\n",
       "\n",
       "    .dataframe thead th {\n",
       "        text-align: right;\n",
       "    }\n",
       "</style>\n",
       "<table border=\"1\" class=\"dataframe\">\n",
       "  <thead>\n",
       "    <tr style=\"text-align: right;\">\n",
       "      <th></th>\n",
       "      <th>SK_ID_CURR</th>\n",
       "      <th>TARGET</th>\n",
       "    </tr>\n",
       "  </thead>\n",
       "  <tbody>\n",
       "    <tr>\n",
       "      <th>0</th>\n",
       "      <td>100001</td>\n",
       "      <td>0</td>\n",
       "    </tr>\n",
       "  </tbody>\n",
       "</table>\n",
       "</div>"
      ],
      "text/plain": [
       "   SK_ID_CURR  TARGET\n",
       "0      100001       0"
      ]
     },
     "execution_count": 27,
     "metadata": {},
     "output_type": "execute_result"
    }
   ],
   "source": [
    "submission[submission['SK_ID_CURR'] == 100001]"
   ]
  },
  {
   "cell_type": "markdown",
   "id": "strategic-finnish",
   "metadata": {
    "id": "proper-southeast"
   },
   "source": [
    "## Submission"
   ]
  },
  {
   "cell_type": "markdown",
   "id": "enormous-briefs",
   "metadata": {},
   "source": [
    "![](submission.jpg)"
   ]
  },
  {
   "cell_type": "code",
   "execution_count": null,
   "id": "round-pillow",
   "metadata": {},
   "outputs": [],
   "source": []
  }
 ],
 "metadata": {
  "colab": {
   "name": "Lab2 - EDA.ipynb",
   "provenance": [],
   "toc_visible": true
  },
  "kernelspec": {
   "display_name": "Python 3",
   "language": "python",
   "name": "python3"
  },
  "language_info": {
   "codemirror_mode": {
    "name": "ipython",
    "version": 3
   },
   "file_extension": ".py",
   "mimetype": "text/x-python",
   "name": "python",
   "nbconvert_exporter": "python",
   "pygments_lexer": "ipython3",
   "version": "3.9.1"
  }
 },
 "nbformat": 4,
 "nbformat_minor": 5
}
